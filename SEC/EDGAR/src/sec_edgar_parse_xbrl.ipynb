{
 "cells": [
  {
   "cell_type": "markdown",
   "id": "0ddfbf2b",
   "metadata": {},
   "source": [
    "# Parsing SEC Filing XBRL Document\n",
    "\n",
    "\n",
    "## Objective\n",
    "\n",
    "Parse the filing XBRL file to create a DOM like structure that represent the filing data\n",
    "\n",
    "## References\n",
    "\n",
    "* [XBRL Specification - Extensible Business Reporting Language (XBRL) 2.1](https://www.xbrl.org/Specification/XBRL-2.1/REC-2003-12-31/XBRL-2.1-REC-2003-12-31+corrected-errata-2013-02-20.html)\n",
    "\n",
    "* [XBRL US - List of Elements](https://xbrl.us/data-rule/dqc_0015-le/)\n",
    "\n",
    "**Element Version**|**Element ID**|**Namespace**|**Element Label**|**Element Name**|**Balance Type**|**Definition**\n",
    ":-----:|:-----:|:-----:|:-----:|:-----:|:-----:|:-----:\n",
    "1|1367|us-gaap|Interest Expense|InterestExpense|debit|Amount of the cost of borrowed funds accounted for as interest expense.\n",
    "2|2692|us-gaap|Cash and Cash Equivalents, at Carrying Value|CashAndCashEquivalentsAtCarryingValue|debit|Amount of currency on hand as well as demand deposits with banks or financial institutions. Includes other kinds of accounts that have the general characteristics of demand deposits. Also includes short-term, highly liquid investments that are both readily convertible to known amounts of cash and so near their maturity that they present insignificant risk of changes in value because of changes in interest rates. Excludes cash and cash equivalents within disposal group and discontinued operation.\n",
    "\n",
    "## XBRL Element\n",
    "\n",
    "* [Understanding the Financial Report Logical System](https://www.youtube.com/playlist?list=PLqMZRUzQ64B7EWamzDP-WaYbS_W0RL9nt)\n",
    "\n",
    "### Example\n",
    "For instance, [Qorvo 2020 10K](https://www.sec.gov/Archives/edgar/data/1604778/000160477821000032/rfmd-20210403_htm.xml):\n",
    "\n",
    "```\n",
    "<us-gaap:cashandcashequivalentsatcarryingvalue contextref=\"*\" decimals=\"-3\" id=\"...\" unitref=\"usd\">\n",
    "  1397880000\n",
    "</us-gaap:cashandcashequivalentsatcarryingvalue>,\n",
    "<us-gaap:cashandcashequivalentsatcarryingvalue contextref=\"***\" decimals=\"-3\" id=\"...\" unitref=\"usd\">\n",
    "  714939000\n",
    "</us-gaap:cashandcashequivalentsatcarryingvalue>,\n",
    "<us-gaap:cashandcashequivalentsatcarryingvalue contextref=\"***\" decimals=\"-3\" id=\"...\" unitref=\"usd\">\n",
    " 711035000\n",
    "</us-gaap:cashandcashequivalentsatcarryingvalue>\n",
    "```\n",
    "\n",
    "Corresponds to the Cash and Cash equivalents in the Cash Flow statement.\n",
    "\n",
    "<img src=\"../image/edgar_qorvo_2020_10K_CF.png\" align=\"left\" width=800 />"
   ]
  },
  {
   "cell_type": "markdown",
   "id": "b5dc76bb",
   "metadata": {},
   "source": [
    "---\n",
    "# Setup"
   ]
  },
  {
   "cell_type": "code",
   "execution_count": 69,
   "id": "2200e8cd",
   "metadata": {},
   "outputs": [],
   "source": [
    "import re\n",
    "import requests\n",
    "import unicodedata\n",
    "from bs4 import BeautifulSoup\n",
    "from IPython.core.display import (\n",
    "    display, \n",
    "    HTML\n",
    ")"
   ]
  },
  {
   "cell_type": "code",
   "execution_count": 70,
   "id": "0b59706f",
   "metadata": {},
   "outputs": [
    {
     "data": {
      "text/html": [
       "<style>\n",
       "table {float:left}\n",
       "</style>\n"
      ],
      "text/plain": [
       "<IPython.core.display.HTML object>"
      ]
     },
     "metadata": {},
     "output_type": "display_data"
    }
   ],
   "source": [
    "%%html\n",
    "<style>\n",
    "table {float:left}\n",
    "</style>"
   ]
  },
  {
   "cell_type": "code",
   "execution_count": 71,
   "id": "5d0cc495",
   "metadata": {},
   "outputs": [],
   "source": [
    "def restore_windows_1252_characters(restore_string):\n",
    "    \"\"\"\n",
    "        Replace C1 control characters in the Unicode string s by the\n",
    "        characters at the corresponding code points in Windows-1252,\n",
    "        where possible.\n",
    "    \"\"\"\n",
    "\n",
    "    def to_windows_1252(match):\n",
    "        try:\n",
    "            return bytes([ord(match.group(0))]).decode('windows-1252')\n",
    "        except UnicodeDecodeError:\n",
    "            # No character at the corresponding code point: remove it.\n",
    "            return ''\n",
    "        \n",
    "    return re.sub(r'[\\u0080-\\u0099]', to_windows_1252, restore_string)"
   ]
  },
  {
   "cell_type": "markdown",
   "id": "54e42be6",
   "metadata": {},
   "source": [
    "---\n",
    "# Load EDGAR Filing XBRL\n",
    "\n",
    "Download the ```_htm.xml``` file from EDGAR. SEC now requires user-agent header."
   ]
  },
  {
   "cell_type": "code",
   "execution_count": 72,
   "id": "835ee3d4",
   "metadata": {},
   "outputs": [
    {
     "data": {
      "text/plain": [
       "'https://www.sec.gov/Archives/edgar/data/1604778/000160477821000032/rfmd-20210403_htm.xml'"
      ]
     },
     "execution_count": 72,
     "metadata": {},
     "output_type": "execute_result"
    }
   ],
   "source": [
    "# define the url to specific html_text file\n",
    "CIK = '1604778'\n",
    "ACCESSION = '000160477821000032'\n",
    "\n",
    "FILING_DIR_URL = f\"https://www.sec.gov/Archives/edgar/data/{CIK}/{ACCESSION}\"\n",
    "XBRL_NAME = \"rfmd-20210403_htm.xml\"\n",
    "XBRL_URL = \"/\".join([FILING_DIR_URL, XBRL_NAME])\n",
    "\n",
    "XBRL_URL"
   ]
  },
  {
   "cell_type": "code",
   "execution_count": 73,
   "id": "5c791def",
   "metadata": {},
   "outputs": [],
   "source": [
    "headers = {\"User-Agent\": \"Company Name myname@company.com\"}\n",
    "response = requests.get(XBRL_URL, headers=headers)\n",
    "\n",
    "if response.status_code == 200:\n",
    "    content = response.content.decode(\"utf-8\") \n",
    "else:\n",
    "    print(f\"{XBRL_URL} failed with status {response.status_code}\")"
   ]
  },
  {
   "cell_type": "code",
   "execution_count": 43,
   "id": "15f4f874",
   "metadata": {},
   "outputs": [],
   "source": [
    "soup = BeautifulSoup(content, 'html.parser')"
   ]
  },
  {
   "cell_type": "markdown",
   "id": "0e210c2c",
   "metadata": {},
   "source": [
    "## Cash & Cash Equivalents\n",
    "\n",
    "Look for the cash and cash equivalents in 10-K in the Balance Sheet and Cash Flow statements."
   ]
  },
  {
   "cell_type": "code",
   "execution_count": 68,
   "id": "77e107c1",
   "metadata": {},
   "outputs": [
    {
     "data": {
      "text/plain": [
       "[<us-gaap:cashandcashequivalentsatcarryingvalue contextref=\"i531402faf1d04969ac2b2ba0e1680766_I20210403\" decimals=\"-3\" id=\"id3VybDovL2RvY3MudjEvZG9jOjEyODM3MDU1ODhkNzQyNjY4MWYxNTY3ZWE2MTZhZjBhL3NlYzoxMjgzNzA1NTg4ZDc0MjY2ODFmMTU2N2VhNjE2YWYwYV83MC9mcmFnOmI2YjIwMjNiYjk2NzRmMjZiZTkzNzVhYjYxNzk3YmMwL3RhYmxlOjYxNmIyYzU1MGNkNTQwNmRiYjk5Zjk5YzIyYjNiMmUwL3RhYmxlcmFuZ2U6NjE2YjJjNTUwY2Q1NDA2ZGJiOTlmOTljMjJiM2IyZTBfMy0xLTEtMS0w_b08df05f-df5e-45b4-ba6f-72638eca470f\" unitref=\"usd\">1397880000</us-gaap:cashandcashequivalentsatcarryingvalue>,\n",
       " <us-gaap:cashandcashequivalentsatcarryingvalue contextref=\"i61ca1a85fc064eb1a4858bc0478ba964_I20200328\" decimals=\"-3\" id=\"id3VybDovL2RvY3MudjEvZG9jOjEyODM3MDU1ODhkNzQyNjY4MWYxNTY3ZWE2MTZhZjBhL3NlYzoxMjgzNzA1NTg4ZDc0MjY2ODFmMTU2N2VhNjE2YWYwYV83MC9mcmFnOmI2YjIwMjNiYjk2NzRmMjZiZTkzNzVhYjYxNzk3YmMwL3RhYmxlOjYxNmIyYzU1MGNkNTQwNmRiYjk5Zjk5YzIyYjNiMmUwL3RhYmxlcmFuZ2U6NjE2YjJjNTUwY2Q1NDA2ZGJiOTlmOTljMjJiM2IyZTBfMy0zLTEtMS0w_087d6bff-c391-45cf-b2dc-d365b3aca5d7\" unitref=\"usd\">714939000</us-gaap:cashandcashequivalentsatcarryingvalue>,\n",
       " <us-gaap:cashandcashequivalentsatcarryingvalue contextref=\"i531402faf1d04969ac2b2ba0e1680766_I20210403\" decimals=\"-3\" id=\"id3VybDovL2RvY3MudjEvZG9jOjEyODM3MDU1ODhkNzQyNjY4MWYxNTY3ZWE2MTZhZjBhL3NlYzoxMjgzNzA1NTg4ZDc0MjY2ODFmMTU2N2VhNjE2YWYwYV84NS9mcmFnOjk4YWQyNjM5YmM5OTQ2ZmI5MzkwOTcwMjhiNjZiYjcxL3RhYmxlOjBkZWRlYmQxY2YwMzRmODdhNjhjNjRlN2Q4N2EwZjA3L3RhYmxlcmFuZ2U6MGRlZGViZDFjZjAzNGY4N2E2OGM2NGU3ZDg3YTBmMDdfNTQtMS0xLTEtMzk5Mg_b08df05f-df5e-45b4-ba6f-72638eca470f\" unitref=\"usd\">1397880000</us-gaap:cashandcashequivalentsatcarryingvalue>,\n",
       " <us-gaap:cashandcashequivalentsatcarryingvalue contextref=\"i61ca1a85fc064eb1a4858bc0478ba964_I20200328\" decimals=\"-3\" id=\"id3VybDovL2RvY3MudjEvZG9jOjEyODM3MDU1ODhkNzQyNjY4MWYxNTY3ZWE2MTZhZjBhL3NlYzoxMjgzNzA1NTg4ZDc0MjY2ODFmMTU2N2VhNjE2YWYwYV84NS9mcmFnOjk4YWQyNjM5YmM5OTQ2ZmI5MzkwOTcwMjhiNjZiYjcxL3RhYmxlOjBkZWRlYmQxY2YwMzRmODdhNjhjNjRlN2Q4N2EwZjA3L3RhYmxlcmFuZ2U6MGRlZGViZDFjZjAzNGY4N2E2OGM2NGU3ZDg3YTBmMDdfNTQtMy0xLTEtMzk5Mg_d6770f06-de23-45cf-a22e-68c462c82fad\" unitref=\"usd\">714939000</us-gaap:cashandcashequivalentsatcarryingvalue>,\n",
       " <us-gaap:cashandcashequivalentsatcarryingvalue contextref=\"i5accaf512b0f4973be383e3faada11c3_I20190330\" decimals=\"-3\" id=\"id3VybDovL2RvY3MudjEvZG9jOjEyODM3MDU1ODhkNzQyNjY4MWYxNTY3ZWE2MTZhZjBhL3NlYzoxMjgzNzA1NTg4ZDc0MjY2ODFmMTU2N2VhNjE2YWYwYV84NS9mcmFnOjk4YWQyNjM5YmM5OTQ2ZmI5MzkwOTcwMjhiNjZiYjcxL3RhYmxlOjBkZWRlYmQxY2YwMzRmODdhNjhjNjRlN2Q4N2EwZjA3L3RhYmxlcmFuZ2U6MGRlZGViZDFjZjAzNGY4N2E2OGM2NGU3ZDg3YTBmMDdfNTQtNS0xLTEtMzk5Mg_ca267d43-67f6-4dfd-bf63-051aff45240b\" unitref=\"usd\">711035000</us-gaap:cashandcashequivalentsatcarryingvalue>]"
      ]
     },
     "execution_count": 68,
     "metadata": {},
     "output_type": "execute_result"
    }
   ],
   "source": [
    "cash_equivalents = soup.findAll(name=re.compile('us-gaap:cashandcashequivalent.*'), decimals=True, unitref=True)\n",
    "cash_equivalents # decimals=\"-3\" means the displayed value is divied by 1000."
   ]
  },
  {
   "cell_type": "code",
   "execution_count": 77,
   "id": "8f261a31",
   "metadata": {},
   "outputs": [
    {
     "data": {
      "text/plain": [
       "{'contextref': 'i531402faf1d04969ac2b2ba0e1680766_I20210403',\n",
       " 'decimals': '-3',\n",
       " 'id': 'id3VybDovL2RvY3MudjEvZG9jOjEyODM3MDU1ODhkNzQyNjY4MWYxNTY3ZWE2MTZhZjBhL3NlYzoxMjgzNzA1NTg4ZDc0MjY2ODFmMTU2N2VhNjE2YWYwYV83MC9mcmFnOmI2YjIwMjNiYjk2NzRmMjZiZTkzNzVhYjYxNzk3YmMwL3RhYmxlOjYxNmIyYzU1MGNkNTQwNmRiYjk5Zjk5YzIyYjNiMmUwL3RhYmxlcmFuZ2U6NjE2YjJjNTUwY2Q1NDA2ZGJiOTlmOTljMjJiM2IyZTBfMy0xLTEtMS0w_b08df05f-df5e-45b4-ba6f-72638eca470f',\n",
       " 'unitref': 'usd'}"
      ]
     },
     "execution_count": 77,
     "metadata": {},
     "output_type": "execute_result"
    }
   ],
   "source": [
    "cash_equivalents[0].attrs"
   ]
  },
  {
   "cell_type": "code",
   "execution_count": 85,
   "id": "a4795078",
   "metadata": {},
   "outputs": [
    {
     "name": "stdout",
     "output_type": "stream",
     "text": [
      "us-gaap:cashandcashequivalentsatcarryingvalue 1397880000      usd   -3   \n",
      "us-gaap:cashandcashequivalentsatcarryingvalue 714939000       usd   -3   \n",
      "us-gaap:cashandcashequivalentsatcarryingvalue 1397880000      usd   -3   \n",
      "us-gaap:cashandcashequivalentsatcarryingvalue 714939000       usd   -3   \n",
      "us-gaap:cashandcashequivalentsatcarryingvalue 711035000       usd   -3   \n"
     ]
    }
   ],
   "source": [
    "for element in cash_equivalents:\n",
    "    print(f\"{element.name} {element.text:15} {element['unitref']:5} {element['decimals']:5}\")"
   ]
  },
  {
   "cell_type": "markdown",
   "id": "fa35d02e",
   "metadata": {},
   "source": [
    "---"
   ]
  },
  {
   "cell_type": "markdown",
   "id": "e2b05225",
   "metadata": {},
   "source": [
    "# Loading Edgar XBRL in HTML\n",
    "\n",
    "Download the ```.htm``` file from EDGAR."
   ]
  },
  {
   "cell_type": "code",
   "execution_count": 87,
   "id": "5515294d",
   "metadata": {},
   "outputs": [
    {
     "data": {
      "text/plain": [
       "'https://www.sec.gov/Archives/edgar/data/1604778/000160477821000032/rfmd-20210403.htm'"
      ]
     },
     "execution_count": 87,
     "metadata": {},
     "output_type": "execute_result"
    }
   ],
   "source": [
    "XBRL_HTML_NAME = \"rfmd-20210403.htm\"\n",
    "XBRL_HTML_URL = \"/\".join([FILING_DIR_URL, XBRL_HTML_NAME])\n",
    "\n",
    "XBRL_HTML_URL"
   ]
  },
  {
   "cell_type": "code",
   "execution_count": 88,
   "id": "2bc604c6",
   "metadata": {},
   "outputs": [],
   "source": [
    "headers = {\"User-Agent\": \"Company Name myname@company.com\"}\n",
    "response = requests.get(XBRL_HTML_URL, headers=headers)\n",
    "\n",
    "if response.status_code == 200:\n",
    "    content = response.content.decode(\"utf-8\") \n",
    "else:\n",
    "    print(f\"{XBRL_HTML_URL} failed with status {response.status_code}\")"
   ]
  },
  {
   "cell_type": "code",
   "execution_count": 89,
   "id": "86c39e20",
   "metadata": {},
   "outputs": [],
   "source": [
    "soup = BeautifulSoup(content, 'html.parser')"
   ]
  },
  {
   "cell_type": "code",
   "execution_count": 104,
   "id": "af5f7170",
   "metadata": {},
   "outputs": [
    {
     "data": {
      "text/plain": [
       "[<ix:nonfraction contextref=\"i531402faf1d04969ac2b2ba0e1680766_I20210403\" decimals=\"-3\" format=\"ixt:numdotdecimal\" id=\"id3VybDovL2RvY3MudjEvZG9jOjEyODM3MDU1ODhkNzQyNjY4MWYxNTY3ZWE2MTZhZjBhL3NlYzoxMjgzNzA1NTg4ZDc0MjY2ODFmMTU2N2VhNjE2YWYwYV83MC9mcmFnOmI2YjIwMjNiYjk2NzRmMjZiZTkzNzVhYjYxNzk3YmMwL3RhYmxlOjYxNmIyYzU1MGNkNTQwNmRiYjk5Zjk5YzIyYjNiMmUwL3RhYmxlcmFuZ2U6NjE2YjJjNTUwY2Q1NDA2ZGJiOTlmOTljMjJiM2IyZTBfMy0xLTEtMS0w_b08df05f-df5e-45b4-ba6f-72638eca470f\" name=\"us-gaap:CashAndCashEquivalentsAtCarryingValue\" scale=\"3\" unitref=\"usd\">1,397,880</ix:nonfraction>,\n",
       " <ix:nonfraction contextref=\"i61ca1a85fc064eb1a4858bc0478ba964_I20200328\" decimals=\"-3\" format=\"ixt:numdotdecimal\" id=\"id3VybDovL2RvY3MudjEvZG9jOjEyODM3MDU1ODhkNzQyNjY4MWYxNTY3ZWE2MTZhZjBhL3NlYzoxMjgzNzA1NTg4ZDc0MjY2ODFmMTU2N2VhNjE2YWYwYV83MC9mcmFnOmI2YjIwMjNiYjk2NzRmMjZiZTkzNzVhYjYxNzk3YmMwL3RhYmxlOjYxNmIyYzU1MGNkNTQwNmRiYjk5Zjk5YzIyYjNiMmUwL3RhYmxlcmFuZ2U6NjE2YjJjNTUwY2Q1NDA2ZGJiOTlmOTljMjJiM2IyZTBfMy0zLTEtMS0w_087d6bff-c391-45cf-b2dc-d365b3aca5d7\" name=\"us-gaap:CashAndCashEquivalentsAtCarryingValue\" scale=\"3\" unitref=\"usd\">714,939</ix:nonfraction>,\n",
       " <ix:nonfraction contextref=\"i531402faf1d04969ac2b2ba0e1680766_I20210403\" decimals=\"-3\" format=\"ixt:numdotdecimal\" id=\"id3VybDovL2RvY3MudjEvZG9jOjEyODM3MDU1ODhkNzQyNjY4MWYxNTY3ZWE2MTZhZjBhL3NlYzoxMjgzNzA1NTg4ZDc0MjY2ODFmMTU2N2VhNjE2YWYwYV84NS9mcmFnOjk4YWQyNjM5YmM5OTQ2ZmI5MzkwOTcwMjhiNjZiYjcxL3RhYmxlOjBkZWRlYmQxY2YwMzRmODdhNjhjNjRlN2Q4N2EwZjA3L3RhYmxlcmFuZ2U6MGRlZGViZDFjZjAzNGY4N2E2OGM2NGU3ZDg3YTBmMDdfNTQtMS0xLTEtMzk5Mg_b08df05f-df5e-45b4-ba6f-72638eca470f\" name=\"us-gaap:CashAndCashEquivalentsAtCarryingValue\" scale=\"3\" unitref=\"usd\">1,397,880</ix:nonfraction>,\n",
       " <ix:nonfraction contextref=\"i61ca1a85fc064eb1a4858bc0478ba964_I20200328\" decimals=\"-3\" format=\"ixt:numdotdecimal\" id=\"id3VybDovL2RvY3MudjEvZG9jOjEyODM3MDU1ODhkNzQyNjY4MWYxNTY3ZWE2MTZhZjBhL3NlYzoxMjgzNzA1NTg4ZDc0MjY2ODFmMTU2N2VhNjE2YWYwYV84NS9mcmFnOjk4YWQyNjM5YmM5OTQ2ZmI5MzkwOTcwMjhiNjZiYjcxL3RhYmxlOjBkZWRlYmQxY2YwMzRmODdhNjhjNjRlN2Q4N2EwZjA3L3RhYmxlcmFuZ2U6MGRlZGViZDFjZjAzNGY4N2E2OGM2NGU3ZDg3YTBmMDdfNTQtMy0xLTEtMzk5Mg_d6770f06-de23-45cf-a22e-68c462c82fad\" name=\"us-gaap:CashAndCashEquivalentsAtCarryingValue\" scale=\"3\" unitref=\"usd\">714,939</ix:nonfraction>,\n",
       " <ix:nonfraction contextref=\"i5accaf512b0f4973be383e3faada11c3_I20190330\" decimals=\"-3\" format=\"ixt:numdotdecimal\" id=\"id3VybDovL2RvY3MudjEvZG9jOjEyODM3MDU1ODhkNzQyNjY4MWYxNTY3ZWE2MTZhZjBhL3NlYzoxMjgzNzA1NTg4ZDc0MjY2ODFmMTU2N2VhNjE2YWYwYV84NS9mcmFnOjk4YWQyNjM5YmM5OTQ2ZmI5MzkwOTcwMjhiNjZiYjcxL3RhYmxlOjBkZWRlYmQxY2YwMzRmODdhNjhjNjRlN2Q4N2EwZjA3L3RhYmxlcmFuZ2U6MGRlZGViZDFjZjAzNGY4N2E2OGM2NGU3ZDg3YTBmMDdfNTQtNS0xLTEtMzk5Mg_ca267d43-67f6-4dfd-bf63-051aff45240b\" name=\"us-gaap:CashAndCashEquivalentsAtCarryingValue\" scale=\"3\" unitref=\"usd\">711,035</ix:nonfraction>]"
      ]
     },
     "execution_count": 104,
     "metadata": {},
     "output_type": "execute_result"
    }
   ],
   "source": [
    "cash_equivalents = soup.findAll(attrs={\n",
    "    \"name\" : \"us-gaap:CashAndCashEquivalentsAtCarryingValue\", \n",
    "    \"decimals\": True, \n",
    "    \"unitref\": True\n",
    "})\n",
    "cash_equivalents  # Scale=\"3\" means the value is per 1000."
   ]
  },
  {
   "cell_type": "code",
   "execution_count": null,
   "id": "da8b0440",
   "metadata": {},
   "outputs": [],
   "source": []
  }
 ],
 "metadata": {
  "kernelspec": {
   "display_name": "Python 3 (ipykernel)",
   "language": "python",
   "name": "python3"
  },
  "language_info": {
   "codemirror_mode": {
    "name": "ipython",
    "version": 3
   },
   "file_extension": ".py",
   "mimetype": "text/x-python",
   "name": "python",
   "nbconvert_exporter": "python",
   "pygments_lexer": "ipython3",
   "version": "3.8.10"
  }
 },
 "nbformat": 4,
 "nbformat_minor": 5
}
