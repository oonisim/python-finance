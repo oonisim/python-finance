{
 "cells": [
  {
   "cell_type": "markdown",
   "id": "89209a88",
   "metadata": {},
   "source": [
    "---\n",
    "# Setup"
   ]
  },
  {
   "cell_type": "code",
   "execution_count": 1,
   "id": "1dd95359",
   "metadata": {},
   "outputs": [
    {
     "data": {
      "text/html": [
       "<style>\n",
       "table {float:left}\n",
       "</style>\n"
      ],
      "text/plain": [
       "<IPython.core.display.HTML object>"
      ]
     },
     "metadata": {},
     "output_type": "display_data"
    }
   ],
   "source": [
    "%%html\n",
    "<style>\n",
    "table {float:left}\n",
    "</style>"
   ]
  },
  {
   "cell_type": "markdown",
   "id": "33f885db",
   "metadata": {},
   "source": [
    "# Parsing SEC Filing XBRL Document\n",
    "\n",
    "\n",
    "## Objective\n",
    "\n",
    "Parse the filing XBRL file to create a DOM like structure that represent the filing data\n",
    "\n",
    "## References\n",
    "\n",
    "* [XBRL Specification - Extensible Business Reporting Language (XBRL) 2.1](https://www.xbrl.org/Specification/XBRL-2.1/REC-2003-12-31/XBRL-2.1-REC-2003-12-31+corrected-errata-2013-02-20.html)\n",
    "\n",
    "* [List of US GAAP Standards](https://xbrlsite.azurewebsites.net/2019/Prototype/references/us-gaap/)\n",
    "* [XBRL US - List of Elements](https://xbrl.us/data-rule/dqc_0015-le/)\n",
    "\n",
    "**Element Version**|**Element ID**|**Namespace**|**Element Label**|**Element Name**|**Balance Type**|**Definition**\n",
    ":-----:|:-----:|:-----:|:-----:|:-----:|:-----:|:-----:\n",
    "1|1367|us-gaap|Interest Expense|InterestExpense|debit|Amount of the cost of borrowed funds accounted for as interest expense.\n",
    "2|2692|us-gaap|Cash and Cash Equivalents, at Carrying Value|CashAndCashEquivalentsAtCarryingValue|debit|Amount of currency on hand as well as demand deposits with banks or financial institutions. Includes other kinds of accounts that have the general characteristics of demand deposits. Also includes short-term, highly liquid investments that are both readily convertible to known amounts of cash and so near their maturity that they present insignificant risk of changes in value because of changes in interest rates. Excludes cash and cash equivalents within disposal group and discontinued operation.\n",
    "\n",
    "## XBRL Element\n",
    "\n",
    "* [XBRL Glossary of Terms](https://www.sec.gov/page/osd_xbrlglossary)\n",
    "* [XBRL - What is us-gaap:OperatingSegmentsMember element anb where is it defined?](https://money.stackexchange.com/questions/148010/xbrl-what-is-us-gaapoperatingsegmentsmember-element-anb-where-is-it-defined)\n",
    "\n",
    "### Example\n",
    "For instance, Qorvo 2020 10K\n",
    "\n",
    "* [XBRL/rfmd-20210403_htm.xml](https://www.sec.gov/Archives/edgar/data/1604778/000160477821000032/rfmd-20210403_htm.xml)\n",
    "* [HTML/rfmd-20210403.htm)](https://www.sec.gov/Archives/edgar/data/1604778/000160477821000032/rfmd-20210403.htm):\n",
    "\n",
    "```\n",
    "<us-gaap:cashandcashequivalentsatcarryingvalue contextref=\"*\" decimals=\"-3\" id=\"...\" unitref=\"usd\">\n",
    "  1397880000\n",
    "</us-gaap:cashandcashequivalentsatcarryingvalue>,\n",
    "<us-gaap:cashandcashequivalentsatcarryingvalue contextref=\"***\" decimals=\"-3\" id=\"...\" unitref=\"usd\">\n",
    "  714939000\n",
    "</us-gaap:cashandcashequivalentsatcarryingvalue>,\n",
    "<us-gaap:cashandcashequivalentsatcarryingvalue contextref=\"***\" decimals=\"-3\" id=\"...\" unitref=\"usd\">\n",
    " 711035000\n",
    "</us-gaap:cashandcashequivalentsatcarryingvalue>\n",
    "```\n",
    "\n",
    "Corresponds to the Cash and Cash equivalents in the Cash Flow statement.\n",
    "\n",
    "<img src=\"../image/edgar_qorvo_2020_10K_CF.png\" align=\"left\" width=800 />"
   ]
  },
  {
   "cell_type": "code",
   "execution_count": 2,
   "id": "e2ad2d93",
   "metadata": {},
   "outputs": [],
   "source": [
    "from typing import (\n",
    "    List,\n",
    "    Dict\n",
    ")\n",
    "import operator\n",
    "import logging\n",
    "import time\n",
    "import datetime\n",
    "import dateutil\n",
    "import calendar\n",
    "import re\n",
    "import requests\n",
    "import unicodedata\n",
    "import bs4\n",
    "from bs4 import BeautifulSoup\n",
    "from IPython.core.display import (\n",
    "    display, \n",
    "    HTML\n",
    ")\n",
    "\n",
    "import numpy as np\n",
    "import pandas as pd\n",
    "pd.set_option('display.float_format', lambda x: ('%f' % x).rstrip('0').rstrip('.'))\n",
    "pd.set_option('display.colheader_justify', 'center')\n",
    "pd.set_option('display.max_columns', None)\n",
    "pd.set_option('display.max_colwidth', None)"
   ]
  },
  {
   "cell_type": "code",
   "execution_count": 3,
   "id": "48bcf193",
   "metadata": {},
   "outputs": [],
   "source": [
    "logging.basicConfig(level=logging.DEBUG)\n",
    "Logger = logging.getLogger(__name__)"
   ]
  },
  {
   "cell_type": "code",
   "execution_count": 4,
   "id": "cebbb665",
   "metadata": {},
   "outputs": [],
   "source": [
    "def restore_windows_1252_characters(restore_string):\n",
    "    \"\"\"\n",
    "        Replace C1 control characters in the Unicode string s by the\n",
    "        characters at the corresponding code points in Windows-1252,\n",
    "        where possible.\n",
    "    \"\"\"\n",
    "\n",
    "    def to_windows_1252(match):\n",
    "        try:\n",
    "            return bytes([ord(match.group(0))]).decode('windows-1252')\n",
    "        except UnicodeDecodeError:\n",
    "            # No character at the corresponding code point: remove it.\n",
    "            return ''\n",
    "        \n",
    "    return re.sub(r'[\\u0080-\\u0099]', to_windows_1252, restore_string)"
   ]
  },
  {
   "cell_type": "markdown",
   "id": "a55c991d",
   "metadata": {},
   "source": [
    "# FS Constant"
   ]
  },
  {
   "cell_type": "code",
   "execution_count": 5,
   "id": "c3a556fa",
   "metadata": {},
   "outputs": [],
   "source": [
    "%load_ext autoreload\n",
    "%autoreload 2\n",
    "from sec_edgar_constant import (\n",
    "    FS_PL,\n",
    "    FS_BS,\n",
    "    FS_CF,\n",
    "    FS_ELEMENT_REP_SHARES_OUTSTANDING,\n",
    "    # PL\n",
    "    FS_ELEMENT_REP_REVENUE,\n",
    "    FS_ELEMENT_REP_OP_COST,\n",
    "    FS_ELEMENT_REP_OP_INCOME,\n",
    "    FS_ELEMENT_REP_GROSS_PROFIT,\n",
    "    FS_ELEMENT_REP_OPEX_RD,\n",
    "    FS_ELEMENT_REP_OPEX_SGA,\n",
    "    FS_ELEMENT_REP_OPEX,\n",
    "    FS_ELEMENT_REP_NET_INCOME,\n",
    "    FS_ELEMENT_REP_EPS,\n",
    "    # BS\n",
    "    FS_ELEMENT_REP_CASH,\n",
    "    FS_ELEMENT_REP_CURRENT_ASSETS,\n",
    "    FS_ELEMENT_REP_TOTAL_ASSETS,\n",
    "    FS_ELEMENT_REP_CURRENT_LIABILITIES,\n",
    "    FS_ELEMENT_REP_LIABILITIES,\n",
    "    FS_ELEMENT_REP_EQUITY,           # Stockholders' Equity or Total Equity\n",
    "    FS_ELEMENT_REP_EQUITY_AND_LIABILITIES,\n",
    ")\n",
    "from sec_edgar_common import (\n",
    "    has_date_format,\n",
    "    filename_basename,\n",
    "    filename_extension,\n",
    ")\n",
    "from xbrl_gaap_function import (\n",
    "    REGEXP_NUMERIC,\n",
    "    REGEXP_XBRL_TAG_CONTEXT,\n",
    "    REGEXP_XBRL_TAG_INSTANT,\n",
    "    REGEXP_XBRL_TAG_PERIOD,\n",
    "    REGEXP_XBRL_TAG_START_DATE,\n",
    "    REGEXP_XBRL_TAG_END_DATE,\n",
    "\n",
    "    get_company_name,\n",
    "    get_attributes_to_select_target_fs_elements,\n",
    "    get_financial_element_columns,\n",
    "    # sed -n 's/^def \\(get_pl_.*\\)(.*/\\1,/p'\n",
    "    get_pl_revenues,\n",
    "    get_pl_cost_of_revenues,\n",
    "    get_pl_gross_profit,\n",
    "    get_pl_operating_expense_r_and_d,\n",
    "    get_pl_operating_expense_selling_administrative,\n",
    "    get_pl_operating_expense_other,\n",
    "    get_pl_operating_expense_total,\n",
    "    get_pl_operating_income,\n",
    "    get_pl_non_operating_expense_interest,\n",
    "    get_pl_non_operating_expense_other,\n",
    "    get_pl_income_tax,\n",
    "    get_pl_net_income,\n",
    "    get_pl_shares_outstanding,\n",
    "    get_pl_eps,\n",
    "    # sed -n 's/^def \\(get_bs_.*\\)(.*/\\1,/p'\n",
    "    get_bs_current_asset_cash_and_equivalents,\n",
    "    get_bs_current_asset_restricted_cash_and_equivalents,\n",
    "    get_bs_current_asset_short_term_investments,\n",
    "    get_bs_current_asset_account_receivables,\n",
    "    get_bs_current_asset_inventory,\n",
    "    get_bs_current_asset_other,\n",
    "    get_bs_current_assets,\n",
    "    get_bs_non_current_asset_property_and_equipment,\n",
    "    get_bs_non_current_asset_restricted_cash_and_equivalent,\n",
    "    get_bs_non_current_asset_deferred_income_tax,\n",
    "    get_bs_non_current_asset_goodwill,\n",
    "    get_bs_non_current_asset_other,\n",
    "    get_bs_total_assets,\n",
    "    get_bs_current_liability_account_payable,\n",
    "    get_bs_current_liability_tax,\n",
    "    get_bs_current_liability_longterm_debt,\n",
    "    get_bs_current_liabilities,\n",
    "    get_bs_non_current_liability_longterm_debt,\n",
    "    get_bs_non_current_liability_deferred_tax,\n",
    "    get_bs_non_current_liability_other,\n",
    "    get_bs_total_liabilities,\n",
    "    get_bs_stockholders_equity_paid_in,\n",
    "    get_bs_stockholders_equity_retained,\n",
    "    get_bs_stockholders_equity_other,\n",
    "    get_bs_stockholders_equity,\n",
    "    get_bs_total_liabilities_and_stockholders_equity,\n",
    ")\n"
   ]
  },
  {
   "cell_type": "markdown",
   "id": "dc4979d3",
   "metadata": {},
   "source": [
    "# Global Constant"
   ]
  },
  {
   "cell_type": "code",
   "execution_count": 6,
   "id": "2426359d",
   "metadata": {},
   "outputs": [],
   "source": [
    "EDGAR_HTTP_HEADERS = {\"User-Agent\": \"Company Name myname@company.com\"}\n",
    "\n",
    "SEC_FORM_TYPE_10K = \"10-K\"\n",
    "SEC_FORM_TYPE_10Q = \"10-Q\""
   ]
  },
  {
   "cell_type": "markdown",
   "id": "82295cb6",
   "metadata": {},
   "source": [
    "---\n",
    "# Load EDGAR Filing XBRL\n",
    "\n",
    "Download the ```_htm.xml``` file from EDGAR. SEC now requires user-agent header."
   ]
  },
  {
   "cell_type": "markdown",
   "id": "f584596e",
   "metadata": {},
   "source": [
    "## Filling (CIK/Accession)"
   ]
  },
  {
   "cell_type": "code",
   "execution_count": 7,
   "id": "6fb0d668",
   "metadata": {},
   "outputs": [],
   "source": [
    "# AMKOR 2020 10K\n",
    "CIK = '1047127'\n",
    "ACCESSION = '0001047127-20-000006'.replace('-', '')\n",
    "FORM_TYPE = SEC_FORM_TYPE_10K"
   ]
  },
  {
   "cell_type": "code",
   "execution_count": 8,
   "id": "96d70876",
   "metadata": {},
   "outputs": [],
   "source": [
    "# DIOD 2020 10K\n",
    "CIK = '29002'\n",
    "ACCESSION = '000156459021007008'\n",
    "FORM_TYPE = SEC_FORM_TYPE_10K"
   ]
  },
  {
   "cell_type": "code",
   "execution_count": 9,
   "id": "c86a4be8",
   "metadata": {},
   "outputs": [],
   "source": [
    "# OPTICAL CABLE CORPORATION 10-K for the fiscal year ended October 31, 2021\n",
    "CIK = '0001000230'\n",
    "ACCESSION = '000143774921028951'\n",
    "FORM_TYPE = SEC_FORM_TYPE_10K"
   ]
  },
  {
   "cell_type": "code",
   "execution_count": 10,
   "id": "e7d3da57",
   "metadata": {},
   "outputs": [],
   "source": [
    "# QORVO 2021 10K\n",
    "CIK = '1604778'\n",
    "ACCESSION = '000160477821000032'\n",
    "FORM_TYPE = SEC_FORM_TYPE_10K"
   ]
  },
  {
   "cell_type": "code",
   "execution_count": 11,
   "id": "90484633",
   "metadata": {},
   "outputs": [],
   "source": [
    "# AMKOR 2021 10Q\n",
    "CIK = '1047127'\n",
    "ACCESSION = '000104712721000043'\n",
    "FORM_TYPE = SEC_FORM_TYPE_10Q"
   ]
  },
  {
   "cell_type": "code",
   "execution_count": 12,
   "id": "bc5cd4f2",
   "metadata": {},
   "outputs": [],
   "source": [
    "# NICHOLAS FINANCIAL, INC.\n",
    "CIK = '1000045'\n",
    "ACCESSION = '000119312513259413'\n",
    "FORM_TYPE = SEC_FORM_TYPE_10K"
   ]
  },
  {
   "cell_type": "code",
   "execution_count": 13,
   "id": "aa185e60",
   "metadata": {},
   "outputs": [],
   "source": [
    "# Waters Corporation\n",
    "CIK = '1000697'\n",
    "ACCESSION = '000095012310017583'\n",
    "FORM_TYPE = SEC_FORM_TYPE_10K"
   ]
  },
  {
   "cell_type": "code",
   "execution_count": 14,
   "id": "f24b6a2d",
   "metadata": {},
   "outputs": [
    {
     "data": {
      "text/plain": [
       "'https://www.sec.gov/Archives/edgar/data/1000697/000095012310017583/index.xml'"
      ]
     },
     "execution_count": 14,
     "metadata": {},
     "output_type": "execute_result"
    }
   ],
   "source": [
    "INDEX_XML_URL = f\"https://www.sec.gov/Archives/edgar/data/{CIK}/{ACCESSION}/index.xml\"\n",
    "INDEX_XML_URL"
   ]
  },
  {
   "cell_type": "markdown",
   "id": "25e4deb9",
   "metadata": {},
   "source": [
    "## Filing Directory Listing\n",
    "\n",
    "Using EDGAR Directory Listing (index.html, index.json, or index.xml), identify the XBRL file (_htm.xml) path. "
   ]
  },
  {
   "cell_type": "raw",
   "id": "6c99babd",
   "metadata": {},
   "source": [
    "\"\"\"\n",
    "INDEX_XML_URL = f\"https://www.sec.gov/Archives/edgar/data/{CIK}/{ACCESSION}/index.xml\"\n",
    "INDEX_XML_URL\n",
    "\n",
    "response = requests.get(INDEX_XML_URL, headers=EDGAR_HTTP_HEADERS)\n",
    "if response.status_code == 200:\n",
    "    index = response.content.decode(\"utf-8\") \n",
    "else:\n",
    "    assert False, f\"{INDEX_XML_URL} failed with status {response.status_code}\"\n",
    "    \n",
    "path_to_xbrl = BeautifulSoup(index, 'html.parser').find('href', string=re.compile(\".*_htm.xml\"))\n",
    "del index\n",
    "assert path_to_xbrl, \"No XBRL file found.\"\n",
    "\n",
    "path_to_xbrl = path_to_xbrl.string.strip()\n",
    "\"\"\""
   ]
  },
  {
   "cell_type": "code",
   "execution_count": 15,
   "id": "32971b61",
   "metadata": {},
   "outputs": [],
   "source": [
    "def xbrl_url(index_xml_url):\n",
    "    \"\"\"Generate the URL to the XBML file in the filing directory \n",
    "    Args:\n",
    "        index_xml_url: URL to the EDGAR directory listing index.xml file.\n",
    "    Returns:\n",
    "        URL to the XBRL file in the filing directory.\n",
    "    \"\"\"\n",
    "    time.sleep(1)\n",
    "    \n",
    "    response = requests.get(index_xml_url, headers=EDGAR_HTTP_HEADERS)\n",
    "    if response.status_code == 200:\n",
    "        content = response.content.decode(\"utf-8\") \n",
    "    else:\n",
    "        Logger.error(\"%s failed with %s\" % (index_xml_url, response.status_code))\n",
    "        assert False, f\"{index_xml_url} failed with status {response.status_code}\"\n",
    "    \n",
    "    # --------------------------------------------------------------------------------\n",
    "    # Look for the XBRL XML file\n",
    "    # 1. _htm.xml file\n",
    "    # 2. <filename>.xml where \"filename\" is from <filename>.xsd.\n",
    "    # --------------------------------------------------------------------------------\n",
    "    # 1. Look for _htm.xml\n",
    "    index = BeautifulSoup(content, 'html.parser')\n",
    "    path_to_xbrl = index.find('href', string=re.compile(\".*_htm\\.xml\"))\n",
    "    if path_to_xbrl:\n",
    "        url = \"https://www.sec.gov\" + path_to_xbrl.string.strip()\n",
    "        Logger.debug(\"URL to XBRL is [%s]\" % url)\n",
    "        return url\n",
    "\n",
    "    # 2. Look for XSD\n",
    "    path_to_xsd = index.find('href', string=re.compile(\".*\\.xsd\"))\n",
    "    if path_to_xsd:\n",
    "        path_to_xml = path_to_xsd.string.replace(\".xsd\", \".xml\")\n",
    "        path_to_xbrl = index.find('href', string=path_to_xml)\n",
    "        if path_to_xbrl:\n",
    "            url = \"https://www.sec.gov\" + path_to_xbrl.string.strip()\n",
    "            Logger.debug(\"URL to XBRL is [%s]\" % url)\n",
    "            return url\n",
    "        else:\n",
    "            Logger.debug(\"No XBRL foudn with [%s]\" % path_to_xml)\n",
    "\n",
    "    # 3. Loo for XML with ([^R0-9]*)\n",
    "    regexp = index_xml_url.replace(\"index.xml\", \"\") + r\"[^R0-9]*\\.xml\"\n",
    "    path_to_xbrl = index.find('href', string=re.compile(regexp))\n",
    "    if path_to_xbrl:\n",
    "        url = \"https://www.sec.gov\" + path_to_xbrl.string.strip()\n",
    "        Logger.debug(\"URL to XBRL is [%s]\" % regexp)\n",
    "        return url\n",
    "    else:\n",
    "        Logger.debug(\"No XBRL foudn with [%s]\" % path_to_xml)\n",
    "                \n",
    "    assert False, \"No XBRL for %s\" % index_xml_url"
   ]
  },
  {
   "cell_type": "markdown",
   "id": "dc515f1d",
   "metadata": {},
   "source": [
    "## Download XBRL"
   ]
  },
  {
   "cell_type": "code",
   "execution_count": 16,
   "id": "9ea93c9f",
   "metadata": {},
   "outputs": [
    {
     "name": "stderr",
     "output_type": "stream",
     "text": [
      "DEBUG:urllib3.connectionpool:Starting new HTTPS connection (1): www.sec.gov:443\n",
      "DEBUG:urllib3.connectionpool:https://www.sec.gov:443 \"GET /Archives/edgar/data/1000697/000095012310017583/index.xml HTTP/1.1\" 200 827\n",
      "DEBUG:__main__:URL to XBRL is [https://www.sec.gov/Archives/edgar/data/1000697/000095012310017583/wat-20091231.xml]\n",
      "DEBUG:urllib3.connectionpool:Starting new HTTPS connection (1): www.sec.gov:443\n",
      "DEBUG:urllib3.connectionpool:https://www.sec.gov:443 \"GET /Archives/edgar/data/1000697/000095012310017583/wat-20091231.xml HTTP/1.1\" 200 76202\n"
     ]
    }
   ],
   "source": [
    "XBRL_XML_URL = xbrl_url(INDEX_XML_URL)\n",
    "\n",
    "response = requests.get(XBRL_XML_URL, headers=EDGAR_HTTP_HEADERS)\n",
    "if response.status_code == 200:\n",
    "    content = response.content.decode(\"utf-8\") \n",
    "else:\n",
    "    assert False, f\"{XBRL_URL} failed with status {response.status_code}\"\n",
    "    \n",
    "del response"
   ]
  },
  {
   "cell_type": "code",
   "execution_count": 17,
   "id": "0bda04b2",
   "metadata": {},
   "outputs": [
    {
     "data": {
      "text/plain": [
       "'wat-20091231'"
      ]
     },
     "execution_count": 17,
     "metadata": {},
     "output_type": "execute_result"
    }
   ],
   "source": [
    "filename_basename(XBRL_XML_URL)"
   ]
  },
  {
   "cell_type": "code",
   "execution_count": 18,
   "id": "665c3462",
   "metadata": {},
   "outputs": [],
   "source": [
    "content = restore_windows_1252_characters(content)"
   ]
  },
  {
   "cell_type": "markdown",
   "id": "017b4ad7",
   "metadata": {},
   "source": [
    "# XBRL\n",
    "\n",
    "Use the BS4 HTML Parser to be able to:\n",
    "1. Handle ```<namespace:tag>``` as a single tag (with lower cases)\n",
    "2. Work without namespace definitions (xmlns=) \n",
    "\n",
    "BS4/XML parser simply drops the namespaces when the namespace definitions are not provided, hence searching tags with ```<namespace:tag>``` does not match. To avoid this issue, use HTML parser."
   ]
  },
  {
   "cell_type": "code",
   "execution_count": 19,
   "id": "23172972",
   "metadata": {},
   "outputs": [
    {
     "name": "stdout",
     "output_type": "stream",
     "text": [
      "None\n"
     ]
    }
   ],
   "source": [
    "# HTML parser lowers all the names\n",
    "soup = BeautifulSoup(content, 'html.parser')\n",
    "# HTML parser does not match case sensitivve name\n",
    "print(soup.find(\"dei:EntityRegistrantName\"))"
   ]
  },
  {
   "cell_type": "code",
   "execution_count": 20,
   "id": "5b4ff223",
   "metadata": {},
   "outputs": [],
   "source": [
    "# Verify [<xbrl xmlns=\"http://www.xbrl.org/2003/instance\">]\n",
    "#assert soup.find('xbrl', attrs={\"xmlns\": \"http://www.xbrl.org/2003/instance\"}), \\\n",
    "#    f\"Invalid XBRL {INDEX_XML_URL}\""
   ]
  },
  {
   "cell_type": "markdown",
   "id": "ef53a718",
   "metadata": {},
   "source": [
    "## Company Name"
   ]
  },
  {
   "cell_type": "code",
   "execution_count": 21,
   "id": "71485048",
   "metadata": {},
   "outputs": [],
   "source": [
    "def get_company_name(soup):\n",
    "    \"\"\"Get company (registrant) name from the XBRL\"\"\"\n",
    "    registrant_name = soup.find(\n",
    "        name=re.compile(\"dei:EntityRegistrantName\".lower(), re.I)\n",
    "    ).string.strip()\n",
    "    assert registrant_name, f\"No registrant name found\"\n",
    "\n",
    "    # Remove non-ascii characters to form a company name\n",
    "    registrant_name = ''.join(e for e in registrant_name if e.isalnum())\n",
    "    logging.debug(\"get_company_name(): company name is [%s]\" % registrant_name)\n",
    "    return registrant_name"
   ]
  },
  {
   "cell_type": "code",
   "execution_count": 22,
   "id": "5e1dac87",
   "metadata": {},
   "outputs": [
    {
     "name": "stderr",
     "output_type": "stream",
     "text": [
      "DEBUG:root:get_company_name(): company name is [WATERSCORPDE]\n"
     ]
    }
   ],
   "source": [
    "company_name = get_company_name(soup)"
   ]
  },
  {
   "cell_type": "markdown",
   "id": "342da6cb",
   "metadata": {},
   "source": [
    "## Repoting period\n",
    "\n",
    "Each 10-K and 10-Q XBRL has the reporting period for the filing. To exclude the other period, e.g. pervious year or quarter, use the ```context id``` for the reporting period. **Most** 10-K, 10-Q specify the annual period with the first ```<startDate> and <endDate>``` tags.\n",
    "\n",
    "For instances:\n",
    "\n",
    "### QRVO 10-K 2020\n",
    "\n",
    "```\n",
    "<context id=\"ifb6ce67cf6954ebf88471dd82daa9247_D20200329-20210403\">\n",
    "    <entity>\n",
    "    <identifier scheme=\"http://www.sec.gov/CIK\">0001604778</identifier>\n",
    "    </entity>\n",
    "    <period>\n",
    "        <startDate>2020-03-29</startDate>\n",
    "        <endDate>2021-04-03</endDate>\n",
    "    </period>\n",
    "</context>\n",
    "```\n",
    "\n",
    "### AMKR 10-K 2020\n",
    "\n",
    "```\n",
    "<context id=\"i5fac0a392353427b8266f185495754d3_D20200101-20201231\">\n",
    "    <entity>\n",
    "    <identifier scheme=\"http://www.sec.gov/CIK\">0001047127</identifier>\n",
    "    </entity>\n",
    "    <period>\n",
    "        <startDate>2020-01-01</startDate>\n",
    "        <endDate>2020-12-31</endDate>\n",
    "    </period>\n",
    "</context>\n",
    "```\n",
    "\n",
    "### AAPL 10-Q 4th QTR 2020\n",
    "\n",
    "```\n",
    "<context id=\"i6e431846933d461fb8c8c0bdf98c9758_D20200927-20201226\">\n",
    "    <entity>\n",
    "    <identifier scheme=\"http://www.sec.gov/CIK\">0000320193</identifier>\n",
    "    </entity>\n",
    "    <period>\n",
    "        <startDate>2020-09-27</startDate>\n",
    "        <endDate>2020-12-26</endDate>\n",
    "    </period>\n",
    "</context>\n",
    "```\n",
    "\n",
    "**However, there are companies that do not have this manner**. For instance [10-K for OPTICAL CABLE CORPORATION(CIK=0001000230)](https://www.sec.gov/Archives/edgar/data/1000230/000143774921028951/occ20211031_10k_htm.xml) has the same start and end dates at first.\n",
    "\n",
    "```\n",
    "<context id=\"d202110K\">\n",
    "    <entity>\n",
    "        <identifier scheme=\"http://www.sec.gov/CIK\">0001000230</identifier>\n",
    "    </entity>\n",
    "    <period>\n",
    "        <startDate>2021-10-31</startDate>   # <-----\n",
    "        <endDate>2021-10-31</endDate>\n",
    "    </period>\n",
    "</context>\n",
    "<context id=\"d_2020-11-01_2021-10-31\">\n",
    "    <entity>\n",
    "        <identifier scheme=\"http://www.sec.gov/CIK\">0001000230</identifier>\n",
    "    </entity>\n",
    "    <period>\n",
    "        <startDate>2020-11-01</startDate>   # <-----\n",
    "        <endDate>2021-10-31</endDate>\n",
    "    </period>\n",
    "</context>\n",
    "```\n",
    "\n",
    "The report uses the 2nd for 2021 F/S element value but does not use the first one.\n",
    "\n",
    "**B/S**\n",
    "```\n",
    "<us-gaap:Assets \n",
    "    contextRef=\"i_2021-10-31\"    # <-----\n",
    "    decimals=\"INF\" \n",
    "    id=\"c79893606\" \n",
    "    unitRef=\"USD\"\n",
    ">\n",
    "  37916530\n",
    "</us-gaap:Assets>\n",
    "```\n",
    "\n",
    "**P/L**\n",
    "```\n",
    "<us-gaap:RevenueFromContractWithCustomerIncludingAssessedTax \n",
    "  contextRef=\"d_2020-11-01_2021-10-31\"     # <-----\n",
    "  decimals=\"INF\" \n",
    "  id=\"c79893662\" \n",
    "  unitRef=\"USD\"\n",
    ">\n",
    "  59136294\n",
    "</us-gaap:RevenueFromContractWithCustomerIncludingAssessedTax>\n",
    "```\n",
    "\n",
    "<img src='../image/edgar_optical_cable_2021_10K.png' align=\"left\" width=500/>"
   ]
  },
  {
   "cell_type": "markdown",
   "id": "9982a4f2",
   "metadata": {},
   "source": [
    "### Get the period from the 1st\n",
    "\n",
    "For now, just get the period from the 1st **period** element."
   ]
  },
  {
   "cell_type": "code",
   "execution_count": 23,
   "id": "0888bf98",
   "metadata": {},
   "outputs": [],
   "source": [
    "def get_report_period_end_date(soup, date_from_xbrl_filename=None):\n",
    "    \"\"\"Identify the end date of the report period from the first \"context\" tag\n",
    "    in the XBRL that has <period><startDate> tag as its child tag. \n",
    "\n",
    "    <context id=\"ifb6ce67cf6954ebf88471dd82daa9247_D20200329-20210403\">\n",
    "        <entity>\n",
    "        <identifier scheme=\"http://www.sec.gov/CIK\">0001604778</identifier>\n",
    "        </entity>\n",
    "        <period>\n",
    "            <startDate>2020-03-29</startDate>\n",
    "            <endDate>2021-04-03</endDate>        # <-----\n",
    "        </period>\n",
    "    </context>\n",
    "\n",
    "    Args:\n",
    "        soup: Source BS4\n",
    "        date_from_xbrl_filename: Date extracted from XBRL XML filename \n",
    "    Returns: reporting period e.g. \"2021-09-30\"\n",
    "    \"\"\"\n",
    "    candidates = []\n",
    "    report_period_end_date = None\n",
    "    \n",
    "    # --------------------------------------------------------------------------------\n",
    "    # List all the endDate from the Contexts\n",
    "    # --------------------------------------------------------------------------------\n",
    "    regexp_end_date_pattern = re.compile(r\"(\\s*)([12][0-9]{3}-[0-9]{1,2}-[0-9]{1,2})(\\s*)\")\n",
    "    for context in soup.find_all(REGEXP_XBRL_TAG_CONTEXT):\n",
    "        # --------------------------------------------------------------------------------\n",
    "        # Find Context tag which has <period><enddate> child tag\n",
    "        # --------------------------------------------------------------------------------\n",
    "        period = context.find(REGEXP_XBRL_TAG_PERIOD)\n",
    "        if period:\n",
    "            end_date = period.find(REGEXP_XBRL_TAG_END_DATE)\n",
    "            if end_date:\n",
    "                match = re.match(regexp_end_date_pattern, end_date.string.strip())\n",
    "                if match and has_date_format(match.group(2)):\n",
    "                    candidates.append(match.group(2))\n",
    "\n",
    "    assert len(candidates) > 0, \"No period found\"\n",
    "    \n",
    "    # --------------------------------------------------------------------------------\n",
    "    # If the date from the XBRL XML name is in the candidate, use it as the end_datge\n",
    "    # Otherwise use the first candidate.\n",
    "    # --------------------------------------------------------------------------------\n",
    "    if date_from_xbrl_filename in candidates:\n",
    "        report_period_end_date = date_from_xbrl_filename\n",
    "    else:\n",
    "        report_period_end_date = candidates[0]\n",
    "\n",
    "    return report_period_end_date"
   ]
  },
  {
   "cell_type": "code",
   "execution_count": 24,
   "id": "2735530f",
   "metadata": {},
   "outputs": [
    {
     "name": "stdout",
     "output_type": "stream",
     "text": [
      "wat-20091231\n",
      "('wat-', '2009', '12', '31', '')\n"
     ]
    }
   ],
   "source": [
    "def get_date_from_xbrl_filename(filename):\n",
    "    pattern = re.compile(r\"([^0-9]*)[-]*([12][0-9]{3})[-]*([0-9]{2})[-]*([0-9]{2})(.*)\")\n",
    "    match = re.match(pattern, filename)\n",
    "    if match: \n",
    "        print(match.groups())\n",
    "        year = match.group(2)\n",
    "        month = match.group(3)\n",
    "        day = match.group(4)\n",
    "        return \"-\".join([year, month, day])\n",
    "\n",
    "print(filename_basename(XBRL_XML_URL))\n",
    "date_from_xbrl_filename = get_date_from_xbrl_filename(filename_basename(XBRL_XML_URL))"
   ]
  },
  {
   "cell_type": "code",
   "execution_count": 25,
   "id": "21d36239",
   "metadata": {},
   "outputs": [
    {
     "name": "stdout",
     "output_type": "stream",
     "text": [
      "('rfmd-', '2021', '04', '03', '_htm.xml')\n"
     ]
    },
    {
     "data": {
      "text/plain": [
       "'2021-04-03'"
      ]
     },
     "execution_count": 25,
     "metadata": {},
     "output_type": "execute_result"
    }
   ],
   "source": [
    "get_date_from_xbrl_filename(\"rfmd-20210403_htm.xml\")"
   ]
  },
  {
   "cell_type": "code",
   "execution_count": 26,
   "id": "ef4f78ba",
   "metadata": {},
   "outputs": [
    {
     "data": {
      "text/plain": [
       "'2009-12-31'"
      ]
     },
     "execution_count": 26,
     "metadata": {},
     "output_type": "execute_result"
    }
   ],
   "source": [
    "report_period_end_date = get_report_period_end_date(soup, date_from_xbrl_filename)\n",
    "report_period_end_date"
   ]
  },
  {
   "cell_type": "code",
   "execution_count": 27,
   "id": "eeff9eb2",
   "metadata": {},
   "outputs": [
    {
     "name": "stdout",
     "output_type": "stream",
     "text": [
      "match[2009-12-31]\n",
      "match[2009-12-31]\n",
      "match[2009-12-31]\n",
      "match[2009-12-31]\n",
      "match[2009-12-31]\n",
      "no match[2008-12-31]\n",
      "no match[2008-12-31]\n",
      "no match[2008-12-31]\n",
      "no match[2008-12-31]\n",
      "no match[2008-12-31]\n",
      "no match[2007-12-31]\n",
      "no match[2007-12-31]\n",
      "no match[2007-12-31]\n",
      "no match[2007-12-31]\n",
      "no match[2007-12-31]\n",
      "no match[2006-12-31]\n",
      "no match[2006-12-31]\n",
      "no match[2006-12-31]\n",
      "no match[2006-12-31]\n",
      "no match[2006-12-31]\n",
      "match[2009-12-31]\n",
      "no match[2008-12-31]\n",
      "no match[2007-12-31]\n",
      "no match[2006-12-31]\n",
      "match[2009-12-31]\n",
      "no match[2008-12-31]\n",
      "no match[2007-12-31]\n",
      "no match[2006-12-31]\n",
      "no match[2009-07-04]\n",
      "no match[2010-02-19]\n"
     ]
    }
   ],
   "source": [
    "# Experiment to test extract the context that has the matching end date\n",
    "regexp = re.compile(rf\"(\\s*)({report_period_end_date})(\\s*)\")\n",
    "\n",
    "for context in soup.find_all(REGEXP_XBRL_TAG_CONTEXT):\n",
    "    period = context.find(REGEXP_XBRL_TAG_PERIOD)\n",
    "    if period:\n",
    "        instant = period.find([REGEXP_XBRL_TAG_INSTANT])\n",
    "        if instant:\n",
    "            match = re.match(regexp, instant.string)\n",
    "            if match:\n",
    "                print(f\"match[{match.group(2)}]\")\n",
    "            else:\n",
    "                print(f\"no match[{instant.string.strip()}]\")\n"
   ]
  },
  {
   "cell_type": "markdown",
   "id": "4681282d",
   "metadata": {},
   "source": [
    "### Regexp to find all the contexts that match with report_period_end_date\n",
    "\n",
    "10-K, 10-Q F/S uses multiple contexts to refer to the F/S element values for the **period**. Collect all the contexts for the **period**."
   ]
  },
  {
   "cell_type": "code",
   "execution_count": 28,
   "id": "52ee4a74",
   "metadata": {},
   "outputs": [],
   "source": [
    "def get_target_context_ids(soup, report_period_end_date: str, form_type: str):\n",
    "    \"\"\"\n",
    "    Extract all the ids of the context that refer to the reporting period.\n",
    "\n",
    "    XBRL (10-K,10-Q) uses multiple contexts to refer to the F/S items in the\n",
    "    reporting period. Collect all the contexts for the period.\n",
    "    \n",
    "    [Example]\n",
    "    Context ID=\"ifb6ce67cf6954ebf88471dd82daa9247_D20200329-20210403\" for the\n",
    "    10-K reporting period (fiscal year ended April 3, 2021).\n",
    "    \n",
    "    <context id=\"ifb6ce67cf6954ebf88471dd82daa9247_D20200329-20210403\">\n",
    "        <entity>\n",
    "        <identifier scheme=\"http://www.sec.gov/CIK\">0001604778</identifier>\n",
    "        </entity>\n",
    "        <period>\n",
    "            <startDate>2020-03-29</startDate>\n",
    "            <endDate>2021-04-03</endDate>         # <--- end of the period\n",
    "        </period>\n",
    "    </context>\n",
    "    \n",
    "    Revenues for Fiscal 2021 has the context ID of the period.\n",
    "    <us-gaap:Revenues\n",
    "        contextRef=\"ifb6ce67cf6954ebf88471dd82daa9247_D20200329-20210403\" <---\n",
    "        decimals=\"-3\" \n",
    "        id=...\n",
    "        unitRef=\"usd\"\n",
    "    >\n",
    "    4015307000\n",
    "    </us-gaap:Revenues>\n",
    "    \n",
    "    Revenues for Fiscal 2020 has a different context ID.    \n",
    "    <us-gaap:Revenues \n",
    "        contextRef=\"i8cb18639eb7241dc9a6d20dd6ef765f3_D20190331-20200328\" \n",
    "        decimals=\"-3\" \n",
    "        id=...\n",
    "        unitRef=\"usd\"\n",
    "    >\n",
    "    3239141000\n",
    "    </us-gaap:Revenues>\n",
    "    \n",
    "    Args:\n",
    "        soup: BS4 source\n",
    "        period_end_date: Dnd date of the reporting period\n",
    "        form_type: Filing form type e.g. FORM_TYPE_10K\n",
    "    \"\"\"\n",
    "    target_context_ids = []\n",
    "\n",
    "    end_date = dateutil.parser.parse(report_period_end_date)\n",
    "    if form_type == SEC_FORM_TYPE_10K:\n",
    "        duration = datetime.timedelta(days=365) \n",
    "    elif form_type == SEC_FORM_TYPE_10Q:\n",
    "        datetime.timedelta(days=90)\n",
    "        duration = datetime.timedelta(days=90)\n",
    "    else:\n",
    "        assert f\"The form type {form_type} is not currently supported\"\n",
    "\n",
    "    # --------------------------------------------------------------------------------\n",
    "    # (from, to) range wherein the start date of the reprting period should exits.\n",
    "    #\n",
    "    # It is expected that report_start_date = (report_end_date - duration) +/- 30 days.\n",
    "    # If 10-K period ends 2021-04-03, the start date should be in-between the two:\n",
    "    # 2020-03-04 (end_date - duration - datetime.timedelta(days=30) and \n",
    "    # 2020-05-03 (end_date - duration + datetime.timedelta(days=30).\n",
    "    # --------------------------------------------------------------------------------\n",
    "    from_date = end_date - duration - datetime.timedelta(days=30)\n",
    "    to_date = end_date - duration + datetime.timedelta(days=30)\n",
    "\n",
    "    # --------------------------------------------------------------------------------\n",
    "    # Use \"(\\s*)({report_period_end_date})(\\s*)\" to match with the endDate.\n",
    "    # Some XBRL has tag string value that includes \\n and other non pritables.\n",
    "    # --------------------------------------------------------------------------------\n",
    "    regexp_report_period_end_date = re.compile(rf\"(\\s*)({report_period_end_date})(\\s*)\")\n",
    "\n",
    "    # --------------------------------------------------------------------------------\n",
    "    # Contexts with 'startdate' child tag\n",
    "    # Find the context tags whose <period><startDate> child tag value is in-between\n",
    "    # (from, to) range. Those are the tags that refer to the current reporting period.\n",
    "    # --------------------------------------------------------------------------------\n",
    "    for context in soup.find_all(REGEXP_XBRL_TAG_CONTEXT):\n",
    "        # Find contexts whose <period>/<endDate> child tag value matches the end date of the period\n",
    "        if context.find(REGEXP_XBRL_TAG_PERIOD) and context.find(REGEXP_XBRL_TAG_PERIOD).find(REGEXP_XBRL_TAG_END_DATE, string=regexp_report_period_end_date):\n",
    "            # Get the <period><startDate> value\n",
    "            start = dateutil.parser.parse(context.find(REGEXP_XBRL_TAG_PERIOD).find(REGEXP_XBRL_TAG_START_DATE).text)\n",
    "            # --------------------------------------------------------------------------------\n",
    "            # If the startDate is in-between (from, to), or equal to period_end_date,\n",
    "            # then the context is the one that refers to the current report period.\n",
    "            #\n",
    "            # Why \"start date equal to period end date\"?\n",
    "            # [<period><startDate> == <period><endDate>] can happen in the \"context\" tag\n",
    "            # that refers to the current reporting period for some companies e.g. \n",
    "            # 10-K of October 31, 2021 by Optical Cable Corporation.\n",
    "            # --------------------------------------------------------------------------------\n",
    "            if start == end_date or (from_date < start and start < to_date):\n",
    "                target_context_ids.append(context['id'])\n",
    "\n",
    "    # --------------------------------------------------------------------------------\n",
    "    # Contexts with 'instant' child tag\n",
    "    # Find the context tags whose <period><instant> has the period_end_date value.\n",
    "    # Those are the tags that also refer to the current reporting period.\n",
    "    # --------------------------------------------------------------------------------\n",
    "    target_context_ids.extend([\n",
    "        context['id'] for context in soup.find_all(REGEXP_XBRL_TAG_CONTEXT) \n",
    "        if (\n",
    "            context.find(REGEXP_XBRL_TAG_PERIOD) and \n",
    "            context.find(REGEXP_XBRL_TAG_PERIOD).find(\n",
    "                [REGEXP_XBRL_TAG_INSTANT], string=regexp_report_period_end_date\n",
    "            )\n",
    "        )\n",
    "    ])\n",
    "    \n",
    "    return target_context_ids"
   ]
  },
  {
   "cell_type": "code",
   "execution_count": 29,
   "id": "557c2bfe",
   "metadata": {},
   "outputs": [
    {
     "name": "stdout",
     "output_type": "stream",
     "text": [
      "Range: (2020-03-04, 2020-05-03)\n"
     ]
    }
   ],
   "source": [
    "# Example\n",
    "end_date = dateutil.parser.parse(\"2021-04-03\")\n",
    "duration = datetime.timedelta(days=365) \n",
    "\n",
    "_from = end_date - duration - datetime.timedelta(days=30)\n",
    "_to  = end_date - duration + datetime.timedelta(days=30)\n",
    "print(f\"Range: ({str(_from)[:10]}, {str(_to)[:10]})\")"
   ]
  },
  {
   "cell_type": "markdown",
   "id": "0a8b24ae",
   "metadata": {},
   "source": [
    "# Constant"
   ]
  },
  {
   "cell_type": "code",
   "execution_count": 30,
   "id": "dab3debf",
   "metadata": {},
   "outputs": [],
   "source": [
    "from xbrl_gaap_constant import (\n",
    "    NAMESPACE_GAAP,\n",
    "    GAAP_CREDIT_ITEMS,\n",
    "    GAAP_DEBIT_ITEMS,\n",
    "    GAAP_CALC_ITEMS,\n",
    "    GAAP_METRIC_ITEMS,\n",
    "    GAAP_FACT_ITEMS,\n",
    ")\n",
    "from sec_edgar_constant import (\n",
    "    FS_ELEMENT_TYPE_DEBIT,\n",
    "    FS_ELEMENT_TYPE_CREDIT,\n",
    "    FS_ELEMENT_TYPE_CALC,\n",
    "    FS_ELEMENT_TYPE_METRIC,\n",
    "    FS_ELEMENT_TYPE_FACT,\n",
    ")"
   ]
  },
  {
   "cell_type": "code",
   "execution_count": 31,
   "id": "326602c0",
   "metadata": {},
   "outputs": [],
   "source": [
    "CONTEXT_REGEXP = re.compile(\"|\".join(\n",
    "    get_target_context_ids(soup=soup, report_period_end_date=report_period_end_date, form_type=FORM_TYPE))\n",
    ")"
   ]
  },
  {
   "cell_type": "code",
   "execution_count": 32,
   "id": "e88e4f29",
   "metadata": {},
   "outputs": [
    {
     "data": {
      "text/plain": [
       "re.compile(r'TwelveMonthsEnded_31Dec2009_Treasury_Stock__Member2|TwelveMonthsEnded_31Dec2009_Common_Stock__Member32|TwelveMonthsEnded_31Dec2009_Common_Stock__Member3|TwelveMonthsEnded_31Dec2009_Retained_Earnings__Member|TwelveMonthsEnded_31Dec2009_Accumulated_Other_Comprehensive_Income__Loss___Member|TwelveMonthsEnded_31Dec2009_Comprehensive_Income__Member|TwelveMonthsEnded_31Dec2009_Additional_Paid_in_Capital__Member|TwelveMonthsEnded_31Dec2009|TwelveMonthsEnded_31Dec2009_Treasury_Stock__Member|TwelveMonthsEnded_31Dec2009_Retained_Earnings__Member2|TwelveMonthsEnded_31Dec2009_Common_Stock__Member2|TwelveMonthsEnded_31Dec2009_Additional_Paid_in_Capital__Member2|TwelveMonthsEnded_31Dec2009_Accumulated_Other_Comprehensive_Income__Member|TwelveMonthsEnded_31Dec2009_Common_Stock__Member|TwelveMonthsEnded_31Dec20092',\n",
       "re.UNICODE)"
      ]
     },
     "execution_count": 32,
     "metadata": {},
     "output_type": "execute_result"
    }
   ],
   "source": [
    "CONTEXT_REGEXP"
   ]
  },
  {
   "cell_type": "markdown",
   "id": "0ff7cd8b",
   "metadata": {},
   "source": [
    "# Utilities"
   ]
  },
  {
   "cell_type": "code",
   "execution_count": 33,
   "id": "e9738300",
   "metadata": {},
   "outputs": [],
   "source": [
    "def assert_bf4_tag(element):\n",
    "    assert isinstance(element, bs4.element.Tag), \\\n",
    "    f\"Expected BS4 tag but {element} of type {type(element)}\""
   ]
  },
  {
   "cell_type": "code",
   "execution_count": 34,
   "id": "ce1dd4d6",
   "metadata": {},
   "outputs": [],
   "source": [
    "def display_elements(elements):\n",
    "    assert isinstance(elements, bs4.element.ResultSet) or isinstance(elements[0], bs4.element.Tag)\n",
    "    for element in elements: # decimals=\"-3\" means the displayed value is divied by 1000.\n",
    "        print(f\"{element.name:80} {element['unitref']:5} {element['decimals']:5} {element.text:15}\")"
   ]
  },
  {
   "cell_type": "code",
   "execution_count": 35,
   "id": "c5b3f246",
   "metadata": {},
   "outputs": [],
   "source": [
    "def get_element_hash(element):\n",
    "    \"\"\"Generate the financial element hash key to uniquely identify an financial element record\n",
    "    In a F/S, the same element, e.g. gaap:CashAndCashEquivalentsAtCarryingValue can be used at\n",
    "    multiple places, one in B/S and one in P/L.\n",
    "    \n",
    "    To be able to identify if two elements are the same, provides a way to be able to compare\n",
    "    two elements by generating a hash key from the attributes of an element.\n",
    "    \n",
    "    Args:\n",
    "        element: bs4.element.Tag for an financial element\n",
    "    Returns: hash key\n",
    "    \"\"\"\n",
    "    assert isinstance(element, bs4.element.Tag)\n",
    "    # key = f\"{element.name}{element['unitref']}{element['contextref']}{element.text}\"\n",
    "    # key = f\"{element.name}{element['unitref']}{element.text}\"\n",
    "    key = f\"{element.name}{element['unitref']}\"\n",
    "    return hash(key)"
   ]
  },
  {
   "cell_type": "code",
   "execution_count": 36,
   "id": "d4640ab6",
   "metadata": {},
   "outputs": [],
   "source": [
    "# XBRL attribute conditions to match when extracting FS elements\n",
    "ATTRIBUTES = {\n",
    "    \"contextref\": CONTEXT_REGEXP,\n",
    "    \"decimals\": True, \n",
    "    \"unitref\": True\n",
    "}\n",
    "\n",
    "\n",
    "def find_financial_elements(soup, element_names, attributes=ATTRIBUTES):\n",
    "    \"\"\"Find the financial statement elements from the XML/HTML source.\n",
    "    Args:\n",
    "        soup: BS4 source\n",
    "        element_names: String or regexp instance to select the financial elements.\n",
    "        attribute: tag attributes to select the financial elements\n",
    "    Returns:\n",
    "        List of BS4 tag objects that matched the element_names and attributes.\n",
    "    \"\"\"\n",
    "    assert isinstance(soup, BeautifulSoup)\n",
    "    assert isinstance(element_names, re.Pattern) or isinstance(element_names, str)\n",
    "\n",
    "    \n",
    "    names = element_names.lower() if isinstance(element_names, str) else element_names\n",
    "\n",
    "    elements = soup.find_all(\n",
    "        name=names,\n",
    "        string=REGEXP_NUMERIC,\n",
    "        attrs=attributes\n",
    "    )\n",
    "    \n",
    "    # Select unique elements\n",
    "    hashes = set([]) \n",
    "    results = []\n",
    "    if elements is not None and len(elements) > 0:\n",
    "        for element in elements:\n",
    "            hash_value = get_element_hash(element)\n",
    "            if hash_value not in hashes:\n",
    "                results.append(element) \n",
    "                hashes.add(hash_value)\n",
    "    return results"
   ]
  },
  {
   "cell_type": "code",
   "execution_count": 37,
   "id": "98361b59",
   "metadata": {},
   "outputs": [
    {
     "name": "stdout",
     "output_type": "stream",
     "text": [
      "us-gaap:amortizationofintangibleassets                                                              :25467000\n",
      "us-gaap:cashandcashequivalentsperiodincreasedecrease                                                :-87411000\n",
      "us-gaap:deferredincometaxexpensebenefit                                                             :36276000\n",
      "us-gaap:depreciation                                                                                :31805000\n",
      "us-gaap:effectofexchangerateoncashandcashequivalents                                                :3634000\n",
      "us-gaap:excesstaxbenefitfromsharebasedcompensationfinancingactivities                               :5083000\n",
      "us-gaap:incometaxespaid                                                                             :23818000\n",
      "us-gaap:increasedecreaseinaccountspayableandaccruedliabilities                                      :-10830000\n",
      "us-gaap:increasedecreaseinaccountsreceivable                                                        :-16905000\n",
      "us-gaap:increasedecreaseininventories                                                               :-6823000\n",
      "us-gaap:increasedecreaseinotheroperatingassets                                                      :-689000\n",
      "us-gaap:increasedecreaseinotheroperatingliabilities                                                 :-13220000\n",
      "us-gaap:increasedecreaseinprepaiddeferredexpenseandotherassets                                      :5925000\n",
      "us-gaap:interestpaid                                                                                :13020000\n",
      "us-gaap:inventorywritedown                                                                          :9952000\n",
      "us-gaap:netcashprovidedbyusedinfinancingactivities                                                  :-90280000\n",
      "us-gaap:netcashprovidedbyusedininvestingactivities                                                  :-419028000\n",
      "us-gaap:netcashprovidedbyusedinoperatingactivities                                                  :418263000\n",
      "us-gaap:paymentsforproceedsfrompreviousacquisition                                                  :0\n",
      "us-gaap:paymentsforrepurchaseofcommonstock                                                          :-211377000\n",
      "us-gaap:paymentsofdebtissuancecosts                                                                 :0\n",
      "us-gaap:paymentstoacquirebusinessesnetofcashacquired                                                :-36086000\n",
      "us-gaap:paymentstoacquireotherinvestments                                                           :0\n",
      "us-gaap:paymentstoacquireshortterminvestments                                                       :-518390000\n",
      "us-gaap:proceedsfromissuanceoflongtermdebt                                                          :184309000\n",
      "us-gaap:proceedsfromissuanceofsharesunderincentiveandsharebasedcompensationplansincludingstockoptions:19099000\n",
      "us-gaap:proceedsfromsaleofshortterminvestments                                                      :229244000\n",
      "us-gaap:provisionfordoubtfulaccounts                                                                :3124000\n",
      "us-gaap:repaymentsoflongtermdebt                                                                    :-92556000\n",
      "us-gaap:sharebasedcompensation                                                                      :28255000\n",
      "us-gaap:accountspayablecurrent                                                                      :49573000\n",
      "us-gaap:accountsreceivablenetcurrent                                                                :314247000\n",
      "us-gaap:accruedincometaxescurrent                                                                   :13267000\n",
      "us-gaap:accruedincometaxesnoncurrent                                                                :72604000\n",
      "us-gaap:accumulatedothercomprehensiveincomelossnetoftax                                             :15574000\n",
      "us-gaap:additionalpaidincapital                                                                     :808345000\n",
      "us-gaap:assets                                                                                      :1907931000\n",
      "us-gaap:assetscurrent                                                                               :1172376000\n",
      "us-gaap:cashandcashequivalentsatcarryingvalue                                                       :341111000\n",
      "us-gaap:commonstockparorstatedvaluepershare                                                         :0.01\n",
      "us-gaap:commonstocksharesauthorized                                                                 :400000000\n",
      "us-gaap:commonstocksharesissued                                                                     :148831000\n",
      "us-gaap:commonstocksharesoutstanding                                                                :94118000\n",
      "us-gaap:commonstockvalue                                                                            :1488000\n",
      "us-gaap:debtcurrent                                                                                 :131772000\n",
      "us-gaap:employeerelatedliabilitiescurrent                                                           :37050000\n",
      "us-gaap:goodwill                                                                                    :293077000\n",
      "us-gaap:intangibleassetsnetexcludinggoodwill                                                        :182165000\n",
      "us-gaap:inventorynet                                                                                :178666000\n",
      "us-gaap:liabilities                                                                                 :1058982000\n",
      "us-gaap:liabilitiesandstockholdersequity                                                            :1907931000\n",
      "us-gaap:liabilitiescurrent                                                                          :394568000\n",
      "us-gaap:liabilitiesnoncurrent                                                                       :664414000\n",
      "us-gaap:longtermdebtnoncurrent                                                                      :500000000\n",
      "us-gaap:otherassetscurrent                                                                          :49206000\n",
      "us-gaap:otherassetsnoncurrent                                                                       :49387000\n",
      "us-gaap:otherliabilitiescurrent                                                                     :58117000\n",
      "us-gaap:otherliabilitiesnoncurrent                                                                  :22766000\n",
      "us-gaap:pensionandotherpostretirementdefinedbenefitplansliabilitiesnoncurrent                       :69044000\n",
      "us-gaap:preferredstockparorstatedvaluepershare                                                      :0.01\n",
      "us-gaap:preferredstocksharesauthorized                                                              :5000000\n",
      "us-gaap:preferredstocksharesissued                                                                  :0\n",
      "us-gaap:preferredstockvalue                                                                         :0\n",
      "us-gaap:propertyplantandequipmentnet                                                                :210926000\n",
      "us-gaap:retainedearningsaccumulateddeficit                                                          :2236716000\n",
      "us-gaap:shortterminvestments                                                                        :289146000\n",
      "us-gaap:treasurystockshares                                                                         :54713000\n",
      "us-gaap:treasurystockvalue                                                                          :-2213174000\n",
      "us-gaap:costofgoodsandservicessold                                                                  :594882000\n",
      "us-gaap:costofgoodssold                                                                             :406681000\n",
      "us-gaap:costofservices                                                                              :188201000\n",
      "us-gaap:earningspersharebasic                                                                       :3.37\n",
      "us-gaap:earningspersharediluted                                                                     :3.34\n",
      "us-gaap:grossprofit                                                                                 :903818000\n",
      "us-gaap:incomelossfromcontinuingoperationsbeforeincometaxesminorityinterestandincomelossfromequitymethodinvestments:386652000\n",
      "us-gaap:incometaxexpensebenefit                                                                     :63339000\n",
      "us-gaap:interestexpense                                                                             :-10986000\n",
      "us-gaap:investmentincomeinterest                                                                    :3036000\n",
      "us-gaap:operatingincomeloss                                                                         :394602000\n",
      "us-gaap:researchanddevelopmentexpense                                                               :77154000\n",
      "us-gaap:salesrevenuegoodsnet                                                                        :1051978000\n",
      "us-gaap:salesrevenuenet                                                                             :1498700000\n",
      "us-gaap:salesrevenueservicesnet                                                                     :446722000\n",
      "us-gaap:sellinggeneralandadministrativeexpense                                                      :421403000\n",
      "us-gaap:weightedaveragenumberofdilutedsharesoutstanding                                             :96862000\n",
      "us-gaap:weightedaveragenumberofsharesoutstandingbasic                                               :95797000\n",
      "us-gaap:adjustmentstoadditionalpaidincapitaltaxeffectfromsharebasedcompensation                     :5083000\n",
      "us-gaap:comprehensiveincomenetoftaxincludingportionattributabletononcontrollinginterest             :347468000\n",
      "us-gaap:othercomprehensiveincomedefinedbenefitplansadjustmentnetoftaxperiodincreasedecrease         :2977000\n",
      "us-gaap:othercomprehensiveincomederivativesqualifyingashedgesnetoftaxperiodincreasedecrease         :1798000\n",
      "us-gaap:othercomprehensiveincomeforeigncurrencytransactionandtranslationadjustmentnetoftaxperiodincreasedecrease:19405000\n",
      "us-gaap:othercomprehensiveincomelossnetoftaxperiodincreasedecrease                                  :24155000\n",
      "us-gaap:othercomprehensiveincomeunrealizedholdinggainlossonsecuritiesarisingduringperiodnetoftax    :-25000\n",
      "us-gaap:profitloss                                                                                  :323313000\n",
      "us-gaap:sharesissued                                                                                :148831000\n",
      "us-gaap:stockholdersequityincludingportionattributabletononcontrollinginterest                      :848949000\n",
      "us-gaap:stockissuedduringperiodsharesemployeestockpurchaseplans                                     :88\n",
      "us-gaap:stockissuedduringperiodsharessharebasedcompensation                                         :160000\n",
      "us-gaap:stockissuedduringperiodsharesstockoptionsexercised                                          :514000\n",
      "us-gaap:stockissuedduringperiodvalueemployeestockpurchaseplan                                       :3244000\n",
      "us-gaap:stockissuedduringperiodvaluesharebasedcompensation                                          :28376000\n",
      "us-gaap:stockissuedduringperiodvaluestockoptionsexercised                                           :15855000\n",
      "us-gaap:treasurystockvalueacquiredcostmethod                                                        :-211377000\n"
     ]
    }
   ],
   "source": [
    "for element in find_financial_elements(soup, re.compile(f\"^{NAMESPACE_GAAP}:.*\"), attributes=ATTRIBUTES):\n",
    "    print(f\"{element.name:100}:{element.text}\")"
   ]
  },
  {
   "cell_type": "code",
   "execution_count": 38,
   "id": "38838bae",
   "metadata": {},
   "outputs": [],
   "source": [
    "def get_financial_element_numeric_values(elements):\n",
    "    # assert isinstance(elements, bs4.element.ResultSet) or isinstance(elements[0], bs4.element.Tag)\n",
    "    assert_bf4_tag(elements[0])\n",
    "    \n",
    "    values = []\n",
    "    for element in elements:\n",
    "        assert re.match(REGEXP_NUMERIC, element.text.strip()), f\"Element must be numeric but {element.text}\"\n",
    "        values.append(float(element.text))\n",
    "        \n",
    "    return values"
   ]
  },
  {
   "cell_type": "code",
   "execution_count": 39,
   "id": "bd39bd7a",
   "metadata": {},
   "outputs": [],
   "source": [
    "def get_financial_element_columns():\n",
    "    \"\"\"Financial record columns\"\"\"\n",
    "    return [\n",
    "        \"fs\",           # Which financial statement e.g. bs for Balance Sheet\n",
    "        \"rep\",          # Representative marker e.g. \"income\" or \"cogs\" (cost of goods sold)\n",
    "        \"type\",         # \"debit\" or \"credit\"\n",
    "        \"name\",         # F/S item name, e.g. us-gaap:revenues\n",
    "        \"value\", \n",
    "        \"unit\",         # e.g. USD\n",
    "        \"decimals\",     # Scale\n",
    "        \"context\"       # XBRL context ID\n",
    "    ]\n",
    "\n",
    "def get_record_for_nil_elements(elements):\n",
    "    return []\n",
    "\n",
    "def get_records_for_financial_elements(elements):\n",
    "    \"\"\"Financial record having the columns of get_financial_element_columns\"\"\"\n",
    "    # assert isinstance(elements, bs4.element.ResultSet) or isinstance(elements[0], bs4.element.Tag)\n",
    "    assert_bf4_tag(elements[0])\n",
    "    \n",
    "    results = []\n",
    "    for element in elements:\n",
    "        # F/S\n",
    "        element_fs = \"\"\n",
    "        \n",
    "        # Rep\n",
    "        element_rep = \"\"\n",
    "        \n",
    "        # Type of the element\n",
    "        element_type = None\n",
    "        if element.name in GAAP_DEBIT_ITEMS: element_type = FS_ELEMENT_TYPE_DEBIT\n",
    "        if element.name in GAAP_CREDIT_ITEMS: element_type = FS_ELEMENT_TYPE_CREDIT\n",
    "        if element.name in GAAP_CALC_ITEMS: element_type = FS_ELEMENT_TYPE_CALC\n",
    "        if element.name in GAAP_METRIC_ITEMS: element_type = FS_ELEMENT_TYPE_METRIC\n",
    "        if element.name in GAAP_FACT_ITEMS: element_type = FS_ELEMENT_TYPE_FACT\n",
    "            \n",
    "        \n",
    "        # Name of the financial element\n",
    "        element_name = element.name\n",
    "        \n",
    "        # Unit of the financial element\n",
    "        element_unit = element['unitref']\n",
    "        \n",
    "        # Scale of the element\n",
    "        element_scale = int(element['decimals']) if element['decimals'].lower() != 'inf' else np.inf\n",
    "            \n",
    "        # Value of the element\n",
    "        element_value = float(element.text)\n",
    "\n",
    "        # Context ID of the element\n",
    "        element_context = element['contextref']\n",
    "\n",
    "        record = [\n",
    "            element_fs,\n",
    "            element_rep,\n",
    "            element_type,\n",
    "            element_name,\n",
    "            element_value, \n",
    "            element_unit, \n",
    "            element_scale, \n",
    "            element_context\n",
    "        ]\n",
    "        assert len(record) == len(get_financial_element_columns())\n",
    "        results.append(record)\n",
    "        \n",
    "    return results\n",
    "\n",
    "\n",
    "def represents(records: list, fs: str, rep: str):\n",
    "    assert isinstance(records, list) and len(fs) > 0 and len(rep) > 0\n",
    "    if len(records) > 0:\n",
    "        row = records[0]\n",
    "        row[0] = fs\n",
    "        row[1] = rep\n",
    "    \n",
    "    return records"
   ]
  },
  {
   "cell_type": "code",
   "execution_count": 40,
   "id": "e6fabee2",
   "metadata": {},
   "outputs": [],
   "source": [
    "def get_records_for_financial_element_names(soup, names: List[str]):\n",
    "    \"\"\"Get finacial records that matches the financial element names\n",
    "    \"\"\"\n",
    "    elements = find_financial_elements(soup=soup, element_names=names)\n",
    "    if len(elements) > 0:\n",
    "        display_elements(elements)\n",
    "        return get_records_for_financial_elements(elements)\n",
    "    else:\n",
    "        return get_record_for_nil_elements(elements)"
   ]
  },
  {
   "cell_type": "code",
   "execution_count": 41,
   "id": "190f39c0",
   "metadata": {},
   "outputs": [],
   "source": [
    "def get_values_for_financial_element_names(soup, names: List[str]):\n",
    "    elements = find_financial_elements(soup=soup, element_names=names)\n",
    "    if len(elements) > 0:\n",
    "        display_elements(elements)\n",
    "        return get_financial_element_numeric_values(elements)\n",
    "    else:\n",
    "        return []"
   ]
  },
  {
   "cell_type": "markdown",
   "id": "5c0233d8",
   "metadata": {},
   "source": [
    "---\n",
    "# Shares Outstanding"
   ]
  },
  {
   "cell_type": "code",
   "execution_count": 42,
   "id": "cc657c72",
   "metadata": {},
   "outputs": [],
   "source": [
    "def get_shares_outstanding(soup):\n",
    "    names = re.compile(\"|\".join([\n",
    "        rf\"{NAMESPACE_GAAP}:SharesOutstanding\",\n",
    "        rf\"{NAMESPACE_GAAP}:CommonStockSharesOutstanding\",\n",
    "        rf\"{NAMESPACE_GAAP}:CommonStockOtherSharesOutstanding\",\n",
    "    ]).lower())\n",
    "\n",
    "    return get_records_for_financial_element_names(soup=soup, names=names)"
   ]
  },
  {
   "cell_type": "code",
   "execution_count": 43,
   "id": "37d26480",
   "metadata": {},
   "outputs": [
    {
     "name": "stdout",
     "output_type": "stream",
     "text": [
      "us-gaap:commonstocksharesoutstanding                                             Shares -3    94118000       \n"
     ]
    },
    {
     "data": {
      "text/plain": [
       "[['',\n",
       "  '',\n",
       "  'fact',\n",
       "  'us-gaap:commonstocksharesoutstanding',\n",
       "  94118000.0,\n",
       "  'Shares',\n",
       "  -3,\n",
       "  'TwelveMonthsEnded_31Dec20092']]"
      ]
     },
     "execution_count": 43,
     "metadata": {},
     "output_type": "execute_result"
    }
   ],
   "source": [
    "shares_outstandings = get_shares_outstanding(soup)\n",
    "shares_outstandings"
   ]
  },
  {
   "cell_type": "code",
   "execution_count": 44,
   "id": "caba0959",
   "metadata": {},
   "outputs": [
    {
     "data": {
      "text/html": [
       "<div>\n",
       "<style scoped>\n",
       "    .dataframe tbody tr th:only-of-type {\n",
       "        vertical-align: middle;\n",
       "    }\n",
       "\n",
       "    .dataframe tbody tr th {\n",
       "        vertical-align: top;\n",
       "    }\n",
       "\n",
       "    .dataframe thead th {\n",
       "        text-align: right;\n",
       "    }\n",
       "</style>\n",
       "<table border=\"1\" class=\"dataframe\">\n",
       "  <thead>\n",
       "    <tr style=\"text-align: center;\">\n",
       "      <th></th>\n",
       "      <th>0</th>\n",
       "      <th>1</th>\n",
       "      <th>2</th>\n",
       "      <th>3</th>\n",
       "      <th>4</th>\n",
       "      <th>5</th>\n",
       "      <th>6</th>\n",
       "      <th>7</th>\n",
       "    </tr>\n",
       "  </thead>\n",
       "  <tbody>\n",
       "    <tr>\n",
       "      <th>0</th>\n",
       "      <td></td>\n",
       "      <td></td>\n",
       "      <td>fact</td>\n",
       "      <td>us-gaap:commonstocksharesoutstanding</td>\n",
       "      <td>94118000</td>\n",
       "      <td>Shares</td>\n",
       "      <td>-3</td>\n",
       "      <td>TwelveMonthsEnded_31Dec20092</td>\n",
       "    </tr>\n",
       "  </tbody>\n",
       "</table>\n",
       "</div>"
      ],
      "text/plain": [
       "  0 1   2                     3                       4       5     6  \\\n",
       "0      fact  us-gaap:commonstocksharesoutstanding 94118000  Shares -3   \n",
       "\n",
       "                7                \n",
       "0  TwelveMonthsEnded_31Dec20092  "
      ]
     },
     "execution_count": 44,
     "metadata": {},
     "output_type": "execute_result"
    }
   ],
   "source": [
    "df_ShareOutstanding = pd.DataFrame(shares_outstandings)\n",
    "df_ShareOutstanding"
   ]
  },
  {
   "cell_type": "markdown",
   "id": "e26002ef",
   "metadata": {},
   "source": [
    "---\n",
    "# Statements of Income (P/L)"
   ]
  },
  {
   "cell_type": "code",
   "execution_count": 45,
   "id": "e8e1ddf9",
   "metadata": {},
   "outputs": [],
   "source": [
    "PL = []"
   ]
  },
  {
   "cell_type": "markdown",
   "id": "efc28ac0",
   "metadata": {},
   "source": [
    "## Revenues"
   ]
  },
  {
   "cell_type": "code",
   "execution_count": 46,
   "id": "8b3536ab",
   "metadata": {},
   "outputs": [],
   "source": [
    "PL += get_pl_revenues(soup, attributes=ATTRIBUTES)"
   ]
  },
  {
   "cell_type": "markdown",
   "id": "b0ab1b3c",
   "metadata": {},
   "source": [
    "## Cost of Revenues"
   ]
  },
  {
   "cell_type": "code",
   "execution_count": 47,
   "id": "4d976b40",
   "metadata": {},
   "outputs": [],
   "source": [
    "PL += get_pl_cost_of_revenues(soup, attributes=ATTRIBUTES)"
   ]
  },
  {
   "cell_type": "markdown",
   "id": "ce53e123",
   "metadata": {},
   "source": [
    "## ***___# Gross Profit___***"
   ]
  },
  {
   "cell_type": "code",
   "execution_count": 48,
   "id": "dd3629c0",
   "metadata": {},
   "outputs": [],
   "source": [
    "PL += get_pl_gross_profit(soup, attributes=ATTRIBUTES)"
   ]
  },
  {
   "cell_type": "markdown",
   "id": "b01793a9",
   "metadata": {},
   "source": [
    "## Operating Expenses"
   ]
  },
  {
   "cell_type": "markdown",
   "id": "c53bcb56",
   "metadata": {},
   "source": [
    "### Research and Development"
   ]
  },
  {
   "cell_type": "code",
   "execution_count": 49,
   "id": "c6f743ca",
   "metadata": {},
   "outputs": [],
   "source": [
    "PL += get_pl_operating_expense_r_and_d(soup, attributes=ATTRIBUTES)"
   ]
  },
  {
   "cell_type": "markdown",
   "id": "1eecae84",
   "metadata": {},
   "source": [
    "### Administrative Expense"
   ]
  },
  {
   "cell_type": "code",
   "execution_count": 50,
   "id": "1c946365",
   "metadata": {},
   "outputs": [],
   "source": [
    "PL += get_pl_operating_expense_selling_administrative(soup, attributes=ATTRIBUTES)"
   ]
  },
  {
   "cell_type": "markdown",
   "id": "8b6ebc6f",
   "metadata": {},
   "source": [
    "### Other operating expenses\n",
    "\n",
    "The total amount of other operating cost and expense items that are associated with the entity's normal revenue producing operation"
   ]
  },
  {
   "cell_type": "code",
   "execution_count": 51,
   "id": "efe30709",
   "metadata": {},
   "outputs": [],
   "source": [
    "PL += get_pl_operating_expense_other(soup, attributes=ATTRIBUTES)"
   ]
  },
  {
   "cell_type": "markdown",
   "id": "129ce993",
   "metadata": {},
   "source": [
    "## ***___# Total Operating Expenses___***"
   ]
  },
  {
   "cell_type": "code",
   "execution_count": 52,
   "id": "c8a6e74b",
   "metadata": {},
   "outputs": [],
   "source": [
    "PL += get_pl_operating_expense_total(soup, attributes=ATTRIBUTES)"
   ]
  },
  {
   "cell_type": "markdown",
   "id": "2592f2bf",
   "metadata": {},
   "source": [
    "## ***___# Operating Income___***\n",
    "\n",
    "```Operating Income = GrossProfit - Total Operating Expenses```"
   ]
  },
  {
   "cell_type": "code",
   "execution_count": 53,
   "id": "9a1b2d5e",
   "metadata": {},
   "outputs": [],
   "source": [
    "PL += get_pl_operating_income(soup, attributes=ATTRIBUTES)"
   ]
  },
  {
   "cell_type": "markdown",
   "id": "3d5374f9",
   "metadata": {},
   "source": [
    "## Non Operating Expenses"
   ]
  },
  {
   "cell_type": "markdown",
   "id": "f05a3d4c",
   "metadata": {},
   "source": [
    "### Interest Expense\n",
    "\n",
    "* [Investopedia - What Is an Interest Expense?](https://www.investopedia.com/terms/i/interestexpense.asp)\n",
    "\n",
    "> An interest expense is the cost incurred by an entity for borrowed funds. Interest expense is a non-operating expense shown on the income statement. It represents interest payable on any borrowings – bonds, loans, convertible debt or lines of credit. It is essentially calculated as the interest rate times the outstanding principal amount of the debt. Interest expense on the income statement represents ***interest accrued during the period*** covered by the financial statements, and **NOT the amount of interest paid over that period**. While interest expense is tax-deductible for companies, in an individual's case, it depends on his or her jurisdiction and also on the loan's purpose.  \n",
    ">\n",
    "> For most people, mortgage interest is the single-biggest category of interest expense over their lifetimes as interest can total tens of thousands of dollars over the life of a mortgage as illustrated by online calculators."
   ]
  },
  {
   "cell_type": "code",
   "execution_count": 54,
   "id": "1198f1d7",
   "metadata": {},
   "outputs": [],
   "source": [
    "PL += get_pl_non_operating_expense_interest(soup, attributes=ATTRIBUTES)"
   ]
  },
  {
   "cell_type": "markdown",
   "id": "eec656b1",
   "metadata": {},
   "source": [
    "### Non-operating Expenses"
   ]
  },
  {
   "cell_type": "code",
   "execution_count": 55,
   "id": "0142cfbd",
   "metadata": {},
   "outputs": [],
   "source": [
    "PL += get_pl_non_operating_expense_other(soup, attributes=ATTRIBUTES)"
   ]
  },
  {
   "cell_type": "markdown",
   "id": "ba7e6c8b",
   "metadata": {},
   "source": [
    "## Income Tax"
   ]
  },
  {
   "cell_type": "code",
   "execution_count": 56,
   "id": "7711f66c",
   "metadata": {},
   "outputs": [],
   "source": [
    "PL += get_pl_income_tax(soup, attributes=ATTRIBUTES)"
   ]
  },
  {
   "cell_type": "markdown",
   "id": "6c85dd7a",
   "metadata": {},
   "source": [
    "## ***___# Net Income___***\n",
    "\n",
    "$GrossProfit - (Operating Expenses + NonOperating Expense) - Tax$"
   ]
  },
  {
   "cell_type": "code",
   "execution_count": 57,
   "id": "42d2ba67",
   "metadata": {},
   "outputs": [],
   "source": [
    "PL += get_pl_net_income(soup, attributes=ATTRIBUTES)"
   ]
  },
  {
   "cell_type": "markdown",
   "id": "81ca2fc8",
   "metadata": {},
   "source": [
    "## ***___# Shares Outstandings___***"
   ]
  },
  {
   "cell_type": "code",
   "execution_count": 58,
   "id": "653941e5",
   "metadata": {},
   "outputs": [],
   "source": [
    "PL += get_pl_shares_outstanding(soup, attributes=ATTRIBUTES)"
   ]
  },
  {
   "cell_type": "markdown",
   "id": "19769059",
   "metadata": {},
   "source": [
    "## ***___# Net Income Per Share___***\n",
    "\n",
    "* [US GAAP - Is Net Income Per Share the same with EPS?](https://money.stackexchange.com/questions/148015/us-gaap-is-net-income-per-share-the-same-with-eps)"
   ]
  },
  {
   "cell_type": "code",
   "execution_count": 59,
   "id": "8682c53a",
   "metadata": {},
   "outputs": [],
   "source": [
    "def get_pl_eps(soup):\n",
    "    return get_records_for_financial_element_names(\n",
    "        soup=soup, names=f\"{NAMESPACE_GAAP}:EarningsPerShareBasic\".lower()\n",
    "    ) + \\\n",
    "    get_records_for_financial_element_names(\n",
    "        soup=soup, names=f\"{NAMESPACE_GAAP}:EarningsPerShareBasicAndDiluted\".lower()\n",
    "    )"
   ]
  },
  {
   "cell_type": "code",
   "execution_count": 60,
   "id": "244f2951",
   "metadata": {},
   "outputs": [
    {
     "name": "stdout",
     "output_type": "stream",
     "text": [
      "us-gaap:earningspersharebasic                                                    USDEPS 2     3.37           \n"
     ]
    }
   ],
   "source": [
    "PL += represents(get_pl_eps(soup), fs=FS_PL, rep=FS_ELEMENT_REP_EPS)"
   ]
  },
  {
   "cell_type": "markdown",
   "id": "2127021b",
   "metadata": {},
   "source": [
    "## Display P/L\n",
    "\n",
    "Is ```us-gaap:othernonoperatingincomeexpense``` credit or debit? As the value is **negative** and so is in the Income Statement, is shoudl be credit -> To be confirmed. "
   ]
  },
  {
   "cell_type": "code",
   "execution_count": 61,
   "id": "f50ffa38",
   "metadata": {},
   "outputs": [
    {
     "data": {
      "text/html": [
       "<div>\n",
       "<style scoped>\n",
       "    .dataframe tbody tr th:only-of-type {\n",
       "        vertical-align: middle;\n",
       "    }\n",
       "\n",
       "    .dataframe tbody tr th {\n",
       "        vertical-align: top;\n",
       "    }\n",
       "\n",
       "    .dataframe thead th {\n",
       "        text-align: right;\n",
       "    }\n",
       "</style>\n",
       "<table border=\"1\" class=\"dataframe\">\n",
       "  <thead>\n",
       "    <tr style=\"text-align: center;\">\n",
       "      <th></th>\n",
       "      <th>fs</th>\n",
       "      <th>rep</th>\n",
       "      <th>type</th>\n",
       "      <th>name</th>\n",
       "      <th>value</th>\n",
       "      <th>unit</th>\n",
       "      <th>decimals</th>\n",
       "      <th>context</th>\n",
       "    </tr>\n",
       "  </thead>\n",
       "  <tbody>\n",
       "    <tr>\n",
       "      <th>0</th>\n",
       "      <td>pl</td>\n",
       "      <td>revenue</td>\n",
       "      <td>credit</td>\n",
       "      <td>us-gaap:investmentincomeinterest</td>\n",
       "      <td>3036000</td>\n",
       "      <td>USD</td>\n",
       "      <td>-3</td>\n",
       "      <td>TwelveMonthsEnded_31Dec2009</td>\n",
       "    </tr>\n",
       "    <tr>\n",
       "      <th>1</th>\n",
       "      <td></td>\n",
       "      <td></td>\n",
       "      <td>credit</td>\n",
       "      <td>us-gaap:salesrevenuegoodsnet</td>\n",
       "      <td>1051978000</td>\n",
       "      <td>USD</td>\n",
       "      <td>-3</td>\n",
       "      <td>TwelveMonthsEnded_31Dec2009</td>\n",
       "    </tr>\n",
       "    <tr>\n",
       "      <th>2</th>\n",
       "      <td></td>\n",
       "      <td></td>\n",
       "      <td>credit</td>\n",
       "      <td>us-gaap:salesrevenuenet</td>\n",
       "      <td>1498700000</td>\n",
       "      <td>USD</td>\n",
       "      <td>-3</td>\n",
       "      <td>TwelveMonthsEnded_31Dec2009</td>\n",
       "    </tr>\n",
       "    <tr>\n",
       "      <th>3</th>\n",
       "      <td></td>\n",
       "      <td></td>\n",
       "      <td>credit</td>\n",
       "      <td>us-gaap:salesrevenueservicesnet</td>\n",
       "      <td>446722000</td>\n",
       "      <td>USD</td>\n",
       "      <td>-3</td>\n",
       "      <td>TwelveMonthsEnded_31Dec2009</td>\n",
       "    </tr>\n",
       "    <tr>\n",
       "      <th>4</th>\n",
       "      <td>pl</td>\n",
       "      <td>operating_cost</td>\n",
       "      <td>debit</td>\n",
       "      <td>us-gaap:costofgoodsandservicessold</td>\n",
       "      <td>594882000</td>\n",
       "      <td>USD</td>\n",
       "      <td>-3</td>\n",
       "      <td>TwelveMonthsEnded_31Dec2009</td>\n",
       "    </tr>\n",
       "    <tr>\n",
       "      <th>5</th>\n",
       "      <td>pl</td>\n",
       "      <td>gross_profit</td>\n",
       "      <td>calc</td>\n",
       "      <td>us-gaap:grossprofit</td>\n",
       "      <td>903818000</td>\n",
       "      <td>USD</td>\n",
       "      <td>-3</td>\n",
       "      <td>TwelveMonthsEnded_31Dec2009</td>\n",
       "    </tr>\n",
       "    <tr>\n",
       "      <th>6</th>\n",
       "      <td>pl</td>\n",
       "      <td>operating_expense_rd</td>\n",
       "      <td>debit</td>\n",
       "      <td>us-gaap:researchanddevelopmentexpense</td>\n",
       "      <td>77154000</td>\n",
       "      <td>USD</td>\n",
       "      <td>-3</td>\n",
       "      <td>TwelveMonthsEnded_31Dec2009</td>\n",
       "    </tr>\n",
       "    <tr>\n",
       "      <th>7</th>\n",
       "      <td>pl</td>\n",
       "      <td>operating_expense_sga</td>\n",
       "      <td>debit</td>\n",
       "      <td>us-gaap:sellinggeneralandadministrativeexpense</td>\n",
       "      <td>421403000</td>\n",
       "      <td>USD</td>\n",
       "      <td>-3</td>\n",
       "      <td>TwelveMonthsEnded_31Dec2009</td>\n",
       "    </tr>\n",
       "    <tr>\n",
       "      <th>8</th>\n",
       "      <td>pl</td>\n",
       "      <td>operating_income</td>\n",
       "      <td>calc</td>\n",
       "      <td>us-gaap:operatingincomeloss</td>\n",
       "      <td>394602000</td>\n",
       "      <td>USD</td>\n",
       "      <td>-3</td>\n",
       "      <td>TwelveMonthsEnded_31Dec2009</td>\n",
       "    </tr>\n",
       "    <tr>\n",
       "      <th>9</th>\n",
       "      <td></td>\n",
       "      <td></td>\n",
       "      <td>debit</td>\n",
       "      <td>us-gaap:interestexpense</td>\n",
       "      <td>-10986000</td>\n",
       "      <td>USD</td>\n",
       "      <td>-3</td>\n",
       "      <td>TwelveMonthsEnded_31Dec2009</td>\n",
       "    </tr>\n",
       "    <tr>\n",
       "      <th>10</th>\n",
       "      <td></td>\n",
       "      <td></td>\n",
       "      <td>debit</td>\n",
       "      <td>us-gaap:incometaxexpensebenefit</td>\n",
       "      <td>63339000</td>\n",
       "      <td>USD</td>\n",
       "      <td>-3</td>\n",
       "      <td>TwelveMonthsEnded_31Dec2009</td>\n",
       "    </tr>\n",
       "    <tr>\n",
       "      <th>11</th>\n",
       "      <td>pl</td>\n",
       "      <td>net_income</td>\n",
       "      <td>calc</td>\n",
       "      <td>us-gaap:profitloss</td>\n",
       "      <td>323313000</td>\n",
       "      <td>USD</td>\n",
       "      <td>-3</td>\n",
       "      <td>TwelveMonthsEnded_31Dec2009</td>\n",
       "    </tr>\n",
       "    <tr>\n",
       "      <th>12</th>\n",
       "      <td>pl</td>\n",
       "      <td>shares_outstanding</td>\n",
       "      <td>fact</td>\n",
       "      <td>us-gaap:commonstocksharesoutstanding</td>\n",
       "      <td>94118000</td>\n",
       "      <td>Shares</td>\n",
       "      <td>-3</td>\n",
       "      <td>TwelveMonthsEnded_31Dec20092</td>\n",
       "    </tr>\n",
       "    <tr>\n",
       "      <th>13</th>\n",
       "      <td>pl</td>\n",
       "      <td>eps</td>\n",
       "      <td>metric</td>\n",
       "      <td>us-gaap:earningspersharebasic</td>\n",
       "      <td>3.37</td>\n",
       "      <td>USDEPS</td>\n",
       "      <td>2</td>\n",
       "      <td>TwelveMonthsEnded_31Dec2009</td>\n",
       "    </tr>\n",
       "  </tbody>\n",
       "</table>\n",
       "</div>"
      ],
      "text/plain": [
       "    fs          rep             type   \\\n",
       "0   pl                revenue  credit   \n",
       "1                              credit   \n",
       "2                              credit   \n",
       "3                              credit   \n",
       "4   pl         operating_cost   debit   \n",
       "5   pl           gross_profit    calc   \n",
       "6   pl   operating_expense_rd   debit   \n",
       "7   pl  operating_expense_sga   debit   \n",
       "8   pl       operating_income    calc   \n",
       "9                               debit   \n",
       "10                              debit   \n",
       "11  pl             net_income    calc   \n",
       "12  pl     shares_outstanding    fact   \n",
       "13  pl                    eps  metric   \n",
       "\n",
       "                         name                         value     unit   \\\n",
       "0                 us-gaap:investmentincomeinterest    3036000     USD   \n",
       "1                     us-gaap:salesrevenuegoodsnet 1051978000     USD   \n",
       "2                          us-gaap:salesrevenuenet 1498700000     USD   \n",
       "3                  us-gaap:salesrevenueservicesnet  446722000     USD   \n",
       "4               us-gaap:costofgoodsandservicessold  594882000     USD   \n",
       "5                              us-gaap:grossprofit  903818000     USD   \n",
       "6            us-gaap:researchanddevelopmentexpense   77154000     USD   \n",
       "7   us-gaap:sellinggeneralandadministrativeexpense  421403000     USD   \n",
       "8                      us-gaap:operatingincomeloss  394602000     USD   \n",
       "9                          us-gaap:interestexpense  -10986000     USD   \n",
       "10                 us-gaap:incometaxexpensebenefit   63339000     USD   \n",
       "11                              us-gaap:profitloss  323313000     USD   \n",
       "12            us-gaap:commonstocksharesoutstanding   94118000  Shares   \n",
       "13                   us-gaap:earningspersharebasic       3.37  USDEPS   \n",
       "\n",
       "    decimals            context             \n",
       "0      -3      TwelveMonthsEnded_31Dec2009  \n",
       "1      -3      TwelveMonthsEnded_31Dec2009  \n",
       "2      -3      TwelveMonthsEnded_31Dec2009  \n",
       "3      -3      TwelveMonthsEnded_31Dec2009  \n",
       "4      -3      TwelveMonthsEnded_31Dec2009  \n",
       "5      -3      TwelveMonthsEnded_31Dec2009  \n",
       "6      -3      TwelveMonthsEnded_31Dec2009  \n",
       "7      -3      TwelveMonthsEnded_31Dec2009  \n",
       "8      -3      TwelveMonthsEnded_31Dec2009  \n",
       "9      -3      TwelveMonthsEnded_31Dec2009  \n",
       "10     -3      TwelveMonthsEnded_31Dec2009  \n",
       "11     -3      TwelveMonthsEnded_31Dec2009  \n",
       "12     -3     TwelveMonthsEnded_31Dec20092  \n",
       "13      2      TwelveMonthsEnded_31Dec2009  "
      ]
     },
     "execution_count": 61,
     "metadata": {},
     "output_type": "execute_result"
    }
   ],
   "source": [
    "df_PL = pd.DataFrame(PL, columns=get_financial_element_columns())\n",
    "df_PL"
   ]
  },
  {
   "cell_type": "code",
   "execution_count": 62,
   "id": "186efae1",
   "metadata": {},
   "outputs": [
    {
     "data": {
      "text/plain": [
       "3000436000.0"
      ]
     },
     "execution_count": 62,
     "metadata": {},
     "output_type": "execute_result"
    }
   ],
   "source": [
    "credits = df_PL[df_PL['type'] == 'credit']['value'].sum()\n",
    "credits"
   ]
  },
  {
   "cell_type": "code",
   "execution_count": 63,
   "id": "ef85388d",
   "metadata": {},
   "outputs": [
    {
     "data": {
      "text/plain": [
       "1145792000.0"
      ]
     },
     "execution_count": 63,
     "metadata": {},
     "output_type": "execute_result"
    }
   ],
   "source": [
    "debits = df_PL[df_PL['type'] == 'debit']['value'].sum()\n",
    "debits"
   ]
  },
  {
   "cell_type": "code",
   "execution_count": 64,
   "id": "011c5966",
   "metadata": {},
   "outputs": [
    {
     "data": {
      "text/plain": [
       "1854644000.0"
      ]
     },
     "execution_count": 64,
     "metadata": {},
     "output_type": "execute_result"
    }
   ],
   "source": [
    "credits - debits  # Equal to the Net Income"
   ]
  },
  {
   "cell_type": "markdown",
   "id": "21557bda",
   "metadata": {},
   "source": [
    "### EPS"
   ]
  },
  {
   "cell_type": "code",
   "execution_count": 65,
   "id": "2bce7feb",
   "metadata": {},
   "outputs": [
    {
     "data": {
      "text/plain": [
       "94118000.0"
      ]
     },
     "execution_count": 65,
     "metadata": {},
     "output_type": "execute_result"
    }
   ],
   "source": [
    "shares = df_PL[df_PL['rep'] == FS_ELEMENT_REP_SHARES_OUTSTANDING]\n",
    "if len(shares) == 1:\n",
    "    num_shares = shares['value'].values.item()\n",
    "else:\n",
    "    assert False, f\"No Shares OutStanding row found {df_PL}\"\n",
    "\n",
    "num_shares"
   ]
  },
  {
   "cell_type": "code",
   "execution_count": 66,
   "id": "2dbd1dd7",
   "metadata": {},
   "outputs": [
    {
     "data": {
      "text/plain": [
       "323313000.0"
      ]
     },
     "execution_count": 66,
     "metadata": {},
     "output_type": "execute_result"
    }
   ],
   "source": [
    "shares = df_PL[df_PL['rep'] == FS_ELEMENT_REP_NET_INCOME]\n",
    "if len(shares) == 1:\n",
    "    net_income = shares['value'].item()\n",
    "else:\n",
    "    assert False, f\"No Net Income row found {df_PL}\"\n",
    "\n",
    "net_income"
   ]
  },
  {
   "cell_type": "code",
   "execution_count": 67,
   "id": "d840fb86",
   "metadata": {},
   "outputs": [
    {
     "name": "stdout",
     "output_type": "stream",
     "text": [
      "3.44\n"
     ]
    }
   ],
   "source": [
    "eps = net_income / num_shares\n",
    "scale = 2\n",
    "print(f\"{eps:.{scale}f}\")"
   ]
  },
  {
   "cell_type": "markdown",
   "id": "cda92206",
   "metadata": {},
   "source": [
    "---\n",
    "# Balance Sheet (B/S)"
   ]
  },
  {
   "cell_type": "code",
   "execution_count": 68,
   "id": "3ac1d0b8",
   "metadata": {},
   "outputs": [],
   "source": [
    "BS = []"
   ]
  },
  {
   "cell_type": "markdown",
   "id": "9fdf4d66",
   "metadata": {},
   "source": [
    "## Cash & Cash Equivalents\n",
    "\n",
    "Look for the cash and cash equivalents for the reporting perid in the Balance Sheet and Cash Flow statements of the  10-K."
   ]
  },
  {
   "cell_type": "code",
   "execution_count": 69,
   "id": "77b79406",
   "metadata": {},
   "outputs": [
    {
     "name": "stdout",
     "output_type": "stream",
     "text": [
      "us-gaap:cashandcashequivalentsatcarryingvalue                                    USD   -3    341111000      \n"
     ]
    }
   ],
   "source": [
    "def get_bs_current_asset_cash_and_equivalents(soup):\n",
    "    names = re.compile(\"|\".join([\n",
    "        rf\"^{NAMESPACE_GAAP}:CashAndCashEquivalentsAtCarryingValue$\",\n",
    "    ]).lower())\n",
    "    return represents(get_records_for_financial_element_names(soup=soup, names=names), fs=FS_BS, rep=FS_ELEMENT_REP_CASH)\n",
    "\n",
    "BS += get_bs_current_asset_cash_and_equivalents(soup)"
   ]
  },
  {
   "cell_type": "markdown",
   "id": "e28c80a7",
   "metadata": {},
   "source": [
    "## Restricted Cash"
   ]
  },
  {
   "cell_type": "code",
   "execution_count": 70,
   "id": "0033637f",
   "metadata": {},
   "outputs": [],
   "source": [
    "def get_bs_current_asset_restricted_cash_and_equivalents(soup):\n",
    "    names = re.compile(\"|\".join([\n",
    "        rf\"^{NAMESPACE_GAAP}:RestrictedCashEquivalentsCurrent$\",\n",
    "        rf\"^{NAMESPACE_GAAP}:RestrictedCashAndCashEquivalentsAtCarryingValue$\",\n",
    "    ]).lower())\n",
    "    return get_records_for_financial_element_names(soup=soup, names=names)\n",
    "\n",
    "BS += get_bs_current_asset_restricted_cash_and_equivalents(soup)"
   ]
  },
  {
   "cell_type": "markdown",
   "id": "768bf159",
   "metadata": {},
   "source": [
    "## Short Term Investments"
   ]
  },
  {
   "cell_type": "code",
   "execution_count": 71,
   "id": "cf3f9b93",
   "metadata": {},
   "outputs": [
    {
     "name": "stdout",
     "output_type": "stream",
     "text": [
      "us-gaap:shortterminvestments                                                     USD   -3    289146000      \n"
     ]
    }
   ],
   "source": [
    "def get_bs_current_asset_short_term_investments(soup):\n",
    "    names = re.compile(\"|\".join([\n",
    "        rf\"^{NAMESPACE_GAAP}:ShortTermInvestments$\",\n",
    "    ]).lower())\n",
    "    return get_records_for_financial_element_names(soup=soup, names=names)\n",
    "\n",
    "BS += get_bs_current_asset_short_term_investments(soup)"
   ]
  },
  {
   "cell_type": "markdown",
   "id": "81055bb2",
   "metadata": {},
   "source": [
    "## Account Receivable"
   ]
  },
  {
   "cell_type": "code",
   "execution_count": 72,
   "id": "6ef04cf2",
   "metadata": {},
   "outputs": [
    {
     "name": "stdout",
     "output_type": "stream",
     "text": [
      "us-gaap:accountsreceivablenetcurrent                                             USD   -3    314247000      \n"
     ]
    }
   ],
   "source": [
    "def get_bs_current_asset_account_receivables(soup):\n",
    "    names = re.compile(\"|\".join([\n",
    "        rf\"^{NAMESPACE_GAAP}:ReceivablesNetCurrent$\",\n",
    "        rf\"^{NAMESPACE_GAAP}:AccountsReceivableNetCurrent$\",\n",
    "        rf\"^{NAMESPACE_GAAP}:OtherReceivables$\",\n",
    "    ]).lower())\n",
    "    return get_records_for_financial_element_names(soup=soup, names=names)\n",
    "\n",
    "BS += get_bs_current_asset_account_receivables(soup)"
   ]
  },
  {
   "cell_type": "markdown",
   "id": "bd50545b",
   "metadata": {},
   "source": [
    "## ***___Inventory___***"
   ]
  },
  {
   "cell_type": "code",
   "execution_count": 73,
   "id": "3de69eb8",
   "metadata": {},
   "outputs": [
    {
     "name": "stdout",
     "output_type": "stream",
     "text": [
      "us-gaap:inventorynet                                                             USD   -3    178666000      \n"
     ]
    }
   ],
   "source": [
    "def get_bs_current_asset_inventory(soup):\n",
    "    names = re.compile(\"|\".join([\n",
    "        rf\"^{NAMESPACE_GAAP}:InventoryNet$\",\n",
    "    ]).lower())\n",
    "    return get_records_for_financial_element_names(soup=soup, names=names)\n",
    "\n",
    "BS += get_bs_current_asset_inventory(soup)"
   ]
  },
  {
   "cell_type": "markdown",
   "id": "6805470b",
   "metadata": {},
   "source": [
    "## Prepaid Expense / Other Assets Current\n",
    "\n",
    "* [Understanding Prepaid Expenses](https://www.investopedia.com/terms/p/prepaidexpense.asp)\n",
    "\n",
    "> Companies make prepayments for goods or services such as leased office equipment or insurance coverage that provide continual benefits over time. Goods or services of this nature cannot be expensed immediately because the expense would not line up with the benefit incurred over time from using the asset.  \n",
    ">\n",
    "> According to generally accepted accounting principles (GAAP), expenses should be recorded in the same accounting period as the benefit generated from the related asset.\n",
    "\n",
    "* [us-gaap: PrepaidExpenseAndOtherAssetsCurrent](https://www.calcbench.com/element/PrepaidExpenseAndOtherAssetsCurrent)\n",
    "\n",
    "> Amount of asset related to consideration paid in advance for costs that provide economic benefits in future periods, and amount of other assets that are expected to be realized or consumed within one year or the normal operating cycle, if longer.\n",
    "\n",
    "* [Other Current Assets (OCA)](https://www.investopedia.com/terms/o/othercurrentassets.asp)\n",
    "\n",
    "> Other current assets (OCA) is a category of things of value that a company owns, benefits from, or uses to generate income that can be converted into cash within one business cycle. They are referred to as “other” because they are uncommon or insignificant, unlike typical current asset items such as cash, securities, accounts receivable, inventory, and prepaid expenses."
   ]
  },
  {
   "cell_type": "code",
   "execution_count": 74,
   "id": "3ae6b77f",
   "metadata": {},
   "outputs": [
    {
     "name": "stdout",
     "output_type": "stream",
     "text": [
      "us-gaap:otherassetscurrent                                                       USD   -3    49206000       \n"
     ]
    }
   ],
   "source": [
    "def get_bs_current_asset_other(soup):\n",
    "    names = re.compile(\"|\".join([\n",
    "        rf\"^{NAMESPACE_GAAP}:PrepaidExpenseCurrent$\",\n",
    "        rf\"^{NAMESPACE_GAAP}:PrepaidExpenseAndOtherAssetsCurrent$\",\n",
    "        rf\"^{NAMESPACE_GAAP}:OperatingLeaseRightOfUseAsset$\",\n",
    "        rf\"^{NAMESPACE_GAAP}:OtherAssetsCurrent$\",\n",
    "    ]).lower())\n",
    "    return get_records_for_financial_element_names(soup=soup, names=names)\n",
    "\n",
    "BS += get_bs_current_asset_other(soup)"
   ]
  },
  {
   "cell_type": "markdown",
   "id": "c57ff4fd",
   "metadata": {},
   "source": [
    "## ***___# Current Assets___***"
   ]
  },
  {
   "cell_type": "code",
   "execution_count": 75,
   "id": "5bd8f856",
   "metadata": {},
   "outputs": [
    {
     "name": "stdout",
     "output_type": "stream",
     "text": [
      "us-gaap:assetscurrent                                                            USD   -3    1172376000     \n"
     ]
    }
   ],
   "source": [
    "def get_bs_current_assets(soup):\n",
    "    names = re.compile(\"|\".join([\n",
    "    rf\"^{NAMESPACE_GAAP}:AssetsCurrent$\",\n",
    "    ]).lower())\n",
    "    return represents(get_records_for_financial_element_names(soup=soup, names=names), fs=FS_BS, rep=FS_ELEMENT_REP_CURRENT_ASSETS)\n",
    "\n",
    "BS += get_bs_current_assets(soup)    "
   ]
  },
  {
   "cell_type": "markdown",
   "id": "63191882",
   "metadata": {},
   "source": [
    "## Property, Plant, Equipment"
   ]
  },
  {
   "cell_type": "code",
   "execution_count": 76,
   "id": "9b537385",
   "metadata": {},
   "outputs": [
    {
     "name": "stdout",
     "output_type": "stream",
     "text": [
      "us-gaap:propertyplantandequipmentnet                                             USD   -3    210926000      \n"
     ]
    }
   ],
   "source": [
    "def get_bs_non_current_asset_property_and_equipment(soup):\n",
    "    names = re.compile(\"|\".join([\n",
    "    rf\"^{NAMESPACE_GAAP}:PropertyPlantAndEquipmentNet$\",\n",
    "    ]).lower())\n",
    "    return get_records_for_financial_element_names(soup=soup, names=names)\n",
    "\n",
    "BS += get_bs_non_current_asset_property_and_equipment(soup)"
   ]
  },
  {
   "cell_type": "code",
   "execution_count": 77,
   "id": "c26d1968",
   "metadata": {},
   "outputs": [],
   "source": [
    "## Restricted Cash Non Current"
   ]
  },
  {
   "cell_type": "code",
   "execution_count": 78,
   "id": "4feca817",
   "metadata": {},
   "outputs": [],
   "source": [
    "def get_bs_non_current_asset_restricted_cash_and_equivalent(soup):\n",
    "    names = re.compile(\"|\".join([\n",
    "        rf\"^{NAMESPACE_GAAP}:RestrictedCashAndCashEquivalentsNoncurrent$\",\n",
    "    ]).lower())\n",
    "    return get_records_for_financial_element_names(soup=soup, names=names)\n",
    "\n",
    "BS += get_bs_non_current_asset_restricted_cash_and_equivalent(soup)"
   ]
  },
  {
   "cell_type": "markdown",
   "id": "aaadbca2",
   "metadata": {},
   "source": [
    "## Deferred Tax"
   ]
  },
  {
   "cell_type": "code",
   "execution_count": 79,
   "id": "884c0514",
   "metadata": {},
   "outputs": [],
   "source": [
    "def get_bs_non_current_asset_deferred_income_tax(soup):\n",
    "    names = re.compile(\"|\".join([\n",
    "        rf\"^{NAMESPACE_GAAP}:DeferredIncomeTaxAssetsNet$\",\n",
    "    ]).lower())\n",
    "    return get_records_for_financial_element_names(soup=soup, names=names)\n",
    "\n",
    "BS += get_bs_non_current_asset_deferred_income_tax(soup)"
   ]
  },
  {
   "cell_type": "markdown",
   "id": "d3e00bef",
   "metadata": {},
   "source": [
    "## ***___GoodWill___***"
   ]
  },
  {
   "cell_type": "code",
   "execution_count": 80,
   "id": "665ed06f",
   "metadata": {},
   "outputs": [
    {
     "name": "stdout",
     "output_type": "stream",
     "text": [
      "us-gaap:goodwill                                                                 USD   -3    293077000      \n"
     ]
    }
   ],
   "source": [
    "def get_bs_non_current_asset_goodwill(soup):\n",
    "    names = re.compile(\"|\".join([\n",
    "        rf\"^{NAMESPACE_GAAP}:GoodWill$\",\n",
    "    ]).lower())\n",
    "    return get_records_for_financial_element_names(soup=soup, names=names)\n",
    "\n",
    "BS += get_bs_non_current_asset_goodwill(soup)"
   ]
  },
  {
   "cell_type": "markdown",
   "id": "35ab752c",
   "metadata": {},
   "source": [
    "## Intangible and Other Assets"
   ]
  },
  {
   "cell_type": "code",
   "execution_count": 81,
   "id": "7f995b84",
   "metadata": {},
   "outputs": [
    {
     "name": "stdout",
     "output_type": "stream",
     "text": [
      "us-gaap:intangibleassetsnetexcludinggoodwill                                     USD   -3    182165000      \n",
      "us-gaap:otherassetsnoncurrent                                                    USD   -3    49387000       \n"
     ]
    }
   ],
   "source": [
    "def get_bs_non_current_asset_other(soup):\n",
    "    names = re.compile(\"|\".join([\n",
    "        rf\"^{NAMESPACE_GAAP}:IntangibleAssetsNetExcludingGoodwill$\",\n",
    "        rf\"^{NAMESPACE_GAAP}:OtherAssetsNoncurrent$\",\n",
    "    ]).lower())\n",
    "    return get_records_for_financial_element_names(soup=soup, names=names)\n",
    "\n",
    "BS += get_bs_non_current_asset_other(soup)"
   ]
  },
  {
   "cell_type": "markdown",
   "id": "8552d375",
   "metadata": {},
   "source": [
    "## ***___# Total Assets___***"
   ]
  },
  {
   "cell_type": "code",
   "execution_count": 82,
   "id": "68576556",
   "metadata": {},
   "outputs": [],
   "source": [
    "BS += get_bs_total_assets(soup, attributes=ATTRIBUTES)"
   ]
  },
  {
   "cell_type": "markdown",
   "id": "e61c6d90",
   "metadata": {},
   "source": [
    "## Account Payable\n",
    "\n",
    "* [Accounts Payable (AP)](https://www.investopedia.com/terms/a/accountspayable.asp)\n",
    "\n",
    "> company's obligation to pay off a short-term debt to its creditors or suppliers.\n",
    "\n",
    "\n",
    "\n",
    "* [Accrued Liability](https://www.investopedia.com/terms/a/accrued-liability.asp) (売掛金)\n",
    "\n",
    "> costs for goods and services already delivered to a company for which it must pay in the future. A company can accrue liabilities for any number of obligations and are recorded on the company's balance sheet. They are normally listed on the balance sheet as current liabilities and are adjusted at the end of an accounting period.\n",
    "\n",
    "\n",
    "* [us-gaap:AccruedLiabilitiesCurrent](http://xbrlsite.azurewebsites.net/2019/Prototype/references/us-gaap/Element-354.html)"
   ]
  },
  {
   "cell_type": "code",
   "execution_count": 83,
   "id": "2046baed",
   "metadata": {},
   "outputs": [],
   "source": [
    "BS += get_bs_current_liability_account_payable(soup, attributes=ATTRIBUTES)"
   ]
  },
  {
   "cell_type": "markdown",
   "id": "6c1fe183",
   "metadata": {},
   "source": [
    "## Tax"
   ]
  },
  {
   "cell_type": "code",
   "execution_count": 84,
   "id": "1dd6f3dc",
   "metadata": {},
   "outputs": [],
   "source": [
    "BS += get_bs_current_liability_tax(soup, attributes=ATTRIBUTES)"
   ]
  },
  {
   "cell_type": "markdown",
   "id": "27091965",
   "metadata": {},
   "source": [
    "## Debt Due"
   ]
  },
  {
   "cell_type": "code",
   "execution_count": 85,
   "id": "3b3780d7",
   "metadata": {},
   "outputs": [],
   "source": [
    "BS += get_bs_current_liability_longterm_debt(soup, attributes=ATTRIBUTES)"
   ]
  },
  {
   "cell_type": "markdown",
   "id": "4b256076",
   "metadata": {},
   "source": [
    "## ***___# Current Liabilities___***"
   ]
  },
  {
   "cell_type": "code",
   "execution_count": 86,
   "id": "5b002f6c",
   "metadata": {},
   "outputs": [
    {
     "data": {
      "text/plain": [
       "[['bs',\n",
       "  'current_liabilities',\n",
       "  'calc',\n",
       "  'us-gaap:liabilitiescurrent',\n",
       "  394568000.0,\n",
       "  'USD',\n",
       "  -3,\n",
       "  'TwelveMonthsEnded_31Dec20092']]"
      ]
     },
     "execution_count": 86,
     "metadata": {},
     "output_type": "execute_result"
    }
   ],
   "source": [
    "get_bs_current_liabilities(soup, attributes=ATTRIBUTES)"
   ]
  },
  {
   "cell_type": "markdown",
   "id": "01081144",
   "metadata": {},
   "source": [
    "## Long Term Debt"
   ]
  },
  {
   "cell_type": "code",
   "execution_count": 87,
   "id": "7ee669cf",
   "metadata": {},
   "outputs": [],
   "source": [
    "BS += get_bs_non_current_liability_longterm_debt(soup, attributes=ATTRIBUTES)"
   ]
  },
  {
   "cell_type": "markdown",
   "id": "790ec01d",
   "metadata": {},
   "source": [
    "## Tax Deferred"
   ]
  },
  {
   "cell_type": "code",
   "execution_count": 88,
   "id": "2da2df11",
   "metadata": {},
   "outputs": [],
   "source": [
    "BS += get_bs_non_current_liability_deferred_tax(soup, attributes=ATTRIBUTES)"
   ]
  },
  {
   "cell_type": "markdown",
   "id": "f76ed4bd",
   "metadata": {},
   "source": [
    "## Other Long Term Liabilities\n",
    "\n",
    "* [Postemployment Benefits Liability, Noncurrent/us-gaap:PostemploymentBenefitsLiabilityNoncurrent](http://xbrlsite.azurewebsites.net/2019/Prototype/references/us-gaap/Element-12380.html)\n",
    "\n",
    "> The obligations recognized for the various benefits provided to former or inactive employees, their beneficiaries, and covered dependents after employment but before retirement that is payable after one year (or beyond the operating cycle if longer)."
   ]
  },
  {
   "cell_type": "code",
   "execution_count": 89,
   "id": "21376115",
   "metadata": {},
   "outputs": [],
   "source": [
    "BS += get_bs_non_current_liability_other(soup, attributes=ATTRIBUTES)"
   ]
  },
  {
   "cell_type": "markdown",
   "id": "48d1658c",
   "metadata": {},
   "source": [
    "## ***___# Total Liabilities___***"
   ]
  },
  {
   "cell_type": "code",
   "execution_count": 90,
   "id": "36441d35",
   "metadata": {},
   "outputs": [
    {
     "data": {
      "text/plain": [
       "[['bs',\n",
       "  'total_liabilities',\n",
       "  'calc',\n",
       "  'us-gaap:liabilities',\n",
       "  1058982000.0,\n",
       "  'USD',\n",
       "  -3,\n",
       "  'TwelveMonthsEnded_31Dec20092']]"
      ]
     },
     "execution_count": 90,
     "metadata": {},
     "output_type": "execute_result"
    }
   ],
   "source": [
    "get_bs_total_liabilities(soup, attributes=ATTRIBUTES)"
   ]
  },
  {
   "cell_type": "markdown",
   "id": "f4e91304",
   "metadata": {},
   "source": [
    "## Paid-in Capital\n",
    "\n",
    "* [Paid-In Capital](https://www.investopedia.com/terms/p/paidincapital.aspPaid-In Capital)\n",
    "\n",
    "> Paid-in capital represents the funds raised by the business through selling its equity and not from ongoing business operations. Paid-in capital also refers to a line item on the company's balance sheet listed under shareholders' equity (also referred to as stockholders' equity), often shown alongside the line item for additional paid-in capital.\n",
    "\n",
    "* [Additional Paid-In Capital (APIC)](https://www.investopedia.com/terms/a/additionalpaidincapital.asp)\n",
    "\n",
    "> Often referred to as \"contributed capital in excess of par,” APIC occurs when an investor buys newly-issued shares directly from a company during its initial public offering (IPO) stage. APIC, which is itemized under the shareholder equity (SE) section of a balance sheet, is viewed as a profit opportunity for companies as it results in them receiving excess cash from stockholders."
   ]
  },
  {
   "cell_type": "code",
   "execution_count": 91,
   "id": "d6ba718f",
   "metadata": {},
   "outputs": [],
   "source": [
    "BS += get_bs_stockholders_equity_paid_in(soup, attributes=ATTRIBUTES)"
   ]
  },
  {
   "cell_type": "markdown",
   "id": "ec4f4d40",
   "metadata": {},
   "source": [
    "## Retained Earnings\n",
    "\n",
    "* [Retained Earnings](https://www.investopedia.com/terms/r/retainedearnings.asp)\n",
    "\n",
    ">  The word \"retained\" captures the fact that because those earnings were **NOT paid out to shareholders as dividends** they were instead retained by the company."
   ]
  },
  {
   "cell_type": "code",
   "execution_count": 92,
   "id": "c58dc030",
   "metadata": {},
   "outputs": [],
   "source": [
    "BS += get_bs_stockholders_equity_retained(soup, attributes=ATTRIBUTES)"
   ]
  },
  {
   "cell_type": "markdown",
   "id": "244b6619",
   "metadata": {},
   "source": [
    "## Accumulated other comprehensive income/loss"
   ]
  },
  {
   "cell_type": "code",
   "execution_count": 93,
   "id": "87a31968",
   "metadata": {},
   "outputs": [],
   "source": [
    "BS += get_bs_stockholders_equity_other(soup, attributes=ATTRIBUTES)"
   ]
  },
  {
   "cell_type": "markdown",
   "id": "e215caa4",
   "metadata": {},
   "source": [
    "## ***___# Stockholder's Equity___***\n",
    "\n",
    "* [Stockholders' Equity](https://www.investopedia.com/terms/s/stockholdersequity.asp)\n",
    "\n",
    "> Remaining amount of assets available to shareholders after all liabilities have been paid. (純資産)"
   ]
  },
  {
   "cell_type": "code",
   "execution_count": 94,
   "id": "47c2a465",
   "metadata": {},
   "outputs": [
    {
     "data": {
      "text/plain": [
       "[['bs',\n",
       "  'stockholders_equity',\n",
       "  'calc',\n",
       "  'us-gaap:stockholdersequityincludingportionattributabletononcontrollinginterest',\n",
       "  848949000.0,\n",
       "  'USD',\n",
       "  -3,\n",
       "  'TwelveMonthsEnded_31Dec20092']]"
      ]
     },
     "execution_count": 94,
     "metadata": {},
     "output_type": "execute_result"
    }
   ],
   "source": [
    "get_bs_stockholders_equity(soup, attributes=ATTRIBUTES)"
   ]
  },
  {
   "cell_type": "markdown",
   "id": "dc176cd2",
   "metadata": {},
   "source": [
    "## ***___# Total Liabilities + Stockholder's Equity___***"
   ]
  },
  {
   "cell_type": "code",
   "execution_count": 95,
   "id": "b1b94eee",
   "metadata": {},
   "outputs": [],
   "source": [
    "BS += get_bs_total_liabilities_and_stockholders_equity(soup, attributes=ATTRIBUTES)"
   ]
  },
  {
   "cell_type": "markdown",
   "id": "edccdd39",
   "metadata": {},
   "source": [
    "## Display B/S"
   ]
  },
  {
   "cell_type": "code",
   "execution_count": 96,
   "id": "5f12a608",
   "metadata": {
    "scrolled": true
   },
   "outputs": [
    {
     "data": {
      "text/html": [
       "<div>\n",
       "<style scoped>\n",
       "    .dataframe tbody tr th:only-of-type {\n",
       "        vertical-align: middle;\n",
       "    }\n",
       "\n",
       "    .dataframe tbody tr th {\n",
       "        vertical-align: top;\n",
       "    }\n",
       "\n",
       "    .dataframe thead th {\n",
       "        text-align: right;\n",
       "    }\n",
       "</style>\n",
       "<table border=\"1\" class=\"dataframe\">\n",
       "  <thead>\n",
       "    <tr style=\"text-align: center;\">\n",
       "      <th></th>\n",
       "      <th>fs</th>\n",
       "      <th>rep</th>\n",
       "      <th>type</th>\n",
       "      <th>name</th>\n",
       "      <th>value</th>\n",
       "      <th>unit</th>\n",
       "      <th>decimals</th>\n",
       "      <th>context</th>\n",
       "    </tr>\n",
       "  </thead>\n",
       "  <tbody>\n",
       "    <tr>\n",
       "      <th>0</th>\n",
       "      <td>bs</td>\n",
       "      <td>cash_and_equivalent</td>\n",
       "      <td>credit</td>\n",
       "      <td>us-gaap:cashandcashequivalentsatcarryingvalue</td>\n",
       "      <td>341111000</td>\n",
       "      <td>USD</td>\n",
       "      <td>-3</td>\n",
       "      <td>TwelveMonthsEnded_31Dec20092</td>\n",
       "    </tr>\n",
       "    <tr>\n",
       "      <th>1</th>\n",
       "      <td></td>\n",
       "      <td></td>\n",
       "      <td>credit</td>\n",
       "      <td>us-gaap:shortterminvestments</td>\n",
       "      <td>289146000</td>\n",
       "      <td>USD</td>\n",
       "      <td>-3</td>\n",
       "      <td>TwelveMonthsEnded_31Dec20092</td>\n",
       "    </tr>\n",
       "    <tr>\n",
       "      <th>2</th>\n",
       "      <td></td>\n",
       "      <td></td>\n",
       "      <td>credit</td>\n",
       "      <td>us-gaap:accountsreceivablenetcurrent</td>\n",
       "      <td>314247000</td>\n",
       "      <td>USD</td>\n",
       "      <td>-3</td>\n",
       "      <td>TwelveMonthsEnded_31Dec20092</td>\n",
       "    </tr>\n",
       "    <tr>\n",
       "      <th>3</th>\n",
       "      <td></td>\n",
       "      <td></td>\n",
       "      <td>credit</td>\n",
       "      <td>us-gaap:inventorynet</td>\n",
       "      <td>178666000</td>\n",
       "      <td>USD</td>\n",
       "      <td>-3</td>\n",
       "      <td>TwelveMonthsEnded_31Dec20092</td>\n",
       "    </tr>\n",
       "    <tr>\n",
       "      <th>4</th>\n",
       "      <td></td>\n",
       "      <td></td>\n",
       "      <td>credit</td>\n",
       "      <td>us-gaap:otherassetscurrent</td>\n",
       "      <td>49206000</td>\n",
       "      <td>USD</td>\n",
       "      <td>-3</td>\n",
       "      <td>TwelveMonthsEnded_31Dec20092</td>\n",
       "    </tr>\n",
       "    <tr>\n",
       "      <th>5</th>\n",
       "      <td>bs</td>\n",
       "      <td>current_assets</td>\n",
       "      <td>calc</td>\n",
       "      <td>us-gaap:assetscurrent</td>\n",
       "      <td>1172376000</td>\n",
       "      <td>USD</td>\n",
       "      <td>-3</td>\n",
       "      <td>TwelveMonthsEnded_31Dec20092</td>\n",
       "    </tr>\n",
       "    <tr>\n",
       "      <th>6</th>\n",
       "      <td></td>\n",
       "      <td></td>\n",
       "      <td>credit</td>\n",
       "      <td>us-gaap:propertyplantandequipmentnet</td>\n",
       "      <td>210926000</td>\n",
       "      <td>USD</td>\n",
       "      <td>-3</td>\n",
       "      <td>TwelveMonthsEnded_31Dec20092</td>\n",
       "    </tr>\n",
       "    <tr>\n",
       "      <th>7</th>\n",
       "      <td></td>\n",
       "      <td></td>\n",
       "      <td>credit</td>\n",
       "      <td>us-gaap:goodwill</td>\n",
       "      <td>293077000</td>\n",
       "      <td>USD</td>\n",
       "      <td>-3</td>\n",
       "      <td>TwelveMonthsEnded_31Dec20092</td>\n",
       "    </tr>\n",
       "    <tr>\n",
       "      <th>8</th>\n",
       "      <td></td>\n",
       "      <td></td>\n",
       "      <td>credit</td>\n",
       "      <td>us-gaap:intangibleassetsnetexcludinggoodwill</td>\n",
       "      <td>182165000</td>\n",
       "      <td>USD</td>\n",
       "      <td>-3</td>\n",
       "      <td>TwelveMonthsEnded_31Dec20092</td>\n",
       "    </tr>\n",
       "    <tr>\n",
       "      <th>9</th>\n",
       "      <td></td>\n",
       "      <td></td>\n",
       "      <td>credit</td>\n",
       "      <td>us-gaap:otherassetsnoncurrent</td>\n",
       "      <td>49387000</td>\n",
       "      <td>USD</td>\n",
       "      <td>-3</td>\n",
       "      <td>TwelveMonthsEnded_31Dec20092</td>\n",
       "    </tr>\n",
       "    <tr>\n",
       "      <th>10</th>\n",
       "      <td>bs</td>\n",
       "      <td>total_assets</td>\n",
       "      <td>calc</td>\n",
       "      <td>us-gaap:assets</td>\n",
       "      <td>1907931000</td>\n",
       "      <td>USD</td>\n",
       "      <td>-3</td>\n",
       "      <td>TwelveMonthsEnded_31Dec20092</td>\n",
       "    </tr>\n",
       "    <tr>\n",
       "      <th>11</th>\n",
       "      <td></td>\n",
       "      <td></td>\n",
       "      <td>debit</td>\n",
       "      <td>us-gaap:accountspayablecurrent</td>\n",
       "      <td>49573000</td>\n",
       "      <td>USD</td>\n",
       "      <td>-3</td>\n",
       "      <td>TwelveMonthsEnded_31Dec20092</td>\n",
       "    </tr>\n",
       "    <tr>\n",
       "      <th>12</th>\n",
       "      <td></td>\n",
       "      <td></td>\n",
       "      <td>debit</td>\n",
       "      <td>us-gaap:longtermdebtnoncurrent</td>\n",
       "      <td>500000000</td>\n",
       "      <td>USD</td>\n",
       "      <td>-3</td>\n",
       "      <td>TwelveMonthsEnded_31Dec20092</td>\n",
       "    </tr>\n",
       "    <tr>\n",
       "      <th>13</th>\n",
       "      <td></td>\n",
       "      <td></td>\n",
       "      <td>debit</td>\n",
       "      <td>us-gaap:otherliabilitiesnoncurrent</td>\n",
       "      <td>22766000</td>\n",
       "      <td>USD</td>\n",
       "      <td>-3</td>\n",
       "      <td>TwelveMonthsEnded_31Dec20092</td>\n",
       "    </tr>\n",
       "    <tr>\n",
       "      <th>14</th>\n",
       "      <td></td>\n",
       "      <td></td>\n",
       "      <td>debit</td>\n",
       "      <td>us-gaap:commonstockvalue</td>\n",
       "      <td>1488000</td>\n",
       "      <td>USD</td>\n",
       "      <td>-3</td>\n",
       "      <td>TwelveMonthsEnded_31Dec20092</td>\n",
       "    </tr>\n",
       "    <tr>\n",
       "      <th>15</th>\n",
       "      <td></td>\n",
       "      <td></td>\n",
       "      <td>debit</td>\n",
       "      <td>us-gaap:retainedearningsaccumulateddeficit</td>\n",
       "      <td>2236716000</td>\n",
       "      <td>USD</td>\n",
       "      <td>-3</td>\n",
       "      <td>TwelveMonthsEnded_31Dec20092</td>\n",
       "    </tr>\n",
       "    <tr>\n",
       "      <th>16</th>\n",
       "      <td></td>\n",
       "      <td></td>\n",
       "      <td>debit</td>\n",
       "      <td>us-gaap:accumulatedothercomprehensiveincomelossnetoftax</td>\n",
       "      <td>15574000</td>\n",
       "      <td>USD</td>\n",
       "      <td>-3</td>\n",
       "      <td>TwelveMonthsEnded_31Dec20092</td>\n",
       "    </tr>\n",
       "    <tr>\n",
       "      <th>17</th>\n",
       "      <td>bs</td>\n",
       "      <td>total_equity_and_liabilities</td>\n",
       "      <td>calc</td>\n",
       "      <td>us-gaap:liabilitiesandstockholdersequity</td>\n",
       "      <td>1907931000</td>\n",
       "      <td>USD</td>\n",
       "      <td>-3</td>\n",
       "      <td>TwelveMonthsEnded_31Dec20092</td>\n",
       "    </tr>\n",
       "  </tbody>\n",
       "</table>\n",
       "</div>"
      ],
      "text/plain": [
       "    fs              rep                type   \\\n",
       "0   bs           cash_and_equivalent  credit   \n",
       "1                                     credit   \n",
       "2                                     credit   \n",
       "3                                     credit   \n",
       "4                                     credit   \n",
       "5   bs                current_assets    calc   \n",
       "6                                     credit   \n",
       "7                                     credit   \n",
       "8                                     credit   \n",
       "9                                     credit   \n",
       "10  bs                  total_assets    calc   \n",
       "11                                     debit   \n",
       "12                                     debit   \n",
       "13                                     debit   \n",
       "14                                     debit   \n",
       "15                                     debit   \n",
       "16                                     debit   \n",
       "17  bs  total_equity_and_liabilities    calc   \n",
       "\n",
       "                             name                              value   unit  \\\n",
       "0             us-gaap:cashandcashequivalentsatcarryingvalue  341111000  USD   \n",
       "1                              us-gaap:shortterminvestments  289146000  USD   \n",
       "2                      us-gaap:accountsreceivablenetcurrent  314247000  USD   \n",
       "3                                      us-gaap:inventorynet  178666000  USD   \n",
       "4                                us-gaap:otherassetscurrent   49206000  USD   \n",
       "5                                     us-gaap:assetscurrent 1172376000  USD   \n",
       "6                      us-gaap:propertyplantandequipmentnet  210926000  USD   \n",
       "7                                          us-gaap:goodwill  293077000  USD   \n",
       "8              us-gaap:intangibleassetsnetexcludinggoodwill  182165000  USD   \n",
       "9                             us-gaap:otherassetsnoncurrent   49387000  USD   \n",
       "10                                           us-gaap:assets 1907931000  USD   \n",
       "11                           us-gaap:accountspayablecurrent   49573000  USD   \n",
       "12                           us-gaap:longtermdebtnoncurrent  500000000  USD   \n",
       "13                       us-gaap:otherliabilitiesnoncurrent   22766000  USD   \n",
       "14                                 us-gaap:commonstockvalue    1488000  USD   \n",
       "15               us-gaap:retainedearningsaccumulateddeficit 2236716000  USD   \n",
       "16  us-gaap:accumulatedothercomprehensiveincomelossnetoftax   15574000  USD   \n",
       "17                 us-gaap:liabilitiesandstockholdersequity 1907931000  USD   \n",
       "\n",
       "    decimals            context             \n",
       "0      -3     TwelveMonthsEnded_31Dec20092  \n",
       "1      -3     TwelveMonthsEnded_31Dec20092  \n",
       "2      -3     TwelveMonthsEnded_31Dec20092  \n",
       "3      -3     TwelveMonthsEnded_31Dec20092  \n",
       "4      -3     TwelveMonthsEnded_31Dec20092  \n",
       "5      -3     TwelveMonthsEnded_31Dec20092  \n",
       "6      -3     TwelveMonthsEnded_31Dec20092  \n",
       "7      -3     TwelveMonthsEnded_31Dec20092  \n",
       "8      -3     TwelveMonthsEnded_31Dec20092  \n",
       "9      -3     TwelveMonthsEnded_31Dec20092  \n",
       "10     -3     TwelveMonthsEnded_31Dec20092  \n",
       "11     -3     TwelveMonthsEnded_31Dec20092  \n",
       "12     -3     TwelveMonthsEnded_31Dec20092  \n",
       "13     -3     TwelveMonthsEnded_31Dec20092  \n",
       "14     -3     TwelveMonthsEnded_31Dec20092  \n",
       "15     -3     TwelveMonthsEnded_31Dec20092  \n",
       "16     -3     TwelveMonthsEnded_31Dec20092  \n",
       "17     -3     TwelveMonthsEnded_31Dec20092  "
      ]
     },
     "execution_count": 96,
     "metadata": {},
     "output_type": "execute_result"
    }
   ],
   "source": [
    "df_BS = pd.DataFrame(BS, columns=get_financial_element_columns())\n",
    "#df_BS = df_BS.style.set_properties(**{'text-align': 'left'})\n",
    "#df_BS[(df_BS['rep'].notna()) & (df_BS['rep'] != \"\")]\n",
    "df_BS"
   ]
  },
  {
   "cell_type": "code",
   "execution_count": 97,
   "id": "4d5f2e51",
   "metadata": {},
   "outputs": [
    {
     "data": {
      "text/plain": [
       "1907931000.0"
      ]
     },
     "execution_count": 97,
     "metadata": {},
     "output_type": "execute_result"
    }
   ],
   "source": [
    "credits = df_BS[df_BS['type'] == 'credit']['value'].sum()\n",
    "credits"
   ]
  },
  {
   "cell_type": "code",
   "execution_count": 98,
   "id": "323c27ad",
   "metadata": {},
   "outputs": [
    {
     "data": {
      "text/plain": [
       "2826117000.0"
      ]
     },
     "execution_count": 98,
     "metadata": {},
     "output_type": "execute_result"
    }
   ],
   "source": [
    "debits = df_BS[df_BS['type'] == 'debit']['value'].sum()\n",
    "debits"
   ]
  },
  {
   "cell_type": "code",
   "execution_count": 99,
   "id": "f364a6c0",
   "metadata": {},
   "outputs": [
    {
     "data": {
      "text/plain": [
       "-918186000.0"
      ]
     },
     "execution_count": 99,
     "metadata": {},
     "output_type": "execute_result"
    }
   ],
   "source": [
    "credits - debits"
   ]
  },
  {
   "cell_type": "markdown",
   "id": "31cb2962",
   "metadata": {},
   "source": [
    "### Cash Per Share"
   ]
  },
  {
   "cell_type": "code",
   "execution_count": 100,
   "id": "eafb4fca",
   "metadata": {},
   "outputs": [
    {
     "name": "stdout",
     "output_type": "stream",
     "text": [
      "3.62\n"
     ]
    }
   ],
   "source": [
    "cash = df_BS[df_BS['rep'] == FS_ELEMENT_REP_CASH]['value'].values.item()\n",
    "cps = cash / num_shares\n",
    "\n",
    "scale = 2\n",
    "print(f\"{cps:.{scale}f}\")"
   ]
  },
  {
   "cell_type": "markdown",
   "id": "e18bdbe1",
   "metadata": {},
   "source": [
    "### EPS VS CPS"
   ]
  },
  {
   "cell_type": "code",
   "execution_count": 101,
   "id": "aed66f07",
   "metadata": {},
   "outputs": [
    {
     "name": "stdout",
     "output_type": "stream",
     "text": [
      "Saving is 1.06 more than earning\n"
     ]
    }
   ],
   "source": [
    "if (cps / eps) > 1.0:\n",
    "    print(f\"Saving is {cps/eps:.2f} more than earning\")"
   ]
  },
  {
   "cell_type": "markdown",
   "id": "e808f3a2",
   "metadata": {},
   "source": [
    "# Save"
   ]
  },
  {
   "cell_type": "raw",
   "id": "be3732ac",
   "metadata": {},
   "source": [
    "import pathlib\n",
    "path_to_folder = f\"../data/{CIK}_{company_name}\"\n",
    "pathlib.Path(f\"{path_to_folder}\").mkdir(parents=True, exist_ok=True)"
   ]
  },
  {
   "cell_type": "raw",
   "id": "3776e904",
   "metadata": {},
   "source": [
    "df_PL.to_csv(f\"{path_to_folder}/{ACCESSION}_PL.gz\", index=False, compression='gzip')\n",
    "df_BS.to_csv(f\"{path_to_folder}/{ACCESSION}_BS.gz\", index=False, compression='gzip')"
   ]
  }
 ],
 "metadata": {
  "kernelspec": {
   "display_name": "Python 3 (ipykernel)",
   "language": "python",
   "name": "python3"
  },
  "language_info": {
   "codemirror_mode": {
    "name": "ipython",
    "version": 3
   },
   "file_extension": ".py",
   "mimetype": "text/x-python",
   "name": "python",
   "nbconvert_exporter": "python",
   "pygments_lexer": "ipython3",
   "version": "3.8.10"
  },
  "name": "sec_edgar_parse_xbrl.ipynb"
 },
 "nbformat": 4,
 "nbformat_minor": 5
}
