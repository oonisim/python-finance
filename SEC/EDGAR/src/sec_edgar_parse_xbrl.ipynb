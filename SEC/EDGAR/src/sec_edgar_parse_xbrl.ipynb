{
 "cells": [
  {
   "cell_type": "markdown",
   "id": "33f885db",
   "metadata": {},
   "source": [
    "# Parsing SEC Filing XBRL Document\n",
    "\n",
    "\n",
    "## Objective\n",
    "\n",
    "Parse the filing XBRL file to create a DOM like structure that represent the filing data\n",
    "\n",
    "## References\n",
    "\n",
    "* [XBRL Specification - Extensible Business Reporting Language (XBRL) 2.1](https://www.xbrl.org/Specification/XBRL-2.1/REC-2003-12-31/XBRL-2.1-REC-2003-12-31+corrected-errata-2013-02-20.html)\n",
    "\n",
    "* [List of US GAAP Standards](https://xbrlsite.azurewebsites.net/2019/Prototype/references/us-gaap/)\n",
    "* [XBRL US - List of Elements](https://xbrl.us/data-rule/dqc_0015-le/)\n",
    "\n",
    "**Element Version**|**Element ID**|**Namespace**|**Element Label**|**Element Name**|**Balance Type**|**Definition**\n",
    ":-----:|:-----:|:-----:|:-----:|:-----:|:-----:|:-----:\n",
    "1|1367|us-gaap|Interest Expense|InterestExpense|debit|Amount of the cost of borrowed funds accounted for as interest expense.\n",
    "2|2692|us-gaap|Cash and Cash Equivalents, at Carrying Value|CashAndCashEquivalentsAtCarryingValue|debit|Amount of currency on hand as well as demand deposits with banks or financial institutions. Includes other kinds of accounts that have the general characteristics of demand deposits. Also includes short-term, highly liquid investments that are both readily convertible to known amounts of cash and so near their maturity that they present insignificant risk of changes in value because of changes in interest rates. Excludes cash and cash equivalents within disposal group and discontinued operation.\n",
    "\n",
    "## XBRL Element\n",
    "\n",
    "* [Understanding the Financial Report Logical System](https://www.youtube.com/playlist?list=PLqMZRUzQ64B7EWamzDP-WaYbS_W0RL9nt)\n",
    "* [XBRL - What is us-gaap:OperatingSegmentsMember element anb where is it defined?](https://money.stackexchange.com/questions/148010/xbrl-what-is-us-gaapoperatingsegmentsmember-element-anb-where-is-it-defined)\n",
    "\n",
    "### Example\n",
    "For instance, Qorvo 2020 10K\n",
    "\n",
    "* [XBRL/rfmd-20210403_htm.xml](https://www.sec.gov/Archives/edgar/data/1604778/000160477821000032/rfmd-20210403_htm.xml)\n",
    "* [HTML/rfmd-20210403.htm)](https://www.sec.gov/Archives/edgar/data/1604778/000160477821000032/rfmd-20210403.htm):\n",
    "\n",
    "```\n",
    "<us-gaap:cashandcashequivalentsatcarryingvalue contextref=\"*\" decimals=\"-3\" id=\"...\" unitref=\"usd\">\n",
    "  1397880000\n",
    "</us-gaap:cashandcashequivalentsatcarryingvalue>,\n",
    "<us-gaap:cashandcashequivalentsatcarryingvalue contextref=\"***\" decimals=\"-3\" id=\"...\" unitref=\"usd\">\n",
    "  714939000\n",
    "</us-gaap:cashandcashequivalentsatcarryingvalue>,\n",
    "<us-gaap:cashandcashequivalentsatcarryingvalue contextref=\"***\" decimals=\"-3\" id=\"...\" unitref=\"usd\">\n",
    " 711035000\n",
    "</us-gaap:cashandcashequivalentsatcarryingvalue>\n",
    "```\n",
    "\n",
    "Corresponds to the Cash and Cash equivalents in the Cash Flow statement.\n",
    "\n",
    "<img src=\"../image/edgar_qorvo_2020_10K_CF.png\" align=\"left\" width=800 />"
   ]
  },
  {
   "cell_type": "markdown",
   "id": "89209a88",
   "metadata": {},
   "source": [
    "---\n",
    "# Setup"
   ]
  },
  {
   "cell_type": "code",
   "execution_count": 1,
   "id": "1dd95359",
   "metadata": {},
   "outputs": [
    {
     "data": {
      "text/html": [
       "<style>\n",
       "table {float:left}\n",
       "</style>\n"
      ],
      "text/plain": [
       "<IPython.core.display.HTML object>"
      ]
     },
     "metadata": {},
     "output_type": "display_data"
    }
   ],
   "source": [
    "%%html\n",
    "<style>\n",
    "table {float:left}\n",
    "</style>"
   ]
  },
  {
   "cell_type": "code",
   "execution_count": 2,
   "id": "e2ad2d93",
   "metadata": {},
   "outputs": [],
   "source": [
    "from typing import (\n",
    "    List,\n",
    "    Dict\n",
    ")\n",
    "import operator\n",
    "import logging\n",
    "import time\n",
    "import datetime\n",
    "import dateutil\n",
    "import calendar\n",
    "import re\n",
    "import requests\n",
    "import unicodedata\n",
    "import bs4\n",
    "from bs4 import BeautifulSoup\n",
    "from IPython.core.display import (\n",
    "    display, \n",
    "    HTML\n",
    ")\n",
    "\n",
    "import numpy as np\n",
    "import pandas as pd\n",
    "pd.set_option('display.float_format', lambda x: ('%f' % x).rstrip('0').rstrip('.'))\n",
    "pd.set_option('display.colheader_justify', 'center')"
   ]
  },
  {
   "cell_type": "code",
   "execution_count": 3,
   "id": "48bcf193",
   "metadata": {},
   "outputs": [],
   "source": [
    "logging.basicConfig(level=logging.DEBUG)\n",
    "Logger = logging.getLogger(__name__)"
   ]
  },
  {
   "cell_type": "code",
   "execution_count": 4,
   "id": "cebbb665",
   "metadata": {},
   "outputs": [],
   "source": [
    "def restore_windows_1252_characters(restore_string):\n",
    "    \"\"\"\n",
    "        Replace C1 control characters in the Unicode string s by the\n",
    "        characters at the corresponding code points in Windows-1252,\n",
    "        where possible.\n",
    "    \"\"\"\n",
    "\n",
    "    def to_windows_1252(match):\n",
    "        try:\n",
    "            return bytes([ord(match.group(0))]).decode('windows-1252')\n",
    "        except UnicodeDecodeError:\n",
    "            # No character at the corresponding code point: remove it.\n",
    "            return ''\n",
    "        \n",
    "    return re.sub(r'[\\u0080-\\u0099]', to_windows_1252, restore_string)"
   ]
  },
  {
   "cell_type": "markdown",
   "id": "a55c991d",
   "metadata": {},
   "source": [
    "# FS Constant"
   ]
  },
  {
   "cell_type": "code",
   "execution_count": 5,
   "id": "c3a556fa",
   "metadata": {},
   "outputs": [],
   "source": [
    "%load_ext autoreload\n",
    "%autoreload 2\n",
    "from sec_edgar_constant import (\n",
    "    FS_PL,\n",
    "    FS_BS,\n",
    "    FS_CF,\n",
    "    FS_ITEM_REP_SHARES_OUTSTANDING,\n",
    "    # PL\n",
    "    FS_ITEM_REP_REVENUE,\n",
    "    FS_ITEM_REP_OP_COST,\n",
    "    FS_ITEM_REP_OP_INCOME,\n",
    "    FS_ITEM_REP_GROSS_PROFIT,\n",
    "    FS_ITEM_REP_OPEX_RD,\n",
    "    FS_ITEM_REP_OPEX_SGA,\n",
    "    FS_ITEM_REP_OPEX,\n",
    "    FS_ITEM_REP_NET_INCOME,\n",
    "    FS_ITEM_REP_EPS,\n",
    "    # BS\n",
    "    FS_ITEM_REP_CASH,\n",
    "    FS_ITEM_REP_CURRENT_ASSETS,\n",
    "    FS_ITEM_REP_TOTAL_ASSETS,\n",
    "    FS_ITEM_REP_CURRENT_LIABILITIES,\n",
    "    FS_ITEM_REP_LIABILITIES,\n",
    "    FS_ITEM_REP_SE,\n",
    "    FS_ITEM_REP_TOTAL_EQUITY\n",
    ")"
   ]
  },
  {
   "cell_type": "markdown",
   "id": "dc4979d3",
   "metadata": {},
   "source": [
    "# Global Constant"
   ]
  },
  {
   "cell_type": "code",
   "execution_count": 6,
   "id": "27975b4e",
   "metadata": {},
   "outputs": [
    {
     "data": {
      "text/plain": [
       "<re.Match object; span=(0, 9), match=' -123.12 '>"
      ]
     },
     "execution_count": 6,
     "metadata": {},
     "output_type": "execute_result"
    }
   ],
   "source": [
    "# regexp to extract numeric string\n",
    "REGEXP_NUMERIC = re.compile(r\"\\s*[\\d.-]*\\s*\")\n",
    "\n",
    "re.match(REGEXP_NUMERIC, \" -123.12 \")"
   ]
  },
  {
   "cell_type": "code",
   "execution_count": 7,
   "id": "2426359d",
   "metadata": {},
   "outputs": [],
   "source": [
    "EDGAR_HTTP_HEADERS = {\"User-Agent\": \"Company Name myname@company.com\"}\n",
    "\n",
    "SEC_FORM_TYPE_10K = \"10-K\"\n",
    "SEC_FORM_TYPE_10Q = \"10-Q\""
   ]
  },
  {
   "cell_type": "markdown",
   "id": "82295cb6",
   "metadata": {},
   "source": [
    "---\n",
    "# Load EDGAR Filing XBRL\n",
    "\n",
    "Download the ```_htm.xml``` file from EDGAR. SEC now requires user-agent header."
   ]
  },
  {
   "cell_type": "markdown",
   "id": "f584596e",
   "metadata": {},
   "source": [
    "## Filling (CIK/Accession)"
   ]
  },
  {
   "cell_type": "code",
   "execution_count": 8,
   "id": "c86a4be8",
   "metadata": {},
   "outputs": [],
   "source": [
    "# OPTICAL CABLE CORPORATION 10-K for the fiscal year ended October 31, 2021\n",
    "CIK = '0001000230'\n",
    "ACCESSION = '000143774921028951'\n",
    "FORM_TYPE = SEC_FORM_TYPE_10K"
   ]
  },
  {
   "cell_type": "code",
   "execution_count": 9,
   "id": "6fb0d668",
   "metadata": {},
   "outputs": [],
   "source": [
    "# AMKOR 2020 10K\n",
    "CIK = '1047127'\n",
    "ACCESSION = '0001047127-20-000006'.replace('-', '')\n",
    "FORM_TYPE = SEC_FORM_TYPE_10K"
   ]
  },
  {
   "cell_type": "code",
   "execution_count": 10,
   "id": "96d70876",
   "metadata": {},
   "outputs": [],
   "source": [
    "# DIOD 2020 10K\n",
    "CIK = '29002'\n",
    "ACCESSION = '000156459021007008'\n",
    "FORM_TYPE = SEC_FORM_TYPE_10K"
   ]
  },
  {
   "cell_type": "code",
   "execution_count": 11,
   "id": "90484633",
   "metadata": {},
   "outputs": [],
   "source": [
    "# AMKOR 2021 10Q\n",
    "CIK = '1047127'\n",
    "ACCESSION = '000104712721000043'\n",
    "FORM_TYPE = SEC_FORM_TYPE_10Q"
   ]
  },
  {
   "cell_type": "code",
   "execution_count": 12,
   "id": "e7d3da57",
   "metadata": {},
   "outputs": [],
   "source": [
    "# QORVO 2021 10K\n",
    "CIK = '1604778'\n",
    "ACCESSION = '000160477821000032'\n",
    "FORM_TYPE = SEC_FORM_TYPE_10K"
   ]
  },
  {
   "cell_type": "code",
   "execution_count": 13,
   "id": "f24b6a2d",
   "metadata": {},
   "outputs": [
    {
     "data": {
      "text/plain": [
       "'https://www.sec.gov/Archives/edgar/data/1604778/000160477821000032/index.xml'"
      ]
     },
     "execution_count": 13,
     "metadata": {},
     "output_type": "execute_result"
    }
   ],
   "source": [
    "INDEX_XML_URL = f\"https://www.sec.gov/Archives/edgar/data/{CIK}/{ACCESSION}/index.xml\"\n",
    "INDEX_XML_URL"
   ]
  },
  {
   "cell_type": "markdown",
   "id": "25e4deb9",
   "metadata": {},
   "source": [
    "## Filing Directory Listing\n",
    "\n",
    "Using EDGAR Directory Listing (index.html, index.json, or index.xml), identify the XBRL file (_htm.xml) path. "
   ]
  },
  {
   "cell_type": "raw",
   "id": "6c99babd",
   "metadata": {},
   "source": [
    "\"\"\"\n",
    "INDEX_XML_URL = f\"https://www.sec.gov/Archives/edgar/data/{CIK}/{ACCESSION}/index.xml\"\n",
    "INDEX_XML_URL\n",
    "\n",
    "response = requests.get(INDEX_XML_URL, headers=EDGAR_HTTP_HEADERS)\n",
    "if response.status_code == 200:\n",
    "    index = response.content.decode(\"utf-8\") \n",
    "else:\n",
    "    assert False, f\"{INDEX_XML_URL} failed with status {response.status_code}\"\n",
    "    \n",
    "path_to_xbrl = BeautifulSoup(index, 'html.parser').find('href', string=re.compile(\".*_htm.xml\"))\n",
    "del index\n",
    "assert path_to_xbrl, \"No XBRL file found.\"\n",
    "\n",
    "path_to_xbrl = path_to_xbrl.string.strip()\n",
    "\"\"\""
   ]
  },
  {
   "cell_type": "code",
   "execution_count": 14,
   "id": "32971b61",
   "metadata": {},
   "outputs": [],
   "source": [
    "def xbrl_url(index_xml_url):\n",
    "    \"\"\"Generate the URL to the XBML file in the filing directory \n",
    "    Args:\n",
    "        index_xml_url: URL to the EDGAR directory listing index.xml file.\n",
    "    Returns:\n",
    "        URL to the XBRL file in the filing directory.\n",
    "    \"\"\"\n",
    "    time.sleep(1)\n",
    "    \n",
    "    response = requests.get(index_xml_url, headers=EDGAR_HTTP_HEADERS)\n",
    "    if response.status_code == 200:\n",
    "        content = response.content.decode(\"utf-8\") \n",
    "    else:\n",
    "        Logger.error(\"%s failed with %s\" % (index_xml_url, response.status_code))\n",
    "        assert False, f\"{index_xml_url} failed with status {response.status_code}\"\n",
    "    \n",
    "    # --------------------------------------------------------------------------------\n",
    "    # Look for the XBRL XML file\n",
    "    # 1. _htm.xml file\n",
    "    # 2. <filename>.xml where \"filename\" is from <filename>.xsd.\n",
    "    # --------------------------------------------------------------------------------\n",
    "    # 1. Look for _htm.xml\n",
    "    index = BeautifulSoup(content, 'html.parser')\n",
    "    path_to_xbrl = index.find('href', string=re.compile(\".*_htm\\.xml\"))\n",
    "    if path_to_xbrl:\n",
    "        url = \"https://www.sec.gov\" + path_to_xbrl.string.strip()\n",
    "        Logger.debug(\"URL to XBRL is [%s]\" % url)\n",
    "        return url\n",
    "\n",
    "    # 2. Look for XSD\n",
    "    path_to_xsd = index.find('href', string=re.compile(\".*\\.xsd\"))\n",
    "    if path_to_xsd:\n",
    "        path_to_xml = path_to_xsd.string.replace(\".xsd\", \".xml\")\n",
    "        path_to_xbrl = index.find('href', string=path_to_xml)\n",
    "        if path_to_xbrl:\n",
    "            url = \"https://www.sec.gov\" + path_to_xbrl.string.strip()\n",
    "            Logger.debug(\"URL to XBRL is [%s]\" % url)\n",
    "            return url\n",
    "        else:\n",
    "            Logger.debug(\"No XBRL foudn with [%s]\" % path_to_xml)\n",
    "\n",
    "    # 3. Loo for XML with ([^R0-9]*)\n",
    "    regexp = index_xml_url.replace(\"index.xml\", \"\") + r\"[^R0-9]*\\.xml\"\n",
    "    path_to_xbrl = index.find('href', string=re.compile(regexp))\n",
    "    if path_to_xbrl:\n",
    "        url = \"https://www.sec.gov\" + path_to_xbrl.string.strip()\n",
    "        Logger.debug(\"URL to XBRL is [%s]\" % regexp)\n",
    "        return url\n",
    "    else:\n",
    "        Logger.debug(\"No XBRL foudn with [%s]\" % path_to_xml)\n",
    "                \n",
    "    assert False, \"No XBRL for %s\" % index_xml_url"
   ]
  },
  {
   "cell_type": "markdown",
   "id": "dc515f1d",
   "metadata": {},
   "source": [
    "## Download XBRL"
   ]
  },
  {
   "cell_type": "code",
   "execution_count": 15,
   "id": "9ea93c9f",
   "metadata": {},
   "outputs": [
    {
     "name": "stderr",
     "output_type": "stream",
     "text": [
      "DEBUG:urllib3.connectionpool:Starting new HTTPS connection (1): www.sec.gov:443\n",
      "DEBUG:urllib3.connectionpool:https://www.sec.gov:443 \"GET /Archives/edgar/data/1604778/000160477821000032/index.xml HTTP/1.1\" 200 1403\n",
      "DEBUG:__main__:URL to XBRL is [https://www.sec.gov/Archives/edgar/data/1604778/000160477821000032/rfmd-20210403_htm.xml]\n",
      "DEBUG:urllib3.connectionpool:Starting new HTTPS connection (1): www.sec.gov:443\n",
      "DEBUG:urllib3.connectionpool:https://www.sec.gov:443 \"GET /Archives/edgar/data/1604778/000160477821000032/rfmd-20210403_htm.xml HTTP/1.1\" 200 172082\n"
     ]
    }
   ],
   "source": [
    "response = requests.get(xbrl_url(INDEX_XML_URL), headers=EDGAR_HTTP_HEADERS)\n",
    "if response.status_code == 200:\n",
    "    content = response.content.decode(\"utf-8\") \n",
    "else:\n",
    "    assert False, f\"{XBRL_URL} failed with status {response.status_code}\"\n",
    "    \n",
    "del response"
   ]
  },
  {
   "cell_type": "markdown",
   "id": "017b4ad7",
   "metadata": {},
   "source": [
    "# XBRL"
   ]
  },
  {
   "cell_type": "code",
   "execution_count": 16,
   "id": "a21be374",
   "metadata": {},
   "outputs": [],
   "source": [
    "soup = BeautifulSoup(content, 'html.parser')"
   ]
  },
  {
   "cell_type": "code",
   "execution_count": 17,
   "id": "5b4ff223",
   "metadata": {},
   "outputs": [],
   "source": [
    "# Verify [<xbrl xmlns=\"http://www.xbrl.org/2003/instance\">]\n",
    "assert soup.find('xbrl', attrs={\"xmlns\": \"http://www.xbrl.org/2003/instance\"}), \\\n",
    "    f\"Invalid XBRL {INDEX_XML_URL}\""
   ]
  },
  {
   "cell_type": "markdown",
   "id": "ef53a718",
   "metadata": {},
   "source": [
    "## Company Name"
   ]
  },
  {
   "cell_type": "code",
   "execution_count": 18,
   "id": "4ed36156",
   "metadata": {},
   "outputs": [
    {
     "name": "stderr",
     "output_type": "stream",
     "text": [
      "DEBUG:__main__:QorvoInc\n"
     ]
    }
   ],
   "source": [
    "registrant_name = soup.find(\"dei:EntityRegistrantName\".lower()).string.strip()\n",
    "assert registrant_name, f\"No regstrant name found in {INDEX_XML_URL}\"\n",
    "\n",
    "# Remove non-ascii characters to form a company name\n",
    "registrant_name = ''.join(e for e in registrant_name if e.isalnum())\n",
    "Logger.debug(registrant_name)"
   ]
  },
  {
   "cell_type": "markdown",
   "id": "342da6cb",
   "metadata": {},
   "source": [
    "## Repoting period\n",
    "\n",
    "Each 10-K and 10-Q XBRL has the reporting period for the filing. To exclude the other period, e.g. pervious year or quarter, use the ```context id``` for the reporting period. **Most** 10-K, 10-Q specify the annual period with the first ```<startDate> and <endDate>``` tags.\n",
    "\n",
    "For instances:\n",
    "\n",
    "### QRVO 10-K 2020\n",
    "\n",
    "```\n",
    "<context id=\"ifb6ce67cf6954ebf88471dd82daa9247_D20200329-20210403\">\n",
    "    <entity>\n",
    "    <identifier scheme=\"http://www.sec.gov/CIK\">0001604778</identifier>\n",
    "    </entity>\n",
    "    <period>\n",
    "        <startDate>2020-03-29</startDate>\n",
    "        <endDate>2021-04-03</endDate>\n",
    "    </period>\n",
    "</context>\n",
    "```\n",
    "\n",
    "### AMKR 10-K 2020\n",
    "\n",
    "```\n",
    "<context id=\"i5fac0a392353427b8266f185495754d3_D20200101-20201231\">\n",
    "    <entity>\n",
    "    <identifier scheme=\"http://www.sec.gov/CIK\">0001047127</identifier>\n",
    "    </entity>\n",
    "    <period>\n",
    "        <startDate>2020-01-01</startDate>\n",
    "        <endDate>2020-12-31</endDate>\n",
    "    </period>\n",
    "</context>\n",
    "```\n",
    "\n",
    "### AAPL 10-Q 4th QTR 2020\n",
    "\n",
    "```\n",
    "<context id=\"i6e431846933d461fb8c8c0bdf98c9758_D20200927-20201226\">\n",
    "    <entity>\n",
    "    <identifier scheme=\"http://www.sec.gov/CIK\">0000320193</identifier>\n",
    "    </entity>\n",
    "    <period>\n",
    "        <startDate>2020-09-27</startDate>\n",
    "        <endDate>2020-12-26</endDate>\n",
    "    </period>\n",
    "</context>\n",
    "```\n",
    "\n",
    "**However, there are companies that do not have this manner**. For instance [10-K for OPTICAL CABLE CORPORATION(CIK=0001000230)](https://www.sec.gov/Archives/edgar/data/1000230/000143774921028951/occ20211031_10k_htm.xml) has the same start and end dates at first.\n",
    "\n",
    "```\n",
    "<context id=\"d202110K\">\n",
    "    <entity>\n",
    "        <identifier scheme=\"http://www.sec.gov/CIK\">0001000230</identifier>\n",
    "    </entity>\n",
    "    <period>\n",
    "        <startDate>2021-10-31</startDate>   # <-----\n",
    "        <endDate>2021-10-31</endDate>\n",
    "    </period>\n",
    "</context>\n",
    "<context id=\"d_2020-11-01_2021-10-31\">\n",
    "    <entity>\n",
    "        <identifier scheme=\"http://www.sec.gov/CIK\">0001000230</identifier>\n",
    "    </entity>\n",
    "    <period>\n",
    "        <startDate>2020-11-01</startDate>   # <-----\n",
    "        <endDate>2021-10-31</endDate>\n",
    "    </period>\n",
    "</context>\n",
    "```\n",
    "\n",
    "The report uses the 2nd for 2021 F/S element value but does not use the first one.\n",
    "\n",
    "**B/S**\n",
    "```\n",
    "<us-gaap:Assets \n",
    "    contextRef=\"i_2021-10-31\"    # <-----\n",
    "    decimals=\"INF\" \n",
    "    id=\"c79893606\" \n",
    "    unitRef=\"USD\"\n",
    ">\n",
    "  37916530\n",
    "</us-gaap:Assets>\n",
    "```\n",
    "\n",
    "**P/L**\n",
    "```\n",
    "<us-gaap:RevenueFromContractWithCustomerIncludingAssessedTax \n",
    "  contextRef=\"d_2020-11-01_2021-10-31\"     # <-----\n",
    "  decimals=\"INF\" \n",
    "  id=\"c79893662\" \n",
    "  unitRef=\"USD\"\n",
    ">\n",
    "  59136294\n",
    "</us-gaap:RevenueFromContractWithCustomerIncludingAssessedTax>\n",
    "```\n",
    "\n",
    "<img src='../image/edgar_optical_cable_2021_10K.png' align=\"left\" width=500/>"
   ]
  },
  {
   "cell_type": "markdown",
   "id": "9982a4f2",
   "metadata": {},
   "source": [
    "### Get the period from the 1st\n",
    "\n",
    "For now, just get the period from the 1st **period** element."
   ]
  },
  {
   "cell_type": "code",
   "execution_count": 19,
   "id": "0888bf98",
   "metadata": {},
   "outputs": [],
   "source": [
    "def report_period_end_date(soup):\n",
    "    \"\"\"Identify the end date of the report period from the first \"context\" tag\n",
    "    in the XBRL that has <period><startDate> tag as its child tag. \n",
    "\n",
    "    <context id=\"ifb6ce67cf6954ebf88471dd82daa9247_D20200329-20210403\">\n",
    "        <entity>\n",
    "        <identifier scheme=\"http://www.sec.gov/CIK\">0001604778</identifier>\n",
    "        </entity>\n",
    "        <period>\n",
    "            <startDate>2020-03-29</startDate>\n",
    "            <endDate>2021-04-03</endDate>        # <-----\n",
    "        </period>\n",
    "    </context>\n",
    "\n",
    "    Args:\n",
    "        soup: Source BS4\n",
    "    Returns: reporting period e.g. \"2021-09-30\"\n",
    "    \"\"\"\n",
    "    first_context = None\n",
    "    for context in soup.find_all('context'):\n",
    "        if context.find('period') and context.find('period').find('enddate'):\n",
    "            first_context = context\n",
    "            break      \n",
    "        \n",
    "    assert first_context is not None, \"No period found\"\n",
    "    period = first_context.find('period').find('enddate').text.strip()\n",
    "    \n",
    "    try:\n",
    "        dateutil.parser.parse(period)\n",
    "    except ValueError as e:\n",
    "        assert False, f\"Invalid period {period} found.\"\n",
    "            \n",
    "    return period"
   ]
  },
  {
   "cell_type": "code",
   "execution_count": 20,
   "id": "ef4f78ba",
   "metadata": {},
   "outputs": [
    {
     "data": {
      "text/plain": [
       "'2021-04-03'"
      ]
     },
     "execution_count": 20,
     "metadata": {},
     "output_type": "execute_result"
    }
   ],
   "source": [
    "report_period_end_date = report_period_end_date(soup)\n",
    "report_period_end_date"
   ]
  },
  {
   "cell_type": "markdown",
   "id": "4681282d",
   "metadata": {},
   "source": [
    "### Regexp to find all the contexts that match with report_period_end_date\n",
    "\n",
    "10-K, 10-Q F/S uses multiple contexts to refer to the F/S element values for the **period**. Collect all the contexts for the **period**."
   ]
  },
  {
   "cell_type": "code",
   "execution_count": 21,
   "id": "52ee4a74",
   "metadata": {},
   "outputs": [],
   "source": [
    "def target_context_ids(soup, period_end_date: str, form_type: str):\n",
    "    \"\"\"\n",
    "    Extract all the contexts that refer to the reporting period of the filing.\n",
    "\n",
    "    XBRL (10-K,10-Q) uses multiple contexts to refer to the F/S items in the\n",
    "    reporting period. Collect all the contexts for the period.\n",
    "    \n",
    "    [Example]\n",
    "    Context ID=\"ifb6ce67cf6954ebf88471dd82daa9247_D20200329-20210403\" for the\n",
    "    10-K reporting period (fiscal year ended April 3, 2021).\n",
    "    \n",
    "    <context id=\"ifb6ce67cf6954ebf88471dd82daa9247_D20200329-20210403\">\n",
    "        <entity>\n",
    "        <identifier scheme=\"http://www.sec.gov/CIK\">0001604778</identifier>\n",
    "        </entity>\n",
    "        <period>\n",
    "            <startDate>2020-03-29</startDate>\n",
    "            <endDate>2021-04-03</endDate>         # <--- end of the period\n",
    "        </period>\n",
    "    </context>\n",
    "    \n",
    "    Revenues for Fiscal 2021 has the context ID of the period.\n",
    "    <us-gaap:Revenues\n",
    "        contextRef=\"ifb6ce67cf6954ebf88471dd82daa9247_D20200329-20210403\" <---\n",
    "        decimals=\"-3\" \n",
    "        id=...\n",
    "        unitRef=\"usd\"\n",
    "    >\n",
    "    4015307000\n",
    "    </us-gaap:Revenues>\n",
    "    \n",
    "    Revenues for Fiscal 2020 has a different context ID.    \n",
    "    <us-gaap:Revenues \n",
    "        contextRef=\"i8cb18639eb7241dc9a6d20dd6ef765f3_D20190331-20200328\" \n",
    "        decimals=\"-3\" \n",
    "        id=...\n",
    "        unitRef=\"usd\"\n",
    "    >\n",
    "    3239141000\n",
    "    </us-gaap:Revenues>\n",
    "    \n",
    "    Args:\n",
    "        soup: BS4 source\n",
    "        period_end_date: Dnd date of the reporting period\n",
    "        form_type: Filing form type e.g. FORM_TYPE_10K\n",
    "    \"\"\"\n",
    "    target_context_ids = []\n",
    "\n",
    "    end_date = dateutil.parser.parse(period_end_date)\n",
    "    if form_type == SEC_FORM_TYPE_10K:\n",
    "        duration = datetime.timedelta(days=365) \n",
    "    elif form_type == SEC_FORM_TYPE_10Q:\n",
    "        datetime.timedelta(days=90)\n",
    "    else:\n",
    "        assert f\"The form type {form_type} is not currently supported\"\n",
    "\n",
    "    # --------------------------------------------------------------------------------\n",
    "    # (from, to) range wherein the start date of the reprting period should exits.\n",
    "    #\n",
    "    # It is expected that report_start_date = (report_end_date - duration) +/- 30 days.\n",
    "    # If 10-K period ends 2021-04-03, the start date should be in-between the two:\n",
    "    # 2020-03-04 (end_date - duration - datetime.timedelta(days=30) and \n",
    "    # 2020-05-03 (end_date - duration + datetime.timedelta(days=30).\n",
    "    # --------------------------------------------------------------------------------\n",
    "    from_date = end_date - duration - datetime.timedelta(days=30)\n",
    "    to_date = end_date - duration + datetime.timedelta(days=30)\n",
    "\n",
    "    # --------------------------------------------------------------------------------\n",
    "    # Contexts with 'startdate' child tag\n",
    "    # Find the context tags whose <period><startDate> child tag value is in-between\n",
    "    # (from, to) range. Those are the tags that refer to the current reporting period.\n",
    "    # --------------------------------------------------------------------------------\n",
    "    for context in soup.find_all('context'):\n",
    "        # Find context whose <period>/<endDate> child tag value matches the end date of the period\n",
    "        if context.find('period') and context.find('period').find('enddate', string=period_end_date):\n",
    "            # Get the <period><startDate> value\n",
    "            start = dateutil.parser.parse(context.find('period').find('startdate').text)\n",
    "            # --------------------------------------------------------------------------------\n",
    "            # If the startDate is in-between (from, to), or equal to period_end_date,\n",
    "            # then the context is the one that refers to the current report period.\n",
    "            #\n",
    "            # Why \"start date equal to period end date\"?\n",
    "            # [<period><startDate> == <period><endDate>] can happen in the \"context\" tag\n",
    "            # that refers to the current reporting period for some companies e.g. \n",
    "            # 10-K of October 31, 2021 by Optical Cable Corporation.\n",
    "            # --------------------------------------------------------------------------------\n",
    "            if start == end_date or (from_date < start and start < to_date):\n",
    "                target_context_ids.append(context['id'])\n",
    "\n",
    "    # --------------------------------------------------------------------------------\n",
    "    # Contexts with 'instant' child tag\n",
    "    # Find the context tags whose <period><instant> has the period_end_date value.\n",
    "    # Those are the tags that also refer to the current reporting period.\n",
    "    # --------------------------------------------------------------------------------\n",
    "    target_context_ids.extend([\n",
    "        context['id'] for context in soup.find_all('context') \n",
    "        if context.find('period') and context.find('period').find(['instant'], string=period_end_date)\n",
    "    ])\n",
    "    \n",
    "    return target_context_ids"
   ]
  },
  {
   "cell_type": "code",
   "execution_count": 22,
   "id": "557c2bfe",
   "metadata": {},
   "outputs": [
    {
     "name": "stdout",
     "output_type": "stream",
     "text": [
      "Range: (2020-03-04, 2020-05-03)\n"
     ]
    }
   ],
   "source": [
    "# Example\n",
    "end_date = dateutil.parser.parse(\"2021-04-03\")\n",
    "duration = datetime.timedelta(days=365) \n",
    "\n",
    "_from = end_date - duration - datetime.timedelta(days=30)\n",
    "_to  = end_date - duration + datetime.timedelta(days=30)\n",
    "print(f\"Range: ({str(_from)[:10]}, {str(_to)[:10]})\")"
   ]
  },
  {
   "cell_type": "markdown",
   "id": "0a8b24ae",
   "metadata": {},
   "source": [
    "# Constant"
   ]
  },
  {
   "cell_type": "code",
   "execution_count": 23,
   "id": "dab3debf",
   "metadata": {},
   "outputs": [],
   "source": [
    "# XBRL Namespace\n",
    "NAMESPACE = \"us-gaap\""
   ]
  },
  {
   "cell_type": "code",
   "execution_count": 24,
   "id": "db48641f",
   "metadata": {},
   "outputs": [],
   "source": [
    "ELEMENT_TYPE_DEBIT = 'debit'\n",
    "ELEMENT_TYPE_CREDIT = 'credit'\n",
    "ELEMENT_TYPE_CALC = 'calc'      # calculated value e.g. sub total \n",
    "ELEMENT_TYPE_METRIC = 'metric'  # metrics e.g. EPS\n",
    "ELEMENT_TYPE_FACT = 'fact'\n",
    "\n",
    "CREDIT_ITEMS = set(map(str.lower, [\n",
    "    # P/L\n",
    "    f\"{NAMESPACE}:Revenues\",\n",
    "    f\"{NAMESPACE}:RevenueFromContractWithCustomerExcludingAssessedTax\",\n",
    "    f\"{NAMESPACE}:DeferredRevenue\",\n",
    "    f\"{NAMESPACE}:RevenueMineralSales\",\n",
    "    f\"{NAMESPACE}:DeferredRevenueCurrent\",\n",
    "    f\"{NAMESPACE}:HealthCareOrganizationRevenue\",\n",
    "    f\"{NAMESPACE}:SalesRevenueGoodsGross\",\n",
    "    f\"{NAMESPACE}:RealEstateRevenueNet\",\n",
    "    f\"{NAMESPACE}:SalesOfRealEstate\",\n",
    "    f\"{NAMESPACE}:AdvertisingRevenue\",\n",
    "    f\"{NAMESPACE}:ElectricalGenerationRevenue\",\n",
    "    f\"{NAMESPACE}:ContractsRevenue\",\n",
    "    f\"{NAMESPACE}:AdmissionsRevenue\",\n",
    "    f\"{NAMESPACE}:InsuranceServicesRevenue\",\n",
    "    f\"{NAMESPACE}:BrokerageCommissionsRevenue\",\n",
    "    f\"{NAMESPACE}:OtherNonoperatingIncomeExpense\",  # Why this is in credit?\n",
    "    f\"{NAMESPACE}:CashAndCashEquivalentsAtCarryingValue\",\n",
    "    f\"{NAMESPACE}:OtherAlternativeEnergySalesRevenue\",\n",
    "    f\"{NAMESPACE}:RegulatedAndUnregulatedOperatingRevenue\",\n",
    "    \n",
    "    # B/S (Assets)\n",
    "    f\"{NAMESPACE}:RestrictedCashAndCashEquivalentsNoncurrent\",\n",
    "    f\"{NAMESPACE}:RestrictedCashEquivalentsCurrent\",\n",
    "    f\"{NAMESPACE}:RestrictedCashAndCashEquivalentsAtCarryingValue\",\n",
    "    f\"{NAMESPACE}:ShortTermInvestments\",\n",
    "    f\"{NAMESPACE}:ReceivablesNetCurrent\",\n",
    "    f\"{NAMESPACE}:OtherReceivables\",\n",
    "    f\"{NAMESPACE}:AccountsReceivableNetCurrent\",\n",
    "    f\"{NAMESPACE}:InventoryNet\",\n",
    "    f\"{NAMESPACE}:PrepaidExpenseCurrent\",\n",
    "    f\"{NAMESPACE}:PrepaidExpenseAndOtherAssetsCurrent\",\n",
    "    f\"{NAMESPACE}:PropertyPlantAndEquipmentNet\",\n",
    "    f\"{NAMESPACE}:DeferredIncomeTaxAssetsNet\",\n",
    "    f\"{NAMESPACE}:GoodWill\",\n",
    "    f\"{NAMESPACE}:IntangibleAssetsNetExcludingGoodwill\",\n",
    "    f\"{NAMESPACE}:OtherAssetsCurrent\",\n",
    "    f\"{NAMESPACE}:OtherAssetsNoncurrent\",\n",
    "    f\"{NAMESPACE}:OperatingLeaseRightOfUseAsset\",\n",
    "    \n",
    "    \n",
    "]))\n",
    "\n",
    "DEBIT_ITEMS = set(map(str.lower, [\n",
    "    # P/L\n",
    "    f\"{NAMESPACE}:CostOfRevenue\",\n",
    "    f\"{NAMESPACE}:CostOfGoods\",\n",
    "    f\"{NAMESPACE}:CostOfGoodsAndServicesSold\",\n",
    "    f\"{NAMESPACE}:CostOfServicesLicensesAndServices\",\n",
    "    f\"{NAMESPACE}:ContractRevenueCost\",\n",
    "    f\"{NAMESPACE}:LicenseCosts\",\n",
    "    f\"{NAMESPACE}:ResearchAndDevelopmentExpense\",\n",
    "    f\"{NAMESPACE}:SellingGeneralAndAdministrativeExpense\",\n",
    "    f\"{NAMESPACE}:OtherCostAndExpenseOperating\",\n",
    "    f\"{NAMESPACE}:IncomeTaxExpenseBenefit\",\n",
    "    f\"{NAMESPACE}:InterestExpense\",\n",
    "    \n",
    "    # B/S (Liabilities)\n",
    "    f\"{NAMESPACE}:AccountsPayableCurrent\",\n",
    "    f\"{NAMESPACE}:CapitalExpendituresIncurredButNotYetPaid\",\n",
    "    f\"{NAMESPACE}:AccruedLiabilitiesCurrent\",\n",
    "    f\"{NAMESPACE}:TaxesPayableCurrent\",\n",
    "    f\"{NAMESPACE}:LongTermDebtCurrent\",\n",
    "    f\"{NAMESPACE}:LongTermLoansFromBank\",\n",
    "    f\"{NAMESPACE}:DeferredIncomeTaxLiabilitiesNet\",\n",
    "    f\"{NAMESPACE}:LongTermDebt\",\n",
    "    f\"{NAMESPACE}:LongTermDebtNoncurrent\",\n",
    "    f\"{NAMESPACE}:PostemploymentBenefitsLiabilityNoncurrent\",\n",
    "    f\"{NAMESPACE}:PensionAndOtherPostretirementAndPostemploymentBenefitPlansLiabilitiesNoncurrent\",\n",
    "    f\"{NAMESPACE}:OperatingLeaseLiabilityNoncurrent\",\n",
    "    f\"{NAMESPACE}:OtherLiabilitiesNoncurrent\",\n",
    "    # B/S (SE)\n",
    "    f\"{NAMESPACE}:AdditionalPaidInCapitalCommonStock\",\n",
    "    f\"{NAMESPACE}:CommonStockValue\",\n",
    "    f\"{NAMESPACE}:CommonStocksIncludingAdditionalPaidInCapital\",\n",
    "    f\"{NAMESPACE}:RetainedEarningsAppropriated\",\n",
    "    f\"{NAMESPACE}:RetainedEarningsAccumulatedDeficit\",\n",
    "    f\"{NAMESPACE}:AccumulatedOtherComprehensiveIncomeLossNetOfTax\",\n",
    "    f\"{NAMESPACE}:MinorityInterest\",\n",
    "    \n",
    "]))\n",
    "\n",
    "CALC_ITEMS = set(map(str.lower, [\n",
    "    # P/L\n",
    "    f\"{NAMESPACE}:OperatingExpenses\",\n",
    "    f\"{NAMESPACE}:GrossProfit\",\n",
    "    f\"{NAMESPACE}:OperatingIncomeLoss\",\n",
    "    f\"{NAMESPACE}:ProfitLoss\",    \n",
    "    f\"{NAMESPACE}:NetIncomeLoss\",    \n",
    "    f\"{NAMESPACE}:NonoperatingIncomeExpense\",\n",
    "\n",
    "    # B/S (Credit)\n",
    "    f\"{NAMESPACE}:AssetsCurrent\",    \n",
    "    f\"{NAMESPACE}:Assets\",    \n",
    "    # B/S (Debit/Liabilities)\n",
    "    f\"{NAMESPACE}:LiabilitiesCurrent\",\n",
    "    f\"{NAMESPACE}:Liabilities\",\n",
    "    # B/S (Debit/SE)\n",
    "    f\"{NAMESPACE}:StockholdersEquity\",\n",
    "    f\"{NAMESPACE}:StockholdersEquityIncludingPortionAttributableToNoncontrollingInterest\",\n",
    "    f\"{NAMESPACE}:LiabilitiesAndStockholdersEquity\",\n",
    "    \n",
    "]))\n",
    "\n",
    "METRIC_ITEMS = set(map(str.lower, [\n",
    "    f\"{NAMESPACE}:EarningsPerShareBasic\",\n",
    "    f\"{NAMESPACE}:EarningsPerShareBasicAndDiluted\",\n",
    "]))\n",
    "\n",
    "FACT_ITEMS = set(map(str.lower, [\n",
    "    f\"{NAMESPACE}:SharesOutstanding\",\n",
    "    f\"{NAMESPACE}:CommonStockSharesOutstanding\",\n",
    "    f\"{NAMESPACE}:CommonStockOtherSharesOutstanding\",\n",
    "]))"
   ]
  },
  {
   "cell_type": "code",
   "execution_count": 25,
   "id": "326602c0",
   "metadata": {},
   "outputs": [],
   "source": [
    "CONTEXT_REGEXP = re.compile(\"|\".join(\n",
    "    target_context_ids(soup=soup, period_end_date=report_period_end_date, form_type=FORM_TYPE))\n",
    ")"
   ]
  },
  {
   "cell_type": "markdown",
   "id": "0ff7cd8b",
   "metadata": {},
   "source": [
    "# Utilities"
   ]
  },
  {
   "cell_type": "code",
   "execution_count": 26,
   "id": "e9738300",
   "metadata": {},
   "outputs": [],
   "source": [
    "def assert_bf4_tag(element):\n",
    "    assert isinstance(element, bs4.element.Tag), \\\n",
    "    f\"Expected BS4 tag but {element} of type {type(element)}\""
   ]
  },
  {
   "cell_type": "code",
   "execution_count": 27,
   "id": "ce1dd4d6",
   "metadata": {},
   "outputs": [],
   "source": [
    "def display_elements(elements):\n",
    "    assert isinstance(elements, bs4.element.ResultSet) or isinstance(elements[0], bs4.element.Tag)\n",
    "    for element in elements: # decimals=\"-3\" means the displayed value is divied by 1000.\n",
    "        print(f\"{element.name:80} {element['unitref']:5} {element['decimals']:5} {element.text:15}\")"
   ]
  },
  {
   "cell_type": "code",
   "execution_count": 28,
   "id": "c5b3f246",
   "metadata": {},
   "outputs": [],
   "source": [
    "def get_element_hash(element):\n",
    "    \"\"\"Generate the financial element hash key to uniquely identify an financial element record\n",
    "    In a F/S, the same element, e.g. gaap:CashAndCashEquivalentsAtCarryingValue can be used at\n",
    "    multiple places, one in B/S and one in P/L.\n",
    "    \n",
    "    To be able to identify if two elements are the same, provides a way to be able to compare\n",
    "    two elements by generating a hash key from the attributes of an element.\n",
    "    \n",
    "    Args:\n",
    "        element: bs4.element.Tag for an financial element\n",
    "    Returns: hash key\n",
    "    \"\"\"\n",
    "    assert isinstance(element, bs4.element.Tag)\n",
    "    # key = f\"{element.name}{element['unitref']}{element['contextref']}{element.text}\"\n",
    "    # key = f\"{element.name}{element['unitref']}{element.text}\"\n",
    "    key = f\"{element.name}{element['unitref']}\"\n",
    "    return hash(key)"
   ]
  },
  {
   "cell_type": "code",
   "execution_count": 29,
   "id": "d4640ab6",
   "metadata": {},
   "outputs": [],
   "source": [
    "# XBRL attribute conditions to match when extracting FS elements\n",
    "ATTRIBUTES = {\n",
    "    \"contextref\": CONTEXT_REGEXP,\n",
    "    \"decimals\": True, \n",
    "    \"unitref\": True\n",
    "}\n",
    "\n",
    "\n",
    "def find_financial_elements(soup, element_names, attributes=ATTRIBUTES):\n",
    "    \"\"\"Find the financial statement elements from the XML/HTML source.\n",
    "    Args:\n",
    "        soup: BS4 source\n",
    "        element_names: String or regexp instance to select the financial elements.\n",
    "        attribute: tag attributes to select the financial elements\n",
    "    Returns:\n",
    "        List of BS4 tag objects that matched the element_names and attributes.\n",
    "    \"\"\"\n",
    "    assert isinstance(soup, BeautifulSoup)\n",
    "    assert isinstance(element_names, re.Pattern) or isinstance(element_names, str)\n",
    "\n",
    "    \n",
    "    names = element_names.lower() if isinstance(element_names, str) else element_names\n",
    "\n",
    "    elements = soup.find_all(\n",
    "        name=names,\n",
    "        string=REGEXP_NUMERIC,\n",
    "        attrs=attributes\n",
    "    )\n",
    "    \n",
    "    # Select unique elements\n",
    "    hashes = set([]) \n",
    "    results = []\n",
    "    if elements is not None and len(elements) > 0:\n",
    "        for element in elements:\n",
    "            hash_value = get_element_hash(element)\n",
    "            if hash_value not in hashes:\n",
    "                results.append(element) \n",
    "                hashes.add(hash_value)\n",
    "\n",
    "    return results"
   ]
  },
  {
   "cell_type": "code",
   "execution_count": 30,
   "id": "98361b59",
   "metadata": {},
   "outputs": [
    {
     "name": "stdout",
     "output_type": "stream",
     "text": [
      "us-gaap:allowancefordoubtfulaccountsreceivablecurrent                                               :331000\n",
      "us-gaap:preferredstockparorstatedvaluepershare                                                      :0.0001\n",
      "us-gaap:preferredstocksharesauthorized                                                              :5000000\n",
      "us-gaap:preferredstocksharesissued                                                                  :0\n",
      "us-gaap:preferredstocksharesoutstanding                                                             :0\n",
      "us-gaap:commonstockparorstatedvaluepershare                                                         :0.0001\n",
      "us-gaap:commonstocksharesauthorized                                                                 :405000000\n",
      "us-gaap:commonstocksharesissued                                                                     :112557000\n",
      "us-gaap:commonstocksharesoutstanding                                                                :112557000\n",
      "us-gaap:goodwillimpairmentloss                                                                      :0\n",
      "us-gaap:cashandcashequivalentsatcarryingvalue                                                       :1397880000\n",
      "us-gaap:accountsreceivablenetcurrent                                                                :457431000\n",
      "us-gaap:inventorynet                                                                                :507787000\n",
      "us-gaap:prepaidexpensecurrent                                                                       :41572000\n",
      "us-gaap:otherreceivables                                                                            :27324000\n",
      "us-gaap:otherassetscurrent                                                                          :51810000\n",
      "us-gaap:assetscurrent                                                                               :2483804000\n",
      "us-gaap:propertyplantandequipmentnet                                                                :1266031000\n",
      "us-gaap:goodwill                                                                                    :2642708000\n",
      "us-gaap:intangibleassetsnetexcludinggoodwill                                                        :611155000\n",
      "us-gaap:longterminvestments                                                                         :35370000\n",
      "us-gaap:otherassetsnoncurrent                                                                       :182402000\n",
      "us-gaap:assets                                                                                      :7221470000\n",
      "us-gaap:accountspayablecurrent                                                                      :313868000\n",
      "us-gaap:accruedliabilitiescurrent                                                                   :255060000\n",
      "us-gaap:longtermdebtcurrent                                                                         :5092000\n",
      "us-gaap:otherliabilitiescurrent                                                                     :107561000\n",
      "us-gaap:liabilitiescurrent                                                                          :681581000\n",
      "us-gaap:longtermdebt                                                                                :1742550000\n",
      "us-gaap:otherliabilitiesnoncurrent                                                                  :167914000\n",
      "us-gaap:liabilities                                                                                 :2592045000\n",
      "us-gaap:preferredstockvalue                                                                         :0\n",
      "us-gaap:commonstocksincludingadditionalpaidincapital                                                :4244740000\n",
      "us-gaap:accumulatedothercomprehensiveincomelossnetoftax                                             :29649000\n",
      "us-gaap:retainedearningsaccumulateddeficit                                                          :355036000\n",
      "us-gaap:stockholdersequity                                                                          :4629425000\n",
      "us-gaap:liabilitiesandstockholdersequity                                                            :7221470000\n",
      "us-gaap:revenues                                                                                    :4015307000\n",
      "us-gaap:costofgoodsandservicessold                                                                  :2131741000\n",
      "us-gaap:grossprofit                                                                                 :1883566000\n",
      "us-gaap:researchanddevelopmentexpense                                                               :570395000\n",
      "us-gaap:sellinggeneralandadministrativeexpense                                                      :367238000\n",
      "us-gaap:othercostandexpenseoperating                                                                :39306000\n",
      "us-gaap:operatingexpenses                                                                           :976939000\n",
      "us-gaap:operatingincomeloss                                                                         :906627000\n",
      "us-gaap:interestexpense                                                                             :75198000\n",
      "us-gaap:othernonoperatingincomeexpense                                                              :-24049000\n",
      "us-gaap:incomelossfromcontinuingoperationsbeforeincometaxesminorityinterestandincomelossfromequitymethodinvestments:807380000\n",
      "us-gaap:incometaxexpensebenefit                                                                     :73769000\n",
      "us-gaap:netincomeloss                                                                               :733611000\n",
      "us-gaap:earningspersharebasic                                                                       :6.43\n",
      "us-gaap:earningspersharediluted                                                                     :6.32\n",
      "us-gaap:weightedaveragenumberofsharesoutstandingbasic                                               :114034000\n",
      "us-gaap:weightedaveragenumberofdilutedsharesoutstanding                                             :116016000\n",
      "us-gaap:othercomprehensiveincomeunrealizedholdinggainlossonsecuritiesarisingduringperiodnetoftax    :0\n",
      "us-gaap:othercomprehensiveincomelosspensionandotherpostretirementbenefitplansadjustmentbeforereclassificationadjustmentsnetoftax:597000\n",
      "us-gaap:othercomprehensiveincomeforeigncurrencytransactionandtranslationgainlossbeforereclassificationandtax:27859000\n",
      "us-gaap:othercomprehensiveincomelossforeigncurrencytransactionandtranslationreclassificationadjustmentfromaocirealizeduponsaleorliquidationnetoftax:-16000\n",
      "us-gaap:othercomprehensiveincomelossreclassificationadjustmentfromaocipensionandotherpostretirementbenefitplansfornetgainlossnetoftax:-83000\n",
      "us-gaap:othercomprehensiveincomelossnetoftax                                                        :27361000\n",
      "us-gaap:comprehensiveincomenetoftax                                                                 :760972000\n",
      "us-gaap:stockissuedduringperiodsharesemployeestockpurchaseplans                                     :417000\n",
      "us-gaap:stockissuedduringperiodvalueemployeestockpurchaseplan                                       :31366000\n",
      "us-gaap:stockrepurchasedduringperiodshares                                                          :3642000\n",
      "us-gaap:stockrepurchasedduringperiodvalue                                                           :136568000\n",
      "us-gaap:stockissuedduringperiodvaluesharebasedcompensation                                          :88728000\n",
      "us-gaap:depreciation                                                                                :203206000\n",
      "us-gaap:amortizationofintangibleassets                                                              :252898000\n",
      "us-gaap:gainslossesonextinguishmentofdebt                                                           :-61991000\n",
      "us-gaap:deferredincometaxexpensebenefit                                                             :-18136000\n",
      "us-gaap:businesscombinationstepacquisitionequityinterestinacquireeremeasurementgain                 :0\n",
      "us-gaap:costmethodinvestmentsotherthantemporaryimpairment                                           :2775000\n",
      "us-gaap:assetimpairmentcharges                                                                      :0\n",
      "us-gaap:sharebasedcompensation                                                                      :89322000\n",
      "us-gaap:otheroperatingactivitiescashflowstatement                                                   :-2151000\n",
      "us-gaap:increasedecreaseinaccountsreceivable                                                        :91275000\n",
      "us-gaap:increasedecreaseininventories                                                               :-9390000\n",
      "us-gaap:increasedecreaseinprepaiddeferredexpenseandotherassets                                      :18490000\n",
      "us-gaap:increasedecreaseinaccountspayable                                                           :34201000\n",
      "us-gaap:increasedecreaseinaccruedliabilities                                                        :30671000\n",
      "us-gaap:increasedecreaseinaccruedincometaxespayable                                                 :34618000\n",
      "us-gaap:increasedecreaseinotheroperatingliabilities                                                 :-20778000\n",
      "us-gaap:netcashprovidedbyusedinoperatingactivities                                                  :1301853000\n",
      "us-gaap:paymentstoacquirepropertyplantandequipment                                                  :186960000\n",
      "us-gaap:paymentstoacquireavailableforsalesecuritiesdebt                                             :0\n",
      "us-gaap:proceedsfromsaleandmaturityofavailableforsalesecurities                                     :0\n",
      "us-gaap:paymentstoacquirebusinessesnetofcashacquired                                                :47069000\n",
      "us-gaap:paymentsforproceedsfromotherinvestingactivities                                             :-15371000\n",
      "us-gaap:netcashprovidedbyusedininvestingactivities                                                  :-218658000\n",
      "us-gaap:repaymentsoflongtermdebt                                                                    :1087994000\n",
      "us-gaap:proceedsfromrepaymentsofdebt                                                                :1206750000\n",
      "us-gaap:paymentsforrepurchaseofcommonstock                                                          :515084000\n",
      "us-gaap:proceedsfromissuanceofsharesunderincentiveandsharebasedcompensationplansincludingstockoptions:42598000\n",
      "us-gaap:paymentsrelatedtotaxwithholdingforsharebasedcompensation                                    :38658000\n",
      "us-gaap:proceedsfrompaymentsforotherfinancingactivities                                             :-9535000\n",
      "us-gaap:netcashprovidedbyusedinfinancingactivities                                                  :-401923000\n",
      "us-gaap:effectofexchangerateoncashcashequivalentsrestrictedcashandrestrictedcashequivalents         :1425000\n",
      "us-gaap:cashcashequivalentsrestrictedcashandrestrictedcashequivalentsperiodincreasedecreaseincludingexchangerateeffect:682697000\n",
      "us-gaap:cashcashequivalentsrestrictedcashandrestrictedcashequivalents                               :1398309000\n",
      "us-gaap:restrictedcash                                                                              :429000\n",
      "us-gaap:interestpaidnet                                                                             :81232000\n",
      "us-gaap:incometaxespaid                                                                             :53236000\n",
      "us-gaap:capitalexpendituresincurredbutnotyetpaid                                                    :56469000\n",
      "us-gaap:accruedsalariescurrentandnoncurrent                                                         :135400000\n",
      "us-gaap:interestpayablecurrentandnoncurrent                                                         :17500000\n",
      "us-gaap:revenueremainingperformanceobligation                                                       :87500000\n",
      "us-gaap:employeeservicesharebasedcompensationnonvestedawardstotalcompensationcostnotyetrecognized   :103700000\n",
      "us-gaap:concentrationriskpercentage1                                                                :0.30\n",
      "us-gaap:inventoryrawmaterialsnetofreserves                                                          :134959000\n",
      "us-gaap:inventoryworkinprocessnetofreserves                                                         :283067000\n",
      "us-gaap:inventoryfinishedgoodsnetofreserves                                                         :89761000\n",
      "us-gaap:land                                                                                        :25842000\n",
      "us-gaap:buildingsandimprovementsgross                                                               :411180000\n",
      "us-gaap:machineryandequipmentgross                                                                  :2282059000\n",
      "us-gaap:constructioninprogressgross                                                                 :108563000\n",
      "us-gaap:propertyplantandequipmentgross                                                              :2827644000\n",
      "us-gaap:accumulateddepreciationdepletionandamortizationpropertyplantandequipment                    :1561613000\n",
      "us-gaap:businesscombinationintegrationrelatedcosts                                                  :2400000\n",
      "us-gaap:businesscombinationcontingentconsiderationliabilitycurrent                                  :10000000.0\n",
      "us-gaap:indefinitelivedintangibleassetsexcludinggoodwill                                            :9600000\n",
      "us-gaap:goodwillacquiredduringperiod                                                                :21840000\n",
      "us-gaap:goodwillperiodincreasedecrease                                                              :-2074000\n",
      "us-gaap:goodwillforeigncurrencytranslationgainloss                                                  :9185000\n",
      "us-gaap:goodwillimpairedaccumulatedimpairmentloss                                                   :621600000\n",
      "us-gaap:finitelivedintangibleassetsgross                                                            :1295113000\n",
      "us-gaap:finitelivedintangibleassetsaccumulatedamortization                                          :750044000\n",
      "us-gaap:intangibleassetsgrossexcludinggoodwill                                                      :1768918000\n",
      "us-gaap:finitelivedintangibleassetsamortizationexpensenexttwelvemonths                              :122000000\n",
      "us-gaap:finitelivedintangibleassetsamortizationexpenseyeartwo                                       :106000000\n",
      "us-gaap:finitelivedintangibleassetsamortizationexpenseyearthree                                     :94000000\n",
      "us-gaap:finitelivedintangibleassetsamortizationexpenseyearfour                                      :79000000\n",
      "us-gaap:finitelivedintangibleassetsamortizationexpenseyearfive                                      :73000000\n",
      "us-gaap:equitymethodinvestments                                                                     :29800000\n",
      "us-gaap:equitysecuritiesfvniunrealizedgainloss                                                      :21500000\n",
      "us-gaap:proceedsfromlimitedpartnershipinvestments                                                   :5900000\n",
      "us-gaap:marketablesecurities                                                                        :3802000\n",
      "us-gaap:deferredcompensationplanassets                                                              :32824000\n",
      "us-gaap:operatingleaserightofuseasset                                                               :62925000\n",
      "us-gaap:operatingleaseliabilitycurrent                                                              :15068000\n",
      "us-gaap:operatingleaseliabilitynoncurrent                                                           :53172000\n",
      "us-gaap:operatingleaseexpense                                                                       :17382000\n",
      "us-gaap:shorttermleasecost                                                                          :7062000\n",
      "us-gaap:variableleasecost                                                                           :3972000\n",
      "us-gaap:operatingleasepayments                                                                      :18697000\n",
      "us-gaap:rightofuseassetobtainedinexchangeforoperatingleaseliability                                 :12899000\n",
      "us-gaap:operatingleaseweightedaveragediscountratepercent                                            :0.0382\n",
      "us-gaap:lesseeoperatingleaseliabilitypaymentsduenexttwelvemonths                                    :17194000\n",
      "us-gaap:lesseeoperatingleaseliabilitypaymentsdueyeartwo                                             :12608000\n",
      "us-gaap:lesseeoperatingleaseliabilitypaymentsdueyearthree                                           :9823000\n",
      "us-gaap:lesseeoperatingleaseliabilitypaymentsdueyearfour                                            :7715000\n",
      "us-gaap:lesseeoperatingleaseliabilitypaymentsdueyearfive                                            :7603000\n",
      "us-gaap:lesseeoperatingleaseliabilitypaymentsdueafteryearfive                                       :23900000\n",
      "us-gaap:lesseeoperatingleaseliabilitypaymentsdue                                                    :78843000\n",
      "us-gaap:lesseeoperatingleaseliabilityundiscountedexcessamount                                       :10603000\n",
      "us-gaap:operatingleaseliability                                                                     :68240000\n",
      "us-gaap:repaymentsoflinesofcredit                                                                   :2500000\n",
      "us-gaap:interestpaid                                                                                :2400000\n",
      "us-gaap:proceedsfromlinesofcredit                                                                   :0\n",
      "us-gaap:longtermdebtmaturitiesrepaymentsofprincipalinnextrollingtwelvemonths                        :5000000\n",
      "us-gaap:longtermdebtmaturitiesrepaymentsofprincipalinrollingyeartwo                                 :7500000\n",
      "us-gaap:longtermdebtmaturitiesrepaymentsofprincipalinrollingyearthree                               :7500000\n",
      "us-gaap:longtermdebtmaturitiesrepaymentsofprincipalinrollingyearfour                                :10000000\n",
      "us-gaap:longtermdebtmaturitiesrepaymentsofprincipalinrollingyearfive                                :167500000\n",
      "us-gaap:unsecureddebt                                                                               :197500000\n",
      "us-gaap:redemptionpremium                                                                           :800000\n",
      "us-gaap:longtermdebtfairvalue                                                                       :905300000\n",
      "us-gaap:interestexpenseborrowings                                                                   :79300000\n",
      "us-gaap:interestcostscapitalized                                                                    :4100000\n",
      "us-gaap:definedcontributionplanemployerdiscretionarycontributionamount                              :15600000\n",
      "us-gaap:definedbenefitplanbenefitobligation                                                         :14000000.0\n",
      "us-gaap:definedbenefitplannetperiodicbenefitcost                                                    :600000\n",
      "us-gaap:assetsheldintrust                                                                           :32800000\n",
      "us-gaap:assetsheldintrustcurrent                                                                    :1200000\n",
      "us-gaap:assetsheldintrustnoncurrent                                                                 :31600000\n",
      "us-gaap:purchaseobligation                                                                          :419200000\n",
      "us-gaap:restructuringcharges                                                                        :2700000\n",
      "us-gaap:restructuringandrelatedcostcostincurredtodate1                                              :93400000\n",
      "us-gaap:restructuringandrelatedcostexpectedcostremaining1                                           :100000\n",
      "us-gaap:paymentsforrestructuring                                                                    :2206000\n",
      "us-gaap:restructuringreserve                                                                        :776000\n",
      "us-gaap:incomelossfromcontinuingoperationsbeforeincometaxesdomestic                                 :125362000\n",
      "us-gaap:incomelossfromcontinuingoperationsbeforeincometaxesforeign                                  :682018000\n",
      "us-gaap:currentfederaltaxexpensebenefit                                                             :11043000\n",
      "us-gaap:currentstateandlocaltaxexpensebenefit                                                       :140000\n",
      "us-gaap:currentforeigntaxexpensebenefit                                                             :80722000\n",
      "us-gaap:currentincometaxexpensebenefit                                                              :91905000\n",
      "us-gaap:deferredfederalincometaxexpensebenefit                                                      :35545000\n",
      "us-gaap:deferredstateandlocalincometaxexpensebenefit                                                :3771000\n",
      "us-gaap:deferredforeignincometaxexpensebenefit                                                      :-57452000\n",
      "us-gaap:incometaxreconciliationincometaxexpensebenefitatfederalstatutoryincometaxrate               :169550000\n",
      "us-gaap:effectiveincometaxratereconciliationatfederalstatutoryincometaxrate                         :0.210\n",
      "us-gaap:incometaxreconciliationstateandlocalincometaxes                                             :743000\n",
      "us-gaap:effectiveincometaxratereconciliationstateandlocalincometaxes                                :0.001\n",
      "us-gaap:incometaxreconciliationtaxcredits                                                           :-92532000\n",
      "us-gaap:effectiveincometaxratereconciliationtaxcredits                                              :-0.115\n",
      "us-gaap:incometaxreconciliationchangeinenactedtaxrate                                               :-22286000\n",
      "us-gaap:effectiveincometaxratereconciliationchangeinenactedtaxrate                                  :-0.028\n",
      "us-gaap:incometaxreconciliationforeignincometaxratedifferential                                     :-85851000\n",
      "us-gaap:effectiveincometaxratereconciliationforeignincometaxratedifferential                        :-0.106\n",
      "us-gaap:incometaxreconciliationchangeindeferredtaxassetsvaluationallowance                          :1232000\n",
      "us-gaap:effectiveincometaxratereconciliationchangeindeferredtaxassetsvaluationallowance             :0.002\n",
      "us-gaap:incometaxreconciliationnondeductibleexpensesharebasedcompensationcost                       :-9545000\n",
      "us-gaap:effectiveincometaxratereconciliationnondeductibleexpensesharebasedcompensationcost          :-0.012\n",
      "us-gaap:incometaxreconciliationtaxcontingencies                                                     :9979000\n",
      "us-gaap:effectiveincometaxratereconciliationtaxcontingencies                                        :0.012\n",
      "us-gaap:incometaxreconciliationrepatriationofforeignearnings                                        :100830000\n",
      "us-gaap:effectiveincometaxratereconciliationrepatriationofforeignearnings                           :0.125\n",
      "us-gaap:incometaxreconciliationotheradjustments                                                     :-388000\n",
      "us-gaap:effectiveincometaxratereconciliationotheradjustments                                        :-0.001\n",
      "us-gaap:effectiveincometaxratecontinuingoperations                                                  :0.091\n",
      "us-gaap:deferredincometaxesandtaxcredits                                                            :22100000\n",
      "us-gaap:deferredtaxassetsinventory                                                                  :9632000\n",
      "us-gaap:deferredtaxassetstaxdeferredexpensecompensationandbenefitssharebasedcompensationcost        :14444000\n",
      "us-gaap:deferredtaxassetsoperatinglosscarryforwards                                                 :24474000\n",
      "us-gaap:deferredtaxassetstaxcreditcarryforwardsresearch                                             :106825000\n",
      "us-gaap:deferredtaxassetstaxdeferredexpensecompensationandbenefitsemployeebenefits                  :19357000\n",
      "us-gaap:deferredtaxassetsother                                                                      :8662000\n",
      "us-gaap:deferredtaxassetsgross                                                                      :199341000\n",
      "us-gaap:deferredtaxassetsvaluationallowance                                                         :36512000\n",
      "us-gaap:deferredtaxassetsnet                                                                        :162829000\n",
      "us-gaap:deferredtaxliabilitiesgoodwillandintangibleassets                                           :25553000\n",
      "us-gaap:deferredtaxliabilitiespropertyplantandequipment                                             :59756000\n",
      "us-gaap:deferredtaxliabilitiesundistributedforeignearnings                                          :21747000\n",
      "us-gaap:deferredtaxliabilitiesleasingarrangements                                                   :14663000\n",
      "us-gaap:deferredtaxliabilitiesother                                                                 :1681000\n",
      "us-gaap:deferredtaxassetsliabilitiesnet                                                             :17145000\n",
      "us-gaap:deferredtaxassetsdeferredincome                                                             :59056000\n",
      "us-gaap:deferredtaxliabilitiestaxdeferredincome                                                     :41911000\n",
      "us-gaap:valuationallowancedeferredtaxassetchangeinamount                                            :1200000\n",
      "us-gaap:operatinglosscarryforwards                                                                  :28500000\n",
      "us-gaap:taxcreditcarryforwardamount                                                                 :150700000\n",
      "us-gaap:unrecognizedtaxbenefitsincreasesresultingfromacquisition                                    :500000\n",
      "us-gaap:incometaxholidayaggregatedollaramount                                                       :74300000\n",
      "us-gaap:incometaxholidayincometaxbenefitspershare                                                   :0.65\n",
      "us-gaap:unrecognizedtaxbenefits                                                                     :134100000\n",
      "us-gaap:unrecognizedtaxbenefitsthatwouldimpacteffectivetaxrate                                      :128700000\n",
      "us-gaap:unrecognizedtaxbenefitsincreasesresultingfromcurrentperiodtaxpositions                      :10048000\n",
      "us-gaap:unrecognizedtaxbenefitsincreasesresultingfrompriorperiodtaxpositions                        :6240000\n",
      "us-gaap:unrecognizedtaxbenefitsdecreasesresultingfrompriorperiodtaxpositions                        :348000\n",
      "us-gaap:unrecognizedtaxbenefitsreductionsresultingfromlapseofapplicablestatuteoflimitations         :1094000\n",
      "us-gaap:unrecognizedtaxbenefitsdecreasesresultingfromsettlementswithtaxingauthorities               :0\n",
      "us-gaap:unrecognizedtaxbenefitsincometaxpenaltiesandinterestexpense                                 :800000\n",
      "us-gaap:unrecognizedtaxbenefitsincometaxpenaltiesandinterestaccrued                                 :6200000\n",
      "us-gaap:taxespayablecurrent                                                                         :86700000\n",
      "us-gaap:incometaxesreceivable                                                                       :3500000\n",
      "us-gaap:incrementalcommonsharesattributabletosharebasedpaymentarrangements                          :1982000\n",
      "us-gaap:antidilutivesecuritiesexcludedfromcomputationofearningspershareamount                       :100000\n",
      "us-gaap:sharebasedcompensationarrangementbysharebasedpaymentawardnumberofsharesavailableforgrant    :0\n",
      "us-gaap:sharebasedcompensationarrangementbysharebasedpaymentawardnumberofsharesauthorized           :4300000\n",
      "us-gaap:sharebasedcompensationarrangementbysharebasedpaymentawardoptionsgrantsinperiod              :200000\n",
      "us-gaap:sharebasedcompensationarrangementbysharebasedpaymentawardsharesissuedinperiod               :400000\n",
      "us-gaap:sharebasedcompensationarrangementsbysharebasedpaymentawardoptionsgrantsinperiodweightedaverageexerciseprice:0\n",
      "us-gaap:stockissuedduringperiodsharesstockoptionsexercised                                          :503000\n",
      "us-gaap:sharebasedcompensationarrangementsbysharebasedpaymentawardoptionsexercisesinperiodweightedaverageexerciseprice:18.88\n",
      "us-gaap:sharebasedcompensationarrangementbysharebasedpaymentawardoptionsexpirationsinperiod         :6000\n",
      "us-gaap:sharebasedcompensationarrangementsbysharebasedpaymentawardoptionsexpirationsinperiodweightedaverageexerciseprice:22.13\n",
      "us-gaap:sharebasedcompensationarrangementbysharebasedpaymentawardoptionsforfeituresinperiod         :0\n",
      "us-gaap:sharebasedcompensationarrangementsbysharebasedpaymentawardoptionsforfeituresinperiodweightedaverageexerciseprice:0\n",
      "us-gaap:sharebasedcompensationarrangementbysharebasedpaymentawardoptionsoutstandingnumber           :458000\n",
      "us-gaap:sharebasedcompensationarrangementbysharebasedpaymentawardoptionsoutstandingweightedaverageexerciseprice:17.21\n",
      "us-gaap:sharebasedcompensationarrangementbysharebasedpaymentawardoptionsoutstandingintrinsicvalue   :80465000\n",
      "us-gaap:sharebasedcompensationarrangementbysharebasedpaymentawardoptionsvestedandexpectedtovestoutstandingnumber:458000\n",
      "us-gaap:sharebasedcompensationarrangementbysharebasedpaymentawardoptionsvestedandexpectedtovestoutstandingweightedaverageexerciseprice:17.21\n",
      "us-gaap:sharebasedcompensationarrangementbysharebasedpaymentawardoptionsvestedandexpectedtovestoutstandingaggregateintrinsicvalue:80465000\n",
      "us-gaap:sharebasedcompensationarrangementbysharebasedpaymentawardoptionsexercisablenumber           :458000\n",
      "us-gaap:sharebasedcompensationarrangementbysharebasedpaymentawardoptionsexercisableweightedaverageexerciseprice:17.21\n",
      "us-gaap:sharebasedcompensationarrangementbysharebasedpaymentawardoptionsexercisableintrinsicvalue1  :80465000\n",
      "us-gaap:shareprice                                                                                  :192.90\n",
      "us-gaap:sharebasedcompensationarrangementbysharebasedpaymentawardoptionsexercisesinperiodtotalintrinsicvalue:66700000\n",
      "us-gaap:proceedsfromstockoptionsexercised                                                           :40900000\n",
      "us-gaap:sharebasedcompensationarrangementbysharebasedpaymentawardequityinstrumentsotherthanoptionsgrantsinperiod:799000\n",
      "us-gaap:sharebasedcompensationarrangementbysharebasedpaymentawardequityinstrumentsotherthanoptionsgrantsinperiodweightedaveragegrantdatefairvalue:125.43\n",
      "us-gaap:sharebasedcompensationarrangementbysharebasedpaymentawardequityinstrumentsotherthanoptionsvestedinperiod:965000\n",
      "us-gaap:sharebasedcompensationarrangementbysharebasedpaymentawardequityinstrumentsotherthanoptionsvestedinperiodweightedaveragegrantdatefairvalue:70.07\n",
      "us-gaap:sharebasedcompensationarrangementbysharebasedpaymentawardequityinstrumentsotherthanoptionsforfeitedinperiod:66000\n",
      "us-gaap:sharebasedcompensationarrangementbysharebasedpaymentawardequityinstrumentsotherthanoptionsforfeituresweightedaveragegrantdatefairvalue:86.02\n",
      "us-gaap:sharebasedcompensationarrangementbysharebasedpaymentawardequityinstrumentsotherthanoptionsnonvestednumber:1859000\n",
      "us-gaap:sharebasedcompensationarrangementbysharebasedpaymentawardequityinstrumentsotherthanoptionsnonvestedweightedaveragegrantdatefairvalue:93.22\n",
      "us-gaap:sharebasedcompensationarrangementbysharebasedpaymentawardequityinstrumentsotherthanoptionsvestedinperiodtotalfairvalue:121800000\n",
      "us-gaap:commonstockcapitalsharesreservedforfutureissuance                                           :9400000\n",
      "us-gaap:restructuringreserveaccelerateddepreciation                                                 :0\n"
     ]
    }
   ],
   "source": [
    "for element in find_financial_elements(soup, re.compile(f\"^{NAMESPACE}:.*\"), attributes=ATTRIBUTES):\n",
    "    print(f\"{element.name:100}:{element.text}\")"
   ]
  },
  {
   "cell_type": "code",
   "execution_count": 31,
   "id": "38838bae",
   "metadata": {},
   "outputs": [],
   "source": [
    "def get_financial_element_numeric_values(elements):\n",
    "    # assert isinstance(elements, bs4.element.ResultSet) or isinstance(elements[0], bs4.element.Tag)\n",
    "    assert_bf4_tag(elements[0])\n",
    "    \n",
    "    values = []\n",
    "    for element in elements:\n",
    "        assert re.match(REGEXP_NUMERIC, element.text.strip()), f\"Element must be numeric but {element.text}\"\n",
    "        values.append(float(element.text))\n",
    "        \n",
    "    return values"
   ]
  },
  {
   "cell_type": "code",
   "execution_count": 32,
   "id": "bd39bd7a",
   "metadata": {},
   "outputs": [],
   "source": [
    "def get_financial_element_columns():\n",
    "    \"\"\"Financial record columns\"\"\"\n",
    "    return [\n",
    "        \"fs\",           # Which financial statement e.g. bs for Balance Sheet\n",
    "        \"rep\",          # Representative marker e.g. \"income\" or \"cogs\" (cost of goods sold)\n",
    "        \"type\",         # \"debit\" or \"credit\"\n",
    "        \"name\",         # F/S item name, e.g. us-gaap:revenues\n",
    "        \"value\", \n",
    "        \"unit\",         # e.g. USD\n",
    "        \"decimals\",     # Scale\n",
    "        \"context\"       # XBRL context ID\n",
    "    ]\n",
    "\n",
    "def get_record_for_nil_elements(elements, element_type=None):\n",
    "    results = []\n",
    "    for element in elements:\n",
    "        # F/S\n",
    "        element_fs = \"\"\n",
    "        \n",
    "        # Rep\n",
    "        element_rep = \"\"\n",
    "        \n",
    "        # Type of the elemen\n",
    "        if element_type is None and element.name in DEBIT_ITEMS: element_type = ELEMENT_TYPE_DEBIT\n",
    "        if element_type is None and element.name in CREDIT_ITEMS: element_type = ELEMENT_TYPE_CREDIT\n",
    "        if element_type is None and element.name in CALC_ITEMS: element_type = ELEMENT_TYPE_CALC\n",
    "        if element_type is None and element.name in METRIC_ITEMS: element_type = ELEMENT_TYPE_METRIC\n",
    "        if element_type is None and element.name in FACT_ITEMS: element_type = ELEMENT_TYPE_FACT\n",
    "\n",
    "        # Name of the financial element\n",
    "        element_name = element.name\n",
    "\n",
    "        # Unit of the financial element\n",
    "        element_unit = element['unitref']\n",
    "\n",
    "        # Scale of the element\n",
    "        element_scale = int(element['decimals']) if element['decimals'].lower() != 'inf' else np.inf\n",
    "\n",
    "        # Value of the element\n",
    "        element_value = -np.inf\n",
    "\n",
    "        # Context ID of the element\n",
    "        element_context = element['contextref']\n",
    "\n",
    "        record = [\n",
    "            element_fs,\n",
    "            element_rep,\n",
    "            element_type,\n",
    "            element_name,\n",
    "            element_value, \n",
    "            element_unit, \n",
    "            element_scale, \n",
    "            element_context\n",
    "        ]\n",
    "        assert len(record) == len(get_financial_element_columns())\n",
    "        results.append(record)\n",
    "        \n",
    "    return results\n",
    "\n",
    "def get_records_for_financial_elements(elements, element_type=None):\n",
    "    \"\"\"Financial record having the columns of get_financial_element_columns\"\"\"\n",
    "    # assert isinstance(elements, bs4.element.ResultSet) or isinstance(elements[0], bs4.element.Tag)\n",
    "    assert_bf4_tag(elements[0])\n",
    "    \n",
    "    results = []\n",
    "    for element in elements:\n",
    "        # F/S\n",
    "        element_fs = \"\"\n",
    "        \n",
    "        # Rep\n",
    "        element_rep = \"\"\n",
    "        \n",
    "        # Type of the elemen\n",
    "        if element_type is None and element.name in DEBIT_ITEMS: element_type = ELEMENT_TYPE_DEBIT\n",
    "        if element_type is None and element.name in CREDIT_ITEMS: element_type = ELEMENT_TYPE_CREDIT\n",
    "        if element_type is None and element.name in CALC_ITEMS: element_type = ELEMENT_TYPE_CALC\n",
    "        if element_type is None and element.name in METRIC_ITEMS: element_type = ELEMENT_TYPE_METRIC\n",
    "        if element_type is None and element.name in FACT_ITEMS: element_type = ELEMENT_TYPE_FACT\n",
    "        \n",
    "        # Name of the financial element\n",
    "        element_name = element.name\n",
    "        \n",
    "        # Unit of the financial element\n",
    "        element_unit = element['unitref']\n",
    "        \n",
    "        # Scale of the element\n",
    "        element_scale = int(element['decimals']) if element['decimals'].lower() != 'inf' else np.inf\n",
    "            \n",
    "        # Value of the element\n",
    "        element_value = float(element.text)\n",
    "\n",
    "        # Context ID of the element\n",
    "        element_context = element['contextref']\n",
    "\n",
    "        record = [\n",
    "            element_fs,\n",
    "            element_rep,\n",
    "            element_type,\n",
    "            element_name,\n",
    "            element_value, \n",
    "            element_unit, \n",
    "            element_scale, \n",
    "            element_context\n",
    "        ]\n",
    "        assert len(record) == len(get_financial_element_columns())\n",
    "        results.append(record)\n",
    "        \n",
    "    return results\n",
    "\n",
    "\n",
    "def represents(records: list, fs: str, rep: str):\n",
    "    assert isinstance(records, list) and len(fs) > 0 and len(rep) > 0\n",
    "    \n",
    "    row = records[0]\n",
    "    row[0] = fs\n",
    "    row[1] = rep\n",
    "    \n",
    "    return records"
   ]
  },
  {
   "cell_type": "code",
   "execution_count": 33,
   "id": "e6fabee2",
   "metadata": {},
   "outputs": [],
   "source": [
    "def get_records_for_financial_element_names(soup, names: List[str], element_type=None):\n",
    "    \"\"\"Get finacial records that matches the financial element names\n",
    "    \"\"\"\n",
    "    elements = find_financial_elements(soup=soup, element_names=names)\n",
    "    if len(elements) > 0:\n",
    "        display_elements(elements)\n",
    "        return get_records_for_financial_elements(elements, element_type)\n",
    "    else:\n",
    "        return get_record_for_nil_elements(elements)"
   ]
  },
  {
   "cell_type": "code",
   "execution_count": 34,
   "id": "190f39c0",
   "metadata": {},
   "outputs": [],
   "source": [
    "def get_values_for_financial_element_names(soup, names: List[str]):\n",
    "    elements = find_financial_elements(soup=soup, element_names=names)\n",
    "    if len(elements) > 0:\n",
    "        display_elements(elements)\n",
    "        return get_financial_element_numeric_values(elements)\n",
    "    else:\n",
    "        return []"
   ]
  },
  {
   "cell_type": "markdown",
   "id": "5c0233d8",
   "metadata": {},
   "source": [
    "---\n",
    "# Shares Outstanding"
   ]
  },
  {
   "cell_type": "code",
   "execution_count": 35,
   "id": "cc657c72",
   "metadata": {},
   "outputs": [],
   "source": [
    "def get_shares_outstanding(soup):\n",
    "    names = re.compile(\"|\".join([\n",
    "        rf\"{NAMESPACE}:SharesOutstanding\",\n",
    "        rf\"{NAMESPACE}:CommonStockSharesOutstanding\",\n",
    "        rf\"{NAMESPACE}:CommonStockOtherSharesOutstanding\",\n",
    "    ]).lower())\n",
    "\n",
    "    return get_records_for_financial_element_names(soup=soup, names=names)"
   ]
  },
  {
   "cell_type": "code",
   "execution_count": 36,
   "id": "37d26480",
   "metadata": {},
   "outputs": [
    {
     "name": "stdout",
     "output_type": "stream",
     "text": [
      "us-gaap:commonstocksharesoutstanding                                             shares -3    112557000      \n"
     ]
    },
    {
     "data": {
      "text/plain": [
       "[['',\n",
       "  '',\n",
       "  'fact',\n",
       "  'us-gaap:commonstocksharesoutstanding',\n",
       "  112557000.0,\n",
       "  'shares',\n",
       "  -3,\n",
       "  'i531402faf1d04969ac2b2ba0e1680766_I20210403']]"
      ]
     },
     "execution_count": 36,
     "metadata": {},
     "output_type": "execute_result"
    }
   ],
   "source": [
    "shares_outstandings = get_shares_outstanding(soup)\n",
    "shares_outstandings"
   ]
  },
  {
   "cell_type": "code",
   "execution_count": 37,
   "id": "caba0959",
   "metadata": {},
   "outputs": [
    {
     "data": {
      "text/html": [
       "<div>\n",
       "<style scoped>\n",
       "    .dataframe tbody tr th:only-of-type {\n",
       "        vertical-align: middle;\n",
       "    }\n",
       "\n",
       "    .dataframe tbody tr th {\n",
       "        vertical-align: top;\n",
       "    }\n",
       "\n",
       "    .dataframe thead th {\n",
       "        text-align: right;\n",
       "    }\n",
       "</style>\n",
       "<table border=\"1\" class=\"dataframe\">\n",
       "  <thead>\n",
       "    <tr style=\"text-align: center;\">\n",
       "      <th></th>\n",
       "      <th>0</th>\n",
       "      <th>1</th>\n",
       "      <th>2</th>\n",
       "      <th>3</th>\n",
       "      <th>4</th>\n",
       "      <th>5</th>\n",
       "      <th>6</th>\n",
       "      <th>7</th>\n",
       "    </tr>\n",
       "  </thead>\n",
       "  <tbody>\n",
       "    <tr>\n",
       "      <th>0</th>\n",
       "      <td></td>\n",
       "      <td></td>\n",
       "      <td>fact</td>\n",
       "      <td>us-gaap:commonstocksharesoutstanding</td>\n",
       "      <td>112557000</td>\n",
       "      <td>shares</td>\n",
       "      <td>-3</td>\n",
       "      <td>i531402faf1d04969ac2b2ba0e1680766_I20210403</td>\n",
       "    </tr>\n",
       "  </tbody>\n",
       "</table>\n",
       "</div>"
      ],
      "text/plain": [
       "  0 1   2                     3                        4       5     6  \\\n",
       "0      fact  us-gaap:commonstocksharesoutstanding 112557000  shares -3   \n",
       "\n",
       "                       7                        \n",
       "0  i531402faf1d04969ac2b2ba0e1680766_I20210403  "
      ]
     },
     "execution_count": 37,
     "metadata": {},
     "output_type": "execute_result"
    }
   ],
   "source": [
    "df_ShareOutstanding = pd.DataFrame(shares_outstandings)\n",
    "df_ShareOutstanding"
   ]
  },
  {
   "cell_type": "markdown",
   "id": "e26002ef",
   "metadata": {},
   "source": [
    "---\n",
    "# Statements of Income (P/L)"
   ]
  },
  {
   "cell_type": "code",
   "execution_count": 38,
   "id": "e8e1ddf9",
   "metadata": {},
   "outputs": [],
   "source": [
    "PL = []"
   ]
  },
  {
   "cell_type": "markdown",
   "id": "efc28ac0",
   "metadata": {},
   "source": [
    "## Revenues"
   ]
  },
  {
   "cell_type": "code",
   "execution_count": 39,
   "id": "85bda02b",
   "metadata": {},
   "outputs": [],
   "source": [
    "def get_pl_revenues(soup):\n",
    "    names = rf\"{NAMESPACE}:Revenues\".lower()\n",
    "    names = re.compile(\"|\".join([\n",
    "        rf\"^{NAMESPACE}:Revenues$\",\n",
    "        rf\"^{NAMESPACE}:RevenueFromContractWithCustomerExcludingAssessedTax$\",\n",
    "        rf\"^{NAMESPACE}:RealEstateRevenueNet$\",\n",
    "        rf\"^{NAMESPACE}:SalesOfRealEstate$\",\n",
    "        rf\"^{NAMESPACE}:AdvertisingRevenue$\",\n",
    "        rf\"^{NAMESPACE}:ElectricalGenerationRevenue$\",\n",
    "        rf\"^{NAMESPACE}:ContractsRevenue$\",\n",
    "        rf\"^{NAMESPACE}:RevenueMineralSales$\",\n",
    "        rf\"^{NAMESPACE}:DeferredRevenueCurrent$\",\n",
    "        rf\"^{NAMESPACE}:HealthCareOrganizationRevenue$\",\n",
    "        rf\"^{NAMESPACE}:SalesRevenueGoodsGross$\",\n",
    "        rf\"^{NAMESPACE}:AdmissionsRevenue$\",\n",
    "        rf\"^{NAMESPACE}:InsuranceServicesRevenue$\",\n",
    "        rf\"^{NAMESPACE}:BrokerageCommissionsRevenue$\",\n",
    "        rf\"^{NAMESPACE}:RegulatedAndUnregulatedOperatingRevenue$\"\n",
    "        rf\"^{NAMESPACE}:OtherAlternativeEnergySalesRevenue$\",\n",
    "        rf\"^{NAMESPACE}:DeferredRevenue$\",\n",
    "    ]).lower())    \n",
    "    return represents(\n",
    "        get_records_for_financial_element_names(soup=soup, names=names),\n",
    "        fs=FS_PL,\n",
    "        rep=FS_ITEM_REP_REVENUE\n",
    "    )\n"
   ]
  },
  {
   "cell_type": "code",
   "execution_count": 40,
   "id": "8b3536ab",
   "metadata": {},
   "outputs": [
    {
     "name": "stdout",
     "output_type": "stream",
     "text": [
      "us-gaap:revenues                                                                 usd   -3    4015307000     \n"
     ]
    }
   ],
   "source": [
    "PL += get_pl_revenues(soup)"
   ]
  },
  {
   "cell_type": "markdown",
   "id": "b0ab1b3c",
   "metadata": {},
   "source": [
    "## Cost of Revenues"
   ]
  },
  {
   "cell_type": "code",
   "execution_count": 41,
   "id": "e8c062f7",
   "metadata": {},
   "outputs": [],
   "source": [
    "def get_pl_cost_of_revenues(soup):\n",
    "    names = re.compile(\"|\".join([\n",
    "        rf\"^{NAMESPACE}:CostOfRevenue$\",\n",
    "        rf\"^{NAMESPACE}:CostOfGoods$\",\n",
    "        rf\"^{NAMESPACE}:CostOfGoodsAndServicesSold$\",\n",
    "        rf\"^{NAMESPACE}:ContractRevenueCost$\",\n",
    "        rf\"^{NAMESPACE}:CostOfServicesLicensesAndServices$\"\n",
    "        rf\"^{NAMESPACE}:LicenseCosts$\"\n",
    "    ]).lower())\n",
    "    return represents(get_records_for_financial_element_names(soup=soup, names=names), FS_PL, FS_ITEM_REP_OP_COST)"
   ]
  },
  {
   "cell_type": "code",
   "execution_count": 42,
   "id": "4d976b40",
   "metadata": {},
   "outputs": [
    {
     "name": "stdout",
     "output_type": "stream",
     "text": [
      "us-gaap:costofgoodsandservicessold                                               usd   -3    2131741000     \n"
     ]
    }
   ],
   "source": [
    "PL += get_pl_cost_of_revenues(soup)"
   ]
  },
  {
   "cell_type": "markdown",
   "id": "ce53e123",
   "metadata": {},
   "source": [
    "## ***___# Gross Profit___***"
   ]
  },
  {
   "cell_type": "code",
   "execution_count": 43,
   "id": "0a800ebc",
   "metadata": {},
   "outputs": [],
   "source": [
    "def get_pl_gross_profit(soup):\n",
    "    names = f\"{NAMESPACE}:GrossProfit\".lower()\n",
    "    return represents(get_records_for_financial_element_names(soup=soup, names=names), fs=FS_PL, rep=FS_ITEM_REP_GROSS_PROFIT)"
   ]
  },
  {
   "cell_type": "code",
   "execution_count": 44,
   "id": "dd3629c0",
   "metadata": {},
   "outputs": [
    {
     "name": "stdout",
     "output_type": "stream",
     "text": [
      "us-gaap:grossprofit                                                              usd   -3    1883566000     \n"
     ]
    }
   ],
   "source": [
    "PL += get_pl_gross_profit(soup)"
   ]
  },
  {
   "cell_type": "markdown",
   "id": "b01793a9",
   "metadata": {},
   "source": [
    "## Operating Expenses"
   ]
  },
  {
   "cell_type": "markdown",
   "id": "c53bcb56",
   "metadata": {},
   "source": [
    "### Research and Development"
   ]
  },
  {
   "cell_type": "code",
   "execution_count": 45,
   "id": "c6f743ca",
   "metadata": {},
   "outputs": [
    {
     "name": "stdout",
     "output_type": "stream",
     "text": [
      "us-gaap:researchanddevelopmentexpense                                            usd   -3    570395000      \n"
     ]
    }
   ],
   "source": [
    "def get_pl_operating_expense_r_and_d(soup):\n",
    "    names = f\"{NAMESPACE}:ResearchAndDevelopmentExpense\".lower()\n",
    "    return represents(get_records_for_financial_element_names(soup, names), fs=FS_PL, rep=FS_ITEM_REP_OPEX_RD)\n",
    "\n",
    "PL += get_pl_operating_expense_r_and_d(soup)"
   ]
  },
  {
   "cell_type": "markdown",
   "id": "1eecae84",
   "metadata": {},
   "source": [
    "### Administrative Expense"
   ]
  },
  {
   "cell_type": "code",
   "execution_count": 46,
   "id": "1c946365",
   "metadata": {},
   "outputs": [
    {
     "name": "stdout",
     "output_type": "stream",
     "text": [
      "us-gaap:sellinggeneralandadministrativeexpense                                   usd   -3    367238000      \n"
     ]
    }
   ],
   "source": [
    "def get_pl_operating_expense_selling_adminstrative(soup):\n",
    "    names = f\"{NAMESPACE}:SellingGeneralAndAdministrativeExpense\"\n",
    "    return represents(get_records_for_financial_element_names(soup, names), fs=FS_PL, rep=FS_ITEM_REP_OPEX_SGA)\n",
    "    \n",
    "PL += get_pl_operating_expense_selling_adminstrative(soup)"
   ]
  },
  {
   "cell_type": "markdown",
   "id": "8b6ebc6f",
   "metadata": {},
   "source": [
    "### Other operating expenses\n",
    "\n",
    "The total amount of other operating cost and expense items that are associated with the entity's normal revenue producing operation"
   ]
  },
  {
   "cell_type": "code",
   "execution_count": 47,
   "id": "6b99a4fc",
   "metadata": {},
   "outputs": [
    {
     "name": "stdout",
     "output_type": "stream",
     "text": [
      "us-gaap:othercostandexpenseoperating                                             usd   -3    39306000       \n"
     ]
    }
   ],
   "source": [
    "def get_pl_operating_expense_other(soup):\n",
    "    names = re.compile(\"|\".join([\n",
    "        rf\"{NAMESPACE}:OtherCostAndExpenseOperating\",\n",
    "        rf\"{NAMESPACE}:OthertCostOfOperatingRevenue\"\n",
    "    ]).lower())\n",
    "    return get_records_for_financial_element_names(soup=soup, names=names)\n",
    "\n",
    "PL += get_pl_operating_expense_other(soup)"
   ]
  },
  {
   "cell_type": "markdown",
   "id": "129ce993",
   "metadata": {},
   "source": [
    "## ***___# Total Operating Expenses___***"
   ]
  },
  {
   "cell_type": "code",
   "execution_count": 48,
   "id": "c8a6e74b",
   "metadata": {},
   "outputs": [
    {
     "name": "stdout",
     "output_type": "stream",
     "text": [
      "us-gaap:operatingexpenses                                                        usd   -3    976939000      \n"
     ]
    }
   ],
   "source": [
    "\n",
    "def get_pl_operating_expense_total(soup):\n",
    "    names = f\"{NAMESPACE}:OperatingExpenses\".lower()\n",
    "    return represents(get_records_for_financial_element_names(soup=soup, names=names), fs=FS_PL, rep=FS_ITEM_REP_OPEX)\n",
    "PL += get_pl_operating_expense_total(soup)"
   ]
  },
  {
   "cell_type": "markdown",
   "id": "2592f2bf",
   "metadata": {},
   "source": [
    "## ***___# Operating Income___***\n",
    "\n",
    "```Operating Income = GrossProfit - Total Operating Expenses```"
   ]
  },
  {
   "cell_type": "code",
   "execution_count": 49,
   "id": "2294f646",
   "metadata": {},
   "outputs": [],
   "source": [
    "def get_pl_operating_income(soup):\n",
    "    names = f\"{NAMESPACE}:OperatingIncomeLoss\".lower()\n",
    "    return represents(get_records_for_financial_element_names(soup=soup, names=names), fs=FS_PL, rep=FS_ITEM_REP_OP_INCOME)"
   ]
  },
  {
   "cell_type": "code",
   "execution_count": 50,
   "id": "9a1b2d5e",
   "metadata": {},
   "outputs": [
    {
     "name": "stdout",
     "output_type": "stream",
     "text": [
      "us-gaap:operatingincomeloss                                                      usd   -3    906627000      \n"
     ]
    }
   ],
   "source": [
    "PL += get_pl_operating_income(soup)"
   ]
  },
  {
   "cell_type": "markdown",
   "id": "3d5374f9",
   "metadata": {},
   "source": [
    "## Non Operating Expenses"
   ]
  },
  {
   "cell_type": "markdown",
   "id": "f05a3d4c",
   "metadata": {},
   "source": [
    "### Interest Expense\n",
    "\n",
    "* [Investopedia - What Is an Interest Expense?](https://www.investopedia.com/terms/i/interestexpense.asp)\n",
    "\n",
    "> An interest expense is the cost incurred by an entity for borrowed funds. Interest expense is a non-operating expense shown on the income statement. It represents interest payable on any borrowings – bonds, loans, convertible debt or lines of credit. It is essentially calculated as the interest rate times the outstanding principal amount of the debt. Interest expense on the income statement represents ***interest accrued during the period*** covered by the financial statements, and **NOT the amount of interest paid over that period**. While interest expense is tax-deductible for companies, in an individual's case, it depends on his or her jurisdiction and also on the loan's purpose.  \n",
    ">\n",
    "> For most people, mortgage interest is the single-biggest category of interest expense over their lifetimes as interest can total tens of thousands of dollars over the life of a mortgage as illustrated by online calculators."
   ]
  },
  {
   "cell_type": "code",
   "execution_count": 51,
   "id": "1198f1d7",
   "metadata": {},
   "outputs": [
    {
     "name": "stdout",
     "output_type": "stream",
     "text": [
      "us-gaap:interestexpense                                                          usd   -3    75198000       \n"
     ]
    }
   ],
   "source": [
    "def get_pl_non_operating_expense_interest(soup):\n",
    "    names = re.compile(\"|\".join([\n",
    "        rf\"^{NAMESPACE}:InterestExpense$\",\n",
    "    ]).lower())\n",
    "    return get_records_for_financial_element_names(soup=soup, names=names)\n",
    "\n",
    "PL += get_pl_non_operating_expense_interest(soup)"
   ]
  },
  {
   "cell_type": "markdown",
   "id": "eec656b1",
   "metadata": {},
   "source": [
    "### Non-operating Expenses"
   ]
  },
  {
   "cell_type": "code",
   "execution_count": 52,
   "id": "0142cfbd",
   "metadata": {},
   "outputs": [
    {
     "name": "stdout",
     "output_type": "stream",
     "text": [
      "us-gaap:interestexpense                                                          usd   -3    75198000       \n"
     ]
    }
   ],
   "source": [
    "def get_pl_non_operatintg_expense_other(soup):\n",
    "    names = re.compile(\"|\".join([\n",
    "        rf\"^{NAMESPACE}:OtherNonOperatingIncomeExpense$\",\n",
    "    ]).lower())\n",
    "    return get_records_for_financial_element_names(soup=soup, names=names)\n",
    "\n",
    "PL += get_pl_non_operating_expense_interest(soup)"
   ]
  },
  {
   "cell_type": "markdown",
   "id": "ba7e6c8b",
   "metadata": {},
   "source": [
    "## Income Tax"
   ]
  },
  {
   "cell_type": "code",
   "execution_count": 53,
   "id": "7711f66c",
   "metadata": {},
   "outputs": [
    {
     "name": "stdout",
     "output_type": "stream",
     "text": [
      "us-gaap:incometaxexpensebenefit                                                  usd   -3    73769000       \n"
     ]
    }
   ],
   "source": [
    "def get_pl_income_tax(soup):\n",
    "    names = f\"{NAMESPACE}:IncomeTaxExpenseBenefit\"\n",
    "    return get_records_for_financial_element_names(soup=soup, names=names)\n",
    "\n",
    "PL += get_pl_income_tax(soup)"
   ]
  },
  {
   "cell_type": "markdown",
   "id": "6c85dd7a",
   "metadata": {},
   "source": [
    "## ***___# Net Income___***\n",
    "\n",
    "$GrossProfit - (Operating Expenses + NonOperating Expense) - Tax$"
   ]
  },
  {
   "cell_type": "code",
   "execution_count": 54,
   "id": "7b27ca66",
   "metadata": {},
   "outputs": [],
   "source": [
    "def get_pl_net_income(soup):\n",
    "    names = re.compile(\"|\".join([\n",
    "        rf\"^{NAMESPACE}:NetIncomeLoss$\",\n",
    "        rf\"^{NAMESPACE}:ProfitLoss$\",\n",
    "    ]).lower())\n",
    "    return represents(get_records_for_financial_element_names(soup=soup, names=names), fs=FS_PL, rep=FS_ITEM_REP_NET_INCOME)"
   ]
  },
  {
   "cell_type": "code",
   "execution_count": 55,
   "id": "42d2ba67",
   "metadata": {},
   "outputs": [
    {
     "name": "stdout",
     "output_type": "stream",
     "text": [
      "us-gaap:netincomeloss                                                            usd   -3    733611000      \n"
     ]
    }
   ],
   "source": [
    "PL += get_pl_net_income(soup)"
   ]
  },
  {
   "cell_type": "markdown",
   "id": "81ca2fc8",
   "metadata": {},
   "source": [
    "## ***___# Shares Outstandings___***"
   ]
  },
  {
   "cell_type": "code",
   "execution_count": 56,
   "id": "653941e5",
   "metadata": {},
   "outputs": [],
   "source": [
    "PL += represents(shares_outstandings, fs=FS_PL, rep=FS_ITEM_REP_SHARES_OUTSTANDING)"
   ]
  },
  {
   "cell_type": "markdown",
   "id": "19769059",
   "metadata": {},
   "source": [
    "## ***___# Net Income Per Share___***\n",
    "\n",
    "* [US GAAP - Is Net Income Per Share the same with EPS?](https://money.stackexchange.com/questions/148015/us-gaap-is-net-income-per-share-the-same-with-eps)"
   ]
  },
  {
   "cell_type": "code",
   "execution_count": 57,
   "id": "8682c53a",
   "metadata": {},
   "outputs": [],
   "source": [
    "def get_pl_eps(soup):\n",
    "    return get_records_for_financial_element_names(\n",
    "        soup=soup, names=f\"{NAMESPACE}:EarningsPerShareBasic\".lower()\n",
    "    ) + \\\n",
    "    get_records_for_financial_element_names(\n",
    "        soup=soup, names=f\"{NAMESPACE}:EarningsPerShareBasicAndDiluted\".lower()\n",
    "    )"
   ]
  },
  {
   "cell_type": "code",
   "execution_count": 58,
   "id": "244f2951",
   "metadata": {},
   "outputs": [
    {
     "name": "stdout",
     "output_type": "stream",
     "text": [
      "us-gaap:earningspersharebasic                                                    usdPerShare 2     6.43           \n"
     ]
    }
   ],
   "source": [
    "PL += represents(get_pl_eps(soup), fs=FS_PL, rep=FS_ITEM_REP_EPS)"
   ]
  },
  {
   "cell_type": "markdown",
   "id": "2127021b",
   "metadata": {},
   "source": [
    "## Display P/L\n",
    "\n",
    "Is ```us-gaap:othernonoperatingincomeexpense``` credit or debit? As the value is **negative** and so is in the Income Statement, is shoudl be credit -> To be confirmed. "
   ]
  },
  {
   "cell_type": "code",
   "execution_count": 59,
   "id": "f50ffa38",
   "metadata": {},
   "outputs": [
    {
     "data": {
      "text/html": [
       "<div>\n",
       "<style scoped>\n",
       "    .dataframe tbody tr th:only-of-type {\n",
       "        vertical-align: middle;\n",
       "    }\n",
       "\n",
       "    .dataframe tbody tr th {\n",
       "        vertical-align: top;\n",
       "    }\n",
       "\n",
       "    .dataframe thead th {\n",
       "        text-align: right;\n",
       "    }\n",
       "</style>\n",
       "<table border=\"1\" class=\"dataframe\">\n",
       "  <thead>\n",
       "    <tr style=\"text-align: center;\">\n",
       "      <th></th>\n",
       "      <th>fs</th>\n",
       "      <th>rep</th>\n",
       "      <th>type</th>\n",
       "      <th>name</th>\n",
       "      <th>value</th>\n",
       "      <th>unit</th>\n",
       "      <th>decimals</th>\n",
       "      <th>context</th>\n",
       "    </tr>\n",
       "  </thead>\n",
       "  <tbody>\n",
       "    <tr>\n",
       "      <th>0</th>\n",
       "      <td>pl</td>\n",
       "      <td>revenue</td>\n",
       "      <td>credit</td>\n",
       "      <td>us-gaap:revenues</td>\n",
       "      <td>4015307000</td>\n",
       "      <td>usd</td>\n",
       "      <td>-3</td>\n",
       "      <td>ifb6ce67cf6954ebf88471dd82daa9247_D20200329-20...</td>\n",
       "    </tr>\n",
       "    <tr>\n",
       "      <th>1</th>\n",
       "      <td>pl</td>\n",
       "      <td>operating_cost</td>\n",
       "      <td>debit</td>\n",
       "      <td>us-gaap:costofgoodsandservicessold</td>\n",
       "      <td>2131741000</td>\n",
       "      <td>usd</td>\n",
       "      <td>-3</td>\n",
       "      <td>ifb6ce67cf6954ebf88471dd82daa9247_D20200329-20...</td>\n",
       "    </tr>\n",
       "    <tr>\n",
       "      <th>2</th>\n",
       "      <td>pl</td>\n",
       "      <td>gross_profit</td>\n",
       "      <td>calc</td>\n",
       "      <td>us-gaap:grossprofit</td>\n",
       "      <td>1883566000</td>\n",
       "      <td>usd</td>\n",
       "      <td>-3</td>\n",
       "      <td>ifb6ce67cf6954ebf88471dd82daa9247_D20200329-20...</td>\n",
       "    </tr>\n",
       "    <tr>\n",
       "      <th>3</th>\n",
       "      <td>pl</td>\n",
       "      <td>operating_expense_rd</td>\n",
       "      <td>debit</td>\n",
       "      <td>us-gaap:researchanddevelopmentexpense</td>\n",
       "      <td>570395000</td>\n",
       "      <td>usd</td>\n",
       "      <td>-3</td>\n",
       "      <td>ifb6ce67cf6954ebf88471dd82daa9247_D20200329-20...</td>\n",
       "    </tr>\n",
       "    <tr>\n",
       "      <th>4</th>\n",
       "      <td>pl</td>\n",
       "      <td>operating_expense_sga</td>\n",
       "      <td>debit</td>\n",
       "      <td>us-gaap:sellinggeneralandadministrativeexpense</td>\n",
       "      <td>367238000</td>\n",
       "      <td>usd</td>\n",
       "      <td>-3</td>\n",
       "      <td>ifb6ce67cf6954ebf88471dd82daa9247_D20200329-20...</td>\n",
       "    </tr>\n",
       "    <tr>\n",
       "      <th>5</th>\n",
       "      <td></td>\n",
       "      <td></td>\n",
       "      <td>debit</td>\n",
       "      <td>us-gaap:othercostandexpenseoperating</td>\n",
       "      <td>39306000</td>\n",
       "      <td>usd</td>\n",
       "      <td>-3</td>\n",
       "      <td>ifb6ce67cf6954ebf88471dd82daa9247_D20200329-20...</td>\n",
       "    </tr>\n",
       "    <tr>\n",
       "      <th>6</th>\n",
       "      <td>pl</td>\n",
       "      <td>operating_expense</td>\n",
       "      <td>calc</td>\n",
       "      <td>us-gaap:operatingexpenses</td>\n",
       "      <td>976939000</td>\n",
       "      <td>usd</td>\n",
       "      <td>-3</td>\n",
       "      <td>ifb6ce67cf6954ebf88471dd82daa9247_D20200329-20...</td>\n",
       "    </tr>\n",
       "    <tr>\n",
       "      <th>7</th>\n",
       "      <td>pl</td>\n",
       "      <td>operating_income</td>\n",
       "      <td>calc</td>\n",
       "      <td>us-gaap:operatingincomeloss</td>\n",
       "      <td>906627000</td>\n",
       "      <td>usd</td>\n",
       "      <td>-3</td>\n",
       "      <td>ifb6ce67cf6954ebf88471dd82daa9247_D20200329-20...</td>\n",
       "    </tr>\n",
       "    <tr>\n",
       "      <th>8</th>\n",
       "      <td></td>\n",
       "      <td></td>\n",
       "      <td>debit</td>\n",
       "      <td>us-gaap:interestexpense</td>\n",
       "      <td>75198000</td>\n",
       "      <td>usd</td>\n",
       "      <td>-3</td>\n",
       "      <td>ifb6ce67cf6954ebf88471dd82daa9247_D20200329-20...</td>\n",
       "    </tr>\n",
       "    <tr>\n",
       "      <th>9</th>\n",
       "      <td></td>\n",
       "      <td></td>\n",
       "      <td>debit</td>\n",
       "      <td>us-gaap:interestexpense</td>\n",
       "      <td>75198000</td>\n",
       "      <td>usd</td>\n",
       "      <td>-3</td>\n",
       "      <td>ifb6ce67cf6954ebf88471dd82daa9247_D20200329-20...</td>\n",
       "    </tr>\n",
       "    <tr>\n",
       "      <th>10</th>\n",
       "      <td></td>\n",
       "      <td></td>\n",
       "      <td>debit</td>\n",
       "      <td>us-gaap:incometaxexpensebenefit</td>\n",
       "      <td>73769000</td>\n",
       "      <td>usd</td>\n",
       "      <td>-3</td>\n",
       "      <td>ifb6ce67cf6954ebf88471dd82daa9247_D20200329-20...</td>\n",
       "    </tr>\n",
       "    <tr>\n",
       "      <th>11</th>\n",
       "      <td>pl</td>\n",
       "      <td>net_income</td>\n",
       "      <td>calc</td>\n",
       "      <td>us-gaap:netincomeloss</td>\n",
       "      <td>733611000</td>\n",
       "      <td>usd</td>\n",
       "      <td>-3</td>\n",
       "      <td>ifb6ce67cf6954ebf88471dd82daa9247_D20200329-20...</td>\n",
       "    </tr>\n",
       "    <tr>\n",
       "      <th>12</th>\n",
       "      <td>pl</td>\n",
       "      <td>shares_outstanding</td>\n",
       "      <td>fact</td>\n",
       "      <td>us-gaap:commonstocksharesoutstanding</td>\n",
       "      <td>112557000</td>\n",
       "      <td>shares</td>\n",
       "      <td>-3</td>\n",
       "      <td>i531402faf1d04969ac2b2ba0e1680766_I20210403</td>\n",
       "    </tr>\n",
       "    <tr>\n",
       "      <th>13</th>\n",
       "      <td>pl</td>\n",
       "      <td>eps</td>\n",
       "      <td>metric</td>\n",
       "      <td>us-gaap:earningspersharebasic</td>\n",
       "      <td>6.43</td>\n",
       "      <td>usdPerShare</td>\n",
       "      <td>2</td>\n",
       "      <td>ifb6ce67cf6954ebf88471dd82daa9247_D20200329-20...</td>\n",
       "    </tr>\n",
       "  </tbody>\n",
       "</table>\n",
       "</div>"
      ],
      "text/plain": [
       "    fs          rep             type   \\\n",
       "0   pl                revenue  credit   \n",
       "1   pl         operating_cost   debit   \n",
       "2   pl           gross_profit    calc   \n",
       "3   pl   operating_expense_rd   debit   \n",
       "4   pl  operating_expense_sga   debit   \n",
       "5                               debit   \n",
       "6   pl      operating_expense    calc   \n",
       "7   pl       operating_income    calc   \n",
       "8                               debit   \n",
       "9                               debit   \n",
       "10                              debit   \n",
       "11  pl             net_income    calc   \n",
       "12  pl     shares_outstanding    fact   \n",
       "13  pl                    eps  metric   \n",
       "\n",
       "                         name                         value       unit      \\\n",
       "0                                 us-gaap:revenues 4015307000          usd   \n",
       "1               us-gaap:costofgoodsandservicessold 2131741000          usd   \n",
       "2                              us-gaap:grossprofit 1883566000          usd   \n",
       "3            us-gaap:researchanddevelopmentexpense  570395000          usd   \n",
       "4   us-gaap:sellinggeneralandadministrativeexpense  367238000          usd   \n",
       "5             us-gaap:othercostandexpenseoperating   39306000          usd   \n",
       "6                        us-gaap:operatingexpenses  976939000          usd   \n",
       "7                      us-gaap:operatingincomeloss  906627000          usd   \n",
       "8                          us-gaap:interestexpense   75198000          usd   \n",
       "9                          us-gaap:interestexpense   75198000          usd   \n",
       "10                 us-gaap:incometaxexpensebenefit   73769000          usd   \n",
       "11                           us-gaap:netincomeloss  733611000          usd   \n",
       "12            us-gaap:commonstocksharesoutstanding  112557000       shares   \n",
       "13                   us-gaap:earningspersharebasic       6.43  usdPerShare   \n",
       "\n",
       "    decimals                      context                        \n",
       "0      -3     ifb6ce67cf6954ebf88471dd82daa9247_D20200329-20...  \n",
       "1      -3     ifb6ce67cf6954ebf88471dd82daa9247_D20200329-20...  \n",
       "2      -3     ifb6ce67cf6954ebf88471dd82daa9247_D20200329-20...  \n",
       "3      -3     ifb6ce67cf6954ebf88471dd82daa9247_D20200329-20...  \n",
       "4      -3     ifb6ce67cf6954ebf88471dd82daa9247_D20200329-20...  \n",
       "5      -3     ifb6ce67cf6954ebf88471dd82daa9247_D20200329-20...  \n",
       "6      -3     ifb6ce67cf6954ebf88471dd82daa9247_D20200329-20...  \n",
       "7      -3     ifb6ce67cf6954ebf88471dd82daa9247_D20200329-20...  \n",
       "8      -3     ifb6ce67cf6954ebf88471dd82daa9247_D20200329-20...  \n",
       "9      -3     ifb6ce67cf6954ebf88471dd82daa9247_D20200329-20...  \n",
       "10     -3     ifb6ce67cf6954ebf88471dd82daa9247_D20200329-20...  \n",
       "11     -3     ifb6ce67cf6954ebf88471dd82daa9247_D20200329-20...  \n",
       "12     -3           i531402faf1d04969ac2b2ba0e1680766_I20210403  \n",
       "13      2     ifb6ce67cf6954ebf88471dd82daa9247_D20200329-20...  "
      ]
     },
     "execution_count": 59,
     "metadata": {},
     "output_type": "execute_result"
    }
   ],
   "source": [
    "df_PL = pd.DataFrame(PL, columns=get_financial_element_columns())\n",
    "df_PL"
   ]
  },
  {
   "cell_type": "code",
   "execution_count": 60,
   "id": "186efae1",
   "metadata": {},
   "outputs": [
    {
     "data": {
      "text/plain": [
       "4015307000.0"
      ]
     },
     "execution_count": 60,
     "metadata": {},
     "output_type": "execute_result"
    }
   ],
   "source": [
    "credits = df_PL[df_PL['type'] == 'credit']['value'].sum()\n",
    "credits"
   ]
  },
  {
   "cell_type": "code",
   "execution_count": 61,
   "id": "ef85388d",
   "metadata": {},
   "outputs": [
    {
     "data": {
      "text/plain": [
       "3332845000.0"
      ]
     },
     "execution_count": 61,
     "metadata": {},
     "output_type": "execute_result"
    }
   ],
   "source": [
    "debits = df_PL[df_PL['type'] == 'debit']['value'].sum()\n",
    "debits"
   ]
  },
  {
   "cell_type": "code",
   "execution_count": 62,
   "id": "011c5966",
   "metadata": {},
   "outputs": [
    {
     "data": {
      "text/plain": [
       "682462000.0"
      ]
     },
     "execution_count": 62,
     "metadata": {},
     "output_type": "execute_result"
    }
   ],
   "source": [
    "credits - debits  # Equal to the Net Income"
   ]
  },
  {
   "cell_type": "markdown",
   "id": "21557bda",
   "metadata": {},
   "source": [
    "### EPS"
   ]
  },
  {
   "cell_type": "code",
   "execution_count": 63,
   "id": "2bce7feb",
   "metadata": {},
   "outputs": [
    {
     "data": {
      "text/plain": [
       "112557000.0"
      ]
     },
     "execution_count": 63,
     "metadata": {},
     "output_type": "execute_result"
    }
   ],
   "source": [
    "shares = df_PL[df_PL['rep'] == FS_ITEM_REP_SHARES_OUTSTANDING]\n",
    "if len(shares) == 1:\n",
    "    num_shares = shares['value'].values.item()\n",
    "else:\n",
    "    assert False, f\"No Shares OutStanding row found {df_PL}\"\n",
    "\n",
    "num_shares"
   ]
  },
  {
   "cell_type": "code",
   "execution_count": 64,
   "id": "2dbd1dd7",
   "metadata": {},
   "outputs": [
    {
     "data": {
      "text/plain": [
       "733611000.0"
      ]
     },
     "execution_count": 64,
     "metadata": {},
     "output_type": "execute_result"
    }
   ],
   "source": [
    "shares = df_PL[df_PL['rep'] == FS_ITEM_REP_NET_INCOME]\n",
    "if len(shares) == 1:\n",
    "    net_income = shares['value'].item()\n",
    "else:\n",
    "    assert False, f\"No Net Income row found {df_PL}\"\n",
    "\n",
    "net_income"
   ]
  },
  {
   "cell_type": "code",
   "execution_count": 65,
   "id": "d840fb86",
   "metadata": {},
   "outputs": [
    {
     "name": "stdout",
     "output_type": "stream",
     "text": [
      "6.52\n"
     ]
    }
   ],
   "source": [
    "eps = net_income / num_shares\n",
    "scale = 2\n",
    "print(f\"{eps:.{scale}f}\")"
   ]
  },
  {
   "cell_type": "markdown",
   "id": "cda92206",
   "metadata": {},
   "source": [
    "---\n",
    "# Balance Sheet (B/S)"
   ]
  },
  {
   "cell_type": "code",
   "execution_count": null,
   "id": "bd910f00",
   "metadata": {},
   "outputs": [],
   "source": []
  },
  {
   "cell_type": "code",
   "execution_count": 66,
   "id": "3ac1d0b8",
   "metadata": {},
   "outputs": [],
   "source": [
    "BS = []"
   ]
  },
  {
   "cell_type": "markdown",
   "id": "9fdf4d66",
   "metadata": {},
   "source": [
    "## Cash & Cash Equivalents\n",
    "\n",
    "Look for the cash and cash equivalents for the reporting perid in the Balance Sheet and Cash Flow statements of the  10-K."
   ]
  },
  {
   "cell_type": "code",
   "execution_count": 67,
   "id": "77b79406",
   "metadata": {},
   "outputs": [
    {
     "name": "stdout",
     "output_type": "stream",
     "text": [
      "us-gaap:cashandcashequivalentsatcarryingvalue                                    usd   -3    1397880000     \n"
     ]
    }
   ],
   "source": [
    "def get_bs_current_asset_cash_and_equivalents(soup):\n",
    "    names = re.compile(\"|\".join([\n",
    "        rf\"^{NAMESPACE}:CashAndCashEquivalentsAtCarryingValue$\",\n",
    "    ]).lower())\n",
    "    return represents(get_records_for_financial_element_names(soup=soup, names=names), fs=FS_BS, rep=FS_ITEM_REP_CASH)\n",
    "\n",
    "BS += get_bs_current_asset_cash_and_equivalents(soup)"
   ]
  },
  {
   "cell_type": "markdown",
   "id": "e28c80a7",
   "metadata": {},
   "source": [
    "## Restricted Cash"
   ]
  },
  {
   "cell_type": "code",
   "execution_count": 68,
   "id": "0033637f",
   "metadata": {},
   "outputs": [],
   "source": [
    "def get_bs_current_asset_restricted_cash_and_equivalents(soup):\n",
    "    names = re.compile(\"|\".join([\n",
    "        rf\"^{NAMESPACE}:RestrictedCashEquivalentsCurrent$\",\n",
    "        rf\"^{NAMESPACE}:RestrictedCashAndCashEquivalentsAtCarryingValue$\",\n",
    "    ]).lower())\n",
    "    return get_records_for_financial_element_names(soup=soup, names=names)\n",
    "\n",
    "BS += get_bs_current_asset_restricted_cash_and_equivalents(soup)"
   ]
  },
  {
   "cell_type": "markdown",
   "id": "768bf159",
   "metadata": {},
   "source": [
    "## Short Term Investments"
   ]
  },
  {
   "cell_type": "code",
   "execution_count": 69,
   "id": "cf3f9b93",
   "metadata": {},
   "outputs": [],
   "source": [
    "def get_bs_current_asset_short_term_investments(soup):\n",
    "    names = re.compile(\"|\".join([\n",
    "        rf\"^{NAMESPACE}:ShortTermInvestments$\",\n",
    "    ]).lower())\n",
    "    return get_records_for_financial_element_names(soup=soup, names=names)\n",
    "\n",
    "BS += get_bs_current_asset_short_term_investments(soup)"
   ]
  },
  {
   "cell_type": "markdown",
   "id": "81055bb2",
   "metadata": {},
   "source": [
    "## Account Receivable"
   ]
  },
  {
   "cell_type": "code",
   "execution_count": 70,
   "id": "6ef04cf2",
   "metadata": {},
   "outputs": [
    {
     "name": "stdout",
     "output_type": "stream",
     "text": [
      "us-gaap:accountsreceivablenetcurrent                                             usd   -3    457431000      \n",
      "us-gaap:otherreceivables                                                         usd   -3    27324000       \n"
     ]
    }
   ],
   "source": [
    "def get_bs_current_asset_account_receivables(soup):\n",
    "    names = re.compile(\"|\".join([\n",
    "        rf\"^{NAMESPACE}:ReceivablesNetCurrent$\",\n",
    "        rf\"^{NAMESPACE}:AccountsReceivableNetCurrent$\",\n",
    "        rf\"^{NAMESPACE}:OtherReceivables$\",\n",
    "    ]).lower())\n",
    "    return get_records_for_financial_element_names(soup=soup, names=names)\n",
    "\n",
    "PL += get_bs_current_asset_account_receivables(soup)"
   ]
  },
  {
   "cell_type": "markdown",
   "id": "bd50545b",
   "metadata": {},
   "source": [
    "## ***___Inventory___***"
   ]
  },
  {
   "cell_type": "code",
   "execution_count": 71,
   "id": "3de69eb8",
   "metadata": {},
   "outputs": [
    {
     "name": "stdout",
     "output_type": "stream",
     "text": [
      "us-gaap:inventorynet                                                             usd   -3    507787000      \n"
     ]
    }
   ],
   "source": [
    "def get_bs_current_asset_inventory(soup):\n",
    "    names = re.compile(\"|\".join([\n",
    "        rf\"^{NAMESPACE}:InventoryNet$\",\n",
    "    ]).lower())\n",
    "    return get_records_for_financial_element_names(soup=soup, names=names)\n",
    "\n",
    "PL += get_bs_current_asset_inventory(soup)"
   ]
  },
  {
   "cell_type": "markdown",
   "id": "6805470b",
   "metadata": {},
   "source": [
    "## Prepaid Expense / Other Assets Current\n",
    "\n",
    "* [Understanding Prepaid Expenses](https://www.investopedia.com/terms/p/prepaidexpense.asp)\n",
    "\n",
    "> Companies make prepayments for goods or services such as leased office equipment or insurance coverage that provide continual benefits over time. Goods or services of this nature cannot be expensed immediately because the expense would not line up with the benefit incurred over time from using the asset.  \n",
    ">\n",
    "> According to generally accepted accounting principles (GAAP), expenses should be recorded in the same accounting period as the benefit generated from the related asset.\n",
    "\n",
    "* [us-gaap: PrepaidExpenseAndOtherAssetsCurrent](https://www.calcbench.com/element/PrepaidExpenseAndOtherAssetsCurrent)\n",
    "\n",
    "> Amount of asset related to consideration paid in advance for costs that provide economic benefits in future periods, and amount of other assets that are expected to be realized or consumed within one year or the normal operating cycle, if longer.\n",
    "\n",
    "* [Other Current Assets (OCA)](https://www.investopedia.com/terms/o/othercurrentassets.asp)\n",
    "\n",
    "> Other current assets (OCA) is a category of things of value that a company owns, benefits from, or uses to generate income that can be converted into cash within one business cycle. They are referred to as “other” because they are uncommon or insignificant, unlike typical current asset items such as cash, securities, accounts receivable, inventory, and prepaid expenses."
   ]
  },
  {
   "cell_type": "code",
   "execution_count": 72,
   "id": "3ae6b77f",
   "metadata": {},
   "outputs": [
    {
     "name": "stdout",
     "output_type": "stream",
     "text": [
      "us-gaap:prepaidexpensecurrent                                                    usd   -3    41572000       \n",
      "us-gaap:otherassetscurrent                                                       usd   -3    51810000       \n",
      "us-gaap:operatingleaserightofuseasset                                            usd   -3    62925000       \n"
     ]
    }
   ],
   "source": [
    "def get_bs_current_asset_other(soup):\n",
    "    names = re.compile(\"|\".join([\n",
    "        rf\"^{NAMESPACE}:PrepaidExpenseCurrent$\",\n",
    "        rf\"^{NAMESPACE}:PrepaidExpenseAndOtherAssetsCurrent$\",\n",
    "        rf\"^{NAMESPACE}:OperatingLeaseRightOfUseAsset$\",\n",
    "        rf\"^{NAMESPACE}:OtherAssetsCurrent$\",\n",
    "    ]).lower())\n",
    "    return get_records_for_financial_element_names(soup=soup, names=names)\n",
    "\n",
    "BS += get_bs_current_asset_other(soup)"
   ]
  },
  {
   "cell_type": "markdown",
   "id": "c57ff4fd",
   "metadata": {},
   "source": [
    "## ***___# Current Assets___***"
   ]
  },
  {
   "cell_type": "code",
   "execution_count": 73,
   "id": "5bd8f856",
   "metadata": {},
   "outputs": [
    {
     "name": "stdout",
     "output_type": "stream",
     "text": [
      "us-gaap:assetscurrent                                                            usd   -3    2483804000     \n"
     ]
    }
   ],
   "source": [
    "def get_bs_current_assets(soup):\n",
    "    names = re.compile(\"|\".join([\n",
    "    rf\"^{NAMESPACE}:AssetsCurrent$\",\n",
    "    ]).lower())\n",
    "    return represents(get_records_for_financial_element_names(soup=soup, names=names), fs=FS_BS, rep=FS_ITEM_REP_CURRENT_ASSETS)\n",
    "\n",
    "BS += get_bs_current_assets(soup)    "
   ]
  },
  {
   "cell_type": "markdown",
   "id": "63191882",
   "metadata": {},
   "source": [
    "## Property, Plant, Equipment"
   ]
  },
  {
   "cell_type": "code",
   "execution_count": 74,
   "id": "9b537385",
   "metadata": {},
   "outputs": [
    {
     "name": "stdout",
     "output_type": "stream",
     "text": [
      "us-gaap:propertyplantandequipmentnet                                             usd   -3    1266031000     \n"
     ]
    }
   ],
   "source": [
    "def get_bs_non_current_asset_property_and_equipment(soup):\n",
    "    names = re.compile(\"|\".join([\n",
    "    rf\"^{NAMESPACE}:PropertyPlantAndEquipmentNet$\",\n",
    "    ]).lower())\n",
    "    return get_records_for_financial_element_names(soup=soup, names=names)\n",
    "\n",
    "BS += get_bs_non_current_asset_property_and_equipment(soup)"
   ]
  },
  {
   "cell_type": "code",
   "execution_count": 75,
   "id": "c26d1968",
   "metadata": {},
   "outputs": [],
   "source": [
    "## Restricted Cash Non Current"
   ]
  },
  {
   "cell_type": "code",
   "execution_count": 76,
   "id": "4feca817",
   "metadata": {},
   "outputs": [],
   "source": [
    "def get_bs_non_current_asset_restricted_cash_and_equivalent(soup):\n",
    "    names = re.compile(\"|\".join([\n",
    "        rf\"^{NAMESPACE}:RestrictedCashAndCashEquivalentsNoncurrent$\",\n",
    "    ]).lower())\n",
    "    return get_records_for_financial_element_names(soup=soup, names=names)\n",
    "\n",
    "BS += get_bs_non_current_asset_restricted_cash_and_equivalent(soup)"
   ]
  },
  {
   "cell_type": "markdown",
   "id": "aaadbca2",
   "metadata": {},
   "source": [
    "## Deferred Tax"
   ]
  },
  {
   "cell_type": "code",
   "execution_count": 77,
   "id": "884c0514",
   "metadata": {},
   "outputs": [],
   "source": [
    "def get_bs_non_current_asset_deferred_income_tax(soup):\n",
    "    names = re.compile(\"|\".join([\n",
    "        rf\"^{NAMESPACE}:DeferredIncomeTaxAssetsNet$\",\n",
    "    ]).lower())\n",
    "    return get_records_for_financial_element_names(soup=soup, names=names)\n",
    "\n",
    "BS += get_bs_non_current_asset_deferred_income_tax(soup)"
   ]
  },
  {
   "cell_type": "markdown",
   "id": "d3e00bef",
   "metadata": {},
   "source": [
    "## ***___GoodWill___***"
   ]
  },
  {
   "cell_type": "code",
   "execution_count": 78,
   "id": "665ed06f",
   "metadata": {},
   "outputs": [
    {
     "name": "stdout",
     "output_type": "stream",
     "text": [
      "us-gaap:goodwill                                                                 usd   -3    2642708000     \n"
     ]
    }
   ],
   "source": [
    "def get_bs_non_current_asset_goodwill(soup):\n",
    "    names = re.compile(\"|\".join([\n",
    "        rf\"^{NAMESPACE}:GoodWill$\",\n",
    "    ]).lower())\n",
    "    return get_records_for_financial_element_names(soup=soup, names=names)\n",
    "\n",
    "BS += get_bs_non_current_asset_goodwill(soup)"
   ]
  },
  {
   "cell_type": "markdown",
   "id": "35ab752c",
   "metadata": {},
   "source": [
    "## Intangible and Other Assets"
   ]
  },
  {
   "cell_type": "code",
   "execution_count": 79,
   "id": "7f995b84",
   "metadata": {},
   "outputs": [
    {
     "name": "stdout",
     "output_type": "stream",
     "text": [
      "us-gaap:intangibleassetsnetexcludinggoodwill                                     usd   -3    611155000      \n",
      "us-gaap:otherassetsnoncurrent                                                    usd   -3    182402000      \n"
     ]
    }
   ],
   "source": [
    "def get_bs_non_current_asset_other(soup):\n",
    "    names = re.compile(\"|\".join([\n",
    "        rf\"^{NAMESPACE}:IntangibleAssetsNetExcludingGoodwill$\",\n",
    "        rf\"^{NAMESPACE}:OtherAssetsNoncurrent$\",\n",
    "    ]).lower())\n",
    "    return get_records_for_financial_element_names(soup=soup, names=names)\n",
    "\n",
    "BS += get_bs_non_current_asset_other(soup)"
   ]
  },
  {
   "cell_type": "markdown",
   "id": "8552d375",
   "metadata": {},
   "source": [
    "## ***___# Total Assets___***"
   ]
  },
  {
   "cell_type": "code",
   "execution_count": 80,
   "id": "68576556",
   "metadata": {},
   "outputs": [
    {
     "name": "stdout",
     "output_type": "stream",
     "text": [
      "us-gaap:assets                                                                   usd   -3    7221470000     \n"
     ]
    }
   ],
   "source": [
    "def get_bs_total_assets(soup):\n",
    "    names = re.compile(\"|\".join([\n",
    "        rf\"^{NAMESPACE}:Assets$\",\n",
    "    ]).lower())\n",
    "    return get_records_for_financial_element_names(soup=soup, names=names)\n",
    "\n",
    "BS += represents(get_bs_total_assets(soup), fs=FS_BS, rep=FS_ITEM_REP_TOTAL_ASSETS)"
   ]
  },
  {
   "cell_type": "markdown",
   "id": "e61c6d90",
   "metadata": {},
   "source": [
    "## Account Payable\n",
    "\n",
    "* [Accounts Payable (AP)](https://www.investopedia.com/terms/a/accountspayable.asp)\n",
    "\n",
    "> company's obligation to pay off a short-term debt to its creditors or suppliers.\n",
    "\n",
    "\n",
    "\n",
    "* [Accrued Liability](https://www.investopedia.com/terms/a/accrued-liability.asp) (売掛金)\n",
    "\n",
    "> costs for goods and services already delivered to a company for which it must pay in the future. A company can accrue liabilities for any number of obligations and are recorded on the company's balance sheet. They are normally listed on the balance sheet as current liabilities and are adjusted at the end of an accounting period.\n",
    "\n",
    "\n",
    "* [us-gaap:AccruedLiabilitiesCurrent](http://xbrlsite.azurewebsites.net/2019/Prototype/references/us-gaap/Element-354.html)"
   ]
  },
  {
   "cell_type": "code",
   "execution_count": 81,
   "id": "2046baed",
   "metadata": {},
   "outputs": [
    {
     "name": "stdout",
     "output_type": "stream",
     "text": [
      "us-gaap:accountspayablecurrent                                                   usd   -3    313868000      \n",
      "us-gaap:accruedliabilitiescurrent                                                usd   -3    255060000      \n",
      "us-gaap:capitalexpendituresincurredbutnotyetpaid                                 usd   -3    56469000       \n"
     ]
    }
   ],
   "source": [
    "def get_bs_current_liability_account_payable(soup):\n",
    "    names = re.compile(\"|\".join([\n",
    "        rf\"^{NAMESPACE}:AccountsPayableCurrent$\",\n",
    "        rf\"^{NAMESPACE}:AccruedLiabilitiesCurrent$\",\n",
    "        rf\"^{NAMESPACE}:CapitalExpendituresIncurredButNotYetPaid$\",\n",
    "    ]).lower())\n",
    "    return get_records_for_financial_element_names(soup=soup, names=names)\n",
    "\n",
    "BS += get_bs_current_liability_account_payable(soup)"
   ]
  },
  {
   "cell_type": "markdown",
   "id": "6c1fe183",
   "metadata": {},
   "source": [
    "## Tax"
   ]
  },
  {
   "cell_type": "code",
   "execution_count": 82,
   "id": "1dd6f3dc",
   "metadata": {},
   "outputs": [
    {
     "name": "stdout",
     "output_type": "stream",
     "text": [
      "us-gaap:taxespayablecurrent                                                      usd   -5    86700000       \n"
     ]
    }
   ],
   "source": [
    "def bs_get_current_liability_tax(soup):\n",
    "    names = re.compile(\"|\".join([\n",
    "        rf\"^{NAMESPACE}:TaxesPayableCurrent$\",\n",
    "    ]).lower())\n",
    "    return get_records_for_financial_element_names(soup=soup, names=names)\n",
    "\n",
    "BS += bs_get_current_liability_tax(soup)"
   ]
  },
  {
   "cell_type": "markdown",
   "id": "27091965",
   "metadata": {},
   "source": [
    "## Debt Due"
   ]
  },
  {
   "cell_type": "code",
   "execution_count": 83,
   "id": "3b3780d7",
   "metadata": {},
   "outputs": [
    {
     "name": "stdout",
     "output_type": "stream",
     "text": [
      "us-gaap:longtermdebtcurrent                                                      usd   -3    5092000        \n"
     ]
    }
   ],
   "source": [
    "def bs_get_current_liability_longterm_debt(soup):\n",
    "    names = re.compile(\"|\".join([\n",
    "        rf\"^{NAMESPACE}:LongTermDebtCurrent$\",\n",
    "    ]).lower())\n",
    "    return get_records_for_financial_element_names(soup=soup, names=names)\n",
    "\n",
    "BS += bs_get_current_liability_longterm_debt(soup)"
   ]
  },
  {
   "cell_type": "markdown",
   "id": "4b256076",
   "metadata": {},
   "source": [
    "## ***___# Current Liabilities___***"
   ]
  },
  {
   "cell_type": "code",
   "execution_count": 84,
   "id": "5b002f6c",
   "metadata": {},
   "outputs": [
    {
     "name": "stdout",
     "output_type": "stream",
     "text": [
      "us-gaap:liabilitiescurrent                                                       usd   -3    681581000      \n"
     ]
    }
   ],
   "source": [
    "def get_bs_current_liabilities(soup):\n",
    "    names = re.compile(\"|\".join([\n",
    "        rf\"^{NAMESPACE}:LiabilitiesCurrent$\",\n",
    "    ]).lower())\n",
    "    return get_records_for_financial_element_names(soup=soup, names=names)\n",
    "\n",
    "BS += represents(get_bs_current_liabilities(soup), fs=FS_BS, rep=FS_ITEM_REP_CURRENT_LIABILITIES)"
   ]
  },
  {
   "cell_type": "markdown",
   "id": "01081144",
   "metadata": {},
   "source": [
    "## Long Term Debt"
   ]
  },
  {
   "cell_type": "code",
   "execution_count": 85,
   "id": "7ee669cf",
   "metadata": {},
   "outputs": [
    {
     "name": "stdout",
     "output_type": "stream",
     "text": [
      "us-gaap:longtermdebt                                                             usd   -3    1742550000     \n"
     ]
    }
   ],
   "source": [
    "def get_bs_non_current_liability_longterm_debt(soup):\n",
    "    names = re.compile(\"|\".join([\n",
    "        rf\"^{NAMESPACE}:LongTermDebt$\",\n",
    "        rf\"^{NAMESPACE}:LongTermDebtNoncurrent$\",\n",
    "        rf\"^{NAMESPACE}:LongTermLoansFromBank$\",\n",
    "    ]).lower())\n",
    "    return get_records_for_financial_element_names(soup=soup, names=names)\n",
    "\n",
    "BS += get_bs_non_current_liability_longterm_debt(soup)"
   ]
  },
  {
   "cell_type": "markdown",
   "id": "790ec01d",
   "metadata": {},
   "source": [
    "## Tax Deferred"
   ]
  },
  {
   "cell_type": "code",
   "execution_count": 86,
   "id": "2da2df11",
   "metadata": {},
   "outputs": [],
   "source": [
    "def get_bs_non_current_liability_deferred_tax(soup):\n",
    "    names = re.compile(\"|\".join([\n",
    "        rf\"^{NAMESPACE}:DeferredIncomeTaxLiabilitiesNet$\",\n",
    "    ]).lower())\n",
    "    return get_records_for_financial_element_names(soup=soup, names=names)\n",
    "\n",
    "BS += get_bs_non_current_liability_deferred_tax(soup)"
   ]
  },
  {
   "cell_type": "markdown",
   "id": "f76ed4bd",
   "metadata": {},
   "source": [
    "## Other Long Term Liabilities\n",
    "\n",
    "* [Postemployment Benefits Liability, Noncurrent/us-gaap:PostemploymentBenefitsLiabilityNoncurrent](http://xbrlsite.azurewebsites.net/2019/Prototype/references/us-gaap/Element-12380.html)\n",
    "\n",
    "> The obligations recognized for the various benefits provided to former or inactive employees, their beneficiaries, and covered dependents after employment but before retirement that is payable after one year (or beyond the operating cycle if longer)."
   ]
  },
  {
   "cell_type": "code",
   "execution_count": 87,
   "id": "21376115",
   "metadata": {},
   "outputs": [
    {
     "name": "stdout",
     "output_type": "stream",
     "text": [
      "us-gaap:otherliabilitiesnoncurrent                                               usd   -3    167914000      \n",
      "us-gaap:operatingleaseliabilitynoncurrent                                        usd   -3    53172000       \n"
     ]
    }
   ],
   "source": [
    "def get_bs_non_current_liability_other(soup):\n",
    "    names = re.compile(\"|\".join([\n",
    "        rf\"^{NAMESPACE}:PostemploymentBenefitsLiabilityNoncurrent$\",\n",
    "        rf\"^{NAMESPACE}:PensionAndOtherPostretirementAndPostemploymentBenefitPlansLiabilitiesNoncurrent$\",\n",
    "        rf\"^{NAMESPACE}:OperatingLeaseLiabilityNoncurrent$\",\n",
    "        rf\"^{NAMESPACE}:OtherLiabilitiesNoncurrent$\",\n",
    "    ]).lower())\n",
    "    return get_records_for_financial_element_names(soup=soup, names=names)\n",
    "\n",
    "BS += get_bs_non_current_liability_other(soup)"
   ]
  },
  {
   "cell_type": "markdown",
   "id": "48d1658c",
   "metadata": {},
   "source": [
    "## ***___# Total Liabilities___***"
   ]
  },
  {
   "cell_type": "code",
   "execution_count": 88,
   "id": "36441d35",
   "metadata": {},
   "outputs": [
    {
     "name": "stdout",
     "output_type": "stream",
     "text": [
      "us-gaap:liabilities                                                              usd   -3    2592045000     \n"
     ]
    }
   ],
   "source": [
    "def get_bs_total_liabilities(soup):\n",
    "    names = re.compile(\"|\".join([\n",
    "        rf\"^{NAMESPACE}:Liabilities$\",\n",
    "    ]).lower())\n",
    "    return get_records_for_financial_element_names(soup=soup, names=names)\n",
    "\n",
    "BS += represents(get_bs_total_liabilities(soup), fs=FS_BS, rep=FS_ITEM_REP_LIABILITIES)"
   ]
  },
  {
   "cell_type": "markdown",
   "id": "f4e91304",
   "metadata": {},
   "source": [
    "## Paid-in Capital\n",
    "\n",
    "* [Paid-In Capital](https://www.investopedia.com/terms/p/paidincapital.aspPaid-In Capital)\n",
    "\n",
    "> Paid-in capital represents the funds raised by the business through selling its equity and not from ongoing business operations. Paid-in capital also refers to a line item on the company's balance sheet listed under shareholders' equity (also referred to as stockholders' equity), often shown alongside the line item for additional paid-in capital.\n",
    "\n",
    "* [Additional Paid-In Capital (APIC)](https://www.investopedia.com/terms/a/additionalpaidincapital.asp)\n",
    "\n",
    "> Often referred to as \"contributed capital in excess of par,” APIC occurs when an investor buys newly-issued shares directly from a company during its initial public offering (IPO) stage. APIC, which is itemized under the shareholder equity (SE) section of a balance sheet, is viewed as a profit opportunity for companies as it results in them receiving excess cash from stockholders."
   ]
  },
  {
   "cell_type": "code",
   "execution_count": 89,
   "id": "d6ba718f",
   "metadata": {},
   "outputs": [
    {
     "name": "stdout",
     "output_type": "stream",
     "text": [
      "us-gaap:commonstocksincludingadditionalpaidincapital                             usd   -3    4244740000     \n"
     ]
    }
   ],
   "source": [
    "def get_bs_stockholders_equity_paid_in(soup):\n",
    "    names = re.compile(\"|\".join([\n",
    "        rf\"^{NAMESPACE}:CommonStockValue$\",\n",
    "        rf\"^{NAMESPACE}:AdditionalPaidInCapitalCommonStock$\",\n",
    "        rf\"^{NAMESPACE}:CommonStocksIncludingAdditionalPaidInCapital$\",\n",
    "    ]).lower())\n",
    "    return get_records_for_financial_element_names(soup=soup, names=names)\n",
    "\n",
    "BS += get_bs_stockholders_equity_paid_in(soup)"
   ]
  },
  {
   "cell_type": "markdown",
   "id": "ec4f4d40",
   "metadata": {},
   "source": [
    "## Retained Earnings\n",
    "\n",
    "* [Retained Earnings](https://www.investopedia.com/terms/r/retainedearnings.asp)\n",
    "\n",
    ">  The word \"retained\" captures the fact that because those earnings were **NOT paid out to shareholders as dividends** they were instead retained by the company."
   ]
  },
  {
   "cell_type": "code",
   "execution_count": 90,
   "id": "c58dc030",
   "metadata": {},
   "outputs": [
    {
     "name": "stdout",
     "output_type": "stream",
     "text": [
      "us-gaap:retainedearningsaccumulateddeficit                                       usd   -3    355036000      \n"
     ]
    }
   ],
   "source": [
    "def get_bs_stockholders_equity_retained(soup):\n",
    "    names = re.compile(\"|\".join([\n",
    "        rf\"^{NAMESPACE}:RetainedEarningsAppropriated$\",\n",
    "        rf\"^{NAMESPACE}:RetainedEarningsAccumulatedDeficit$\",\n",
    "    ]).lower())\n",
    "    return get_records_for_financial_element_names(soup=soup, names=names)\n",
    "\n",
    "BS += get_bs_stockholders_equity_retained(soup)"
   ]
  },
  {
   "cell_type": "markdown",
   "id": "244b6619",
   "metadata": {},
   "source": [
    "## Accumulated other comprehensive income/loss"
   ]
  },
  {
   "cell_type": "code",
   "execution_count": 91,
   "id": "87a31968",
   "metadata": {},
   "outputs": [
    {
     "name": "stdout",
     "output_type": "stream",
     "text": [
      "us-gaap:accumulatedothercomprehensiveincomelossnetoftax                          usd   -3    29649000       \n"
     ]
    }
   ],
   "source": [
    "def get_bs_stockholders_equity_other(soup):\n",
    "    names = re.compile(\"|\".join([\n",
    "        rf\"^{NAMESPACE}:AccumulatedOtherComprehensiveIncomeLossNetOfTax$\",\n",
    "        rf\"^{NAMESPACE}:MinorityInterest$\",\n",
    "    ]).lower())\n",
    "    return get_records_for_financial_element_names(soup=soup, names=names)\n",
    "\n",
    "BS += get_bs_stockholders_equity_other(soup)"
   ]
  },
  {
   "cell_type": "markdown",
   "id": "e215caa4",
   "metadata": {},
   "source": [
    "## ***___# Stockholder's Equity___***\n",
    "\n",
    "* [Stockholders' Equity](https://www.investopedia.com/terms/s/stockholdersequity.asp)\n",
    "\n",
    "> Remaining amount of assets available to shareholders after all liabilities have been paid. (純資産)"
   ]
  },
  {
   "cell_type": "code",
   "execution_count": 92,
   "id": "47c2a465",
   "metadata": {},
   "outputs": [
    {
     "name": "stdout",
     "output_type": "stream",
     "text": [
      "us-gaap:stockholdersequity                                                       usd   -3    4629425000     \n"
     ]
    }
   ],
   "source": [
    "def get_bs_stockholders_equity(soup):\n",
    "    names = re.compile(\"|\".join([\n",
    "        rf\"^{NAMESPACE}:StockholdersEquity$\",\n",
    "        rf\"^{NAMESPACE}:StockholdersEquityIncludingPortionAttributableToNoncontrollingInterest$\",\n",
    "    ]).lower())\n",
    "    return get_records_for_financial_element_names(soup=soup, names=names)\n",
    "\n",
    "BS += represents(get_bs_stockholders_equity(soup), fs=FS_BS, rep=FS_ITEM_REP_TOTAL_EQUITY)"
   ]
  },
  {
   "cell_type": "markdown",
   "id": "dc176cd2",
   "metadata": {},
   "source": [
    "## ***___# Total Liabilities + Stockholder's Equity___***"
   ]
  },
  {
   "cell_type": "code",
   "execution_count": 93,
   "id": "b1b94eee",
   "metadata": {},
   "outputs": [
    {
     "name": "stdout",
     "output_type": "stream",
     "text": [
      "us-gaap:liabilitiesandstockholdersequity                                         usd   -3    7221470000     \n"
     ]
    }
   ],
   "source": [
    "names = re.compile(\"|\".join([\n",
    "    rf\"^{NAMESPACE}:LiabilitiesAndStockholdersEquity$\",\n",
    "]).lower())\n",
    "BS += get_records_for_financial_element_names(soup=soup, names=names)"
   ]
  },
  {
   "cell_type": "markdown",
   "id": "edccdd39",
   "metadata": {},
   "source": [
    "## Display B/S"
   ]
  },
  {
   "cell_type": "code",
   "execution_count": 94,
   "id": "5f12a608",
   "metadata": {},
   "outputs": [
    {
     "data": {
      "text/html": [
       "<div>\n",
       "<style scoped>\n",
       "    .dataframe tbody tr th:only-of-type {\n",
       "        vertical-align: middle;\n",
       "    }\n",
       "\n",
       "    .dataframe tbody tr th {\n",
       "        vertical-align: top;\n",
       "    }\n",
       "\n",
       "    .dataframe thead th {\n",
       "        text-align: right;\n",
       "    }\n",
       "</style>\n",
       "<table border=\"1\" class=\"dataframe\">\n",
       "  <thead>\n",
       "    <tr style=\"text-align: center;\">\n",
       "      <th></th>\n",
       "      <th>fs</th>\n",
       "      <th>rep</th>\n",
       "      <th>type</th>\n",
       "      <th>name</th>\n",
       "      <th>value</th>\n",
       "      <th>unit</th>\n",
       "      <th>decimals</th>\n",
       "      <th>context</th>\n",
       "    </tr>\n",
       "  </thead>\n",
       "  <tbody>\n",
       "    <tr>\n",
       "      <th>0</th>\n",
       "      <td>bs</td>\n",
       "      <td>cash_and_equivalent</td>\n",
       "      <td>credit</td>\n",
       "      <td>us-gaap:cashandcashequivalentsatcarryingvalue</td>\n",
       "      <td>1397880000</td>\n",
       "      <td>usd</td>\n",
       "      <td>-3</td>\n",
       "      <td>i531402faf1d04969ac2b2ba0e1680766_I20210403</td>\n",
       "    </tr>\n",
       "    <tr>\n",
       "      <th>4</th>\n",
       "      <td>bs</td>\n",
       "      <td>current_assets</td>\n",
       "      <td>calc</td>\n",
       "      <td>us-gaap:assetscurrent</td>\n",
       "      <td>2483804000</td>\n",
       "      <td>usd</td>\n",
       "      <td>-3</td>\n",
       "      <td>i531402faf1d04969ac2b2ba0e1680766_I20210403</td>\n",
       "    </tr>\n",
       "    <tr>\n",
       "      <th>9</th>\n",
       "      <td>bs</td>\n",
       "      <td>total_assets</td>\n",
       "      <td>calc</td>\n",
       "      <td>us-gaap:assets</td>\n",
       "      <td>7221470000</td>\n",
       "      <td>usd</td>\n",
       "      <td>-3</td>\n",
       "      <td>i531402faf1d04969ac2b2ba0e1680766_I20210403</td>\n",
       "    </tr>\n",
       "    <tr>\n",
       "      <th>15</th>\n",
       "      <td>bs</td>\n",
       "      <td>current_liabilities</td>\n",
       "      <td>calc</td>\n",
       "      <td>us-gaap:liabilitiescurrent</td>\n",
       "      <td>681581000</td>\n",
       "      <td>usd</td>\n",
       "      <td>-3</td>\n",
       "      <td>i531402faf1d04969ac2b2ba0e1680766_I20210403</td>\n",
       "    </tr>\n",
       "    <tr>\n",
       "      <th>19</th>\n",
       "      <td>bs</td>\n",
       "      <td>total_liabilities</td>\n",
       "      <td>calc</td>\n",
       "      <td>us-gaap:liabilities</td>\n",
       "      <td>2592045000</td>\n",
       "      <td>usd</td>\n",
       "      <td>-3</td>\n",
       "      <td>i531402faf1d04969ac2b2ba0e1680766_I20210403</td>\n",
       "    </tr>\n",
       "    <tr>\n",
       "      <th>23</th>\n",
       "      <td>bs</td>\n",
       "      <td>total_equity</td>\n",
       "      <td>calc</td>\n",
       "      <td>us-gaap:stockholdersequity</td>\n",
       "      <td>4629425000</td>\n",
       "      <td>usd</td>\n",
       "      <td>-3</td>\n",
       "      <td>i531402faf1d04969ac2b2ba0e1680766_I20210403</td>\n",
       "    </tr>\n",
       "  </tbody>\n",
       "</table>\n",
       "</div>"
      ],
      "text/plain": [
       "    fs         rep            type   \\\n",
       "0   bs  cash_and_equivalent  credit   \n",
       "4   bs       current_assets    calc   \n",
       "9   bs         total_assets    calc   \n",
       "15  bs  current_liabilities    calc   \n",
       "19  bs    total_liabilities    calc   \n",
       "23  bs         total_equity    calc   \n",
       "\n",
       "                        name                         value   unit  decimals  \\\n",
       "0   us-gaap:cashandcashequivalentsatcarryingvalue 1397880000  usd     -3      \n",
       "4                           us-gaap:assetscurrent 2483804000  usd     -3      \n",
       "9                                  us-gaap:assets 7221470000  usd     -3      \n",
       "15                     us-gaap:liabilitiescurrent  681581000  usd     -3      \n",
       "19                            us-gaap:liabilities 2592045000  usd     -3      \n",
       "23                     us-gaap:stockholdersequity 4629425000  usd     -3      \n",
       "\n",
       "                     context                     \n",
       "0   i531402faf1d04969ac2b2ba0e1680766_I20210403  \n",
       "4   i531402faf1d04969ac2b2ba0e1680766_I20210403  \n",
       "9   i531402faf1d04969ac2b2ba0e1680766_I20210403  \n",
       "15  i531402faf1d04969ac2b2ba0e1680766_I20210403  \n",
       "19  i531402faf1d04969ac2b2ba0e1680766_I20210403  \n",
       "23  i531402faf1d04969ac2b2ba0e1680766_I20210403  "
      ]
     },
     "execution_count": 94,
     "metadata": {},
     "output_type": "execute_result"
    }
   ],
   "source": [
    "df_BS = pd.DataFrame(BS, columns=get_financial_element_columns())\n",
    "#df_BS = df_BS.style.set_properties(**{'text-align': 'left'})\n",
    "df_BS[(df_BS['rep'].notna()) & (df_BS['rep'] != \"\")]"
   ]
  },
  {
   "cell_type": "code",
   "execution_count": null,
   "id": "c382e20c",
   "metadata": {},
   "outputs": [],
   "source": []
  },
  {
   "cell_type": "code",
   "execution_count": 95,
   "id": "4d5f2e51",
   "metadata": {},
   "outputs": [
    {
     "data": {
      "text/plain": [
       "6256483000.0"
      ]
     },
     "execution_count": 95,
     "metadata": {},
     "output_type": "execute_result"
    }
   ],
   "source": [
    "credits = df_BS[df_BS['type'] == 'credit']['value'].sum()\n",
    "credits"
   ]
  },
  {
   "cell_type": "code",
   "execution_count": 96,
   "id": "323c27ad",
   "metadata": {},
   "outputs": [
    {
     "data": {
      "text/plain": [
       "7310250000.0"
      ]
     },
     "execution_count": 96,
     "metadata": {},
     "output_type": "execute_result"
    }
   ],
   "source": [
    "debits = df_BS[df_BS['type'] == 'debit']['value'].sum()\n",
    "debits"
   ]
  },
  {
   "cell_type": "code",
   "execution_count": 97,
   "id": "f364a6c0",
   "metadata": {},
   "outputs": [
    {
     "data": {
      "text/plain": [
       "-1053767000.0"
      ]
     },
     "execution_count": 97,
     "metadata": {},
     "output_type": "execute_result"
    }
   ],
   "source": [
    "credits - debits"
   ]
  },
  {
   "cell_type": "markdown",
   "id": "31cb2962",
   "metadata": {},
   "source": [
    "### Cash Per Share"
   ]
  },
  {
   "cell_type": "code",
   "execution_count": 98,
   "id": "eafb4fca",
   "metadata": {},
   "outputs": [
    {
     "name": "stdout",
     "output_type": "stream",
     "text": [
      "12.42\n"
     ]
    }
   ],
   "source": [
    "cash = df_BS[df_BS['rep'] == FS_ITEM_REP_CASH]['value'].values.item()\n",
    "cps = cash / num_shares\n",
    "\n",
    "scale = 2\n",
    "print(f\"{cps:.{scale}f}\")"
   ]
  },
  {
   "cell_type": "markdown",
   "id": "e18bdbe1",
   "metadata": {},
   "source": [
    "### EPS VS CPS"
   ]
  },
  {
   "cell_type": "code",
   "execution_count": 99,
   "id": "aed66f07",
   "metadata": {},
   "outputs": [
    {
     "name": "stdout",
     "output_type": "stream",
     "text": [
      "Saving is 1.91 more than earning\n"
     ]
    }
   ],
   "source": [
    "if (cps / eps) > 1.0:\n",
    "    print(f\"Saving is {cps/eps:.2f} more than earning\")"
   ]
  },
  {
   "cell_type": "markdown",
   "id": "e808f3a2",
   "metadata": {},
   "source": [
    "# Save"
   ]
  },
  {
   "cell_type": "code",
   "execution_count": 100,
   "id": "651fd0b4",
   "metadata": {},
   "outputs": [],
   "source": [
    "import pathlib\n",
    "path_to_folder = f\"../data/{CIK}_{registrant_name}\"\n",
    "pathlib.Path(f\"{path_to_folder}\").mkdir(parents=True, exist_ok=True)"
   ]
  },
  {
   "cell_type": "code",
   "execution_count": 101,
   "id": "a7cc48a7",
   "metadata": {},
   "outputs": [],
   "source": [
    "df_PL.to_csv(f\"{path_to_folder}/{ACCESSION}_PL.gz\", index=False, compression='gzip')\n",
    "df_BS.to_csv(f\"{path_to_folder}/{ACCESSION}_BS.gz\", index=False, compression='gzip')"
   ]
  },
  {
   "cell_type": "markdown",
   "id": "c640cb38",
   "metadata": {},
   "source": [
    "# Clearn up"
   ]
  },
  {
   "cell_type": "code",
   "execution_count": 103,
   "id": "c20782a8",
   "metadata": {},
   "outputs": [],
   "source": [
    "del soup\n",
    "del df_PL, df_BS"
   ]
  },
  {
   "cell_type": "code",
   "execution_count": null,
   "id": "fd394ecc",
   "metadata": {},
   "outputs": [],
   "source": []
  }
 ],
 "metadata": {
  "kernelspec": {
   "display_name": "Python 3 (ipykernel)",
   "language": "python",
   "name": "python3"
  },
  "language_info": {
   "codemirror_mode": {
    "name": "ipython",
    "version": 3
   },
   "file_extension": ".py",
   "mimetype": "text/x-python",
   "name": "python",
   "nbconvert_exporter": "python",
   "pygments_lexer": "ipython3",
   "version": "3.8.10"
  },
  "name": "sec_edgar_parse_xbrl.ipynb"
 },
 "nbformat": 4,
 "nbformat_minor": 5
}
