{
 "cells": [
  {
   "cell_type": "code",
   "execution_count": 1,
   "id": "94ff4736",
   "metadata": {},
   "outputs": [],
   "source": [
    "import re"
   ]
  },
  {
   "cell_type": "code",
   "execution_count": 15,
   "id": "3e33a1d8",
   "metadata": {},
   "outputs": [],
   "source": [
    "REGEXP_XBRL_TAG_CONTEXT = re.compile(f\"^(context)$|^(.*:context)$\", re.IGNORECASE)"
   ]
  },
  {
   "cell_type": "code",
   "execution_count": 16,
   "id": "fed5cada",
   "metadata": {},
   "outputs": [],
   "source": [
    "match = re.match(REGEXP_XBRL_TAG_CONTEXT, \"context\")"
   ]
  },
  {
   "cell_type": "code",
   "execution_count": 17,
   "id": "81bb2a63",
   "metadata": {},
   "outputs": [
    {
     "data": {
      "text/plain": [
       "'context'"
      ]
     },
     "execution_count": 17,
     "metadata": {},
     "output_type": "execute_result"
    }
   ],
   "source": [
    "match.group(0)"
   ]
  },
  {
   "cell_type": "code",
   "execution_count": 69,
   "id": "9c4caf5f",
   "metadata": {},
   "outputs": [],
   "source": [
    "def is_int(x: str):\n",
    "    assert isinstance(x, str)\n",
    "    if '.' in x:\n",
    "        i_f = x.split('.')\n",
    "        i = i_f[0]\n",
    "        f = i_f[1]\n",
    "        return i.lstrip('-').isdigit() and f.isdigit() and int(f) == 0      \n",
    "    else:\n",
    "        return x.lstrip('-').isdigit()"
   ]
  },
  {
   "cell_type": "code",
   "execution_count": 70,
   "id": "a3da14f1",
   "metadata": {},
   "outputs": [
    {
     "data": {
      "text/plain": [
       "True"
      ]
     },
     "execution_count": 70,
     "metadata": {},
     "output_type": "execute_result"
    }
   ],
   "source": [
    "is_int(\"123.0\")"
   ]
  },
  {
   "cell_type": "code",
   "execution_count": 71,
   "id": "9720bce2",
   "metadata": {},
   "outputs": [
    {
     "data": {
      "text/plain": [
       "True"
      ]
     },
     "execution_count": 71,
     "metadata": {},
     "output_type": "execute_result"
    }
   ],
   "source": [
    "is_int(\"123\")"
   ]
  },
  {
   "cell_type": "code",
   "execution_count": 72,
   "id": "adaef9f7",
   "metadata": {},
   "outputs": [
    {
     "data": {
      "text/plain": [
       "False"
      ]
     },
     "execution_count": 72,
     "metadata": {},
     "output_type": "execute_result"
    }
   ],
   "source": [
    "is_int(\"12-3.0\")"
   ]
  },
  {
   "cell_type": "code",
   "execution_count": 73,
   "id": "e85f37fd",
   "metadata": {},
   "outputs": [
    {
     "data": {
      "text/plain": [
       "False"
      ]
     },
     "execution_count": 73,
     "metadata": {},
     "output_type": "execute_result"
    }
   ],
   "source": [
    "is_int(\"123.09\")"
   ]
  },
  {
   "cell_type": "code",
   "execution_count": 74,
   "id": "1ff832c7",
   "metadata": {},
   "outputs": [
    {
     "data": {
      "text/plain": [
       "False"
      ]
     },
     "execution_count": 74,
     "metadata": {},
     "output_type": "execute_result"
    }
   ],
   "source": [
    "is_int(\"-123.09\")"
   ]
  },
  {
   "cell_type": "code",
   "execution_count": 75,
   "id": "294eba74",
   "metadata": {},
   "outputs": [
    {
     "data": {
      "text/plain": [
       "True"
      ]
     },
     "execution_count": 75,
     "metadata": {},
     "output_type": "execute_result"
    }
   ],
   "source": [
    "is_int(\"-123\")"
   ]
  },
  {
   "cell_type": "code",
   "execution_count": 86,
   "id": "0ac305ca",
   "metadata": {},
   "outputs": [],
   "source": [
    "from typing import (\n",
    "    List,\n",
    "    Callable,\n",
    "    Any\n",
    ")\n"
   ]
  },
  {
   "cell_type": "code",
   "execution_count": 103,
   "id": "1d4153cc",
   "metadata": {},
   "outputs": [],
   "source": [
    "def sort_list_of_records_at_nth_element(\n",
    "        x: List[List[Any]], position: int, f: Callable = lambda x: x, reverse=False\n",
    ") -> List[List[Any]]:\n",
    "    \"\"\"Sort a list of records (record is another list) with i-th element of the record\n",
    "    Args:\n",
    "        x: List of records\n",
    "        position: i-th position in the record to sort with\n",
    "        f: function to convert the n-th element\n",
    "    \"\"\"\n",
    "    assert isinstance(x, list) and len(x) > 0 and isinstance(x[0], list), \"Invalid x\"\n",
    "    assert 0 <= position < len(x[0]), \\\n",
    "        \"invalid position [%s] for list length [%s]\" % (position, len(x[0]))\n",
    "\n",
    "    # --------------------------------------------------------------------------------\n",
    "    # 'f' corresponds with 'int' function below.\n",
    "    # https://stackoverflow.com/a/17555237\n",
    "    # in this method, the integers are lexicographically compared.\n",
    "    # Thus, '5' will be larger than '20'. If an integer comparison is to be made,\n",
    "    # key=lambda x: int(x[3]) should be used.\n",
    "    # --------------------------------------------------------------------------------\n",
    "    x.sort(key=lambda record: f(record[position]), reverse=reverse)\n",
    "    return x\n"
   ]
  },
  {
   "cell_type": "code",
   "execution_count": 104,
   "id": "497671ba",
   "metadata": {},
   "outputs": [],
   "source": [
    "x = [\n",
    "    [\"x\", 0.0, \"abc\"],\n",
    "    [\"b\", -0.1, \"xyz\"],\n",
    "    [\"d\", 100, \"123\"],\n",
    "    [\"a\", .01, \"ttt\"],\n",
    "]"
   ]
  },
  {
   "cell_type": "code",
   "execution_count": 105,
   "id": "f0875a99",
   "metadata": {},
   "outputs": [
    {
     "name": "stdout",
     "output_type": "stream",
     "text": [
      "['b', -0.1, 'xyz']\n",
      "['x', 0.0, 'abc']\n",
      "['a', 0.01, 'ttt']\n",
      "['d', 100, '123']\n"
     ]
    }
   ],
   "source": [
    "for row in sort_list_of_records_at_nth_element(x, 1, float):\n",
    "    print(row)"
   ]
  },
  {
   "cell_type": "code",
   "execution_count": 106,
   "id": "7f3ddd7e",
   "metadata": {
    "scrolled": true
   },
   "outputs": [
    {
     "name": "stdout",
     "output_type": "stream",
     "text": [
      "['a', 0.01, 'ttt']\n",
      "['b', -0.1, 'xyz']\n",
      "['d', 100, '123']\n",
      "['x', 0.0, 'abc']\n"
     ]
    }
   ],
   "source": [
    "for row in sort_list_of_records_at_nth_element(x, 0):\n",
    "    print(row)"
   ]
  },
  {
   "cell_type": "code",
   "execution_count": 108,
   "id": "4db246a2",
   "metadata": {},
   "outputs": [
    {
     "name": "stdout",
     "output_type": "stream",
     "text": [
      "['d', 100, '123']\n",
      "['a', 0.01, 'ttt']\n",
      "['x', 0.0, 'abc']\n",
      "['b', -0.1, 'xyz']\n"
     ]
    }
   ],
   "source": [
    "for row in sort_list_of_records_at_nth_element(x, 1, float, True):\n",
    "    print(row)"
   ]
  },
  {
   "cell_type": "code",
   "execution_count": null,
   "id": "8e4ff7f5",
   "metadata": {},
   "outputs": [],
   "source": []
  },
  {
   "cell_type": "code",
   "execution_count": null,
   "id": "eec6504e",
   "metadata": {},
   "outputs": [],
   "source": []
  },
  {
   "cell_type": "code",
   "execution_count": null,
   "id": "c16d8b32",
   "metadata": {},
   "outputs": [],
   "source": []
  }
 ],
 "metadata": {
  "kernelspec": {
   "display_name": "Python 3 (ipykernel)",
   "language": "python",
   "name": "python3"
  },
  "language_info": {
   "codemirror_mode": {
    "name": "ipython",
    "version": 3
   },
   "file_extension": ".py",
   "mimetype": "text/x-python",
   "name": "python",
   "nbconvert_exporter": "python",
   "pygments_lexer": "ipython3",
   "version": "3.8.10"
  }
 },
 "nbformat": 4,
 "nbformat_minor": 5
}
