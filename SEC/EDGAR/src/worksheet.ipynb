{
 "cells": [
  {
   "cell_type": "code",
   "execution_count": 1,
   "id": "94ff4736",
   "metadata": {},
   "outputs": [],
   "source": [
    "import re"
   ]
  },
  {
   "cell_type": "code",
   "execution_count": 15,
   "id": "3e33a1d8",
   "metadata": {},
   "outputs": [],
   "source": [
    "REGEXP_XBRL_TAG_CONTEXT = re.compile(f\"^(context)$|^(.*:context)$\", re.IGNORECASE)"
   ]
  },
  {
   "cell_type": "code",
   "execution_count": 16,
   "id": "fed5cada",
   "metadata": {},
   "outputs": [],
   "source": [
    "match = re.match(REGEXP_XBRL_TAG_CONTEXT, \"context\")"
   ]
  },
  {
   "cell_type": "code",
   "execution_count": 17,
   "id": "81bb2a63",
   "metadata": {},
   "outputs": [
    {
     "data": {
      "text/plain": [
       "'context'"
      ]
     },
     "execution_count": 17,
     "metadata": {},
     "output_type": "execute_result"
    }
   ],
   "source": [
    "match.group(0)"
   ]
  },
  {
   "cell_type": "code",
   "execution_count": null,
   "id": "9c4caf5f",
   "metadata": {},
   "outputs": [],
   "source": []
  },
  {
   "cell_type": "code",
   "execution_count": null,
   "id": "a3da14f1",
   "metadata": {},
   "outputs": [],
   "source": []
  }
 ],
 "metadata": {
  "kernelspec": {
   "display_name": "Python 3 (ipykernel)",
   "language": "python",
   "name": "python3"
  },
  "language_info": {
   "codemirror_mode": {
    "name": "ipython",
    "version": 3
   },
   "file_extension": ".py",
   "mimetype": "text/x-python",
   "name": "python",
   "nbconvert_exporter": "python",
   "pygments_lexer": "ipython3",
   "version": "3.8.10"
  }
 },
 "nbformat": 4,
 "nbformat_minor": 5
}
