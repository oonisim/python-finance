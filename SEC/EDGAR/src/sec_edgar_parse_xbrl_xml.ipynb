{
 "cells": [
  {
   "cell_type": "markdown",
   "id": "89209a88",
   "metadata": {},
   "source": [
    "---\n",
    "# Setup"
   ]
  },
  {
   "cell_type": "code",
   "execution_count": 1,
   "id": "1dd95359",
   "metadata": {},
   "outputs": [
    {
     "data": {
      "text/html": [
       "<style>\n",
       "table {float:left}\n",
       "</style>\n"
      ],
      "text/plain": [
       "<IPython.core.display.HTML object>"
      ]
     },
     "metadata": {},
     "output_type": "display_data"
    }
   ],
   "source": [
    "%%html\n",
    "<style>\n",
    "table {float:left}\n",
    "</style>"
   ]
  },
  {
   "cell_type": "markdown",
   "id": "33f885db",
   "metadata": {},
   "source": [
    "# Parsing SEC Filing XBRL Document\n",
    "\n",
    "\n",
    "## Objective\n",
    "\n",
    "Parse the filing XBRL file to create a DOM like structure that represent the filing data\n",
    "\n",
    "## References\n",
    "\n",
    "* [XBRL Specification - Extensible Business Reporting Language (XBRL) 2.1](https://www.xbrl.org/Specification/XBRL-2.1/REC-2003-12-31/XBRL-2.1-REC-2003-12-31+corrected-errata-2013-02-20.html)\n",
    "\n",
    "* [List of US GAAP Standards](https://xbrlsite.azurewebsites.net/2019/Prototype/references/us-gaap/)\n",
    "* [XBRL US - List of Elements](https://xbrl.us/data-rule/dqc_0015-le/)\n",
    "\n",
    "**Element Version**|**Element ID**|**Namespace**|**Element Label**|**Element Name**|**Balance Type**|**Definition**\n",
    ":-----:|:-----:|:-----:|:-----:|:-----:|:-----:|:-----:\n",
    "1|1367|us-gaap|Interest Expense|InterestExpense|debit|Amount of the cost of borrowed funds accounted for as interest expense.\n",
    "2|2692|us-gaap|Cash and Cash Equivalents, at Carrying Value|CashAndCashEquivalentsAtCarryingValue|debit|Amount of currency on hand as well as demand deposits with banks or financial institutions. Includes other kinds of accounts that have the general characteristics of demand deposits. Also includes short-term, highly liquid investments that are both readily convertible to known amounts of cash and so near their maturity that they present insignificant risk of changes in value because of changes in interest rates. Excludes cash and cash equivalents within disposal group and discontinued operation.\n",
    "\n",
    "## XBRL Element\n",
    "\n",
    "* [XBRL Glossary of Terms](https://www.sec.gov/page/osd_xbrlglossary)\n",
    "* [XBRL - What is us-gaap:OperatingSegmentsMember element anb where is it defined?](https://money.stackexchange.com/questions/148010/xbrl-what-is-us-gaapoperatingsegmentsmember-element-anb-where-is-it-defined)\n",
    "\n",
    "### Example\n",
    "For instance, Qorvo 2020 10K\n",
    "\n",
    "* [XBRL/rfmd-20210403_htm.xml](https://www.sec.gov/Archives/edgar/data/1604778/000160477821000032/rfmd-20210403_htm.xml)\n",
    "* [HTML/rfmd-20210403.htm)](https://www.sec.gov/Archives/edgar/data/1604778/000160477821000032/rfmd-20210403.htm):\n",
    "\n",
    "```\n",
    "<us-gaap:cashandcashequivalentsatcarryingvalue contextref=\"*\" decimals=\"-3\" id=\"...\" unitref=\"usd\">\n",
    "  1397880000\n",
    "</us-gaap:cashandcashequivalentsatcarryingvalue>,\n",
    "<us-gaap:cashandcashequivalentsatcarryingvalue contextref=\"***\" decimals=\"-3\" id=\"...\" unitref=\"usd\">\n",
    "  714939000\n",
    "</us-gaap:cashandcashequivalentsatcarryingvalue>,\n",
    "<us-gaap:cashandcashequivalentsatcarryingvalue contextref=\"***\" decimals=\"-3\" id=\"...\" unitref=\"usd\">\n",
    " 711035000\n",
    "</us-gaap:cashandcashequivalentsatcarryingvalue>\n",
    "```\n",
    "\n",
    "Corresponds to the Cash and Cash equivalents in the Cash Flow statement.\n",
    "\n",
    "<img src=\"../image/edgar_qorvo_2020_10K_CF.png\" align=\"left\" width=800 />"
   ]
  },
  {
   "cell_type": "code",
   "execution_count": 2,
   "id": "e2ad2d93",
   "metadata": {},
   "outputs": [],
   "source": [
    "from typing import (\n",
    "    List,\n",
    "    Dict\n",
    ")\n",
    "import operator\n",
    "import logging\n",
    "import time\n",
    "import datetime\n",
    "import dateutil\n",
    "import calendar\n",
    "import re\n",
    "import requests\n",
    "import unicodedata\n",
    "import bs4\n",
    "from bs4 import BeautifulSoup\n",
    "from IPython.core.display import (\n",
    "    display, \n",
    "    HTML\n",
    ")\n",
    "\n",
    "import numpy as np\n",
    "import pandas as pd\n",
    "pd.set_option('display.float_format', lambda x: ('%f' % x).rstrip('0').rstrip('.'))\n",
    "pd.set_option('display.colheader_justify', 'center')\n",
    "pd.set_option('display.max_columns', None)\n",
    "pd.set_option('display.max_colwidth', None)"
   ]
  },
  {
   "cell_type": "code",
   "execution_count": 3,
   "id": "48bcf193",
   "metadata": {},
   "outputs": [],
   "source": [
    "logging.basicConfig(level=logging.DEBUG)\n",
    "Logger = logging.getLogger(__name__)"
   ]
  },
  {
   "cell_type": "code",
   "execution_count": 4,
   "id": "cebbb665",
   "metadata": {},
   "outputs": [],
   "source": [
    "def restore_windows_1252_characters(restore_string):\n",
    "    \"\"\"\n",
    "        Replace C1 control characters in the Unicode string s by the\n",
    "        characters at the corresponding code points in Windows-1252,\n",
    "        where possible.\n",
    "    \"\"\"\n",
    "\n",
    "    def to_windows_1252(match):\n",
    "        try:\n",
    "            return bytes([ord(match.group(0))]).decode('windows-1252')\n",
    "        except UnicodeDecodeError:\n",
    "            # No character at the corresponding code point: remove it.\n",
    "            return ''\n",
    "        \n",
    "    return re.sub(r'[\\u0080-\\u0099]', to_windows_1252, restore_string)"
   ]
  },
  {
   "cell_type": "markdown",
   "id": "a55c991d",
   "metadata": {},
   "source": [
    "# FS Constant"
   ]
  },
  {
   "cell_type": "code",
   "execution_count": 5,
   "id": "c3a556fa",
   "metadata": {},
   "outputs": [
    {
     "name": "stderr",
     "output_type": "stream",
     "text": [
      "DEBUG:ray:[ray] Forcing OMP_NUM_THREADS=1 to avoid performance degradation with many workers (issue #6998). You can override this by explicitly setting OMP_NUM_THREADS.\n"
     ]
    }
   ],
   "source": [
    "%load_ext autoreload\n",
    "%autoreload 2\n",
    "from sec_edgar_constant import (\n",
    "    EDGAR_HTTP_HEADERS,\n",
    "    SEC_FORM_TYPE_10K,\n",
    "    SEC_FORM_TYPE_10Q,\n",
    "    FS_PL,\n",
    "    FS_BS,\n",
    "    FS_CF,\n",
    "    FS_ELEMENT_REP_SHARES_OUTSTANDING,\n",
    "    # PL\n",
    "    FS_ELEMENT_REP_REVENUE,\n",
    "    FS_ELEMENT_REP_OP_COST,\n",
    "    FS_ELEMENT_REP_OP_INCOME,\n",
    "    FS_ELEMENT_REP_GROSS_PROFIT,\n",
    "    FS_ELEMENT_REP_OPEX_RD,\n",
    "    FS_ELEMENT_REP_OPEX_SGA,\n",
    "    FS_ELEMENT_REP_OPEX,\n",
    "    FS_ELEMENT_REP_NET_INCOME,\n",
    "    FS_ELEMENT_REP_EPS,\n",
    "    # BS\n",
    "    FS_ELEMENT_REP_CASH,\n",
    "    FS_ELEMENT_REP_CURRENT_ASSETS,\n",
    "    FS_ELEMENT_REP_TOTAL_ASSETS,\n",
    "    FS_ELEMENT_REP_CURRENT_LIABILITIES,\n",
    "    FS_ELEMENT_REP_LIABILITIES,\n",
    "    FS_ELEMENT_REP_EQUITY,           # Stockholders' Equity or Total Equity\n",
    "    FS_ELEMENT_REP_EQUITY_AND_LIABILITIES,\n",
    ")\n",
    "from sec_edgar_common import (\n",
    "    is_date_string,\n",
    "    filename_basename,\n",
    "    filename_extension,\n",
    ")\n",
    "from xbrl_gaap_function import (\n",
    "    REGEXP_NUMERIC,\n",
    "    REGEXP_XBRL_TAG_CONTEXT,\n",
    "    REGEXP_XBRL_TAG_INSTANT,\n",
    "    REGEXP_XBRL_TAG_PERIOD,\n",
    "    REGEXP_XBRL_TAG_START_DATE,\n",
    "    REGEXP_XBRL_TAG_END_DATE,\n",
    "\n",
    "    get_company_name,\n",
    "    get_attributes_to_select_target_fs_elements,\n",
    "    get_financial_element_columns,\n",
    "    get_target_context_ids,\n",
    "    # sed -n 's/^def \\(get_pl_.*\\)(.*/\\1,/p'\n",
    "    get_pl_revenues,\n",
    "    get_pl_revenue_other,\n",
    "    get_pl_income_interest,\n",
    "    get_pl_income_other,\n",
    "    get_pl_cost_of_revenues,\n",
    "    get_pl_gross_profit,\n",
    "    get_pl_operating_expense_r_and_d,\n",
    "    get_pl_operating_expense_selling_administrative,\n",
    "    get_pl_operating_expense_other,\n",
    "    get_pl_operating_expense_total,\n",
    "    get_pl_operating_income,\n",
    "    get_pl_non_operating_expense_interest,\n",
    "    get_pl_non_operating_expense_other,\n",
    "    get_pl_income_tax,\n",
    "    get_pl_net_income,\n",
    "    get_pl_shares_outstanding,\n",
    "    get_pl_eps,\n",
    "    # sed -n 's/^def \\(get_bs_.*\\)(.*/\\1,/p'\n",
    "    get_bs_current_asset_cash_and_equivalents,\n",
    "    get_bs_current_asset_restricted_cash_and_equivalents,\n",
    "    get_bs_current_asset_short_term_investments,\n",
    "    get_bs_current_asset_account_receivables,\n",
    "    get_bs_current_asset_inventory,\n",
    "    get_bs_current_asset_other,\n",
    "    get_bs_current_assets,\n",
    "    get_bs_non_current_asset_property_and_equipment,\n",
    "    get_bs_non_current_asset_restricted_cash_and_equivalent,\n",
    "    get_bs_non_current_asset_deferred_income_tax,\n",
    "    get_bs_non_current_asset_goodwill,\n",
    "    get_bs_non_current_asset_other,\n",
    "    get_bs_total_assets,\n",
    "    get_bs_current_liability_account_payable,\n",
    "    get_bs_current_liability_tax,\n",
    "    get_bs_current_liability_longterm_debt,\n",
    "    get_bs_current_liabilities,\n",
    "    get_bs_non_current_liability_longterm_debt,\n",
    "    get_bs_non_current_liability_deferred_tax,\n",
    "    get_bs_non_current_liability_other,\n",
    "    get_bs_total_liabilities,\n",
    "    get_bs_stockholders_equity_paid_in,\n",
    "    get_bs_stockholders_equity_retained,\n",
    "    get_bs_stockholders_equity_other,\n",
    "    get_bs_stockholders_equity,\n",
    "    get_bs_total_liabilities_and_stockholders_equity,\n",
    ")\n",
    "from sec_edgar_list_xbrl_xml import (\n",
    "    EdgarList\n",
    ")\n",
    "xbrl_url = EdgarList.xbrl_url"
   ]
  },
  {
   "cell_type": "markdown",
   "id": "82295cb6",
   "metadata": {},
   "source": [
    "---\n",
    "# Load EDGAR Filing XBRL\n",
    "\n",
    "Download the ```_htm.xml``` file from EDGAR. SEC now requires user-agent header."
   ]
  },
  {
   "cell_type": "markdown",
   "id": "f584596e",
   "metadata": {},
   "source": [
    "## Filling (CIK/Accession)"
   ]
  },
  {
   "cell_type": "code",
   "execution_count": 6,
   "id": "6fb0d668",
   "metadata": {},
   "outputs": [],
   "source": [
    "# AMKOR 2020 10K\n",
    "CIK = '1047127'\n",
    "ACCESSION = '0001047127-20-000006'.replace('-', '')\n",
    "FORM_TYPE = SEC_FORM_TYPE_10K"
   ]
  },
  {
   "cell_type": "code",
   "execution_count": 7,
   "id": "96d70876",
   "metadata": {},
   "outputs": [],
   "source": [
    "# DIOD 2020 10K\n",
    "CIK = '29002'\n",
    "ACCESSION = '000156459021007008'\n",
    "FORM_TYPE = SEC_FORM_TYPE_10K"
   ]
  },
  {
   "cell_type": "code",
   "execution_count": 8,
   "id": "c86a4be8",
   "metadata": {},
   "outputs": [],
   "source": [
    "# OPTICAL CABLE CORPORATION 10-K for the fiscal year ended October 31, 2021\n",
    "CIK = '0001000230'\n",
    "ACCESSION = '000143774921028951'\n",
    "FORM_TYPE = SEC_FORM_TYPE_10K"
   ]
  },
  {
   "cell_type": "code",
   "execution_count": 9,
   "id": "e7d3da57",
   "metadata": {},
   "outputs": [],
   "source": [
    "# QORVO 2021 10K\n",
    "CIK = '1604778'\n",
    "ACCESSION = '000160477821000032'\n",
    "FORM_TYPE = SEC_FORM_TYPE_10K"
   ]
  },
  {
   "cell_type": "code",
   "execution_count": 10,
   "id": "bc5cd4f2",
   "metadata": {},
   "outputs": [],
   "source": [
    "# NICHOLAS FINANCIAL, INC.\n",
    "CIK = '1000045'\n",
    "ACCESSION = '000119312513259413'\n",
    "FORM_TYPE = SEC_FORM_TYPE_10K"
   ]
  },
  {
   "cell_type": "code",
   "execution_count": 11,
   "id": "fa04f2ec",
   "metadata": {},
   "outputs": [],
   "source": [
    "CIK = '1000697'\n",
    "ACCESSION = '000007202010000036'\n",
    "FORM_TYPE = SEC_FORM_TYPE_10Q"
   ]
  },
  {
   "cell_type": "code",
   "execution_count": 12,
   "id": "aa185e60",
   "metadata": {},
   "outputs": [],
   "source": [
    "CIK = '1000697'\n",
    "ACCESSION = '000095012310045994'\n",
    "FORM_TYPE = SEC_FORM_TYPE_10Q"
   ]
  },
  {
   "cell_type": "code",
   "execution_count": 13,
   "id": "90484633",
   "metadata": {},
   "outputs": [],
   "source": [
    "# AMKOR 2021 10Q\n",
    "CIK = '1047127'\n",
    "ACCESSION = '000104712721000043'\n",
    "FORM_TYPE = SEC_FORM_TYPE_10Q"
   ]
  },
  {
   "cell_type": "code",
   "execution_count": 14,
   "id": "f24b6a2d",
   "metadata": {},
   "outputs": [
    {
     "data": {
      "text/plain": [
       "'https://www.sec.gov/Archives/edgar/data/1047127/000104712721000043/index.xml'"
      ]
     },
     "execution_count": 14,
     "metadata": {},
     "output_type": "execute_result"
    }
   ],
   "source": [
    "INDEX_XML_URL = f\"https://www.sec.gov/Archives/edgar/data/{CIK}/{ACCESSION}/index.xml\"\n",
    "INDEX_XML_URL"
   ]
  },
  {
   "cell_type": "markdown",
   "id": "25e4deb9",
   "metadata": {},
   "source": [
    "## Filing Directory Listing\n",
    "\n",
    "Using EDGAR Directory Listing (index.html, index.json, or index.xml), identify the XBRL file (_htm.xml) path. "
   ]
  },
  {
   "cell_type": "raw",
   "id": "6c99babd",
   "metadata": {},
   "source": [
    "\"\"\"\n",
    "INDEX_XML_URL = f\"https://www.sec.gov/Archives/edgar/data/{CIK}/{ACCESSION}/index.xml\"\n",
    "INDEX_XML_URL\n",
    "\n",
    "response = requests.get(INDEX_XML_URL, headers=EDGAR_HTTP_HEADERS)\n",
    "if response.status_code == 200:\n",
    "    index = response.content.decode(\"utf-8\") \n",
    "else:\n",
    "    assert False, f\"{INDEX_XML_URL} failed with status {response.status_code}\"\n",
    "    \n",
    "path_to_xbrl = BeautifulSoup(index, 'html.parser').find('href', string=re.compile(\".*_htm.xml\"))\n",
    "del index\n",
    "assert path_to_xbrl, \"No XBRL file found.\"\n",
    "\n",
    "path_to_xbrl = path_to_xbrl.string.strip()\n",
    "\"\"\""
   ]
  },
  {
   "cell_type": "markdown",
   "id": "dc515f1d",
   "metadata": {},
   "source": [
    "## Download XBRL"
   ]
  },
  {
   "cell_type": "code",
   "execution_count": 15,
   "id": "9ea93c9f",
   "metadata": {},
   "outputs": [
    {
     "name": "stderr",
     "output_type": "stream",
     "text": [
      "INFO:root:xbrl_url(): getting filing directory index [https://www.sec.gov/Archives/edgar/data/1047127/000104712721000043/index.xml]...\n",
      "DEBUG:root:http_get_content(): GET url [https://www.sec.gov/Archives/edgar/data/1047127/000104712721000043/index.xml] headers [{'User-Agent': 'Company Name myname@company.com'}]\n",
      "DEBUG:urllib3.connectionpool:Starting new HTTPS connection (1): www.sec.gov:443\n",
      "DEBUG:urllib3.connectionpool:https://www.sec.gov:443 \"GET /Archives/edgar/data/1047127/000104712721000043/index.xml HTTP/1.1\" 200 1218\n",
      "INFO:root:identifying XBRL URL for [https://www.sec.gov/Archives/edgar/data/1047127/000104712721000043/index.xml]...\n",
      "DEBUG:root:Filing directory path is [/Archives/edgar/data/1047127/000104712721000043/]\n",
      "INFO:root:XBRL XML [https://sec.gov/Archives/edgar/data/1047127/000104712721000043/amkr-20210930_htm.xml] identified\n",
      "INFO:root:XBRL URL identified [https://sec.gov/Archives/edgar/data/1047127/000104712721000043/amkr-20210930_htm.xml]\n",
      "DEBUG:urllib3.connectionpool:Starting new HTTPS connection (1): sec.gov:443\n",
      "DEBUG:urllib3.connectionpool:https://sec.gov:443 \"GET /Archives/edgar/data/1047127/000104712721000043/amkr-20210930_htm.xml HTTP/1.1\" 301 0\n",
      "DEBUG:urllib3.connectionpool:Starting new HTTPS connection (1): www.sec.gov:443\n",
      "DEBUG:urllib3.connectionpool:https://www.sec.gov:443 \"GET /Archives/edgar/data/1047127/000104712721000043/amkr-20210930_htm.xml HTTP/1.1\" 200 109685\n"
     ]
    }
   ],
   "source": [
    "XBRL_XML_URL = xbrl_url(INDEX_XML_URL)\n",
    "\n",
    "response = requests.get(XBRL_XML_URL, headers=EDGAR_HTTP_HEADERS)\n",
    "if response.status_code == 200:\n",
    "    content = response.content.decode(\"utf-8\") \n",
    "else:\n",
    "    assert False, f\"{XBRL_URL} failed with status {response.status_code}\"\n",
    "    \n",
    "del response"
   ]
  },
  {
   "cell_type": "code",
   "execution_count": 16,
   "id": "0bda04b2",
   "metadata": {},
   "outputs": [
    {
     "data": {
      "text/plain": [
       "'amkr-20210930_htm'"
      ]
     },
     "execution_count": 16,
     "metadata": {},
     "output_type": "execute_result"
    }
   ],
   "source": [
    "filename_basename(XBRL_XML_URL)"
   ]
  },
  {
   "cell_type": "code",
   "execution_count": 17,
   "id": "665c3462",
   "metadata": {},
   "outputs": [],
   "source": [
    "content = restore_windows_1252_characters(content)"
   ]
  },
  {
   "cell_type": "markdown",
   "id": "017b4ad7",
   "metadata": {},
   "source": [
    "# XBRL\n",
    "\n",
    "Use the BS4 HTML Parser to be able to:\n",
    "1. Handle ```<namespace:tag>``` as a single tag (with lower cases)\n",
    "2. Work without namespace definitions (xmlns=) \n",
    "\n",
    "BS4/XML parser simply drops the namespaces when the namespace definitions are not provided, hence searching tags with ```<namespace:tag>``` does not match. To avoid this issue, use HTML parser."
   ]
  },
  {
   "cell_type": "code",
   "execution_count": 18,
   "id": "23172972",
   "metadata": {},
   "outputs": [
    {
     "name": "stdout",
     "output_type": "stream",
     "text": [
      "None\n"
     ]
    }
   ],
   "source": [
    "# HTML parser lowers all the names\n",
    "soup = BeautifulSoup(content, 'html.parser')\n",
    "# HTML parser does not match case sensitivve name\n",
    "print(soup.find(\"dei:EntityRegistrantName\"))"
   ]
  },
  {
   "cell_type": "code",
   "execution_count": 19,
   "id": "5b4ff223",
   "metadata": {},
   "outputs": [],
   "source": [
    "# Verify [<xbrl xmlns=\"http://www.xbrl.org/2003/instance\">]\n",
    "#assert soup.find('xbrl', attrs={\"xmlns\": \"http://www.xbrl.org/2003/instance\"}), \\\n",
    "#    f\"Invalid XBRL {INDEX_XML_URL}\""
   ]
  },
  {
   "cell_type": "markdown",
   "id": "ef53a718",
   "metadata": {},
   "source": [
    "## Company Name"
   ]
  },
  {
   "cell_type": "code",
   "execution_count": 20,
   "id": "71485048",
   "metadata": {},
   "outputs": [],
   "source": [
    "def get_company_name(soup):\n",
    "    \"\"\"Get company (registrant) name from the XBRL\"\"\"\n",
    "    registrant_name = soup.find(\n",
    "        name=re.compile(\"dei:EntityRegistrantName\".lower(), re.I)\n",
    "    ).string.strip()\n",
    "    assert registrant_name, f\"No registrant name found\"\n",
    "\n",
    "    # Remove non-ascii characters to form a company name\n",
    "    registrant_name = ''.join(e for e in registrant_name if e.isalnum())\n",
    "    logging.debug(\"get_company_name(): company name is [%s]\" % registrant_name)\n",
    "    return registrant_name"
   ]
  },
  {
   "cell_type": "code",
   "execution_count": 21,
   "id": "5e1dac87",
   "metadata": {},
   "outputs": [
    {
     "name": "stderr",
     "output_type": "stream",
     "text": [
      "DEBUG:root:get_company_name(): company name is [AMKORTECHNOLOGYINC]\n"
     ]
    }
   ],
   "source": [
    "company_name = get_company_name(soup)"
   ]
  },
  {
   "cell_type": "markdown",
   "id": "342da6cb",
   "metadata": {},
   "source": [
    "## Repoting period\n",
    "\n",
    "Each 10-K and 10-Q XBRL has the reporting period for the filing. To exclude the other period, e.g. pervious year or quarter, use the ```context id``` for the reporting period. **Most** 10-K, 10-Q specify the annual period with the first ```<startDate> and <endDate>``` tags.\n",
    "\n",
    "For instances:\n",
    "\n",
    "### QRVO 10-K 2020\n",
    "\n",
    "```\n",
    "<context id=\"ifb6ce67cf6954ebf88471dd82daa9247_D20200329-20210403\">\n",
    "    <entity>\n",
    "    <identifier scheme=\"http://www.sec.gov/CIK\">0001604778</identifier>\n",
    "    </entity>\n",
    "    <period>\n",
    "        <startDate>2020-03-29</startDate>\n",
    "        <endDate>2021-04-03</endDate>\n",
    "    </period>\n",
    "</context>\n",
    "```\n",
    "\n",
    "### AMKR 10-K 2020\n",
    "\n",
    "```\n",
    "<context id=\"i5fac0a392353427b8266f185495754d3_D20200101-20201231\">\n",
    "    <entity>\n",
    "    <identifier scheme=\"http://www.sec.gov/CIK\">0001047127</identifier>\n",
    "    </entity>\n",
    "    <period>\n",
    "        <startDate>2020-01-01</startDate>\n",
    "        <endDate>2020-12-31</endDate>\n",
    "    </period>\n",
    "</context>\n",
    "```\n",
    "\n",
    "### AAPL 10-Q 4th QTR 2020\n",
    "\n",
    "```\n",
    "<context id=\"i6e431846933d461fb8c8c0bdf98c9758_D20200927-20201226\">\n",
    "    <entity>\n",
    "    <identifier scheme=\"http://www.sec.gov/CIK\">0000320193</identifier>\n",
    "    </entity>\n",
    "    <period>\n",
    "        <startDate>2020-09-27</startDate>\n",
    "        <endDate>2020-12-26</endDate>\n",
    "    </period>\n",
    "</context>\n",
    "```\n",
    "\n",
    "**However, there are companies that do not have this manner**. For instance [10-K for OPTICAL CABLE CORPORATION(CIK=0001000230)](https://www.sec.gov/Archives/edgar/data/1000230/000143774921028951/occ20211031_10k_htm.xml) has the same start and end dates at first.\n",
    "\n",
    "```\n",
    "<context id=\"d202110K\">\n",
    "    <entity>\n",
    "        <identifier scheme=\"http://www.sec.gov/CIK\">0001000230</identifier>\n",
    "    </entity>\n",
    "    <period>\n",
    "        <startDate>2021-10-31</startDate>   # <-----\n",
    "        <endDate>2021-10-31</endDate>\n",
    "    </period>\n",
    "</context>\n",
    "<context id=\"d_2020-11-01_2021-10-31\">\n",
    "    <entity>\n",
    "        <identifier scheme=\"http://www.sec.gov/CIK\">0001000230</identifier>\n",
    "    </entity>\n",
    "    <period>\n",
    "        <startDate>2020-11-01</startDate>   # <-----\n",
    "        <endDate>2021-10-31</endDate>\n",
    "    </period>\n",
    "</context>\n",
    "```\n",
    "\n",
    "The report uses the 2nd for 2021 F/S element value but does not use the first one.\n",
    "\n",
    "**B/S**\n",
    "```\n",
    "<us-gaap:Assets \n",
    "    contextRef=\"i_2021-10-31\"    # <-----\n",
    "    decimals=\"INF\" \n",
    "    id=\"c79893606\" \n",
    "    unitRef=\"USD\"\n",
    ">\n",
    "  37916530\n",
    "</us-gaap:Assets>\n",
    "```\n",
    "\n",
    "**P/L**\n",
    "```\n",
    "<us-gaap:RevenueFromContractWithCustomerIncludingAssessedTax \n",
    "  contextRef=\"d_2020-11-01_2021-10-31\"     # <-----\n",
    "  decimals=\"INF\" \n",
    "  id=\"c79893662\" \n",
    "  unitRef=\"USD\"\n",
    ">\n",
    "  59136294\n",
    "</us-gaap:RevenueFromContractWithCustomerIncludingAssessedTax>\n",
    "```\n",
    "\n",
    "<img src='../image/edgar_optical_cable_2021_10K.png' align=\"left\" width=500/>"
   ]
  },
  {
   "cell_type": "markdown",
   "id": "9982a4f2",
   "metadata": {},
   "source": [
    "### Get the period from the 1st\n",
    "\n",
    "For now, just get the period from the 1st **period** element."
   ]
  },
  {
   "cell_type": "code",
   "execution_count": 22,
   "id": "0888bf98",
   "metadata": {},
   "outputs": [],
   "source": [
    "def get_report_period_end_date(soup, date_from_xbrl_filename=None):\n",
    "    \"\"\"Identify the end date of the report period from the first \"context\" tag\n",
    "    in the XBRL that has <period><startDate> tag as its child tag. \n",
    "\n",
    "    <context id=\"ifb6ce67cf6954ebf88471dd82daa9247_D20200329-20210403\">\n",
    "        <entity>\n",
    "        <identifier scheme=\"http://www.sec.gov/CIK\">0001604778</identifier>\n",
    "        </entity>\n",
    "        <period>\n",
    "            <startDate>2020-03-29</startDate>\n",
    "            <endDate>2021-04-03</endDate>        # <-----\n",
    "        </period>\n",
    "    </context>\n",
    "\n",
    "    Args:\n",
    "        soup: Source BS4\n",
    "        date_from_xbrl_filename: Date extracted from XBRL XML filename \n",
    "    Returns: reporting period e.g. \"2021-09-30\"\n",
    "    \"\"\"\n",
    "    candidates = []\n",
    "    report_period_end_date = None\n",
    "    \n",
    "    # --------------------------------------------------------------------------------\n",
    "    # List all the endDate from the Contexts\n",
    "    # --------------------------------------------------------------------------------\n",
    "    regexp_end_date_pattern = re.compile(r\"(\\s*)([12][0-9]{3}-[0-9]{1,2}-[0-9]{1,2})(\\s*)\")\n",
    "    for context in soup.find_all(REGEXP_XBRL_TAG_CONTEXT):\n",
    "        # --------------------------------------------------------------------------------\n",
    "        # Find Context tag which has <period><enddate> child tag\n",
    "        # --------------------------------------------------------------------------------\n",
    "        period = context.find(REGEXP_XBRL_TAG_PERIOD)\n",
    "        if period:\n",
    "            end_date = period.find(REGEXP_XBRL_TAG_END_DATE)\n",
    "            if end_date:\n",
    "                match = re.match(regexp_end_date_pattern, end_date.string.strip())\n",
    "                if match and is_date_string(match.group(2)):\n",
    "                    candidates.append(match.group(2))\n",
    "\n",
    "    assert len(candidates) > 0, \"No period found\"\n",
    "    \n",
    "    # --------------------------------------------------------------------------------\n",
    "    # If the date from the XBRL XML name is in the candidate, use it as the end_datge\n",
    "    # Otherwise use the first candidate.\n",
    "    # --------------------------------------------------------------------------------\n",
    "    if date_from_xbrl_filename in candidates:\n",
    "        report_period_end_date = date_from_xbrl_filename\n",
    "    else:\n",
    "        report_period_end_date = candidates[0]\n",
    "\n",
    "    return report_period_end_date"
   ]
  },
  {
   "cell_type": "code",
   "execution_count": 23,
   "id": "2735530f",
   "metadata": {},
   "outputs": [
    {
     "name": "stdout",
     "output_type": "stream",
     "text": [
      "('amkr-', '20210930', '_htm')\n"
     ]
    },
    {
     "data": {
      "text/plain": [
       "'2021-09-30'"
      ]
     },
     "execution_count": 23,
     "metadata": {},
     "output_type": "execute_result"
    }
   ],
   "source": [
    "def get_date_from_xbrl_filename(filename):\n",
    "    \"\"\"\n",
    "    Infer the reporting period end date from the XBRL XML filename.\n",
    "    e.g if XBRL XML is rfmd-20210403_htm.xml, then 2021-04-03 is highly\n",
    "    like to be the report period end date.\n",
    "\n",
    "    In the XBRL XML file, there is a Context which identifies the end date\n",
    "    of the report period.\n",
    "\n",
    "    <context id=\"ifb6ce67cf6954ebf88471dd82daa9247_D20200329-20210403\">\n",
    "        <entity>\n",
    "        <identifier scheme=\"http://www.sec.gov/CIK\">0001604778</identifier>\n",
    "        </entity>\n",
    "        <period>\n",
    "            <startDate>2020-03-29</startDate>\n",
    "            <endDate>2021-04-03</endDate>         # <--- end of the period\n",
    "        </period>\n",
    "    </context>\n",
    "\n",
    "    This endDate value is highly likely to match the date from the filename.\n",
    "    \"\"\"\n",
    "    filename = filename_basename(filename)\n",
    "    if False:\n",
    "        pattern = re.compile(r\"([^0-9]*)[-]*([12][0-9]{3})[-]*([0-9]{2})[-]*([0-9]{2})(.*)\")\n",
    "        match = re.match(pattern, filename)\n",
    "        if match:\n",
    "            year = match.group(2)\n",
    "            month = match.group(3)\n",
    "            day = match.group(4)\n",
    "            date_from_xbrl_filename = \"-\".join([year, month, day])\n",
    "            return date_from_xbrl_filename\n",
    "        else:\n",
    "            return None\n",
    "    else:\n",
    "        pattern = re.compile(r\"(.*)([12][0-9]{7})(.*)\")\n",
    "        match = re.match(pattern, filename)\n",
    "        if match:\n",
    "            print(match.groups())\n",
    "            yyyymmdd = match.group(2)\n",
    "            year = yyyymmdd[:4]\n",
    "            month = yyyymmdd[4:6]\n",
    "            day = yyyymmdd[6:8]\n",
    "            return \"-\".join([year, month, day])\n",
    "        else:\n",
    "            return None\n",
    "\n",
    "date_from_xbrl_filename = get_date_from_xbrl_filename(filename_basename(XBRL_XML_URL))\n",
    "date_from_xbrl_filename"
   ]
  },
  {
   "cell_type": "code",
   "execution_count": 24,
   "id": "21d36239",
   "metadata": {},
   "outputs": [
    {
     "name": "stdout",
     "output_type": "stream",
     "text": [
      "('amkr-', '20210930', '_htm')\n",
      "2021-09-30\n",
      "('hsicform10q', '20200926', '_htm')\n",
      "2020-09-26\n"
     ]
    }
   ],
   "source": [
    "print(get_date_from_xbrl_filename(filename_basename(XBRL_XML_URL)))\n",
    "print(get_date_from_xbrl_filename(\"hsicform10q20200926_htm.xml\"))"
   ]
  },
  {
   "cell_type": "code",
   "execution_count": 25,
   "id": "ef4f78ba",
   "metadata": {},
   "outputs": [
    {
     "data": {
      "text/plain": [
       "'2021-09-30'"
      ]
     },
     "execution_count": 25,
     "metadata": {},
     "output_type": "execute_result"
    }
   ],
   "source": [
    "report_period_end_date = get_report_period_end_date(soup, date_from_xbrl_filename)\n",
    "report_period_end_date"
   ]
  },
  {
   "cell_type": "markdown",
   "id": "d73f5a4e",
   "metadata": {},
   "source": [
    "### List contexts whose endDate matrches report period end date"
   ]
  },
  {
   "cell_type": "code",
   "execution_count": 26,
   "id": "c8c4aeeb",
   "metadata": {},
   "outputs": [
    {
     "name": "stdout",
     "output_type": "stream",
     "text": [
      "match[contxt_id i9289f6e06c5a47e09383379425d29391_D20210101-20210930 : 2021-09-30]\n",
      "match[contxt_id icb4fe7b89cc949678c0215fb0c6c75ed_D20210701-20210930 : 2021-09-30]\n",
      "no match ia455a570aa4d45b4bc44cd7e8de9d9b4_D20200701-20200930 : 2020-09-30\n",
      "no match ic2e1ad291ad74d618f2b7a29813860ca_D20200101-20200930 : 2020-09-30\n",
      "match[contxt_id ifc522cda813e4842a934b78a0163bb07_D20210701-20210930 : 2021-09-30]\n",
      "match[contxt_id i17ee23e173904148bb08842b2e310bfe_D20210701-20210930 : 2021-09-30]\n",
      "match[contxt_id i0037e2367a854cfbb9461ecc19fd857b_D20210701-20210930 : 2021-09-30]\n",
      "match[contxt_id i09edd8b4692f4d23b945d745226e25ea_D20210701-20210930 : 2021-09-30]\n",
      "match[contxt_id if99c73b4a593477f9a8eb4b28c6280b5_D20210701-20210930 : 2021-09-30]\n",
      "match[contxt_id i5c45e13d3f674959806aa9bc9338a4d3_D20210701-20210930 : 2021-09-30]\n",
      "match[contxt_id if98a35bfadbe4c08a639d8472e6474dc_D20210101-20210930 : 2021-09-30]\n",
      "match[contxt_id i505b3ad14f7f4dfc997f14c48fbafb20_D20210101-20210930 : 2021-09-30]\n",
      "match[contxt_id id8384136123e431c91891b55f8383f96_D20210101-20210930 : 2021-09-30]\n",
      "match[contxt_id i6301af95a3e149b1b844e795603762f4_D20210101-20210930 : 2021-09-30]\n",
      "match[contxt_id i344829687d514645ae673396a6240437_D20210101-20210930 : 2021-09-30]\n",
      "match[contxt_id i9bf9a8542a244f229b2e105ad99dfef6_D20210101-20210930 : 2021-09-30]\n",
      "match[contxt_id ib1e2b696bb714c7f8ce4039b3dd81f82_D20210101-20210930 : 2021-09-30]\n",
      "no match i28408126a64d4961a661f57d7e4b5b69_D20200701-20200930 : 2020-09-30\n",
      "no match i7be89a5b6b9a456eab39fb2d66a0c2a0_D20200701-20200930 : 2020-09-30\n",
      "no match i0605870ccabc4f279586c764ee68c063_D20200701-20200930 : 2020-09-30\n",
      "no match i5ec81bb425694f15859a6692ce937648_D20200701-20200930 : 2020-09-30\n",
      "no match id3bcb3396cfd4ab19e9c4324e607f9e8_D20200701-20200930 : 2020-09-30\n",
      "no match ibd3b1f6223154aaa839600a44b31f8a4_D20200701-20200930 : 2020-09-30\n",
      "no match i0ff479801a634e3396deff1ed89474df_D20200701-20200930 : 2020-09-30\n",
      "no match ia6d176b03ead4953a670cf26bc5fadcd_D20200101-20200930 : 2020-09-30\n",
      "no match ic0bc5cdfc15e46acab653396e4baec15_D20200101-20200930 : 2020-09-30\n",
      "no match ib7e0614ba3c547f9afdefbff9ab0664b_D20200101-20200930 : 2020-09-30\n",
      "no match ib5d91d50705d45a18e3dd96d91f4017a_D20200101-20200930 : 2020-09-30\n",
      "no match if2b44cd3c0b148319102e0efb6239d99_D20200101-20200930 : 2020-09-30\n",
      "no match i2a60dcd4052e434d9c28ef1d30e50348_D20200101-20200930 : 2020-09-30\n",
      "no match i3244845c583040cc93d5aaa9ab08f385_D20200101-20200930 : 2020-09-30\n",
      "match[contxt_id i6546f5d3fe1e4db2af98357deb902bcd_D20210701-20210930 : 2021-09-30]\n",
      "no match ibf878056f545486dbd61bf13f4a5f1d9_D20200701-20200930 : 2020-09-30\n",
      "match[contxt_id ib61b3871832d44bf9699db2a07ab50a1_D20210101-20210930 : 2021-09-30]\n",
      "no match i323d54e95b6349698652fcb515a08445_D20200101-20200930 : 2020-09-30\n",
      "match[contxt_id iff65c328d95d40fc84b3fff7970e7d78_D20210701-20210930 : 2021-09-30]\n",
      "no match i82311ea2bd194ae4a3c6e506531ce360_D20200701-20200930 : 2020-09-30\n",
      "match[contxt_id i6efc8995358b47038fb93af83b9c066d_D20210101-20210930 : 2021-09-30]\n",
      "no match i886feafc05f94431b6d27f22ae4b8cbe_D20200101-20200930 : 2020-09-30\n",
      "match[contxt_id i1aa81414412e450cbf7354f54fa0365d_D20210701-20210930 : 2021-09-30]\n",
      "no match i1e669f3d6d5a4345832110775e9a1363_D20200701-20200930 : 2020-09-30\n",
      "match[contxt_id ib92cdde6b0e64e54b70cffc1b05d5150_D20210101-20210930 : 2021-09-30]\n",
      "no match i7e0f95a800704f088b626f2ecabc537b_D20200101-20200930 : 2020-09-30\n",
      "match[contxt_id ia138785b671b4dc1bebe4e89ea0fdd09_D20210701-20210930 : 2021-09-30]\n",
      "no match id45c19869bed4ab9b639a3df7ee5942e_D20200701-20200930 : 2020-09-30\n",
      "match[contxt_id i90763e97766047f89d388785b142575e_D20210101-20210930 : 2021-09-30]\n",
      "no match i99a8247959ff4e239da397da9be6d2c2_D20200101-20200930 : 2020-09-30\n",
      "match[contxt_id i4c8928a64bf8491cb6752e21039f2bc5_D20210701-20210930 : 2021-09-30]\n",
      "no match i5dc2c35cc2234a0fae89b0447505592d_D20200701-20200930 : 2020-09-30\n",
      "match[contxt_id i95ba562751bd4bb78d1f9c6747f5749f_D20210101-20210930 : 2021-09-30]\n",
      "no match i8eea80c90fad4312aac3014b8ba99302_D20200101-20200930 : 2020-09-30\n",
      "match[contxt_id id60d478483fe42d6be92003c47f3e2dd_D20210701-20210930 : 2021-09-30]\n",
      "no match icfbc825af1c24349b48453238f3aa0c0_D20200701-20200930 : 2020-09-30\n",
      "match[contxt_id i122658c2d5494d7287ac143b6644d2cb_D20210101-20210930 : 2021-09-30]\n",
      "no match ic2b9cb9cbdbb492e885040d88ac74c20_D20200101-20200930 : 2020-09-30\n",
      "match[contxt_id ia9b20a11f6b74d91ac1100a579611f94_D20210701-20210930 : 2021-09-30]\n",
      "no match ie17c9aabdf82463894661abcb8ea3441_D20200701-20200930 : 2020-09-30\n",
      "match[contxt_id i657ac0f0ed0e4ace8402afadc7d63923_D20210101-20210930 : 2021-09-30]\n",
      "no match if1fc4e541d3644828d50c9b110ebfede_D20200101-20200930 : 2020-09-30\n",
      "match[contxt_id i80a727c0d2ec44c8a267b19500144245_D20210101-20210930 : 2021-09-30]\n",
      "match[contxt_id id62f6d65158e41c3a94f1377daf8ccbc_D20210101-20210930 : 2021-09-30]\n",
      "match[contxt_id i53b60e44765744f3a504ade887a7170a_D20210101-20210930 : 2021-09-30]\n",
      "no match i528a42fed48b49c8a8bd9976583c337f_D20200101-20200930 : 2020-09-30\n",
      "no match i66ebe25e38b945ab8369aba2a4cb0f7c_D20200101-20200930 : 2020-09-30\n",
      "no match if8beb2ffd7a0492fbfc287763691d65d_D20200101-20200930 : 2020-09-30\n",
      "match[contxt_id i4daa3a5df2864d13b94454a53b144370_D20210701-20210930 : 2021-09-30]\n",
      "match[contxt_id ifa5e039cc3f84f3cad9cca95876b7f9c_D20210101-20210930 : 2021-09-30]\n",
      "match[contxt_id if4c1b03b727d44628f91062404773229_D20210701-20210930 : 2021-09-30]\n",
      "match[contxt_id i8bd2456d6c624002a4271c2c8895b0cf_D20210101-20210930 : 2021-09-30]\n",
      "no match i21bcc36b3f4c44e6a1326d3ebc11eb17_D20200701-20200930 : 2020-09-30\n",
      "no match i51a28cb6f5564bcebf7b7125e6452ef1_D20200101-20200930 : 2020-09-30\n",
      "no match if3d571ec5d2045f4af9003ba4a19efc5_D20200701-20200930 : 2020-09-30\n",
      "no match i222a6fd5604b47c9acd966a966bab54c_D20200101-20200930 : 2020-09-30\n",
      "match[contxt_id i11c40c003c2f4c438a85e9eb610a77c7_D20210101-20210930 : 2021-09-30]\n",
      "match[contxt_id i1b4e7729319b4c9b9dcbeea3e4619711_D20210101-20210930 : 2021-09-30]\n",
      "match[contxt_id i847977b399df4451962c8dc507f0ff93_D20210101-20210930 : 2021-09-30]\n",
      "match[contxt_id i6ba8d10aed19480fb5ee42a9a9538afa_D20210101-20210930 : 2021-09-30]\n",
      "match[contxt_id i0250112efc5548e3bfdd937ba9e0df07_D20210101-20210930 : 2021-09-30]\n",
      "match[contxt_id i3f0ad48131204c559ab467fb8bb54582_D20210101-20210930 : 2021-09-30]\n",
      "match[contxt_id i484bc35acedc4e3fafb712b6c816c577_D20210101-20210930 : 2021-09-30]\n",
      "match[contxt_id ifb004cf11664463792c79f604e71ee6c_D20210101-20210930 : 2021-09-30]\n",
      "no match i70acb2e677ce4b7bb346bd0a60607033_D20211001-20211031 : 2021-10-31\n",
      "no match i89f7de8ee82e466a912c46fb9348b721_D20201001-20201031 : 2020-10-31\n",
      "match[contxt_id ibe52ce4e50964f948b892a52dbe21db2_D20210101-20210930 : 2021-09-30]\n",
      "match[contxt_id iaf3f717dc3b9477caa4827fdc3a9ba9b_D20210101-20210930 : 2021-09-30]\n",
      "match[contxt_id ia9fdc393a74140c0931200ed4a94eabc_D20210101-20210930 : 2021-09-30]\n",
      "no match i400a1a35d67142f18135b5b5319dad9c_D20210301-20210331 : 2021-03-31\n",
      "no match i89163858cc8a4409a703c306187f31d1_D20210301-20210331 : 2021-03-31\n",
      "no match ib56c20fcaee648c89ca2939234bfb034_D20210301-20210331 : 2021-03-31\n",
      "no match ic5b28ceee3554cc795acd0f75d5fe24e_D20211001-20211231 : 2021-12-31\n",
      "match[contxt_id i38184ea3aa7744f98e86f2c1623b1199_D20210101-20210930 : 2021-09-30]\n",
      "no match i60af157905e44a74a1938d650c3feb59_D20200701-20200930 : 2020-09-30\n",
      "no match i8dc62e9dfe204e48ba6fe42fdb84e4e2_D20200101-20200930 : 2020-09-30\n",
      "match[contxt_id i65a84086f4424662869f2342f35022b4_D20210101-20210930 : 2021-09-30]\n",
      "match[contxt_id i7bf3f2365e734c829c45e9aa1209dbc8_D20210101-20210930 : 2021-09-30]\n",
      "match[contxt_id ic4b2685d8f9a4c5baf610bd475bb0017_D20210101-20210930 : 2021-09-30]\n",
      "no match i79aebaf432814668a8345f8ca7561393_D20200101-20200930 : 2020-09-30\n",
      "no match iaa50ec308d774f8ba2b70e906409779a_D20200101-20200930 : 2020-09-30\n",
      "no match ic4c44cfa58244f919bc44ad46a9ebac3_D20200101-20200930 : 2020-09-30\n"
     ]
    }
   ],
   "source": [
    "# Experiment to test extract the context that has the matching end date\n",
    "regexp = re.compile(rf\"(\\s*)({report_period_end_date})(\\s*)\")\n",
    "\n",
    "for context in soup.find_all(REGEXP_XBRL_TAG_CONTEXT):\n",
    "    period = context.find(REGEXP_XBRL_TAG_PERIOD)\n",
    "    if period:\n",
    "        end_date = period.find(REGEXP_XBRL_TAG_END_DATE)\n",
    "        if end_date:\n",
    "            match = re.match(regexp, end_date.string.strip())\n",
    "            if match:\n",
    "                print(f\"match[contxt_id {context['id']} : {match.group(2)}]\")\n",
    "            else:\n",
    "                print(f\"no match {context['id']} : {end_date.string.strip()}\")\n"
   ]
  },
  {
   "cell_type": "code",
   "execution_count": 27,
   "id": "d67e4cb5",
   "metadata": {},
   "outputs": [],
   "source": [
    "### List contexts whose instant matrches report period end date"
   ]
  },
  {
   "cell_type": "code",
   "execution_count": 28,
   "id": "eeff9eb2",
   "metadata": {},
   "outputs": [
    {
     "name": "stdout",
     "output_type": "stream",
     "text": [
      "no match ic04e79f136204c2db93e08e57db55c36_I20211022 : 2021-10-22\n",
      "match[contxt_id i00aae6ee0447424d9c01fc5f8f3bd82d_I20210930 : 2021-09-30]\n",
      "no match i8f5f44f1abec41629b71c79c8f7b9b77_I20201231 : 2020-12-31\n",
      "no match i678d78c5aa3146938956f9db3497e365_I20210630 : 2021-06-30\n",
      "no match i80c567e66b9146729a12930f8cab3a2c_I20210630 : 2021-06-30\n",
      "no match i8085e9af4fce4988822ef7f482056a47_I20210630 : 2021-06-30\n",
      "no match i97b6e378b9f44b2c989495e333888e4d_I20210630 : 2021-06-30\n",
      "no match i32f8ba25f994490aa02c014c437b891e_I20210630 : 2021-06-30\n",
      "no match i2f02b63f51244656816dba3d559b1209_I20210630 : 2021-06-30\n",
      "no match i9dd25bfcd9e54638aa03d1a3e3784b0c_I20210630 : 2021-06-30\n",
      "no match i4a2c61723aad43ec8571211415427ee3_I20210630 : 2021-06-30\n",
      "match[contxt_id iac8b4d6a42f04c3490ca0d40e3a1c998_I20210930 : 2021-09-30]\n",
      "match[contxt_id icb30e95fa0f44b5d92822d45b15dc68f_I20210930 : 2021-09-30]\n",
      "match[contxt_id i4e0c7614ca93413f98b1e7b603ee6bc5_I20210930 : 2021-09-30]\n",
      "match[contxt_id i8602e16198034c75a1dc61e5edd0613a_I20210930 : 2021-09-30]\n",
      "match[contxt_id i46a70805b9804aff8d7695c2a7a6e9ef_I20210930 : 2021-09-30]\n",
      "match[contxt_id ia86e0602bf9249379adefb9c8622cfb7_I20210930 : 2021-09-30]\n",
      "match[contxt_id ic1cbbb2ea848404db189ff98ef0395b1_I20210930 : 2021-09-30]\n",
      "no match i0f6eaf38f63d48a6b8eebd0fc7e27d36_I20201231 : 2020-12-31\n",
      "no match ic05f5c1d3e0f45ba94d3c230cd0b4719_I20201231 : 2020-12-31\n",
      "no match i327772c19bf64713810eb90884679702_I20201231 : 2020-12-31\n",
      "no match ie9b9625ec65741b0ba33dd3decb48e82_I20201231 : 2020-12-31\n",
      "no match i3074473320d34efe802033f4e3123525_I20201231 : 2020-12-31\n",
      "no match i4475b72486824c3e96d2c608232114e7_I20201231 : 2020-12-31\n",
      "no match i4f437713842b4cf887be0ee98261ffee_I20201231 : 2020-12-31\n",
      "no match id35a86370c0a4ca290d3d878142e4f27_I20200630 : 2020-06-30\n",
      "no match i23c6fe8ee5b249c1bbbdf9b11a711495_I20200630 : 2020-06-30\n",
      "no match if9a6835db74041cab88f689d676ccf3f_I20200630 : 2020-06-30\n",
      "no match i8f48378c741c429c80eefb0775b48532_I20200630 : 2020-06-30\n",
      "no match i8c2875bad6274903a0b3f361f3cf1c98_I20200630 : 2020-06-30\n",
      "no match ieff2dd1d7d4a4a04990851972c17872e_I20200630 : 2020-06-30\n",
      "no match if9b7bd2d95a54403b8c61ad87487fec2_I20200630 : 2020-06-30\n",
      "no match ib5f7b19bf1254c8ba5b8f147582c7634_I20200630 : 2020-06-30\n",
      "no match i968201efb0d4454fbd2340de1cdbff90_I20200930 : 2020-09-30\n",
      "no match i9d52376ca4b148a295af3a07f7fcb98b_I20200930 : 2020-09-30\n",
      "no match iefeeae03492042d0bacc08e79c806bee_I20200930 : 2020-09-30\n",
      "no match i02988574dad34b3c9b9026077a2a50ac_I20200930 : 2020-09-30\n",
      "no match i71b5e856a45e432a94c8c5071815f7b9_I20200930 : 2020-09-30\n",
      "no match ib13ff59020414526b702246b986efcac_I20200930 : 2020-09-30\n",
      "no match i404d6a96eac94edfaffe61f3388ffd89_I20200930 : 2020-09-30\n",
      "no match i1422d7b8815a4860863304dc568e5751_I20200930 : 2020-09-30\n",
      "no match ia503811fdd914de5a9e760e4d06cbb2f_I20191231 : 2019-12-31\n",
      "no match ie90c2c4e59a84829940ce16a5f568af7_I20191231 : 2019-12-31\n",
      "no match i2023e55ade5c44e78bd63f7bf75eb210_I20191231 : 2019-12-31\n",
      "no match i95daa906f90248c3920ef9b61ac5c09f_I20191231 : 2019-12-31\n",
      "no match ia8f6518e55dd4a08a67dbd24eef4576d_I20191231 : 2019-12-31\n",
      "no match id347ffeb264247ea98a6306d1a0609e9_I20191231 : 2019-12-31\n",
      "no match i3d7dfa9543c54d5ea192257d3d088eec_I20191231 : 2019-12-31\n",
      "no match ib300a3fe0d3748778fcf0a3e1dd63606_I20191231 : 2019-12-31\n",
      "no match i0a8eb169b7134053bf064b1209a95962_I20201231 : 2020-12-31\n",
      "no match i09074beefe3840d3a0d9c7f2d6b81296_I20201231 : 2020-12-31\n",
      "no match icbbb15868c924751ad268bd684ece7d8_I20201231 : 2020-12-31\n",
      "match[contxt_id ic844e789579b434982bce2e622ec1d03_I20210930 : 2021-09-30]\n",
      "match[contxt_id id5efd546a56e44a0b41435280e218c43_I20210930 : 2021-09-30]\n",
      "match[contxt_id i354ab11330e34068959dac496462d12f_I20210930 : 2021-09-30]\n",
      "no match i42fe9166e44f4981a9b4ac55743c9499_I20191231 : 2019-12-31\n",
      "no match iaae816c87c824d2a95bff22690976269_I20191231 : 2019-12-31\n",
      "no match i0e66bb38719a451f99bf4f6a5965ba70_I20191231 : 2019-12-31\n",
      "no match ieb1a899ccd3a437fbd4cb7153101669b_I20200930 : 2020-09-30\n",
      "no match i974be2ad2b9541df804f3d91d483c311_I20200930 : 2020-09-30\n",
      "no match i1dcd175e10934d23813e475fb8ecf97d_I20200930 : 2020-09-30\n",
      "match[contxt_id i04a3ec5a28844b0da324ed7f4abff48a_I20210930 : 2021-09-30]\n",
      "match[contxt_id i9718bfcd6c154acc9202ea5a081fc7de_I20210930 : 2021-09-30]\n",
      "match[contxt_id i4bba2e8b413b4b8cbe052bf217ebef28_I20210930 : 2021-09-30]\n",
      "match[contxt_id ifdcbad46f8fe4404b8bff9154d1ba916_I20210930 : 2021-09-30]\n",
      "match[contxt_id i80fb552a7fac4f82b1a5dd22483195cb_I20210930 : 2021-09-30]\n",
      "match[contxt_id ifb2f8ee28fe742b1878c592f51dcbccc_I20210930 : 2021-09-30]\n",
      "match[contxt_id ied40a90ba668438bb600fe5b469dcde4_I20210930 : 2021-09-30]\n",
      "match[contxt_id ic2b12e84bd07450d8938581d1653cd4a_I20210930 : 2021-09-30]\n",
      "match[contxt_id id7cf9db871a146d29170245b3cc5131c_I20210930 : 2021-09-30]\n",
      "match[contxt_id id25bc46a32664061bde8538b4ae2180b_I20210930 : 2021-09-30]\n",
      "match[contxt_id if23cd436019e43e7b902a322d1b43216_I20210930 : 2021-09-30]\n",
      "match[contxt_id if352f89efa86446e8db34d7f4e208744_I20210930 : 2021-09-30]\n",
      "match[contxt_id i95524c3868014331aceccdb1a0e285e7_I20210930 : 2021-09-30]\n",
      "match[contxt_id ic7451bd1caae4dcc988c5695ea6eaead_I20210930 : 2021-09-30]\n",
      "match[contxt_id i8cbf5a8818994727b8669c4600416594_I20210930 : 2021-09-30]\n",
      "match[contxt_id i96557d3a366442fcb152741726f0af59_I20210930 : 2021-09-30]\n",
      "match[contxt_id i8a6dcf98689d42e99d031de7b6394d17_I20210930 : 2021-09-30]\n",
      "match[contxt_id idc9e2ce14da94811b7cd49dc39f1339e_I20210930 : 2021-09-30]\n",
      "match[contxt_id ib9fec26411c043e5b28b76873ad072f9_I20210930 : 2021-09-30]\n",
      "match[contxt_id i531b79415d79448e91ccab4c35f7723c_I20210930 : 2021-09-30]\n",
      "match[contxt_id ie926c76a2763419fa75d12885a328600_I20210930 : 2021-09-30]\n",
      "match[contxt_id ifdb889ffdc534c39a5a46f3ac2f54c27_I20210930 : 2021-09-30]\n",
      "match[contxt_id i2e0b1ffd9386481185ea20b5bfde07a6_I20210930 : 2021-09-30]\n",
      "match[contxt_id i9eaafc2b3d084785a4001786b0e4ed75_I20210930 : 2021-09-30]\n",
      "match[contxt_id i075b951f1d7d4b50bed053ee3f0f8ec4_I20210930 : 2021-09-30]\n",
      "match[contxt_id i1f548cd4a8eb4df48259c59fb97dd046_I20210930 : 2021-09-30]\n",
      "match[contxt_id i2c2c573a552c4aa685aaa38e31c65c37_I20210930 : 2021-09-30]\n",
      "match[contxt_id if66ff5fd959f4afc9b31726d64b28e27_I20210930 : 2021-09-30]\n",
      "match[contxt_id i3fb9ef24738341e1884002c2eaa7af1c_I20210930 : 2021-09-30]\n",
      "match[contxt_id icf4aa2dcb6c54f9c91d5bf88037176ba_I20210930 : 2021-09-30]\n",
      "match[contxt_id ic69e77031f1647469512c518b9dd1786_I20210930 : 2021-09-30]\n",
      "match[contxt_id i5034b254b7f04641a08110c24e78de7f_I20210930 : 2021-09-30]\n",
      "match[contxt_id ife4f817efd30490685aaeab53d675baa_I20210930 : 2021-09-30]\n",
      "match[contxt_id if634a4972b8d427185a930f5c07b17aa_I20210930 : 2021-09-30]\n",
      "match[contxt_id i0b98c37fdaac41d795c6c1de75497169_I20210930 : 2021-09-30]\n",
      "match[contxt_id ic7bea543cff24860a5bcd6f9f677e8d6_I20210930 : 2021-09-30]\n",
      "match[contxt_id i58065cc09c2c411abc2ba4b6e1d2b676_I20210930 : 2021-09-30]\n",
      "match[contxt_id ideccfb6b0c9d4e89a692d4a758eac734_I20210930 : 2021-09-30]\n",
      "match[contxt_id ia8250102ab5647bbb89ddcd0f0a276a5_I20210930 : 2021-09-30]\n",
      "match[contxt_id i81cecd7a804b40cf91f5263484193c66_I20210930 : 2021-09-30]\n",
      "match[contxt_id i4dd4e5b64af84ae4b540d7350c57f8d8_I20210930 : 2021-09-30]\n",
      "no match i9dd6981524074341ba677963fd09abe1_I20201231 : 2020-12-31\n",
      "no match i1372c287714a426b942747f9d9ca3407_I20201231 : 2020-12-31\n",
      "no match i9df30212185944fa815a5cee597d0f2e_I20201231 : 2020-12-31\n",
      "no match ib719e4d26e2748c2897c249619b3edb0_I20201231 : 2020-12-31\n",
      "no match i471b886f0fdb4cc0b781a448e694e63f_I20201231 : 2020-12-31\n",
      "no match iad255408be8d43509fa5ab059b157de8_I20201231 : 2020-12-31\n",
      "no match ic2377346ba1245c3afc300f4997db922_I20201231 : 2020-12-31\n",
      "no match i548403d5bc06421da31c3a139df94726_I20201231 : 2020-12-31\n",
      "no match ie24716a852b646ceb03aad261d0ac8ef_I20201231 : 2020-12-31\n",
      "no match i18f13f92443d480392dcb2267a620e34_I20201231 : 2020-12-31\n",
      "no match i5b9ffe52256c41f381c0dd1879b3b4dd_I20201231 : 2020-12-31\n",
      "no match i7a514da5816949ae93537600798bde2c_I20201231 : 2020-12-31\n",
      "no match iafa5bbc435f4428daec33400c393ac3d_I20201231 : 2020-12-31\n",
      "no match i4e0c14ccd1264270aa62a187a6ffcba7_I20201231 : 2020-12-31\n",
      "no match i26ed2883447744c584fbb78a903cd00d_I20201231 : 2020-12-31\n",
      "no match i7290e1791c0a4f8880bb1b7fe5680ce9_I20201231 : 2020-12-31\n",
      "no match ic69ba3453cf54cd8b052fa498a0fc4e9_I20201231 : 2020-12-31\n",
      "no match i733b8faf00eb4b4682edce28dffdb4b8_I20201231 : 2020-12-31\n",
      "no match ic8c23cd6d81f4429a6cb622c0d8c6929_I20201231 : 2020-12-31\n",
      "no match i240d7c011d2a47b79c661758f8ebc88e_I20201231 : 2020-12-31\n",
      "no match ifd7d7a26a6494a7bb10831d2fb74fc51_I20201231 : 2020-12-31\n",
      "no match i29e65542dc084e64bfadacd7c82e72ae_I20201231 : 2020-12-31\n",
      "no match i9817d1943b4f43ff971ccdfb1d249959_I20201231 : 2020-12-31\n",
      "no match i9a0953eef6de46f8ba499f90277622cc_I20201231 : 2020-12-31\n",
      "no match iaf8a5aaf648f41cc90ae63349246d730_I20201231 : 2020-12-31\n",
      "no match i40d08e595b5c403d88a94d0c1b741a74_I20201231 : 2020-12-31\n",
      "no match i83437b2069f74ecb9a91e529cc29f0ab_I20201231 : 2020-12-31\n",
      "no match i022906e9b7394e39afce48392fb44090_I20201231 : 2020-12-31\n",
      "no match ia292c087b091494b8f91c203b98dd218_I20201231 : 2020-12-31\n",
      "no match i97e9d34cafe74c9c956b11253522b4e9_I20201231 : 2020-12-31\n",
      "no match i1c8e6cfb370f4994a93d93b6f04dce47_I20201231 : 2020-12-31\n",
      "no match iffae3f213d30408ea9926beae3790819_I20201231 : 2020-12-31\n",
      "no match ibea5dcf2e3da4536aa13b3384aac08f8_I20201231 : 2020-12-31\n",
      "no match i865dfb3c0dc94d38a974b2ece3eb661a_I20201231 : 2020-12-31\n",
      "no match i9cfa2b243cdc4fac96590eef49a42802_I20201231 : 2020-12-31\n",
      "no match i6c5f0661fb864b2186111dfd387bd477_I20201231 : 2020-12-31\n",
      "no match i43bd33fd104f4b4a9c7f703296eb2d3f_I20201231 : 2020-12-31\n",
      "no match ic195e89ff8e64fa88597f2c208b43515_I20201231 : 2020-12-31\n",
      "no match i8ededd6e93b44f5196d780c256d8695a_I20201231 : 2020-12-31\n",
      "no match i6bda009a5d644e0a9fa515293183913d_I20201231 : 2020-12-31\n",
      "no match i067d8c61b6bf48d8b4e73f15e63c36db_I20201231 : 2020-12-31\n",
      "no match i05c289d11e6a4133a48894a3ca7b4547_I20201231 : 2020-12-31\n",
      "no match i87454431f7af44ceb83b3d03564cb0d5_I20201231 : 2020-12-31\n",
      "no match i5491492d4a754e7cbce7e6ade95a6e7a_I20201231 : 2020-12-31\n",
      "no match icd623642f89a43dfb13a3c994a610afd_I20201231 : 2020-12-31\n",
      "no match i8446df7fd49d4f9985e399e7e035e674_I20201231 : 2020-12-31\n",
      "no match i2739d830c35b47e396fcc3ad6eb46790_I20201231 : 2020-12-31\n",
      "match[contxt_id idc081f0c0dec4ec8bbad54ffd366e258_I20210930 : 2021-09-30]\n",
      "no match i528fe7d3fedc484f887337a0899c92f4_I20201231 : 2020-12-31\n",
      "match[contxt_id i5cc1e845c4534f45b329346c6c235f70_I20210930 : 2021-09-30]\n",
      "no match i78e623a4de314cf594a4918b1834c486_I20201231 : 2020-12-31\n",
      "match[contxt_id i90867c23f60948b0a569abba6c03d575_I20210930 : 2021-09-30]\n",
      "no match if929da8369894418b08ef09e3cd3ef14_I20201231 : 2020-12-31\n",
      "match[contxt_id id0eb07c4caa94a1e90fd2637bcbc0e1a_I20210930 : 2021-09-30]\n",
      "no match iad77b42a04d94befa1fff6382d54e1f7_I20201231 : 2020-12-31\n",
      "match[contxt_id ia33061e9c16f46bb8f9324954305b6ab_I20210930 : 2021-09-30]\n",
      "no match ifd6e258cf9394563ba5d26e1d7498de5_I20201231 : 2020-12-31\n",
      "match[contxt_id id310588e118d45779c58225d04823d63_I20210930 : 2021-09-30]\n",
      "no match i45f2482d7b37433d990a47edfe0e2383_I20201231 : 2020-12-31\n",
      "match[contxt_id id59a553ec4ca4f8ab00001b77c86cdd9_I20210930 : 2021-09-30]\n",
      "no match i2cf7ed58535940c09ae68a2bacd5c354_I20201231 : 2020-12-31\n",
      "match[contxt_id i7a208e07bfa94497b3dc854dfe1dc64d_I20210930 : 2021-09-30]\n",
      "no match i41ceba42cedb4ef79897cd1199aa1c44_I20201231 : 2020-12-31\n"
     ]
    },
    {
     "name": "stdout",
     "output_type": "stream",
     "text": [
      "no match i7096f3394103423596cf8aca99307824_I20201031 : 2020-10-31\n",
      "match[contxt_id i762792c0e5a94869b3f3c9d7a3d6fefb_I20210930 : 2021-09-30]\n",
      "no match i7e4ae9d5934848e8b1789b24330839b0_I20201231 : 2020-12-31\n",
      "match[contxt_id ib09c8a783faa4dd1a97f9099877d54cb_I20210930 : 2021-09-30]\n",
      "no match i61612c290d994e2eaa3fc29938e23163_I20201231 : 2020-12-31\n",
      "match[contxt_id ie8d72c9460a4470db2e58de40b89d7f9_I20210930 : 2021-09-30]\n",
      "no match ib5dea2dd8bd344c1bb54bf307b81cfbc_I20201231 : 2020-12-31\n",
      "match[contxt_id i91e94d4627744428be091405f8dc9bd3_I20210930 : 2021-09-30]\n",
      "no match i75dfc247bffa4814a9a5a595d835a20e_I20201231 : 2020-12-31\n",
      "match[contxt_id i9cb4f758915445a4846e33744bad45b6_I20210930 : 2021-09-30]\n",
      "no match i4da4607238644b9fae5b670321f4d273_I20201231 : 2020-12-31\n",
      "match[contxt_id i111280527627402484cfdd57cf8a8a2c_I20210930 : 2021-09-30]\n",
      "no match i11ea44b55ca6497ba1b667f4192fff80_I20201231 : 2020-12-31\n",
      "match[contxt_id i7fa956eb1d0d411b809e5092a4b254f0_I20210930 : 2021-09-30]\n",
      "no match ie4f448d5ef7c43fca6136fdf72e752f4_I20201231 : 2020-12-31\n",
      "match[contxt_id i8086378cca4f4baf913acc6bc36fc620_I20210930 : 2021-09-30]\n",
      "no match i822d70dc7db343d18bd3cccb395a2261_I20201231 : 2020-12-31\n",
      "match[contxt_id ia62fc324b30e4dd0a173161b2a6cea41_I20210930 : 2021-09-30]\n",
      "no match idbe0f3644c1d40e99be879ec41109ef1_I20201231 : 2020-12-31\n",
      "match[contxt_id i8430288fe63a46899d68ac80b148ae1e_I20210930 : 2021-09-30]\n",
      "no match i9de3d70f89c047f68a3a6a4ce1c6df8c_I20201231 : 2020-12-31\n",
      "match[contxt_id iccf1f1767e46464bb9a97bcdcbdb6acd_I20210930 : 2021-09-30]\n",
      "no match ic3862134a33c44b489dbe8a5227c3ff6_I20201231 : 2020-12-31\n",
      "match[contxt_id ia470a5f98e6944929c96b81f284da0af_I20210930 : 2021-09-30]\n",
      "no match i0b0deb3df0f140b58a8fe5ea8611d1e2_I20201231 : 2020-12-31\n",
      "match[contxt_id if8f8642e87204a4c9e88c4fa3e78db9d_I20210930 : 2021-09-30]\n",
      "no match ia8800b37536b428ab71087ee1fec6cf5_I20201231 : 2020-12-31\n",
      "no match i23d69ba3b96740c6bfe781b7e6357129_I20180731 : 2018-07-31\n",
      "match[contxt_id i4a86f3954cf043d0a843c6cdc56fd788_I20210930 : 2021-09-30]\n",
      "no match i13163d7202124271b12a8e123fb80fa2_I20201231 : 2020-12-31\n",
      "match[contxt_id i56f8f58b86d0441385f2cc9d884dddf6_I20210930 : 2021-09-30]\n",
      "no match if4b97d8684b8419992e8ca64236e9b26_I20201231 : 2020-12-31\n",
      "no match i34bce420bf9f4c5a85b477fc270cc094_I20211031 : 2021-10-31\n",
      "no match if059c3d64bad439696a0b46697dc46dd_I20211031 : 2021-10-31\n",
      "no match i1a636ffc6f3442f1b54fd167ebd5f175_I20210430 : 2021-04-30\n",
      "match[contxt_id iae166ee1baa6423298f3f62dc2a21dc0_I20210930 : 2021-09-30]\n",
      "no match i2c84be03fef142b28ced0f6ba3a2b645_I20210331 : 2021-03-31\n",
      "no match i5088ab65b7e84214b6e83bc2b58f3a7a_I20210331 : 2021-03-31\n",
      "match[contxt_id i7c19d4d738b4466ea2f5ea1c4dbc6bf5_I20210930 : 2021-09-30]\n",
      "match[contxt_id i5df933ac95494f3bbd09cd2978271e3b_I20210930 : 2021-09-30]\n",
      "no match iae31426df86c41699a0b7f5fd10b4b0d_I20191231 : 2019-12-31\n",
      "no match ie408275a0d134902a9b569e0109d6faa_I20191231 : 2019-12-31\n",
      "no match ic8e64f0512eb404da36680475bccfadd_I20191231 : 2019-12-31\n",
      "no match i409e959dc51e4694a72335fb3b74c68a_I20211031 : 2021-10-31\n",
      "match[contxt_id i3bf72425e900475590bf270d89066647_I20210930 : 2021-09-30]\n",
      "match[contxt_id i5e8ab8bace5d4d22b0b10b7ffc567862_I20210930 : 2021-09-30]\n",
      "no match ia8983bbacbda49ef8bd19fd87cb0397c_I20201231 : 2020-12-31\n",
      "no match ife0750c6feee416c8322f5e0c19fea71_I20201231 : 2020-12-31\n",
      "match[contxt_id ief09309f833c4931891f98d287c8fd40_I20210930 : 2021-09-30]\n",
      "match[contxt_id i541f94d9d73e4042a6c0245425d1fb15_I20210930 : 2021-09-30]\n",
      "no match ib13bca89d0ee45f684868f2983775e2b_I20201231 : 2020-12-31\n",
      "no match i90b98f418ef5486490335c6c38780beb_I20201231 : 2020-12-31\n",
      "match[contxt_id i497f16acce6647189b4ac6e74eed17c8_I20210930 : 2021-09-30]\n",
      "match[contxt_id i986947a9e59743d3bfef465fc129e9da_I20210930 : 2021-09-30]\n",
      "no match i6a7123847d0747f0b2d166ce3df95e3a_I20201231 : 2020-12-31\n",
      "no match i18176d133228479e8be7ac9b6d9f29b5_I20201231 : 2020-12-31\n",
      "match[contxt_id if21fb229881d4de0a2338350670eb032_I20210930 : 2021-09-30]\n",
      "match[contxt_id i4c67f7cc5f524a1fa61e19aa972ea328_I20210930 : 2021-09-30]\n",
      "no match i4a523df845ad488692b798f0123e7716_I20201231 : 2020-12-31\n",
      "no match i84e0b31e971e44f7acec6cde3c16d629_I20201231 : 2020-12-31\n",
      "match[contxt_id ia837919f1d114a30beb6d18ac5b86cd3_I20210930 : 2021-09-30]\n",
      "match[contxt_id if904a250d9cd4623a55fe8e1cbc38c92_I20210930 : 2021-09-30]\n",
      "no match i7ff2c47b92a04db78b499d13d402758b_I20201231 : 2020-12-31\n",
      "no match ibfc45e3de1934927a27b173862fed796_I20201231 : 2020-12-31\n",
      "match[contxt_id id99a20a9c95147d9b67d0be754a2b0d4_I20210930 : 2021-09-30]\n",
      "match[contxt_id ia63971e6aeef4fdbaa15d906cb5681e8_I20210930 : 2021-09-30]\n",
      "no match i524cc084d96e4a0db18b7f20c6bab9cc_I20201231 : 2020-12-31\n",
      "no match i2c3752418ac44bffae9ac80abc86f573_I20201231 : 2020-12-31\n",
      "match[contxt_id idf8f1a26d9fd47b58da11ef91d2c9a40_I20210930 : 2021-09-30]\n",
      "match[contxt_id i3b15f4ab098a4bdca24fc242f4d5e206_I20210930 : 2021-09-30]\n",
      "no match i86d97b23e31a4b5eafca1cba982b47a4_I20201231 : 2020-12-31\n",
      "no match i2596612ccd2c43a2beddcbce75cc3b46_I20201231 : 2020-12-31\n",
      "no match i2dbb1192245e4f7c925d964676f35892_I20201231 : 2020-12-31\n",
      "no match ia1f0015672084539821bb59f26955302_I20201231 : 2020-12-31\n",
      "no match id77f39fb05fc405db1ceda8f17dfba61_I20201231 : 2020-12-31\n",
      "match[contxt_id i7c3c5475a7b94df080eaace6c8f87b5a_I20210930 : 2021-09-30]\n",
      "match[contxt_id ieb7667e4456c453d81760f687f6f9ca6_I20210930 : 2021-09-30]\n",
      "match[contxt_id i63ade22823d94c93ae8952c9341a8cbb_I20210930 : 2021-09-30]\n",
      "no match i545d462f17d34cf6ae1e1c71ab35a9f5_I20191231 : 2019-12-31\n",
      "no match i26de4f9e9e0443aa863dd6b66c78bd19_I20191231 : 2019-12-31\n",
      "no match ia624e1effa5746fd825910cbf26a9eeb_I20191231 : 2019-12-31\n",
      "no match i11acc59d9be1468ab93b1a95741a9044_I20200930 : 2020-09-30\n",
      "no match i59e5ab85a35d4be69fadcd7188a2c88d_I20200930 : 2020-09-30\n",
      "no match i1c3b6e25cbe244d390e9f59b23b3557e_I20200930 : 2020-09-30\n"
     ]
    }
   ],
   "source": [
    "# Experiment to test extract the context that has the matching end date\n",
    "regexp = re.compile(rf\"(\\s*)({report_period_end_date})(\\s*)\")\n",
    "\n",
    "for context in soup.find_all(REGEXP_XBRL_TAG_CONTEXT):\n",
    "    period = context.find(REGEXP_XBRL_TAG_PERIOD)\n",
    "    if period:\n",
    "        instant = period.find([REGEXP_XBRL_TAG_INSTANT])\n",
    "        if instant:\n",
    "            match = re.match(regexp, instant.string)\n",
    "            if match:\n",
    "                print(f\"match[contxt_id {context['id']} : {match.group(2)}]\")\n",
    "            else:\n",
    "                print(f\"no match {context['id']} : {instant.string.strip()}\")\n"
   ]
  },
  {
   "cell_type": "markdown",
   "id": "4681282d",
   "metadata": {},
   "source": [
    "### Regexp to find all the contexts that match with report_period_end_date\n",
    "\n",
    "10-K, 10-Q F/S uses multiple contexts to refer to the F/S element values for the **period**. Collect all the contexts for the **period**."
   ]
  },
  {
   "cell_type": "code",
   "execution_count": 29,
   "id": "557c2bfe",
   "metadata": {
    "scrolled": true
   },
   "outputs": [
    {
     "name": "stdout",
     "output_type": "stream",
     "text": [
      "Range: (2009-12-01, 2010-01-30)\n"
     ]
    }
   ],
   "source": [
    "# Example\n",
    "def get_start_date_range(end_date, form_type):\n",
    "    end_date = dateutil.parser.parse(end_date)\n",
    "    if form_type == SEC_FORM_TYPE_10K:\n",
    "        duration = datetime.timedelta(days=365) \n",
    "\n",
    "    if form_type == SEC_FORM_TYPE_10Q:\n",
    "        duration = datetime.timedelta(days=90) \n",
    "\n",
    "    _from = end_date - duration - datetime.timedelta(days=30)\n",
    "    _to  = end_date - duration + datetime.timedelta(days=30)\n",
    "    print(f\"Range: ({str(_from)[:10]}, {str(_to)[:10]})\")\n",
    "    \n",
    "get_start_date_range(\"2010-03-31\", SEC_FORM_TYPE_10Q)"
   ]
  },
  {
   "cell_type": "markdown",
   "id": "22df7b33",
   "metadata": {},
   "source": [
    "## Context IDs that refer to the current period"
   ]
  },
  {
   "cell_type": "code",
   "execution_count": 30,
   "id": "3e45c2d5",
   "metadata": {},
   "outputs": [
    {
     "data": {
      "text/plain": [
       "['icb4fe7b89cc949678c0215fb0c6c75ed_D20210701-20210930',\n",
       " 'ifc522cda813e4842a934b78a0163bb07_D20210701-20210930',\n",
       " 'i17ee23e173904148bb08842b2e310bfe_D20210701-20210930',\n",
       " 'i0037e2367a854cfbb9461ecc19fd857b_D20210701-20210930',\n",
       " 'i09edd8b4692f4d23b945d745226e25ea_D20210701-20210930',\n",
       " 'if99c73b4a593477f9a8eb4b28c6280b5_D20210701-20210930',\n",
       " 'i5c45e13d3f674959806aa9bc9338a4d3_D20210701-20210930',\n",
       " 'i6546f5d3fe1e4db2af98357deb902bcd_D20210701-20210930',\n",
       " 'iff65c328d95d40fc84b3fff7970e7d78_D20210701-20210930',\n",
       " 'i1aa81414412e450cbf7354f54fa0365d_D20210701-20210930',\n",
       " 'ia138785b671b4dc1bebe4e89ea0fdd09_D20210701-20210930',\n",
       " 'i4c8928a64bf8491cb6752e21039f2bc5_D20210701-20210930',\n",
       " 'id60d478483fe42d6be92003c47f3e2dd_D20210701-20210930',\n",
       " 'ia9b20a11f6b74d91ac1100a579611f94_D20210701-20210930',\n",
       " 'i4daa3a5df2864d13b94454a53b144370_D20210701-20210930',\n",
       " 'if4c1b03b727d44628f91062404773229_D20210701-20210930',\n",
       " 'i00aae6ee0447424d9c01fc5f8f3bd82d_I20210930',\n",
       " 'iac8b4d6a42f04c3490ca0d40e3a1c998_I20210930',\n",
       " 'icb30e95fa0f44b5d92822d45b15dc68f_I20210930',\n",
       " 'i4e0c7614ca93413f98b1e7b603ee6bc5_I20210930',\n",
       " 'i8602e16198034c75a1dc61e5edd0613a_I20210930',\n",
       " 'i46a70805b9804aff8d7695c2a7a6e9ef_I20210930',\n",
       " 'ia86e0602bf9249379adefb9c8622cfb7_I20210930',\n",
       " 'ic1cbbb2ea848404db189ff98ef0395b1_I20210930',\n",
       " 'ic844e789579b434982bce2e622ec1d03_I20210930',\n",
       " 'id5efd546a56e44a0b41435280e218c43_I20210930',\n",
       " 'i354ab11330e34068959dac496462d12f_I20210930',\n",
       " 'i04a3ec5a28844b0da324ed7f4abff48a_I20210930',\n",
       " 'i9718bfcd6c154acc9202ea5a081fc7de_I20210930',\n",
       " 'i4bba2e8b413b4b8cbe052bf217ebef28_I20210930',\n",
       " 'ifdcbad46f8fe4404b8bff9154d1ba916_I20210930',\n",
       " 'i80fb552a7fac4f82b1a5dd22483195cb_I20210930',\n",
       " 'ifb2f8ee28fe742b1878c592f51dcbccc_I20210930',\n",
       " 'ied40a90ba668438bb600fe5b469dcde4_I20210930',\n",
       " 'ic2b12e84bd07450d8938581d1653cd4a_I20210930',\n",
       " 'id7cf9db871a146d29170245b3cc5131c_I20210930',\n",
       " 'id25bc46a32664061bde8538b4ae2180b_I20210930',\n",
       " 'if23cd436019e43e7b902a322d1b43216_I20210930',\n",
       " 'if352f89efa86446e8db34d7f4e208744_I20210930',\n",
       " 'i95524c3868014331aceccdb1a0e285e7_I20210930',\n",
       " 'ic7451bd1caae4dcc988c5695ea6eaead_I20210930',\n",
       " 'i8cbf5a8818994727b8669c4600416594_I20210930',\n",
       " 'i96557d3a366442fcb152741726f0af59_I20210930',\n",
       " 'i8a6dcf98689d42e99d031de7b6394d17_I20210930',\n",
       " 'idc9e2ce14da94811b7cd49dc39f1339e_I20210930',\n",
       " 'ib9fec26411c043e5b28b76873ad072f9_I20210930',\n",
       " 'i531b79415d79448e91ccab4c35f7723c_I20210930',\n",
       " 'ie926c76a2763419fa75d12885a328600_I20210930',\n",
       " 'ifdb889ffdc534c39a5a46f3ac2f54c27_I20210930',\n",
       " 'i2e0b1ffd9386481185ea20b5bfde07a6_I20210930',\n",
       " 'i9eaafc2b3d084785a4001786b0e4ed75_I20210930',\n",
       " 'i075b951f1d7d4b50bed053ee3f0f8ec4_I20210930',\n",
       " 'i1f548cd4a8eb4df48259c59fb97dd046_I20210930',\n",
       " 'i2c2c573a552c4aa685aaa38e31c65c37_I20210930',\n",
       " 'if66ff5fd959f4afc9b31726d64b28e27_I20210930',\n",
       " 'i3fb9ef24738341e1884002c2eaa7af1c_I20210930',\n",
       " 'icf4aa2dcb6c54f9c91d5bf88037176ba_I20210930',\n",
       " 'ic69e77031f1647469512c518b9dd1786_I20210930',\n",
       " 'i5034b254b7f04641a08110c24e78de7f_I20210930',\n",
       " 'ife4f817efd30490685aaeab53d675baa_I20210930',\n",
       " 'if634a4972b8d427185a930f5c07b17aa_I20210930',\n",
       " 'i0b98c37fdaac41d795c6c1de75497169_I20210930',\n",
       " 'ic7bea543cff24860a5bcd6f9f677e8d6_I20210930',\n",
       " 'i58065cc09c2c411abc2ba4b6e1d2b676_I20210930',\n",
       " 'ideccfb6b0c9d4e89a692d4a758eac734_I20210930',\n",
       " 'ia8250102ab5647bbb89ddcd0f0a276a5_I20210930',\n",
       " 'i81cecd7a804b40cf91f5263484193c66_I20210930',\n",
       " 'i4dd4e5b64af84ae4b540d7350c57f8d8_I20210930',\n",
       " 'idc081f0c0dec4ec8bbad54ffd366e258_I20210930',\n",
       " 'i5cc1e845c4534f45b329346c6c235f70_I20210930',\n",
       " 'i90867c23f60948b0a569abba6c03d575_I20210930',\n",
       " 'id0eb07c4caa94a1e90fd2637bcbc0e1a_I20210930',\n",
       " 'ia33061e9c16f46bb8f9324954305b6ab_I20210930',\n",
       " 'id310588e118d45779c58225d04823d63_I20210930',\n",
       " 'id59a553ec4ca4f8ab00001b77c86cdd9_I20210930',\n",
       " 'i7a208e07bfa94497b3dc854dfe1dc64d_I20210930',\n",
       " 'i762792c0e5a94869b3f3c9d7a3d6fefb_I20210930',\n",
       " 'ib09c8a783faa4dd1a97f9099877d54cb_I20210930',\n",
       " 'ie8d72c9460a4470db2e58de40b89d7f9_I20210930',\n",
       " 'i91e94d4627744428be091405f8dc9bd3_I20210930',\n",
       " 'i9cb4f758915445a4846e33744bad45b6_I20210930',\n",
       " 'i111280527627402484cfdd57cf8a8a2c_I20210930',\n",
       " 'i7fa956eb1d0d411b809e5092a4b254f0_I20210930',\n",
       " 'i8086378cca4f4baf913acc6bc36fc620_I20210930',\n",
       " 'ia62fc324b30e4dd0a173161b2a6cea41_I20210930',\n",
       " 'i8430288fe63a46899d68ac80b148ae1e_I20210930',\n",
       " 'iccf1f1767e46464bb9a97bcdcbdb6acd_I20210930',\n",
       " 'ia470a5f98e6944929c96b81f284da0af_I20210930',\n",
       " 'if8f8642e87204a4c9e88c4fa3e78db9d_I20210930',\n",
       " 'i4a86f3954cf043d0a843c6cdc56fd788_I20210930',\n",
       " 'i56f8f58b86d0441385f2cc9d884dddf6_I20210930',\n",
       " 'iae166ee1baa6423298f3f62dc2a21dc0_I20210930',\n",
       " 'i7c19d4d738b4466ea2f5ea1c4dbc6bf5_I20210930',\n",
       " 'i5df933ac95494f3bbd09cd2978271e3b_I20210930',\n",
       " 'i3bf72425e900475590bf270d89066647_I20210930',\n",
       " 'i5e8ab8bace5d4d22b0b10b7ffc567862_I20210930',\n",
       " 'ief09309f833c4931891f98d287c8fd40_I20210930',\n",
       " 'i541f94d9d73e4042a6c0245425d1fb15_I20210930',\n",
       " 'i497f16acce6647189b4ac6e74eed17c8_I20210930',\n",
       " 'i986947a9e59743d3bfef465fc129e9da_I20210930',\n",
       " 'if21fb229881d4de0a2338350670eb032_I20210930',\n",
       " 'i4c67f7cc5f524a1fa61e19aa972ea328_I20210930',\n",
       " 'ia837919f1d114a30beb6d18ac5b86cd3_I20210930',\n",
       " 'if904a250d9cd4623a55fe8e1cbc38c92_I20210930',\n",
       " 'id99a20a9c95147d9b67d0be754a2b0d4_I20210930',\n",
       " 'ia63971e6aeef4fdbaa15d906cb5681e8_I20210930',\n",
       " 'idf8f1a26d9fd47b58da11ef91d2c9a40_I20210930',\n",
       " 'i3b15f4ab098a4bdca24fc242f4d5e206_I20210930',\n",
       " 'i7c3c5475a7b94df080eaace6c8f87b5a_I20210930',\n",
       " 'ieb7667e4456c453d81760f687f6f9ca6_I20210930',\n",
       " 'i63ade22823d94c93ae8952c9341a8cbb_I20210930']"
      ]
     },
     "execution_count": 30,
     "metadata": {},
     "output_type": "execute_result"
    }
   ],
   "source": [
    "get_target_context_ids(soup=soup, report_period_end_date=report_period_end_date, form_type=FORM_TYPE)"
   ]
  },
  {
   "cell_type": "markdown",
   "id": "0a8b24ae",
   "metadata": {},
   "source": [
    "---\n",
    "# Constant"
   ]
  },
  {
   "cell_type": "code",
   "execution_count": 31,
   "id": "dab3debf",
   "metadata": {},
   "outputs": [],
   "source": [
    "from xbrl_gaap_constant import (\n",
    "    NAMESPACE_GAAP,\n",
    "    GAAP_CREDIT_ITEMS,\n",
    "    GAAP_DEBIT_ITEMS,\n",
    "    GAAP_CALC_ITEMS,\n",
    "    GAAP_METRIC_ITEMS,\n",
    "    GAAP_FACT_ITEMS,\n",
    ")\n",
    "from sec_edgar_constant import (\n",
    "    FS_ELEMENT_TYPE_DEBIT,\n",
    "    FS_ELEMENT_TYPE_CREDIT,\n",
    "    FS_ELEMENT_TYPE_CALC,\n",
    "    FS_ELEMENT_TYPE_METRIC,\n",
    "    FS_ELEMENT_TYPE_FACT,\n",
    ")"
   ]
  },
  {
   "cell_type": "code",
   "execution_count": 32,
   "id": "326602c0",
   "metadata": {},
   "outputs": [],
   "source": [
    "CONTEXT_REGEXP = re.compile(\"|\".join(\n",
    "    get_target_context_ids(soup=soup, report_period_end_date=report_period_end_date, form_type=FORM_TYPE))\n",
    ")"
   ]
  },
  {
   "cell_type": "code",
   "execution_count": 33,
   "id": "e88e4f29",
   "metadata": {},
   "outputs": [
    {
     "data": {
      "text/plain": [
       "re.compile(r'icb4fe7b89cc949678c0215fb0c6c75ed_D20210701-20210930|ifc522cda813e4842a934b78a0163bb07_D20210701-20210930|i17ee23e173904148bb08842b2e310bfe_D20210701-20210930|i0037e2367a854cfbb9461ecc19fd857b_D20210701-20210930|i09edd8b4692f4d23b945d745226e25ea_D20210701-20210930|if99c73b4a593477f9a8eb4b28c6280b5_D20210701-20210930|i5c45e13d3f674959806aa9bc9338a4d3_D20210701-20210930|i6546f5d3fe1e4db2af98357deb902bcd_D20210701-20210930|iff65c328d95d40fc84b3fff7970e7d78_D20210701-20210930|i1aa81414412e450cbf7354f54fa0365d_D20210701-20210930|ia138785b671b4dc1bebe4e89ea0fdd09_D20210701-20210930|i4c8928a64bf8491cb6752e21039f2bc5_D20210701-20210930|id60d478483fe42d6be92003c47f3e2dd_D20210701-20210930|ia9b20a11f6b74d91ac1100a579611f94_D20210701-20210930|i4daa3a5df2864d13b94454a53b144370_D20210701-20210930|if4c1b03b727d44628f91062404773229_D20210701-20210930|i00aae6ee0447424d9c01fc5f8f3bd82d_I20210930|iac8b4d6a42f04c3490ca0d40e3a1c998_I20210930|icb30e95fa0f44b5d92822d45b15dc68f_I20210930|i4e0c7614ca93413f98b1e7b603ee6bc5_I20210930|i8602e16198034c75a1dc61e5edd0613a_I20210930|i46a70805b9804aff8d7695c2a7a6e9ef_I20210930|ia86e0602bf9249379adefb9c8622cfb7_I20210930|ic1cbbb2ea848404db189ff98ef0395b1_I20210930|ic844e789579b434982bce2e622ec1d03_I20210930|id5efd546a56e44a0b41435280e218c43_I20210930|i354ab11330e34068959dac496462d12f_I20210930|i04a3ec5a28844b0da324ed7f4abff48a_I20210930|i9718bfcd6c154acc9202ea5a081fc7de_I20210930|i4bba2e8b413b4b8cbe052bf217ebef28_I20210930|ifdcbad46f8fe4404b8bff9154d1ba916_I20210930|i80fb552a7fac4f82b1a5dd22483195cb_I20210930|ifb2f8ee28fe742b1878c592f51dcbccc_I20210930|ied40a90ba668438bb600fe5b469dcde4_I20210930|ic2b12e84bd07450d8938581d1653cd4a_I20210930|id7cf9db871a146d29170245b3cc5131c_I20210930|id25bc46a32664061bde8538b4ae2180b_I20210930|if23cd436019e43e7b902a322d1b43216_I20210930|if352f89efa86446e8db34d7f4e208744_I20210930|i95524c3868014331aceccdb1a0e285e7_I20210930|ic7451bd1caae4dcc988c5695ea6eaead_I20210930|i8cbf5a8818994727b8669c4600416594_I20210930|i96557d3a366442fcb152741726f0af59_I20210930|i8a6dcf98689d42e99d031de7b6394d17_I20210930|idc9e2ce14da94811b7cd49dc39f1339e_I20210930|ib9fec26411c043e5b28b76873ad072f9_I20210930|i531b79415d79448e91ccab4c35f7723c_I20210930|ie926c76a2763419fa75d12885a328600_I20210930|ifdb889ffdc534c39a5a46f3ac2f54c27_I20210930|i2e0b1ffd9386481185ea20b5bfde07a6_I20210930|i9eaafc2b3d084785a4001786b0e4ed75_I20210930|i075b951f1d7d4b50bed053ee3f0f8ec4_I20210930|i1f548cd4a8eb4df48259c59fb97dd046_I20210930|i2c2c573a552c4aa685aaa38e31c65c37_I20210930|if66ff5fd959f4afc9b31726d64b28e27_I20210930|i3fb9ef24738341e1884002c2eaa7af1c_I20210930|icf4aa2dcb6c54f9c91d5bf88037176ba_I20210930|ic69e77031f1647469512c518b9dd1786_I20210930|i5034b254b7f04641a08110c24e78de7f_I20210930|ife4f817efd30490685aaeab53d675baa_I20210930|if634a4972b8d427185a930f5c07b17aa_I20210930|i0b98c37fdaac41d795c6c1de75497169_I20210930|ic7bea543cff24860a5bcd6f9f677e8d6_I20210930|i58065cc09c2c411abc2ba4b6e1d2b676_I20210930|ideccfb6b0c9d4e89a692d4a758eac734_I20210930|ia8250102ab5647bbb89ddcd0f0a276a5_I20210930|i81cecd7a804b40cf91f5263484193c66_I20210930|i4dd4e5b64af84ae4b540d7350c57f8d8_I20210930|idc081f0c0dec4ec8bbad54ffd366e258_I20210930|i5cc1e845c4534f45b329346c6c235f70_I20210930|i90867c23f60948b0a569abba6c03d575_I20210930|id0eb07c4caa94a1e90fd2637bcbc0e1a_I20210930|ia33061e9c16f46bb8f9324954305b6ab_I20210930|id310588e118d45779c58225d04823d63_I20210930|id59a553ec4ca4f8ab00001b77c86cdd9_I20210930|i7a208e07bfa94497b3dc854dfe1dc64d_I20210930|i762792c0e5a94869b3f3c9d7a3d6fefb_I20210930|ib09c8a783faa4dd1a97f9099877d54cb_I20210930|ie8d72c9460a4470db2e58de40b89d7f9_I20210930|i91e94d4627744428be091405f8dc9bd3_I20210930|i9cb4f758915445a4846e33744bad45b6_I20210930|i111280527627402484cfdd57cf8a8a2c_I20210930|i7fa956eb1d0d411b809e5092a4b254f0_I20210930|i8086378cca4f4baf913acc6bc36fc620_I20210930|ia62fc324b30e4dd0a173161b2a6cea41_I20210930|i8430288fe63a46899d68ac80b148ae1e_I20210930|iccf1f1767e46464bb9a97bcdcbdb6acd_I20210930|ia470a5f98e6944929c96b81f284da0af_I20210930|if8f8642e87204a4c9e88c4fa3e78db9d_I20210930|i4a86f3954cf043d0a843c6cdc56fd788_I20210930|i56f8f58b86d0441385f2cc9d884dddf6_I20210930|iae166ee1baa6423298f3f62dc2a21dc0_I20210930|i7c19d4d738b4466ea2f5ea1c4dbc6bf5_I20210930|i5df933ac95494f3bbd09cd2978271e3b_I20210930|i3bf72425e900475590bf270d89066647_I20210930|i5e8ab8bace5d4d22b0b10b7ffc567862_I20210930|ief09309f833c4931891f98d287c8fd40_I20210930|i541f94d9d73e4042a6c0245425d1fb15_I20210930|i497f16acce6647189b4ac6e74eed17c8_I20210930|i986947a9e59743d3bfef465fc129e9da_I20210930|if21fb229881d4de0a2338350670eb032_I20210930|i4c67f7cc5f524a1fa61e19aa972ea328_I20210930|ia837919f1d114a30beb6d18ac5b86cd3_I20210930|if904a250d9cd4623a55fe8e1cbc38c92_I20210930|id99a20a9c95147d9b67d0be754a2b0d4_I20210930|ia63971e6aeef4fdbaa15d906cb5681e8_I20210930|idf8f1a26d9fd47b58da11ef91d2c9a40_I20210930|i3b15f4ab098a4bdca24fc242f4d5e206_I20210930|i7c3c5475a7b94df080eaace6c8f87b5a_I20210930|ieb7667e4456c453d81760f687f6f9ca6_I20210930|i63ade22823d94c93ae8952c9341a8cbb_I20210930',\n",
       "re.UNICODE)"
      ]
     },
     "execution_count": 33,
     "metadata": {},
     "output_type": "execute_result"
    }
   ],
   "source": [
    "CONTEXT_REGEXP"
   ]
  },
  {
   "cell_type": "markdown",
   "id": "0ff7cd8b",
   "metadata": {},
   "source": [
    "# Utilities"
   ]
  },
  {
   "cell_type": "code",
   "execution_count": 34,
   "id": "e9738300",
   "metadata": {},
   "outputs": [],
   "source": [
    "def assert_bf4_tag(element):\n",
    "    assert isinstance(element, bs4.element.Tag), \\\n",
    "    f\"Expected BS4 tag but {element} of type {type(element)}\""
   ]
  },
  {
   "cell_type": "code",
   "execution_count": 35,
   "id": "ce1dd4d6",
   "metadata": {},
   "outputs": [],
   "source": [
    "def display_elements(elements):\n",
    "    assert isinstance(elements, bs4.element.ResultSet) or isinstance(elements[0], bs4.element.Tag)\n",
    "    for element in elements: # decimals=\"-3\" means the displayed value is divied by 1000.\n",
    "        print(f\"{element.name:80} {element['unitref']:5} {element['decimals']:5} {element.text:15}\")"
   ]
  },
  {
   "cell_type": "code",
   "execution_count": 36,
   "id": "c5b3f246",
   "metadata": {},
   "outputs": [],
   "source": [
    "def get_element_hash(element):\n",
    "    \"\"\"Generate the financial element hash key to uniquely identify an financial element record\n",
    "    In a F/S, the same element, e.g. gaap:CashAndCashEquivalentsAtCarryingValue can be used at\n",
    "    multiple places, one in B/S and one in P/L.\n",
    "    \n",
    "    To be able to identify if two elements are the same, provides a way to be able to compare\n",
    "    two elements by generating a hash key from the attributes of an element.\n",
    "    \n",
    "    Args:\n",
    "        element: bs4.element.Tag for an financial element\n",
    "    Returns: hash key\n",
    "    \"\"\"\n",
    "    assert isinstance(element, bs4.element.Tag)\n",
    "    # key = f\"{element.name}{element['unitref']}{element['contextref']}{element.text}\"\n",
    "    # key = f\"{element.name}{element['unitref']}{element.text}\"\n",
    "    key = f\"{element.name}{element['unitref']}\"\n",
    "    return hash(key)"
   ]
  },
  {
   "cell_type": "code",
   "execution_count": 37,
   "id": "d4640ab6",
   "metadata": {},
   "outputs": [],
   "source": [
    "# XBRL attribute conditions to match when extracting FS elements\n",
    "ATTRIBUTES = {\n",
    "    \"contextref\": CONTEXT_REGEXP,\n",
    "    \"decimals\": True, \n",
    "    \"unitref\": True\n",
    "}\n",
    "\n",
    "\n",
    "def find_financial_elements(soup, element_names, attributes=ATTRIBUTES):\n",
    "    \"\"\"Find the financial statement elements from the XML/HTML source.\n",
    "    Args:\n",
    "        soup: BS4 source\n",
    "        element_names: String or regexp instance to select the financial elements.\n",
    "        attribute: tag attributes to select the financial elements\n",
    "    Returns:\n",
    "        List of BS4 tag objects that matched the element_names and attributes.\n",
    "    \"\"\"\n",
    "    assert isinstance(soup, BeautifulSoup)\n",
    "    assert isinstance(element_names, re.Pattern) or isinstance(element_names, str)\n",
    "\n",
    "    \n",
    "    names = element_names.lower() if isinstance(element_names, str) else element_names\n",
    "\n",
    "    elements = soup.find_all(\n",
    "        name=names,\n",
    "        string=REGEXP_NUMERIC,\n",
    "        attrs=attributes\n",
    "    )\n",
    "    \n",
    "    # Select unique elements\n",
    "    hashes = set([]) \n",
    "    results = []\n",
    "    if elements is not None and len(elements) > 0:\n",
    "        for element in elements:\n",
    "            hash_value = get_element_hash(element)\n",
    "            if hash_value not in hashes:\n",
    "                results.append(element) \n",
    "                hashes.add(hash_value)\n",
    "    return results"
   ]
  },
  {
   "cell_type": "markdown",
   "id": "a3cefb12",
   "metadata": {},
   "source": [
    "## FS elements of the period"
   ]
  },
  {
   "cell_type": "code",
   "execution_count": 38,
   "id": "98361b59",
   "metadata": {},
   "outputs": [
    {
     "name": "stdout",
     "output_type": "stream",
     "text": [
      "us-gaap:revenues                                                                                    :1681000000\n",
      "us-gaap:costofgoodsandservicessold                                                                  :1356168000\n",
      "us-gaap:grossprofit                                                                                 :324832000\n",
      "us-gaap:sellinggeneralandadministrativeexpense                                                      :72581000\n",
      "us-gaap:researchanddevelopmentexpense                                                               :40790000\n",
      "us-gaap:operatingexpenses                                                                           :113371000\n",
      "us-gaap:operatingincomeloss                                                                         :211461000\n",
      "us-gaap:interestexpense                                                                             :12896000\n",
      "us-gaap:othernonoperatingincomeexpense                                                              :501000\n",
      "us-gaap:nonoperatingincomeexpense                                                                   :-12395000\n",
      "us-gaap:incomelossfromcontinuingoperationsbeforeincometaxesextraordinaryitemsnoncontrollinginterest :199066000\n",
      "us-gaap:incometaxexpensebenefit                                                                     :17219000\n",
      "us-gaap:profitloss                                                                                  :181847000\n",
      "us-gaap:netincomelossattributabletononcontrollinginterest                                           :993000\n",
      "us-gaap:netincomeloss                                                                               :180854000\n",
      "us-gaap:earningspersharebasic                                                                       :0.74\n",
      "us-gaap:earningspersharediluted                                                                     :0.74\n",
      "us-gaap:weightedaveragenumberofsharesoutstandingbasic                                               :244100000\n",
      "us-gaap:weightedaveragenumberofdilutedsharesoutstanding                                             :245942000\n",
      "us-gaap:othercomprehensiveincomeavailableforsalesecuritiesadjustmentnetoftaxportionattributabletoparent:-101000\n",
      "us-gaap:othercomprehensiveincomelosspensionandotherpostretirementbenefitplansadjustmentnetoftax     :-26000\n",
      "us-gaap:othercomprehensiveincomelossforeigncurrencytransactionandtranslationadjustmentnetoftax      :-102000\n",
      "us-gaap:othercomprehensiveincomelossnetoftax                                                        :-177000\n",
      "us-gaap:comprehensiveincomenetoftaxincludingportionattributabletononcontrollinginterest             :181670000\n",
      "us-gaap:comprehensiveincomenetoftax                                                                 :180677000\n",
      "us-gaap:cashandcashequivalentsatcarryingvalue                                                       :545592000\n",
      "us-gaap:restrictedcashandcashequivalentsatcarryingvalue                                             :929000\n",
      "us-gaap:debtsecuritiesavailableforsaleamortizedcostcurrent                                          :244627000\n",
      "us-gaap:shortterminvestments                                                                        :244470000\n",
      "us-gaap:accountsreceivablenetcurrent                                                                :1289617000\n",
      "us-gaap:inventorynet                                                                                :445918000\n",
      "us-gaap:otherassetscurrent                                                                          :48598000\n",
      "us-gaap:assetscurrent                                                                               :2575124000\n",
      "us-gaap:propertyplantandequipmentnet                                                                :2901564000\n",
      "us-gaap:operatingleaserightofuseasset                                                               :146210000\n",
      "us-gaap:goodwill                                                                                    :25351000\n",
      "us-gaap:restrictedcashandcashequivalentsnoncurrent                                                  :3508000\n",
      "us-gaap:otherassetsnoncurrent                                                                       :118691000\n",
      "us-gaap:assets                                                                                      :5770448000\n",
      "us-gaap:debtcurrent                                                                                 :140380000\n",
      "us-gaap:accountspayablecurrent                                                                      :815877000\n",
      "us-gaap:accruedliabilitiescurrent                                                                   :389068000\n",
      "us-gaap:liabilitiescurrent                                                                          :1738985000\n",
      "us-gaap:longtermdebtnoncurrent                                                                      :884236000\n",
      "us-gaap:pensionandotherpostretirementandpostemploymentbenefitplansliabilitiesnoncurrent             :145633000\n",
      "us-gaap:operatingleaseliabilitynoncurrent                                                           :76955000\n",
      "us-gaap:otherliabilitiesnoncurrent                                                                  :164960000\n",
      "us-gaap:liabilities                                                                                 :3010769000\n",
      "us-gaap:preferredstockparorstatedvaluepershare                                                      :0.001\n",
      "us-gaap:preferredstocksharesauthorized                                                              :10000000\n",
      "us-gaap:preferredstocksharesissued                                                                  :0\n",
      "us-gaap:preferredstockvalue                                                                         :0\n",
      "us-gaap:commonstockparorstatedvaluepershare                                                         :0.001\n",
      "us-gaap:commonstocksharesauthorized                                                                 :500000000\n",
      "us-gaap:commonstocksharesissued                                                                     :290341000\n",
      "us-gaap:commonstocksharesoutstanding                                                                :244190000\n",
      "us-gaap:commonstockvalue                                                                            :290000\n",
      "us-gaap:additionalpaidincapital                                                                     :1973207000\n",
      "us-gaap:retainedearningsaccumulateddeficit                                                          :959641000\n",
      "us-gaap:accumulatedothercomprehensiveincomelossnetoftax                                             :15936000\n",
      "us-gaap:treasurystockshares                                                                         :46151000\n",
      "us-gaap:treasurystockvalue                                                                          :219061000\n",
      "us-gaap:stockholdersequity                                                                          :2730013000\n",
      "us-gaap:minorityinterest                                                                            :29666000\n",
      "us-gaap:stockholdersequityincludingportionattributabletononcontrollinginterest                      :2759679000\n",
      "us-gaap:liabilitiesandstockholdersequity                                                            :5770448000\n",
      "us-gaap:stockissuedduringperiodsharessharebasedcompensation                                         :226000\n",
      "us-gaap:stockissuedduringperiodvaluesharebasedcompensation                                          :1828000\n",
      "us-gaap:adjustmentstoadditionalpaidincapitalsharebasedcompensationrequisiteserviceperiodrecognitionvalue:3040000\n",
      "us-gaap:commonstockdividendspersharedeclared                                                        :0.04\n",
      "us-gaap:dividendscash                                                                               :9780000\n",
      "us-gaap:minorityinterestdecreasefromdistributionstononcontrollinginterestholders                    :149000\n",
      "us-gaap:cashcashequivalentsrestrictedcashandrestrictedcashequivalents                               :550029000\n",
      "us-gaap:unbilledreceivablescurrent                                                                  :264500000\n",
      "us-gaap:contractwithcustomerliability                                                               :109600000\n",
      "us-gaap:contractwithcustomerliabilitycurrent                                                        :61600000\n",
      "us-gaap:revenuefromcontractwithcustomerexcludingassessedtax                                         :1235753000\n",
      "us-gaap:concentrationriskpercentage1                                                                :0.43\n",
      "us-gaap:interestincomedepositswithfinancialinstitutions                                             :256000\n",
      "us-gaap:foreigncurrencytransactiongainlossbeforetax                                                 :53000\n",
      "us-gaap:gainslossesonextinguishmentofdebt                                                           :0\n",
      "us-gaap:unrecognizedtaxbenefits                                                                     :31100000\n",
      "us-gaap:netincomelossavailabletocommonstockholdersbasic                                             :180854000\n",
      "us-gaap:incrementalcommonsharesattributabletosharebasedpaymentarrangements                          :1842000\n",
      "us-gaap:antidilutivesecuritiesexcludedfromcomputationofearningspershareamount                       :180000\n",
      "us-gaap:availableforsaledebtsecuritiesamortizedcostbasis                                            :4000\n",
      "us-gaap:availableforsaledebtsecuritiesaccumulatedgrossunrealizedgainbeforetax                       :0\n",
      "us-gaap:availableforsaledebtsecuritiesaccumulatedgrossunrealizedlossbeforetax                       :0\n",
      "us-gaap:availableforsalesecuritiesdebtsecurities                                                    :4000\n",
      "us-gaap:availableforsalesecuritiesdebtmaturitieswithinoneyearamortizedcost                          :320948000\n",
      "us-gaap:availableforsalesecuritiesdebtmaturitieswithinoneyearfairvalue                              :320877000\n",
      "us-gaap:availableforsalesecuritiesdebtmaturitiesafteronethroughfiveyearsamortizedcost               :82992000\n",
      "us-gaap:availableforsalesecuritiesdebtmaturitiesafteronethroughfiveyearsfairvalue                   :82905000\n",
      "us-gaap:availableforsalesecuritiesdebtmaturitiesafterfivethroughtenyearsamortizedcost               :406000\n",
      "us-gaap:availableforsalesecuritiesdebtmaturitiesafterfivethroughtenyearsfairvalue                   :406000\n",
      "us-gaap:availableforsalesecuritiesdebtmaturitiesaftertenyearsamortizedcost                          :1530000\n",
      "us-gaap:availableforsalesecuritiesdebtmaturitiesaftertenyearsfairvalue                              :1530000\n",
      "us-gaap:heldtomaturitysecuritiesfairvalue                                                           :4700000\n",
      "us-gaap:heldtomaturitysecurities                                                                    :4700000\n",
      "us-gaap:propertyplantandequipmentgross                                                              :219081000\n",
      "us-gaap:financeleaserightofuseassetbeforeaccumulatedamortization                                    :100939000\n",
      "us-gaap:propertyplantandequipmentandfinanceleaserightofuseassetbeforeaccumulateddepreciationandamortization:8568111000\n",
      "us-gaap:propertyplantandequipmentandfinanceleaserightofuseassetaccumulateddepreciationandamortization:5666547000\n",
      "us-gaap:propertyplantandequipmentandfinanceleaserightofuseassetafteraccumulateddepreciationandamortization:2901564000\n",
      "us-gaap:depreciation                                                                                :145826000\n",
      "us-gaap:employeerelatedliabilitiescurrent                                                           :134797000\n",
      "us-gaap:operatingleaseliabilitycurrent                                                              :56054000\n",
      "us-gaap:accruedincometaxescurrent                                                                   :41470000\n",
      "us-gaap:financeleaseliabilitycurrent                                                                :27805000\n",
      "us-gaap:postemploymentbenefitsliabilitycurrent                                                      :10970000\n",
      "us-gaap:interestpayablecurrent                                                                      :1979000\n",
      "us-gaap:otheraccruedliabilitiescurrent                                                              :54352000\n",
      "us-gaap:debtinstrumentinterestratestatedpercentage                                                  :0.06625\n",
      "us-gaap:debtinstrumentcarryingamount                                                                :525000000\n",
      "us-gaap:longtermdebt                                                                                :1032728000\n",
      "us-gaap:debtinstrumentunamortizeddiscountpremiumanddebtissuancecostsnet                             :-8112000\n",
      "us-gaap:longtermdebtcurrent                                                                         :140380000\n",
      "us-gaap:debtinstrumentunusedborrowingcapacityamount                                                 :30000000\n",
      "us-gaap:debtinstrumentunusedborrowingcapacityamount                                                 :80000000000\n",
      "us-gaap:longtermdebtweightedaverageinterestrate                                                     :0.0030\n",
      "us-gaap:lineofcreditfacilityremainingborrowingcapacity                                              :250000000\n",
      "us-gaap:definedbenefitplanservicecost                                                               :6548000\n",
      "us-gaap:definedbenefitplaninterestcost                                                              :1199000\n",
      "us-gaap:definedbenefitplanexpectedreturnonplanassets                                                :1384000\n",
      "us-gaap:definedbenefitplanactuarialgainloss                                                         :-32000\n",
      "us-gaap:definedbenefitplannetperiodicbenefitcost                                                    :6395000\n",
      "us-gaap:definedcontributionplancostrecognized                                                       :4807000\n",
      "us-gaap:derivativeassetnotionalamount                                                               :316356000\n",
      "us-gaap:derivativeassets                                                                            :-555000\n",
      "us-gaap:derivativegainlossonderivativenet                                                           :11200000\n",
      "us-gaap:debtinstrumentfairvalue                                                                     :562511000\n",
      "us-gaap:restructuringreserve                                                                        :0\n",
      "us-gaap:restructuringandrelatedcostcostincurredtodate1                                              :16255000\n",
      "us-gaap:restructuringandrelatedcostexpectedcostremaining1                                           :0\n"
     ]
    }
   ],
   "source": [
    "for element in find_financial_elements(soup, re.compile(f\"^{NAMESPACE_GAAP}:.*\"), attributes=ATTRIBUTES):\n",
    "    print(f\"{element.name:100}:{element.text}\")"
   ]
  },
  {
   "cell_type": "code",
   "execution_count": 39,
   "id": "38838bae",
   "metadata": {},
   "outputs": [],
   "source": [
    "def get_financial_element_numeric_values(elements):\n",
    "    # assert isinstance(elements, bs4.element.ResultSet) or isinstance(elements[0], bs4.element.Tag)\n",
    "    assert_bf4_tag(elements[0])\n",
    "    \n",
    "    values = []\n",
    "    for element in elements:\n",
    "        assert re.match(REGEXP_NUMERIC, element.text.strip()), f\"Element must be numeric but {element.text}\"\n",
    "        values.append(float(element.text))\n",
    "        \n",
    "    return values"
   ]
  },
  {
   "cell_type": "code",
   "execution_count": 40,
   "id": "bd39bd7a",
   "metadata": {},
   "outputs": [],
   "source": [
    "def get_financial_element_columns():\n",
    "    \"\"\"Financial record columns\"\"\"\n",
    "    return [\n",
    "        \"fs\",           # Which financial statement e.g. bs for Balance Sheet\n",
    "        \"rep\",          # Representative marker e.g. \"income\" or \"cogs\" (cost of goods sold)\n",
    "        \"type\",         # \"debit\" or \"credit\"\n",
    "        \"name\",         # F/S item name, e.g. us-gaap:revenues\n",
    "        \"value\", \n",
    "        \"unit\",         # e.g. USD\n",
    "        \"decimals\",     # Scale\n",
    "        \"context\"       # XBRL context ID\n",
    "    ]\n",
    "\n",
    "def get_record_for_nil_elements(elements):\n",
    "    return []\n",
    "\n",
    "def get_records_for_financial_elements(elements):\n",
    "    \"\"\"Financial record having the columns of get_financial_element_columns\"\"\"\n",
    "    # assert isinstance(elements, bs4.element.ResultSet) or isinstance(elements[0], bs4.element.Tag)\n",
    "    assert_bf4_tag(elements[0])\n",
    "    \n",
    "    results = []\n",
    "    for element in elements:\n",
    "        # F/S\n",
    "        element_fs = \"\"\n",
    "        \n",
    "        # Rep\n",
    "        element_rep = \"\"\n",
    "        \n",
    "        # Type of the element\n",
    "        element_type = None\n",
    "        if element.name in GAAP_DEBIT_ITEMS: element_type = FS_ELEMENT_TYPE_DEBIT\n",
    "        if element.name in GAAP_CREDIT_ITEMS: element_type = FS_ELEMENT_TYPE_CREDIT\n",
    "        if element.name in GAAP_CALC_ITEMS: element_type = FS_ELEMENT_TYPE_CALC\n",
    "        if element.name in GAAP_METRIC_ITEMS: element_type = FS_ELEMENT_TYPE_METRIC\n",
    "        if element.name in GAAP_FACT_ITEMS: element_type = FS_ELEMENT_TYPE_FACT\n",
    "            \n",
    "        \n",
    "        # Name of the financial element\n",
    "        element_name = element.name\n",
    "        \n",
    "        # Unit of the financial element\n",
    "        element_unit = element['unitref']\n",
    "        \n",
    "        # Scale of the element\n",
    "        element_scale = int(element['decimals']) if element['decimals'].lower() != 'inf' else np.inf\n",
    "            \n",
    "        # Value of the element\n",
    "        element_value = float(element.text)\n",
    "\n",
    "        # Context ID of the element\n",
    "        element_context = element['contextref']\n",
    "\n",
    "        record = [\n",
    "            element_fs,\n",
    "            element_rep,\n",
    "            element_type,\n",
    "            element_name,\n",
    "            element_value, \n",
    "            element_unit, \n",
    "            element_scale, \n",
    "            element_context\n",
    "        ]\n",
    "        assert len(record) == len(get_financial_element_columns())\n",
    "        results.append(record)\n",
    "        \n",
    "    return results\n",
    "\n",
    "\n",
    "def represents(records: list, fs: str, rep: str):\n",
    "    assert isinstance(records, list) and len(fs) > 0 and len(rep) > 0\n",
    "    if len(records) > 0:\n",
    "        row = records[0]\n",
    "        row[0] = fs\n",
    "        row[1] = rep\n",
    "    \n",
    "    return records"
   ]
  },
  {
   "cell_type": "code",
   "execution_count": 41,
   "id": "e6fabee2",
   "metadata": {},
   "outputs": [],
   "source": [
    "def get_records_for_financial_element_names(soup, names: List[str]):\n",
    "    \"\"\"Get finacial records that matches the financial element names\n",
    "    \"\"\"\n",
    "    elements = find_financial_elements(soup=soup, element_names=names)\n",
    "    if len(elements) > 0:\n",
    "        display_elements(elements)\n",
    "        return get_records_for_financial_elements(elements)\n",
    "    else:\n",
    "        return get_record_for_nil_elements(elements)"
   ]
  },
  {
   "cell_type": "code",
   "execution_count": 42,
   "id": "190f39c0",
   "metadata": {},
   "outputs": [],
   "source": [
    "def get_values_for_financial_element_names(soup, names: List[str]):\n",
    "    elements = find_financial_elements(soup=soup, element_names=names)\n",
    "    if len(elements) > 0:\n",
    "        display_elements(elements)\n",
    "        return get_financial_element_numeric_values(elements)\n",
    "    else:\n",
    "        return []"
   ]
  },
  {
   "cell_type": "markdown",
   "id": "5c0233d8",
   "metadata": {},
   "source": [
    "---\n",
    "# Shares Outstanding"
   ]
  },
  {
   "cell_type": "code",
   "execution_count": 43,
   "id": "cc657c72",
   "metadata": {},
   "outputs": [],
   "source": [
    "def get_shares_outstanding(soup):\n",
    "    names = re.compile(\"|\".join([\n",
    "        rf\"{NAMESPACE_GAAP}:SharesOutstanding\",\n",
    "        rf\"{NAMESPACE_GAAP}:CommonStockSharesOutstanding\",\n",
    "        rf\"{NAMESPACE_GAAP}:CommonStockOtherSharesOutstanding\",\n",
    "    ]).lower())\n",
    "\n",
    "    return get_records_for_financial_element_names(soup=soup, names=names)"
   ]
  },
  {
   "cell_type": "code",
   "execution_count": 44,
   "id": "37d26480",
   "metadata": {},
   "outputs": [
    {
     "name": "stdout",
     "output_type": "stream",
     "text": [
      "us-gaap:commonstocksharesoutstanding                                             shares -3    244190000      \n"
     ]
    },
    {
     "data": {
      "text/plain": [
       "[['',\n",
       "  '',\n",
       "  'fact',\n",
       "  'us-gaap:commonstocksharesoutstanding',\n",
       "  244190000.0,\n",
       "  'shares',\n",
       "  -3,\n",
       "  'i00aae6ee0447424d9c01fc5f8f3bd82d_I20210930']]"
      ]
     },
     "execution_count": 44,
     "metadata": {},
     "output_type": "execute_result"
    }
   ],
   "source": [
    "shares_outstandings = get_shares_outstanding(soup)\n",
    "shares_outstandings"
   ]
  },
  {
   "cell_type": "code",
   "execution_count": 45,
   "id": "caba0959",
   "metadata": {},
   "outputs": [
    {
     "data": {
      "text/html": [
       "<div>\n",
       "<style scoped>\n",
       "    .dataframe tbody tr th:only-of-type {\n",
       "        vertical-align: middle;\n",
       "    }\n",
       "\n",
       "    .dataframe tbody tr th {\n",
       "        vertical-align: top;\n",
       "    }\n",
       "\n",
       "    .dataframe thead th {\n",
       "        text-align: right;\n",
       "    }\n",
       "</style>\n",
       "<table border=\"1\" class=\"dataframe\">\n",
       "  <thead>\n",
       "    <tr style=\"text-align: center;\">\n",
       "      <th></th>\n",
       "      <th>0</th>\n",
       "      <th>1</th>\n",
       "      <th>2</th>\n",
       "      <th>3</th>\n",
       "      <th>4</th>\n",
       "      <th>5</th>\n",
       "      <th>6</th>\n",
       "      <th>7</th>\n",
       "    </tr>\n",
       "  </thead>\n",
       "  <tbody>\n",
       "    <tr>\n",
       "      <th>0</th>\n",
       "      <td></td>\n",
       "      <td></td>\n",
       "      <td>fact</td>\n",
       "      <td>us-gaap:commonstocksharesoutstanding</td>\n",
       "      <td>244190000</td>\n",
       "      <td>shares</td>\n",
       "      <td>-3</td>\n",
       "      <td>i00aae6ee0447424d9c01fc5f8f3bd82d_I20210930</td>\n",
       "    </tr>\n",
       "  </tbody>\n",
       "</table>\n",
       "</div>"
      ],
      "text/plain": [
       "  0 1   2                     3                        4       5     6  \\\n",
       "0      fact  us-gaap:commonstocksharesoutstanding 244190000  shares -3   \n",
       "\n",
       "                       7                        \n",
       "0  i00aae6ee0447424d9c01fc5f8f3bd82d_I20210930  "
      ]
     },
     "execution_count": 45,
     "metadata": {},
     "output_type": "execute_result"
    }
   ],
   "source": [
    "df_ShareOutstanding = pd.DataFrame(shares_outstandings)\n",
    "df_ShareOutstanding"
   ]
  },
  {
   "cell_type": "markdown",
   "id": "e26002ef",
   "metadata": {},
   "source": [
    "---\n",
    "# Statements of Income (P/L)"
   ]
  },
  {
   "cell_type": "code",
   "execution_count": 46,
   "id": "e8e1ddf9",
   "metadata": {},
   "outputs": [],
   "source": [
    "PL = []"
   ]
  },
  {
   "cell_type": "markdown",
   "id": "efc28ac0",
   "metadata": {},
   "source": [
    "## Revenues"
   ]
  },
  {
   "cell_type": "code",
   "execution_count": 47,
   "id": "8b3536ab",
   "metadata": {},
   "outputs": [],
   "source": [
    "PL += get_pl_revenues(soup, attributes=ATTRIBUTES)\n",
    "PL += get_pl_revenue_other(soup, attributes=ATTRIBUTES)\n",
    "PL += get_pl_income_interest(soup, attributes=ATTRIBUTES)\n",
    "PL += get_pl_income_other(soup, attributes=ATTRIBUTES)"
   ]
  },
  {
   "cell_type": "code",
   "execution_count": 48,
   "id": "1cac8cff",
   "metadata": {},
   "outputs": [
    {
     "data": {
      "text/plain": [
       "[['pl',\n",
       "  'revenue',\n",
       "  'credit',\n",
       "  'us-gaap:revenues',\n",
       "  1681000000,\n",
       "  'usd',\n",
       "  -3,\n",
       "  'icb4fe7b89cc949678c0215fb0c6c75ed_D20210701-20210930'],\n",
       " ['',\n",
       "  '',\n",
       "  'credit',\n",
       "  'us-gaap:revenuefromcontractwithcustomerexcludingassessedtax',\n",
       "  1235753000,\n",
       "  'usd',\n",
       "  -3,\n",
       "  'i6546f5d3fe1e4db2af98357deb902bcd_D20210701-20210930']]"
      ]
     },
     "execution_count": 48,
     "metadata": {},
     "output_type": "execute_result"
    }
   ],
   "source": [
    "get_pl_revenues(soup, attributes=ATTRIBUTES)"
   ]
  },
  {
   "cell_type": "markdown",
   "id": "b0ab1b3c",
   "metadata": {},
   "source": [
    "## Cost of Revenues"
   ]
  },
  {
   "cell_type": "code",
   "execution_count": 49,
   "id": "4d976b40",
   "metadata": {},
   "outputs": [],
   "source": [
    "PL += get_pl_cost_of_revenues(soup, attributes=ATTRIBUTES)"
   ]
  },
  {
   "cell_type": "markdown",
   "id": "ce53e123",
   "metadata": {},
   "source": [
    "## ***___# Gross Profit___***"
   ]
  },
  {
   "cell_type": "code",
   "execution_count": 50,
   "id": "dd3629c0",
   "metadata": {},
   "outputs": [],
   "source": [
    "PL += get_pl_gross_profit(soup, attributes=ATTRIBUTES)"
   ]
  },
  {
   "cell_type": "markdown",
   "id": "b01793a9",
   "metadata": {},
   "source": [
    "## Operating Expenses"
   ]
  },
  {
   "cell_type": "markdown",
   "id": "c53bcb56",
   "metadata": {},
   "source": [
    "### Research and Development"
   ]
  },
  {
   "cell_type": "code",
   "execution_count": 51,
   "id": "c6f743ca",
   "metadata": {},
   "outputs": [],
   "source": [
    "PL += get_pl_operating_expense_r_and_d(soup, attributes=ATTRIBUTES)"
   ]
  },
  {
   "cell_type": "markdown",
   "id": "1eecae84",
   "metadata": {},
   "source": [
    "### Administrative Expense"
   ]
  },
  {
   "cell_type": "code",
   "execution_count": 52,
   "id": "1c946365",
   "metadata": {},
   "outputs": [],
   "source": [
    "PL += get_pl_operating_expense_selling_administrative(soup, attributes=ATTRIBUTES)"
   ]
  },
  {
   "cell_type": "markdown",
   "id": "8b6ebc6f",
   "metadata": {},
   "source": [
    "### Other operating expenses\n",
    "\n",
    "The total amount of other operating cost and expense items that are associated with the entity's normal revenue producing operation"
   ]
  },
  {
   "cell_type": "code",
   "execution_count": 53,
   "id": "efe30709",
   "metadata": {},
   "outputs": [],
   "source": [
    "PL += get_pl_operating_expense_other(soup, attributes=ATTRIBUTES)"
   ]
  },
  {
   "cell_type": "markdown",
   "id": "129ce993",
   "metadata": {},
   "source": [
    "## ***___# Total Operating Expenses___***"
   ]
  },
  {
   "cell_type": "code",
   "execution_count": 54,
   "id": "c8a6e74b",
   "metadata": {},
   "outputs": [],
   "source": [
    "PL += get_pl_operating_expense_total(soup, attributes=ATTRIBUTES)"
   ]
  },
  {
   "cell_type": "markdown",
   "id": "2592f2bf",
   "metadata": {},
   "source": [
    "## ***___# Operating Income___***\n",
    "\n",
    "```Operating Income = GrossProfit - Total Operating Expenses```"
   ]
  },
  {
   "cell_type": "code",
   "execution_count": 55,
   "id": "9a1b2d5e",
   "metadata": {},
   "outputs": [],
   "source": [
    "PL += get_pl_operating_income(soup, attributes=ATTRIBUTES)"
   ]
  },
  {
   "cell_type": "markdown",
   "id": "3d5374f9",
   "metadata": {},
   "source": [
    "## Non Operating Expenses"
   ]
  },
  {
   "cell_type": "markdown",
   "id": "f05a3d4c",
   "metadata": {},
   "source": [
    "### Interest Expense\n",
    "\n",
    "* [Investopedia - What Is an Interest Expense?](https://www.investopedia.com/terms/i/interestexpense.asp)\n",
    "\n",
    "> An interest expense is the cost incurred by an entity for borrowed funds. Interest expense is a non-operating expense shown on the income statement. It represents interest payable on any borrowings – bonds, loans, convertible debt or lines of credit. It is essentially calculated as the interest rate times the outstanding principal amount of the debt. Interest expense on the income statement represents ***interest accrued during the period*** covered by the financial statements, and **NOT the amount of interest paid over that period**. While interest expense is tax-deductible for companies, in an individual's case, it depends on his or her jurisdiction and also on the loan's purpose.  \n",
    ">\n",
    "> For most people, mortgage interest is the single-biggest category of interest expense over their lifetimes as interest can total tens of thousands of dollars over the life of a mortgage as illustrated by online calculators."
   ]
  },
  {
   "cell_type": "code",
   "execution_count": 56,
   "id": "1198f1d7",
   "metadata": {},
   "outputs": [],
   "source": [
    "PL += get_pl_non_operating_expense_interest(soup, attributes=ATTRIBUTES)"
   ]
  },
  {
   "cell_type": "markdown",
   "id": "eec656b1",
   "metadata": {},
   "source": [
    "### Non-operating Expenses"
   ]
  },
  {
   "cell_type": "code",
   "execution_count": 57,
   "id": "0142cfbd",
   "metadata": {},
   "outputs": [],
   "source": [
    "PL += get_pl_non_operating_expense_other(soup, attributes=ATTRIBUTES)"
   ]
  },
  {
   "cell_type": "markdown",
   "id": "ba7e6c8b",
   "metadata": {},
   "source": [
    "## Income Tax"
   ]
  },
  {
   "cell_type": "code",
   "execution_count": 58,
   "id": "7711f66c",
   "metadata": {},
   "outputs": [],
   "source": [
    "PL += get_pl_income_tax(soup, attributes=ATTRIBUTES)"
   ]
  },
  {
   "cell_type": "markdown",
   "id": "6c85dd7a",
   "metadata": {},
   "source": [
    "## ***___# Net Income___***\n",
    "\n",
    "$GrossProfit - (Operating Expenses + NonOperating Expense) - Tax$"
   ]
  },
  {
   "cell_type": "code",
   "execution_count": 59,
   "id": "42d2ba67",
   "metadata": {},
   "outputs": [],
   "source": [
    "PL += get_pl_net_income(soup, attributes=ATTRIBUTES)"
   ]
  },
  {
   "cell_type": "markdown",
   "id": "81ca2fc8",
   "metadata": {},
   "source": [
    "## ***___# Shares Outstandings___***"
   ]
  },
  {
   "cell_type": "code",
   "execution_count": 60,
   "id": "653941e5",
   "metadata": {},
   "outputs": [],
   "source": [
    "PL += get_pl_shares_outstanding(soup, attributes=ATTRIBUTES)"
   ]
  },
  {
   "cell_type": "markdown",
   "id": "19769059",
   "metadata": {},
   "source": [
    "## ***___# Net Income Per Share___***\n",
    "\n",
    "* [US GAAP - Is Net Income Per Share the same with EPS?](https://money.stackexchange.com/questions/148015/us-gaap-is-net-income-per-share-the-same-with-eps)"
   ]
  },
  {
   "cell_type": "code",
   "execution_count": 61,
   "id": "8682c53a",
   "metadata": {},
   "outputs": [],
   "source": [
    "def get_pl_eps(soup):\n",
    "    return get_records_for_financial_element_names(\n",
    "        soup=soup, names=f\"{NAMESPACE_GAAP}:EarningsPerShareBasic\".lower()\n",
    "    ) + \\\n",
    "    get_records_for_financial_element_names(\n",
    "        soup=soup, names=f\"{NAMESPACE_GAAP}:EarningsPerShareBasicAndDiluted\".lower()\n",
    "    )"
   ]
  },
  {
   "cell_type": "code",
   "execution_count": 62,
   "id": "244f2951",
   "metadata": {},
   "outputs": [
    {
     "name": "stdout",
     "output_type": "stream",
     "text": [
      "us-gaap:earningspersharebasic                                                    usdPerShare 2     0.74           \n"
     ]
    }
   ],
   "source": [
    "PL += represents(get_pl_eps(soup), fs=FS_PL, rep=FS_ELEMENT_REP_EPS)"
   ]
  },
  {
   "cell_type": "markdown",
   "id": "2127021b",
   "metadata": {},
   "source": [
    "## Display P/L\n",
    "\n",
    "Is ```us-gaap:othernonoperatingincomeexpense``` credit or debit? As the value is **negative** and so is in the Income Statement, is shoudl be credit -> To be confirmed. "
   ]
  },
  {
   "cell_type": "code",
   "execution_count": 63,
   "id": "f50ffa38",
   "metadata": {},
   "outputs": [
    {
     "data": {
      "text/html": [
       "<div>\n",
       "<style scoped>\n",
       "    .dataframe tbody tr th:only-of-type {\n",
       "        vertical-align: middle;\n",
       "    }\n",
       "\n",
       "    .dataframe tbody tr th {\n",
       "        vertical-align: top;\n",
       "    }\n",
       "\n",
       "    .dataframe thead th {\n",
       "        text-align: right;\n",
       "    }\n",
       "</style>\n",
       "<table border=\"1\" class=\"dataframe\">\n",
       "  <thead>\n",
       "    <tr style=\"text-align: center;\">\n",
       "      <th></th>\n",
       "      <th>fs</th>\n",
       "      <th>rep</th>\n",
       "      <th>type</th>\n",
       "      <th>name</th>\n",
       "      <th>value</th>\n",
       "      <th>unit</th>\n",
       "      <th>decimals</th>\n",
       "      <th>context</th>\n",
       "    </tr>\n",
       "  </thead>\n",
       "  <tbody>\n",
       "    <tr>\n",
       "      <th>0</th>\n",
       "      <td>pl</td>\n",
       "      <td>revenue</td>\n",
       "      <td>credit</td>\n",
       "      <td>us-gaap:revenues</td>\n",
       "      <td>1681000000</td>\n",
       "      <td>usd</td>\n",
       "      <td>-3</td>\n",
       "      <td>icb4fe7b89cc949678c0215fb0c6c75ed_D20210701-20210930</td>\n",
       "    </tr>\n",
       "    <tr>\n",
       "      <th>1</th>\n",
       "      <td></td>\n",
       "      <td></td>\n",
       "      <td>credit</td>\n",
       "      <td>us-gaap:revenuefromcontractwithcustomerexcludingassessedtax</td>\n",
       "      <td>1235753000</td>\n",
       "      <td>usd</td>\n",
       "      <td>-3</td>\n",
       "      <td>i6546f5d3fe1e4db2af98357deb902bcd_D20210701-20210930</td>\n",
       "    </tr>\n",
       "    <tr>\n",
       "      <th>2</th>\n",
       "      <td>pl</td>\n",
       "      <td>operating_cost</td>\n",
       "      <td>debit</td>\n",
       "      <td>us-gaap:costofgoodsandservicessold</td>\n",
       "      <td>1356168000</td>\n",
       "      <td>usd</td>\n",
       "      <td>-3</td>\n",
       "      <td>icb4fe7b89cc949678c0215fb0c6c75ed_D20210701-20210930</td>\n",
       "    </tr>\n",
       "    <tr>\n",
       "      <th>3</th>\n",
       "      <td>pl</td>\n",
       "      <td>gross_profit</td>\n",
       "      <td>calc</td>\n",
       "      <td>us-gaap:grossprofit</td>\n",
       "      <td>324832000</td>\n",
       "      <td>usd</td>\n",
       "      <td>-3</td>\n",
       "      <td>icb4fe7b89cc949678c0215fb0c6c75ed_D20210701-20210930</td>\n",
       "    </tr>\n",
       "    <tr>\n",
       "      <th>4</th>\n",
       "      <td>pl</td>\n",
       "      <td>operating_expense_rd</td>\n",
       "      <td>debit</td>\n",
       "      <td>us-gaap:researchanddevelopmentexpense</td>\n",
       "      <td>40790000</td>\n",
       "      <td>usd</td>\n",
       "      <td>-3</td>\n",
       "      <td>icb4fe7b89cc949678c0215fb0c6c75ed_D20210701-20210930</td>\n",
       "    </tr>\n",
       "    <tr>\n",
       "      <th>5</th>\n",
       "      <td>pl</td>\n",
       "      <td>operating_expense_sga</td>\n",
       "      <td>debit</td>\n",
       "      <td>us-gaap:sellinggeneralandadministrativeexpense</td>\n",
       "      <td>72581000</td>\n",
       "      <td>usd</td>\n",
       "      <td>-3</td>\n",
       "      <td>icb4fe7b89cc949678c0215fb0c6c75ed_D20210701-20210930</td>\n",
       "    </tr>\n",
       "    <tr>\n",
       "      <th>6</th>\n",
       "      <td>pl</td>\n",
       "      <td>operating_expense</td>\n",
       "      <td>calc</td>\n",
       "      <td>us-gaap:operatingexpenses</td>\n",
       "      <td>113371000</td>\n",
       "      <td>usd</td>\n",
       "      <td>-3</td>\n",
       "      <td>icb4fe7b89cc949678c0215fb0c6c75ed_D20210701-20210930</td>\n",
       "    </tr>\n",
       "    <tr>\n",
       "      <th>7</th>\n",
       "      <td>pl</td>\n",
       "      <td>operating_income</td>\n",
       "      <td>calc</td>\n",
       "      <td>us-gaap:operatingincomeloss</td>\n",
       "      <td>211461000</td>\n",
       "      <td>usd</td>\n",
       "      <td>-3</td>\n",
       "      <td>icb4fe7b89cc949678c0215fb0c6c75ed_D20210701-20210930</td>\n",
       "    </tr>\n",
       "    <tr>\n",
       "      <th>8</th>\n",
       "      <td></td>\n",
       "      <td></td>\n",
       "      <td>debit</td>\n",
       "      <td>us-gaap:interestexpense</td>\n",
       "      <td>12896000</td>\n",
       "      <td>usd</td>\n",
       "      <td>-3</td>\n",
       "      <td>icb4fe7b89cc949678c0215fb0c6c75ed_D20210701-20210930</td>\n",
       "    </tr>\n",
       "    <tr>\n",
       "      <th>9</th>\n",
       "      <td></td>\n",
       "      <td></td>\n",
       "      <td>credit</td>\n",
       "      <td>us-gaap:othernonoperatingincomeexpense</td>\n",
       "      <td>501000</td>\n",
       "      <td>usd</td>\n",
       "      <td>-3</td>\n",
       "      <td>icb4fe7b89cc949678c0215fb0c6c75ed_D20210701-20210930</td>\n",
       "    </tr>\n",
       "    <tr>\n",
       "      <th>10</th>\n",
       "      <td>pl</td>\n",
       "      <td>tax</td>\n",
       "      <td>debit</td>\n",
       "      <td>us-gaap:incometaxexpensebenefit</td>\n",
       "      <td>17219000</td>\n",
       "      <td>usd</td>\n",
       "      <td>-3</td>\n",
       "      <td>icb4fe7b89cc949678c0215fb0c6c75ed_D20210701-20210930</td>\n",
       "    </tr>\n",
       "    <tr>\n",
       "      <th>11</th>\n",
       "      <td>pl</td>\n",
       "      <td>net_income</td>\n",
       "      <td>calc</td>\n",
       "      <td>us-gaap:profitloss</td>\n",
       "      <td>181847000</td>\n",
       "      <td>usd</td>\n",
       "      <td>-3</td>\n",
       "      <td>icb4fe7b89cc949678c0215fb0c6c75ed_D20210701-20210930</td>\n",
       "    </tr>\n",
       "    <tr>\n",
       "      <th>12</th>\n",
       "      <td></td>\n",
       "      <td></td>\n",
       "      <td>calc</td>\n",
       "      <td>us-gaap:netincomeloss</td>\n",
       "      <td>180854000</td>\n",
       "      <td>usd</td>\n",
       "      <td>-3</td>\n",
       "      <td>icb4fe7b89cc949678c0215fb0c6c75ed_D20210701-20210930</td>\n",
       "    </tr>\n",
       "    <tr>\n",
       "      <th>13</th>\n",
       "      <td>pl</td>\n",
       "      <td>shares_outstanding</td>\n",
       "      <td>fact</td>\n",
       "      <td>us-gaap:commonstocksharesoutstanding</td>\n",
       "      <td>244190000</td>\n",
       "      <td>shares</td>\n",
       "      <td>-3</td>\n",
       "      <td>i00aae6ee0447424d9c01fc5f8f3bd82d_I20210930</td>\n",
       "    </tr>\n",
       "    <tr>\n",
       "      <th>14</th>\n",
       "      <td>pl</td>\n",
       "      <td>eps</td>\n",
       "      <td>metric</td>\n",
       "      <td>us-gaap:earningspersharebasic</td>\n",
       "      <td>0.74</td>\n",
       "      <td>usdPerShare</td>\n",
       "      <td>2</td>\n",
       "      <td>icb4fe7b89cc949678c0215fb0c6c75ed_D20210701-20210930</td>\n",
       "    </tr>\n",
       "  </tbody>\n",
       "</table>\n",
       "</div>"
      ],
      "text/plain": [
       "    fs          rep             type   \\\n",
       "0   pl                revenue  credit   \n",
       "1                              credit   \n",
       "2   pl         operating_cost   debit   \n",
       "3   pl           gross_profit    calc   \n",
       "4   pl   operating_expense_rd   debit   \n",
       "5   pl  operating_expense_sga   debit   \n",
       "6   pl      operating_expense    calc   \n",
       "7   pl       operating_income    calc   \n",
       "8                               debit   \n",
       "9                              credit   \n",
       "10  pl                    tax   debit   \n",
       "11  pl             net_income    calc   \n",
       "12                               calc   \n",
       "13  pl     shares_outstanding    fact   \n",
       "14  pl                    eps  metric   \n",
       "\n",
       "                               name                                value    \\\n",
       "0                                              us-gaap:revenues 1681000000   \n",
       "1   us-gaap:revenuefromcontractwithcustomerexcludingassessedtax 1235753000   \n",
       "2                            us-gaap:costofgoodsandservicessold 1356168000   \n",
       "3                                           us-gaap:grossprofit  324832000   \n",
       "4                         us-gaap:researchanddevelopmentexpense   40790000   \n",
       "5                us-gaap:sellinggeneralandadministrativeexpense   72581000   \n",
       "6                                     us-gaap:operatingexpenses  113371000   \n",
       "7                                   us-gaap:operatingincomeloss  211461000   \n",
       "8                                       us-gaap:interestexpense   12896000   \n",
       "9                        us-gaap:othernonoperatingincomeexpense     501000   \n",
       "10                              us-gaap:incometaxexpensebenefit   17219000   \n",
       "11                                           us-gaap:profitloss  181847000   \n",
       "12                                        us-gaap:netincomeloss  180854000   \n",
       "13                         us-gaap:commonstocksharesoutstanding  244190000   \n",
       "14                                us-gaap:earningspersharebasic       0.74   \n",
       "\n",
       "       unit      decimals  \\\n",
       "0           usd     -3      \n",
       "1           usd     -3      \n",
       "2           usd     -3      \n",
       "3           usd     -3      \n",
       "4           usd     -3      \n",
       "5           usd     -3      \n",
       "6           usd     -3      \n",
       "7           usd     -3      \n",
       "8           usd     -3      \n",
       "9           usd     -3      \n",
       "10          usd     -3      \n",
       "11          usd     -3      \n",
       "12          usd     -3      \n",
       "13       shares     -3      \n",
       "14  usdPerShare      2      \n",
       "\n",
       "                          context                         \n",
       "0   icb4fe7b89cc949678c0215fb0c6c75ed_D20210701-20210930  \n",
       "1   i6546f5d3fe1e4db2af98357deb902bcd_D20210701-20210930  \n",
       "2   icb4fe7b89cc949678c0215fb0c6c75ed_D20210701-20210930  \n",
       "3   icb4fe7b89cc949678c0215fb0c6c75ed_D20210701-20210930  \n",
       "4   icb4fe7b89cc949678c0215fb0c6c75ed_D20210701-20210930  \n",
       "5   icb4fe7b89cc949678c0215fb0c6c75ed_D20210701-20210930  \n",
       "6   icb4fe7b89cc949678c0215fb0c6c75ed_D20210701-20210930  \n",
       "7   icb4fe7b89cc949678c0215fb0c6c75ed_D20210701-20210930  \n",
       "8   icb4fe7b89cc949678c0215fb0c6c75ed_D20210701-20210930  \n",
       "9   icb4fe7b89cc949678c0215fb0c6c75ed_D20210701-20210930  \n",
       "10  icb4fe7b89cc949678c0215fb0c6c75ed_D20210701-20210930  \n",
       "11  icb4fe7b89cc949678c0215fb0c6c75ed_D20210701-20210930  \n",
       "12  icb4fe7b89cc949678c0215fb0c6c75ed_D20210701-20210930  \n",
       "13           i00aae6ee0447424d9c01fc5f8f3bd82d_I20210930  \n",
       "14  icb4fe7b89cc949678c0215fb0c6c75ed_D20210701-20210930  "
      ]
     },
     "execution_count": 63,
     "metadata": {},
     "output_type": "execute_result"
    }
   ],
   "source": [
    "df_PL = pd.DataFrame(PL, columns=get_financial_element_columns())\n",
    "df_PL"
   ]
  },
  {
   "cell_type": "code",
   "execution_count": 64,
   "id": "186efae1",
   "metadata": {},
   "outputs": [
    {
     "data": {
      "text/plain": [
       "2917254000.0"
      ]
     },
     "execution_count": 64,
     "metadata": {},
     "output_type": "execute_result"
    }
   ],
   "source": [
    "credits = df_PL[df_PL['type'] == 'credit']['value'].sum()\n",
    "credits"
   ]
  },
  {
   "cell_type": "code",
   "execution_count": 65,
   "id": "ef85388d",
   "metadata": {},
   "outputs": [
    {
     "data": {
      "text/plain": [
       "1499654000.0"
      ]
     },
     "execution_count": 65,
     "metadata": {},
     "output_type": "execute_result"
    }
   ],
   "source": [
    "debits = df_PL[df_PL['type'] == 'debit']['value'].sum()\n",
    "debits"
   ]
  },
  {
   "cell_type": "code",
   "execution_count": 66,
   "id": "011c5966",
   "metadata": {},
   "outputs": [
    {
     "data": {
      "text/plain": [
       "1417600000.0"
      ]
     },
     "execution_count": 66,
     "metadata": {},
     "output_type": "execute_result"
    }
   ],
   "source": [
    "credits - debits  # Equal to the Net Income"
   ]
  },
  {
   "cell_type": "markdown",
   "id": "21557bda",
   "metadata": {},
   "source": [
    "### EPS"
   ]
  },
  {
   "cell_type": "code",
   "execution_count": 67,
   "id": "2bce7feb",
   "metadata": {},
   "outputs": [
    {
     "data": {
      "text/plain": [
       "244190000.0"
      ]
     },
     "execution_count": 67,
     "metadata": {},
     "output_type": "execute_result"
    }
   ],
   "source": [
    "shares = df_PL[df_PL['rep'] == FS_ELEMENT_REP_SHARES_OUTSTANDING]\n",
    "if len(shares) == 1:\n",
    "    num_shares = shares['value'].values.item()\n",
    "else:\n",
    "    assert False, f\"No Shares OutStanding row found {df_PL}\"\n",
    "\n",
    "num_shares"
   ]
  },
  {
   "cell_type": "code",
   "execution_count": 68,
   "id": "2dbd1dd7",
   "metadata": {},
   "outputs": [
    {
     "data": {
      "text/plain": [
       "181847000.0"
      ]
     },
     "execution_count": 68,
     "metadata": {},
     "output_type": "execute_result"
    }
   ],
   "source": [
    "shares = df_PL[df_PL['rep'] == FS_ELEMENT_REP_NET_INCOME]\n",
    "if len(shares) == 1:\n",
    "    net_income = shares['value'].item()\n",
    "else:\n",
    "    assert False, f\"No Net Income row found {df_PL}\"\n",
    "\n",
    "net_income"
   ]
  },
  {
   "cell_type": "code",
   "execution_count": 69,
   "id": "d840fb86",
   "metadata": {},
   "outputs": [
    {
     "name": "stdout",
     "output_type": "stream",
     "text": [
      "0.74\n"
     ]
    }
   ],
   "source": [
    "eps = net_income / num_shares\n",
    "scale = 2\n",
    "print(f\"{eps:.{scale}f}\")"
   ]
  },
  {
   "cell_type": "markdown",
   "id": "cda92206",
   "metadata": {},
   "source": [
    "---\n",
    "# Balance Sheet (B/S)"
   ]
  },
  {
   "cell_type": "code",
   "execution_count": 70,
   "id": "3ac1d0b8",
   "metadata": {},
   "outputs": [],
   "source": [
    "BS = []"
   ]
  },
  {
   "cell_type": "markdown",
   "id": "9fdf4d66",
   "metadata": {},
   "source": [
    "## Cash & Cash Equivalents\n",
    "\n",
    "Look for the cash and cash equivalents for the reporting perid in the Balance Sheet and Cash Flow statements of the  10-K."
   ]
  },
  {
   "cell_type": "code",
   "execution_count": 71,
   "id": "77b79406",
   "metadata": {},
   "outputs": [
    {
     "name": "stdout",
     "output_type": "stream",
     "text": [
      "us-gaap:cashandcashequivalentsatcarryingvalue                                    usd   -3    545592000      \n"
     ]
    }
   ],
   "source": [
    "def get_bs_current_asset_cash_and_equivalents(soup):\n",
    "    names = re.compile(\"|\".join([\n",
    "        rf\"^{NAMESPACE_GAAP}:CashAndCashEquivalentsAtCarryingValue$\",\n",
    "    ]).lower())\n",
    "    return represents(get_records_for_financial_element_names(soup=soup, names=names), fs=FS_BS, rep=FS_ELEMENT_REP_CASH)\n",
    "\n",
    "BS += get_bs_current_asset_cash_and_equivalents(soup)"
   ]
  },
  {
   "cell_type": "markdown",
   "id": "e28c80a7",
   "metadata": {},
   "source": [
    "## Restricted Cash"
   ]
  },
  {
   "cell_type": "code",
   "execution_count": 72,
   "id": "0033637f",
   "metadata": {},
   "outputs": [
    {
     "name": "stdout",
     "output_type": "stream",
     "text": [
      "us-gaap:restrictedcashandcashequivalentsatcarryingvalue                          usd   -3    929000         \n"
     ]
    }
   ],
   "source": [
    "def get_bs_current_asset_restricted_cash_and_equivalents(soup):\n",
    "    names = re.compile(\"|\".join([\n",
    "        rf\"^{NAMESPACE_GAAP}:RestrictedCashEquivalentsCurrent$\",\n",
    "        rf\"^{NAMESPACE_GAAP}:RestrictedCashAndCashEquivalentsAtCarryingValue$\",\n",
    "    ]).lower())\n",
    "    return get_records_for_financial_element_names(soup=soup, names=names)\n",
    "\n",
    "BS += get_bs_current_asset_restricted_cash_and_equivalents(soup)"
   ]
  },
  {
   "cell_type": "markdown",
   "id": "768bf159",
   "metadata": {},
   "source": [
    "## Short Term Investments"
   ]
  },
  {
   "cell_type": "code",
   "execution_count": 73,
   "id": "cf3f9b93",
   "metadata": {},
   "outputs": [
    {
     "name": "stdout",
     "output_type": "stream",
     "text": [
      "us-gaap:shortterminvestments                                                     usd   -3    244470000      \n"
     ]
    }
   ],
   "source": [
    "def get_bs_current_asset_short_term_investments(soup):\n",
    "    names = re.compile(\"|\".join([\n",
    "        rf\"^{NAMESPACE_GAAP}:ShortTermInvestments$\",\n",
    "    ]).lower())\n",
    "    return get_records_for_financial_element_names(soup=soup, names=names)\n",
    "\n",
    "BS += get_bs_current_asset_short_term_investments(soup)"
   ]
  },
  {
   "cell_type": "markdown",
   "id": "81055bb2",
   "metadata": {},
   "source": [
    "## Account Receivable"
   ]
  },
  {
   "cell_type": "code",
   "execution_count": 74,
   "id": "6ef04cf2",
   "metadata": {},
   "outputs": [
    {
     "name": "stdout",
     "output_type": "stream",
     "text": [
      "us-gaap:accountsreceivablenetcurrent                                             usd   -3    1289617000     \n"
     ]
    }
   ],
   "source": [
    "def get_bs_current_asset_account_receivables(soup):\n",
    "    names = re.compile(\"|\".join([\n",
    "        rf\"^{NAMESPACE_GAAP}:ReceivablesNetCurrent$\",\n",
    "        rf\"^{NAMESPACE_GAAP}:AccountsReceivableNetCurrent$\",\n",
    "        rf\"^{NAMESPACE_GAAP}:OtherReceivables$\",\n",
    "    ]).lower())\n",
    "    return get_records_for_financial_element_names(soup=soup, names=names)\n",
    "\n",
    "BS += get_bs_current_asset_account_receivables(soup)"
   ]
  },
  {
   "cell_type": "markdown",
   "id": "bd50545b",
   "metadata": {},
   "source": [
    "## ***___Inventory___***"
   ]
  },
  {
   "cell_type": "code",
   "execution_count": 75,
   "id": "3de69eb8",
   "metadata": {},
   "outputs": [
    {
     "name": "stdout",
     "output_type": "stream",
     "text": [
      "us-gaap:inventorynet                                                             usd   -3    445918000      \n"
     ]
    }
   ],
   "source": [
    "def get_bs_current_asset_inventory(soup):\n",
    "    names = re.compile(\"|\".join([\n",
    "        rf\"^{NAMESPACE_GAAP}:InventoryNet$\",\n",
    "    ]).lower())\n",
    "    return get_records_for_financial_element_names(soup=soup, names=names)\n",
    "\n",
    "BS += get_bs_current_asset_inventory(soup)"
   ]
  },
  {
   "cell_type": "markdown",
   "id": "6805470b",
   "metadata": {},
   "source": [
    "## Prepaid Expense / Other Assets Current\n",
    "\n",
    "* [Understanding Prepaid Expenses](https://www.investopedia.com/terms/p/prepaidexpense.asp)\n",
    "\n",
    "> Companies make prepayments for goods or services such as leased office equipment or insurance coverage that provide continual benefits over time. Goods or services of this nature cannot be expensed immediately because the expense would not line up with the benefit incurred over time from using the asset.  \n",
    ">\n",
    "> According to generally accepted accounting principles (GAAP), expenses should be recorded in the same accounting period as the benefit generated from the related asset.\n",
    "\n",
    "* [us-gaap: PrepaidExpenseAndOtherAssetsCurrent](https://www.calcbench.com/element/PrepaidExpenseAndOtherAssetsCurrent)\n",
    "\n",
    "> Amount of asset related to consideration paid in advance for costs that provide economic benefits in future periods, and amount of other assets that are expected to be realized or consumed within one year or the normal operating cycle, if longer.\n",
    "\n",
    "* [Other Current Assets (OCA)](https://www.investopedia.com/terms/o/othercurrentassets.asp)\n",
    "\n",
    "> Other current assets (OCA) is a category of things of value that a company owns, benefits from, or uses to generate income that can be converted into cash within one business cycle. They are referred to as “other” because they are uncommon or insignificant, unlike typical current asset items such as cash, securities, accounts receivable, inventory, and prepaid expenses."
   ]
  },
  {
   "cell_type": "code",
   "execution_count": 76,
   "id": "3ae6b77f",
   "metadata": {},
   "outputs": [
    {
     "name": "stdout",
     "output_type": "stream",
     "text": [
      "us-gaap:otherassetscurrent                                                       usd   -3    48598000       \n",
      "us-gaap:operatingleaserightofuseasset                                            usd   -3    146210000      \n"
     ]
    }
   ],
   "source": [
    "def get_bs_current_asset_other(soup):\n",
    "    names = re.compile(\"|\".join([\n",
    "        rf\"^{NAMESPACE_GAAP}:PrepaidExpenseCurrent$\",\n",
    "        rf\"^{NAMESPACE_GAAP}:PrepaidExpenseAndOtherAssetsCurrent$\",\n",
    "        rf\"^{NAMESPACE_GAAP}:OperatingLeaseRightOfUseAsset$\",\n",
    "        rf\"^{NAMESPACE_GAAP}:OtherAssetsCurrent$\",\n",
    "    ]).lower())\n",
    "    return get_records_for_financial_element_names(soup=soup, names=names)\n",
    "\n",
    "BS += get_bs_current_asset_other(soup)"
   ]
  },
  {
   "cell_type": "markdown",
   "id": "c57ff4fd",
   "metadata": {},
   "source": [
    "## ***___# Current Assets___***"
   ]
  },
  {
   "cell_type": "code",
   "execution_count": 77,
   "id": "5bd8f856",
   "metadata": {},
   "outputs": [
    {
     "name": "stdout",
     "output_type": "stream",
     "text": [
      "us-gaap:assetscurrent                                                            usd   -3    2575124000     \n"
     ]
    }
   ],
   "source": [
    "def get_bs_current_assets(soup):\n",
    "    names = re.compile(\"|\".join([\n",
    "    rf\"^{NAMESPACE_GAAP}:AssetsCurrent$\",\n",
    "    ]).lower())\n",
    "    return represents(get_records_for_financial_element_names(soup=soup, names=names), fs=FS_BS, rep=FS_ELEMENT_REP_CURRENT_ASSETS)\n",
    "\n",
    "BS += get_bs_current_assets(soup)    "
   ]
  },
  {
   "cell_type": "markdown",
   "id": "63191882",
   "metadata": {},
   "source": [
    "## Property, Plant, Equipment"
   ]
  },
  {
   "cell_type": "code",
   "execution_count": 78,
   "id": "9b537385",
   "metadata": {},
   "outputs": [
    {
     "name": "stdout",
     "output_type": "stream",
     "text": [
      "us-gaap:propertyplantandequipmentnet                                             usd   -3    2901564000     \n"
     ]
    }
   ],
   "source": [
    "def get_bs_non_current_asset_property_and_equipment(soup):\n",
    "    names = re.compile(\"|\".join([\n",
    "    rf\"^{NAMESPACE_GAAP}:PropertyPlantAndEquipmentNet$\",\n",
    "    ]).lower())\n",
    "    return get_records_for_financial_element_names(soup=soup, names=names)\n",
    "\n",
    "BS += get_bs_non_current_asset_property_and_equipment(soup)"
   ]
  },
  {
   "cell_type": "code",
   "execution_count": 79,
   "id": "c26d1968",
   "metadata": {},
   "outputs": [],
   "source": [
    "## Restricted Cash Non Current"
   ]
  },
  {
   "cell_type": "code",
   "execution_count": 80,
   "id": "4feca817",
   "metadata": {},
   "outputs": [
    {
     "name": "stdout",
     "output_type": "stream",
     "text": [
      "us-gaap:restrictedcashandcashequivalentsnoncurrent                               usd   -3    3508000        \n"
     ]
    }
   ],
   "source": [
    "def get_bs_non_current_asset_restricted_cash_and_equivalent(soup):\n",
    "    names = re.compile(\"|\".join([\n",
    "        rf\"^{NAMESPACE_GAAP}:RestrictedCashAndCashEquivalentsNoncurrent$\",\n",
    "    ]).lower())\n",
    "    return get_records_for_financial_element_names(soup=soup, names=names)\n",
    "\n",
    "BS += get_bs_non_current_asset_restricted_cash_and_equivalent(soup)"
   ]
  },
  {
   "cell_type": "markdown",
   "id": "aaadbca2",
   "metadata": {},
   "source": [
    "## Deferred Tax"
   ]
  },
  {
   "cell_type": "code",
   "execution_count": 81,
   "id": "884c0514",
   "metadata": {},
   "outputs": [],
   "source": [
    "def get_bs_non_current_asset_deferred_income_tax(soup):\n",
    "    names = re.compile(\"|\".join([\n",
    "        rf\"^{NAMESPACE_GAAP}:DeferredIncomeTaxAssetsNet$\",\n",
    "    ]).lower())\n",
    "    return get_records_for_financial_element_names(soup=soup, names=names)\n",
    "\n",
    "BS += get_bs_non_current_asset_deferred_income_tax(soup)"
   ]
  },
  {
   "cell_type": "markdown",
   "id": "d3e00bef",
   "metadata": {},
   "source": [
    "## ***___GoodWill___***"
   ]
  },
  {
   "cell_type": "code",
   "execution_count": 82,
   "id": "665ed06f",
   "metadata": {},
   "outputs": [
    {
     "name": "stdout",
     "output_type": "stream",
     "text": [
      "us-gaap:goodwill                                                                 usd   -3    25351000       \n"
     ]
    }
   ],
   "source": [
    "def get_bs_non_current_asset_goodwill(soup):\n",
    "    names = re.compile(\"|\".join([\n",
    "        rf\"^{NAMESPACE_GAAP}:GoodWill$\",\n",
    "    ]).lower())\n",
    "    return get_records_for_financial_element_names(soup=soup, names=names)\n",
    "\n",
    "BS += get_bs_non_current_asset_goodwill(soup)"
   ]
  },
  {
   "cell_type": "markdown",
   "id": "35ab752c",
   "metadata": {},
   "source": [
    "## Intangible and Other Assets"
   ]
  },
  {
   "cell_type": "code",
   "execution_count": 83,
   "id": "7f995b84",
   "metadata": {},
   "outputs": [
    {
     "name": "stdout",
     "output_type": "stream",
     "text": [
      "us-gaap:otherassetsnoncurrent                                                    usd   -3    118691000      \n"
     ]
    }
   ],
   "source": [
    "def get_bs_non_current_asset_other(soup):\n",
    "    names = re.compile(\"|\".join([\n",
    "        rf\"^{NAMESPACE_GAAP}:IntangibleAssetsNetExcludingGoodwill$\",\n",
    "        rf\"^{NAMESPACE_GAAP}:OtherAssetsNoncurrent$\",\n",
    "    ]).lower())\n",
    "    return get_records_for_financial_element_names(soup=soup, names=names)\n",
    "\n",
    "BS += get_bs_non_current_asset_other(soup)"
   ]
  },
  {
   "cell_type": "markdown",
   "id": "8552d375",
   "metadata": {},
   "source": [
    "## ***___# Total Assets___***"
   ]
  },
  {
   "cell_type": "code",
   "execution_count": 84,
   "id": "68576556",
   "metadata": {},
   "outputs": [],
   "source": [
    "BS += get_bs_total_assets(soup, attributes=ATTRIBUTES)"
   ]
  },
  {
   "cell_type": "markdown",
   "id": "e61c6d90",
   "metadata": {},
   "source": [
    "## Account Payable\n",
    "\n",
    "* [Accounts Payable (AP)](https://www.investopedia.com/terms/a/accountspayable.asp)\n",
    "\n",
    "> company's obligation to pay off a short-term debt to its creditors or suppliers.\n",
    "\n",
    "\n",
    "\n",
    "* [Accrued Liability](https://www.investopedia.com/terms/a/accrued-liability.asp) (売掛金)\n",
    "\n",
    "> costs for goods and services already delivered to a company for which it must pay in the future. A company can accrue liabilities for any number of obligations and are recorded on the company's balance sheet. They are normally listed on the balance sheet as current liabilities and are adjusted at the end of an accounting period.\n",
    "\n",
    "\n",
    "* [us-gaap:AccruedLiabilitiesCurrent](http://xbrlsite.azurewebsites.net/2019/Prototype/references/us-gaap/Element-354.html)"
   ]
  },
  {
   "cell_type": "code",
   "execution_count": 85,
   "id": "2046baed",
   "metadata": {},
   "outputs": [],
   "source": [
    "BS += get_bs_current_liability_account_payable(soup, attributes=ATTRIBUTES)"
   ]
  },
  {
   "cell_type": "markdown",
   "id": "6c1fe183",
   "metadata": {},
   "source": [
    "## Tax"
   ]
  },
  {
   "cell_type": "code",
   "execution_count": 86,
   "id": "1dd6f3dc",
   "metadata": {},
   "outputs": [],
   "source": [
    "BS += get_bs_current_liability_tax(soup, attributes=ATTRIBUTES)"
   ]
  },
  {
   "cell_type": "markdown",
   "id": "27091965",
   "metadata": {},
   "source": [
    "## Debt Due"
   ]
  },
  {
   "cell_type": "code",
   "execution_count": 87,
   "id": "3b3780d7",
   "metadata": {},
   "outputs": [],
   "source": [
    "BS += get_bs_current_liability_longterm_debt(soup, attributes=ATTRIBUTES)"
   ]
  },
  {
   "cell_type": "markdown",
   "id": "4b256076",
   "metadata": {},
   "source": [
    "## ***___# Current Liabilities___***"
   ]
  },
  {
   "cell_type": "code",
   "execution_count": 88,
   "id": "5b002f6c",
   "metadata": {},
   "outputs": [
    {
     "data": {
      "text/plain": [
       "[['bs',\n",
       "  'current_liabilities',\n",
       "  'calc',\n",
       "  'us-gaap:liabilitiescurrent',\n",
       "  1738985000,\n",
       "  'usd',\n",
       "  -3,\n",
       "  'i00aae6ee0447424d9c01fc5f8f3bd82d_I20210930']]"
      ]
     },
     "execution_count": 88,
     "metadata": {},
     "output_type": "execute_result"
    }
   ],
   "source": [
    "get_bs_current_liabilities(soup, attributes=ATTRIBUTES)"
   ]
  },
  {
   "cell_type": "markdown",
   "id": "01081144",
   "metadata": {},
   "source": [
    "## Long Term Debt"
   ]
  },
  {
   "cell_type": "code",
   "execution_count": 89,
   "id": "7ee669cf",
   "metadata": {},
   "outputs": [],
   "source": [
    "BS += get_bs_non_current_liability_longterm_debt(soup, attributes=ATTRIBUTES)"
   ]
  },
  {
   "cell_type": "markdown",
   "id": "790ec01d",
   "metadata": {},
   "source": [
    "## Tax Deferred"
   ]
  },
  {
   "cell_type": "code",
   "execution_count": 90,
   "id": "2da2df11",
   "metadata": {},
   "outputs": [],
   "source": [
    "BS += get_bs_non_current_liability_deferred_tax(soup, attributes=ATTRIBUTES)"
   ]
  },
  {
   "cell_type": "markdown",
   "id": "f76ed4bd",
   "metadata": {},
   "source": [
    "## Other Long Term Liabilities\n",
    "\n",
    "* [Postemployment Benefits Liability, Noncurrent/us-gaap:PostemploymentBenefitsLiabilityNoncurrent](http://xbrlsite.azurewebsites.net/2019/Prototype/references/us-gaap/Element-12380.html)\n",
    "\n",
    "> The obligations recognized for the various benefits provided to former or inactive employees, their beneficiaries, and covered dependents after employment but before retirement that is payable after one year (or beyond the operating cycle if longer)."
   ]
  },
  {
   "cell_type": "code",
   "execution_count": 91,
   "id": "21376115",
   "metadata": {},
   "outputs": [],
   "source": [
    "BS += get_bs_non_current_liability_other(soup, attributes=ATTRIBUTES)"
   ]
  },
  {
   "cell_type": "markdown",
   "id": "48d1658c",
   "metadata": {},
   "source": [
    "## ***___# Total Liabilities___***"
   ]
  },
  {
   "cell_type": "code",
   "execution_count": 92,
   "id": "36441d35",
   "metadata": {},
   "outputs": [
    {
     "data": {
      "text/plain": [
       "[['bs',\n",
       "  'total_liabilities',\n",
       "  'calc',\n",
       "  'us-gaap:liabilities',\n",
       "  3010769000,\n",
       "  'usd',\n",
       "  -3,\n",
       "  'i00aae6ee0447424d9c01fc5f8f3bd82d_I20210930']]"
      ]
     },
     "execution_count": 92,
     "metadata": {},
     "output_type": "execute_result"
    }
   ],
   "source": [
    "get_bs_total_liabilities(soup, attributes=ATTRIBUTES)"
   ]
  },
  {
   "cell_type": "markdown",
   "id": "f4e91304",
   "metadata": {},
   "source": [
    "## Paid-in Capital\n",
    "\n",
    "* [Paid-In Capital](https://www.investopedia.com/terms/p/paidincapital.aspPaid-In Capital)\n",
    "\n",
    "> Paid-in capital represents the funds raised by the business through selling its equity and not from ongoing business operations. Paid-in capital also refers to a line item on the company's balance sheet listed under shareholders' equity (also referred to as stockholders' equity), often shown alongside the line item for additional paid-in capital.\n",
    "\n",
    "* [Additional Paid-In Capital (APIC)](https://www.investopedia.com/terms/a/additionalpaidincapital.asp)\n",
    "\n",
    "> Often referred to as \"contributed capital in excess of par,” APIC occurs when an investor buys newly-issued shares directly from a company during its initial public offering (IPO) stage. APIC, which is itemized under the shareholder equity (SE) section of a balance sheet, is viewed as a profit opportunity for companies as it results in them receiving excess cash from stockholders."
   ]
  },
  {
   "cell_type": "code",
   "execution_count": 93,
   "id": "d6ba718f",
   "metadata": {},
   "outputs": [],
   "source": [
    "BS += get_bs_stockholders_equity_paid_in(soup, attributes=ATTRIBUTES)"
   ]
  },
  {
   "cell_type": "markdown",
   "id": "ec4f4d40",
   "metadata": {},
   "source": [
    "## Retained Earnings\n",
    "\n",
    "* [Retained Earnings](https://www.investopedia.com/terms/r/retainedearnings.asp)\n",
    "\n",
    ">  The word \"retained\" captures the fact that because those earnings were **NOT paid out to shareholders as dividends** they were instead retained by the company."
   ]
  },
  {
   "cell_type": "code",
   "execution_count": 94,
   "id": "c58dc030",
   "metadata": {},
   "outputs": [],
   "source": [
    "BS += get_bs_stockholders_equity_retained(soup, attributes=ATTRIBUTES)"
   ]
  },
  {
   "cell_type": "markdown",
   "id": "244b6619",
   "metadata": {},
   "source": [
    "## Accumulated other comprehensive income/loss"
   ]
  },
  {
   "cell_type": "code",
   "execution_count": 95,
   "id": "87a31968",
   "metadata": {},
   "outputs": [],
   "source": [
    "BS += get_bs_stockholders_equity_other(soup, attributes=ATTRIBUTES)"
   ]
  },
  {
   "cell_type": "markdown",
   "id": "e215caa4",
   "metadata": {},
   "source": [
    "## ***___# Stockholder's Equity___***\n",
    "\n",
    "* [Stockholders' Equity](https://www.investopedia.com/terms/s/stockholdersequity.asp)\n",
    "\n",
    "> Remaining amount of assets available to shareholders after all liabilities have been paid. (純資産)"
   ]
  },
  {
   "cell_type": "code",
   "execution_count": 96,
   "id": "47c2a465",
   "metadata": {},
   "outputs": [
    {
     "data": {
      "text/plain": [
       "[['bs',\n",
       "  'stockholders_equity',\n",
       "  'calc',\n",
       "  'us-gaap:stockholdersequityincludingportionattributabletononcontrollinginterest',\n",
       "  2759679000,\n",
       "  'usd',\n",
       "  -3,\n",
       "  'i00aae6ee0447424d9c01fc5f8f3bd82d_I20210930'],\n",
       " ['',\n",
       "  '',\n",
       "  'calc',\n",
       "  'us-gaap:stockholdersequity',\n",
       "  2730013000,\n",
       "  'usd',\n",
       "  -3,\n",
       "  'i00aae6ee0447424d9c01fc5f8f3bd82d_I20210930']]"
      ]
     },
     "execution_count": 96,
     "metadata": {},
     "output_type": "execute_result"
    }
   ],
   "source": [
    "get_bs_stockholders_equity(soup, attributes=ATTRIBUTES)"
   ]
  },
  {
   "cell_type": "markdown",
   "id": "dc176cd2",
   "metadata": {},
   "source": [
    "## ***___# Total Liabilities + Stockholder's Equity___***"
   ]
  },
  {
   "cell_type": "code",
   "execution_count": 97,
   "id": "b1b94eee",
   "metadata": {},
   "outputs": [],
   "source": [
    "BS += get_bs_total_liabilities_and_stockholders_equity(soup, attributes=ATTRIBUTES)"
   ]
  },
  {
   "cell_type": "markdown",
   "id": "edccdd39",
   "metadata": {},
   "source": [
    "## Display B/S"
   ]
  },
  {
   "cell_type": "code",
   "execution_count": 98,
   "id": "5f12a608",
   "metadata": {
    "scrolled": true
   },
   "outputs": [
    {
     "data": {
      "text/html": [
       "<div>\n",
       "<style scoped>\n",
       "    .dataframe tbody tr th:only-of-type {\n",
       "        vertical-align: middle;\n",
       "    }\n",
       "\n",
       "    .dataframe tbody tr th {\n",
       "        vertical-align: top;\n",
       "    }\n",
       "\n",
       "    .dataframe thead th {\n",
       "        text-align: right;\n",
       "    }\n",
       "</style>\n",
       "<table border=\"1\" class=\"dataframe\">\n",
       "  <thead>\n",
       "    <tr style=\"text-align: center;\">\n",
       "      <th></th>\n",
       "      <th>fs</th>\n",
       "      <th>rep</th>\n",
       "      <th>type</th>\n",
       "      <th>name</th>\n",
       "      <th>value</th>\n",
       "      <th>unit</th>\n",
       "      <th>decimals</th>\n",
       "      <th>context</th>\n",
       "    </tr>\n",
       "  </thead>\n",
       "  <tbody>\n",
       "    <tr>\n",
       "      <th>0</th>\n",
       "      <td>bs</td>\n",
       "      <td>cash_and_equivalent</td>\n",
       "      <td>credit</td>\n",
       "      <td>us-gaap:cashandcashequivalentsatcarryingvalue</td>\n",
       "      <td>545592000</td>\n",
       "      <td>usd</td>\n",
       "      <td>-3</td>\n",
       "      <td>i00aae6ee0447424d9c01fc5f8f3bd82d_I20210930</td>\n",
       "    </tr>\n",
       "    <tr>\n",
       "      <th>1</th>\n",
       "      <td></td>\n",
       "      <td></td>\n",
       "      <td>credit</td>\n",
       "      <td>us-gaap:restrictedcashandcashequivalentsatcarryingvalue</td>\n",
       "      <td>929000</td>\n",
       "      <td>usd</td>\n",
       "      <td>-3</td>\n",
       "      <td>i00aae6ee0447424d9c01fc5f8f3bd82d_I20210930</td>\n",
       "    </tr>\n",
       "    <tr>\n",
       "      <th>2</th>\n",
       "      <td></td>\n",
       "      <td></td>\n",
       "      <td>credit</td>\n",
       "      <td>us-gaap:shortterminvestments</td>\n",
       "      <td>244470000</td>\n",
       "      <td>usd</td>\n",
       "      <td>-3</td>\n",
       "      <td>i00aae6ee0447424d9c01fc5f8f3bd82d_I20210930</td>\n",
       "    </tr>\n",
       "    <tr>\n",
       "      <th>3</th>\n",
       "      <td></td>\n",
       "      <td></td>\n",
       "      <td>credit</td>\n",
       "      <td>us-gaap:accountsreceivablenetcurrent</td>\n",
       "      <td>1289617000</td>\n",
       "      <td>usd</td>\n",
       "      <td>-3</td>\n",
       "      <td>i00aae6ee0447424d9c01fc5f8f3bd82d_I20210930</td>\n",
       "    </tr>\n",
       "    <tr>\n",
       "      <th>4</th>\n",
       "      <td></td>\n",
       "      <td></td>\n",
       "      <td>credit</td>\n",
       "      <td>us-gaap:inventorynet</td>\n",
       "      <td>445918000</td>\n",
       "      <td>usd</td>\n",
       "      <td>-3</td>\n",
       "      <td>i00aae6ee0447424d9c01fc5f8f3bd82d_I20210930</td>\n",
       "    </tr>\n",
       "    <tr>\n",
       "      <th>5</th>\n",
       "      <td></td>\n",
       "      <td></td>\n",
       "      <td>credit</td>\n",
       "      <td>us-gaap:otherassetscurrent</td>\n",
       "      <td>48598000</td>\n",
       "      <td>usd</td>\n",
       "      <td>-3</td>\n",
       "      <td>i00aae6ee0447424d9c01fc5f8f3bd82d_I20210930</td>\n",
       "    </tr>\n",
       "    <tr>\n",
       "      <th>6</th>\n",
       "      <td></td>\n",
       "      <td></td>\n",
       "      <td>credit</td>\n",
       "      <td>us-gaap:operatingleaserightofuseasset</td>\n",
       "      <td>146210000</td>\n",
       "      <td>usd</td>\n",
       "      <td>-3</td>\n",
       "      <td>i00aae6ee0447424d9c01fc5f8f3bd82d_I20210930</td>\n",
       "    </tr>\n",
       "    <tr>\n",
       "      <th>7</th>\n",
       "      <td>bs</td>\n",
       "      <td>current_assets</td>\n",
       "      <td>calc</td>\n",
       "      <td>us-gaap:assetscurrent</td>\n",
       "      <td>2575124000</td>\n",
       "      <td>usd</td>\n",
       "      <td>-3</td>\n",
       "      <td>i00aae6ee0447424d9c01fc5f8f3bd82d_I20210930</td>\n",
       "    </tr>\n",
       "    <tr>\n",
       "      <th>8</th>\n",
       "      <td></td>\n",
       "      <td></td>\n",
       "      <td>credit</td>\n",
       "      <td>us-gaap:propertyplantandequipmentnet</td>\n",
       "      <td>2901564000</td>\n",
       "      <td>usd</td>\n",
       "      <td>-3</td>\n",
       "      <td>i00aae6ee0447424d9c01fc5f8f3bd82d_I20210930</td>\n",
       "    </tr>\n",
       "    <tr>\n",
       "      <th>9</th>\n",
       "      <td></td>\n",
       "      <td></td>\n",
       "      <td>credit</td>\n",
       "      <td>us-gaap:restrictedcashandcashequivalentsnoncurrent</td>\n",
       "      <td>3508000</td>\n",
       "      <td>usd</td>\n",
       "      <td>-3</td>\n",
       "      <td>i00aae6ee0447424d9c01fc5f8f3bd82d_I20210930</td>\n",
       "    </tr>\n",
       "    <tr>\n",
       "      <th>10</th>\n",
       "      <td></td>\n",
       "      <td></td>\n",
       "      <td>credit</td>\n",
       "      <td>us-gaap:goodwill</td>\n",
       "      <td>25351000</td>\n",
       "      <td>usd</td>\n",
       "      <td>-3</td>\n",
       "      <td>i00aae6ee0447424d9c01fc5f8f3bd82d_I20210930</td>\n",
       "    </tr>\n",
       "    <tr>\n",
       "      <th>11</th>\n",
       "      <td></td>\n",
       "      <td></td>\n",
       "      <td>credit</td>\n",
       "      <td>us-gaap:otherassetsnoncurrent</td>\n",
       "      <td>118691000</td>\n",
       "      <td>usd</td>\n",
       "      <td>-3</td>\n",
       "      <td>i00aae6ee0447424d9c01fc5f8f3bd82d_I20210930</td>\n",
       "    </tr>\n",
       "    <tr>\n",
       "      <th>12</th>\n",
       "      <td>bs</td>\n",
       "      <td>total_assets</td>\n",
       "      <td>calc</td>\n",
       "      <td>us-gaap:assets</td>\n",
       "      <td>5770448000</td>\n",
       "      <td>usd</td>\n",
       "      <td>-3</td>\n",
       "      <td>i00aae6ee0447424d9c01fc5f8f3bd82d_I20210930</td>\n",
       "    </tr>\n",
       "    <tr>\n",
       "      <th>13</th>\n",
       "      <td></td>\n",
       "      <td></td>\n",
       "      <td>debit</td>\n",
       "      <td>us-gaap:accountspayablecurrent</td>\n",
       "      <td>815877000</td>\n",
       "      <td>usd</td>\n",
       "      <td>-3</td>\n",
       "      <td>i00aae6ee0447424d9c01fc5f8f3bd82d_I20210930</td>\n",
       "    </tr>\n",
       "    <tr>\n",
       "      <th>14</th>\n",
       "      <td></td>\n",
       "      <td></td>\n",
       "      <td>debit</td>\n",
       "      <td>us-gaap:accruedliabilitiescurrent</td>\n",
       "      <td>389068000</td>\n",
       "      <td>usd</td>\n",
       "      <td>-3</td>\n",
       "      <td>i00aae6ee0447424d9c01fc5f8f3bd82d_I20210930</td>\n",
       "    </tr>\n",
       "    <tr>\n",
       "      <th>15</th>\n",
       "      <td></td>\n",
       "      <td></td>\n",
       "      <td>debit</td>\n",
       "      <td>us-gaap:longtermdebtcurrent</td>\n",
       "      <td>140380000</td>\n",
       "      <td>usd</td>\n",
       "      <td>-3</td>\n",
       "      <td>i00aae6ee0447424d9c01fc5f8f3bd82d_I20210930</td>\n",
       "    </tr>\n",
       "    <tr>\n",
       "      <th>16</th>\n",
       "      <td></td>\n",
       "      <td></td>\n",
       "      <td>debit</td>\n",
       "      <td>us-gaap:longtermdebt</td>\n",
       "      <td>1032728000</td>\n",
       "      <td>usd</td>\n",
       "      <td>-3</td>\n",
       "      <td>i00aae6ee0447424d9c01fc5f8f3bd82d_I20210930</td>\n",
       "    </tr>\n",
       "    <tr>\n",
       "      <th>17</th>\n",
       "      <td></td>\n",
       "      <td></td>\n",
       "      <td>debit</td>\n",
       "      <td>us-gaap:longtermdebtnoncurrent</td>\n",
       "      <td>884236000</td>\n",
       "      <td>usd</td>\n",
       "      <td>-3</td>\n",
       "      <td>i00aae6ee0447424d9c01fc5f8f3bd82d_I20210930</td>\n",
       "    </tr>\n",
       "    <tr>\n",
       "      <th>18</th>\n",
       "      <td></td>\n",
       "      <td></td>\n",
       "      <td>debit</td>\n",
       "      <td>us-gaap:otherliabilitiesnoncurrent</td>\n",
       "      <td>164960000</td>\n",
       "      <td>usd</td>\n",
       "      <td>-3</td>\n",
       "      <td>i00aae6ee0447424d9c01fc5f8f3bd82d_I20210930</td>\n",
       "    </tr>\n",
       "    <tr>\n",
       "      <th>19</th>\n",
       "      <td></td>\n",
       "      <td></td>\n",
       "      <td>debit</td>\n",
       "      <td>us-gaap:pensionandotherpostretirementandpostemploymentbenefitplansliabilitiesnoncurrent</td>\n",
       "      <td>145633000</td>\n",
       "      <td>usd</td>\n",
       "      <td>-3</td>\n",
       "      <td>i00aae6ee0447424d9c01fc5f8f3bd82d_I20210930</td>\n",
       "    </tr>\n",
       "    <tr>\n",
       "      <th>20</th>\n",
       "      <td></td>\n",
       "      <td></td>\n",
       "      <td>debit</td>\n",
       "      <td>us-gaap:operatingleaseliabilitynoncurrent</td>\n",
       "      <td>76955000</td>\n",
       "      <td>usd</td>\n",
       "      <td>-3</td>\n",
       "      <td>i00aae6ee0447424d9c01fc5f8f3bd82d_I20210930</td>\n",
       "    </tr>\n",
       "    <tr>\n",
       "      <th>21</th>\n",
       "      <td></td>\n",
       "      <td></td>\n",
       "      <td>debit</td>\n",
       "      <td>us-gaap:commonstockvalue</td>\n",
       "      <td>290000</td>\n",
       "      <td>usd</td>\n",
       "      <td>-3</td>\n",
       "      <td>i00aae6ee0447424d9c01fc5f8f3bd82d_I20210930</td>\n",
       "    </tr>\n",
       "    <tr>\n",
       "      <th>22</th>\n",
       "      <td></td>\n",
       "      <td></td>\n",
       "      <td>debit</td>\n",
       "      <td>us-gaap:retainedearningsaccumulateddeficit</td>\n",
       "      <td>959641000</td>\n",
       "      <td>usd</td>\n",
       "      <td>-3</td>\n",
       "      <td>i00aae6ee0447424d9c01fc5f8f3bd82d_I20210930</td>\n",
       "    </tr>\n",
       "    <tr>\n",
       "      <th>23</th>\n",
       "      <td></td>\n",
       "      <td></td>\n",
       "      <td>debit</td>\n",
       "      <td>us-gaap:minorityinterest</td>\n",
       "      <td>29666000</td>\n",
       "      <td>usd</td>\n",
       "      <td>-3</td>\n",
       "      <td>i00aae6ee0447424d9c01fc5f8f3bd82d_I20210930</td>\n",
       "    </tr>\n",
       "    <tr>\n",
       "      <th>24</th>\n",
       "      <td></td>\n",
       "      <td></td>\n",
       "      <td>debit</td>\n",
       "      <td>us-gaap:accumulatedothercomprehensiveincomelossnetoftax</td>\n",
       "      <td>15936000</td>\n",
       "      <td>usd</td>\n",
       "      <td>-3</td>\n",
       "      <td>i00aae6ee0447424d9c01fc5f8f3bd82d_I20210930</td>\n",
       "    </tr>\n",
       "    <tr>\n",
       "      <th>25</th>\n",
       "      <td>bs</td>\n",
       "      <td>total_equity_and_liabilities</td>\n",
       "      <td>calc</td>\n",
       "      <td>us-gaap:liabilitiesandstockholdersequity</td>\n",
       "      <td>5770448000</td>\n",
       "      <td>usd</td>\n",
       "      <td>-3</td>\n",
       "      <td>i00aae6ee0447424d9c01fc5f8f3bd82d_I20210930</td>\n",
       "    </tr>\n",
       "  </tbody>\n",
       "</table>\n",
       "</div>"
      ],
      "text/plain": [
       "    fs              rep                type   \\\n",
       "0   bs           cash_and_equivalent  credit   \n",
       "1                                     credit   \n",
       "2                                     credit   \n",
       "3                                     credit   \n",
       "4                                     credit   \n",
       "5                                     credit   \n",
       "6                                     credit   \n",
       "7   bs                current_assets    calc   \n",
       "8                                     credit   \n",
       "9                                     credit   \n",
       "10                                    credit   \n",
       "11                                    credit   \n",
       "12  bs                  total_assets    calc   \n",
       "13                                     debit   \n",
       "14                                     debit   \n",
       "15                                     debit   \n",
       "16                                     debit   \n",
       "17                                     debit   \n",
       "18                                     debit   \n",
       "19                                     debit   \n",
       "20                                     debit   \n",
       "21                                     debit   \n",
       "22                                     debit   \n",
       "23                                     debit   \n",
       "24                                     debit   \n",
       "25  bs  total_equity_and_liabilities    calc   \n",
       "\n",
       "                                             name                                            \\\n",
       "0                                             us-gaap:cashandcashequivalentsatcarryingvalue   \n",
       "1                                   us-gaap:restrictedcashandcashequivalentsatcarryingvalue   \n",
       "2                                                              us-gaap:shortterminvestments   \n",
       "3                                                      us-gaap:accountsreceivablenetcurrent   \n",
       "4                                                                      us-gaap:inventorynet   \n",
       "5                                                                us-gaap:otherassetscurrent   \n",
       "6                                                     us-gaap:operatingleaserightofuseasset   \n",
       "7                                                                     us-gaap:assetscurrent   \n",
       "8                                                      us-gaap:propertyplantandequipmentnet   \n",
       "9                                        us-gaap:restrictedcashandcashequivalentsnoncurrent   \n",
       "10                                                                         us-gaap:goodwill   \n",
       "11                                                            us-gaap:otherassetsnoncurrent   \n",
       "12                                                                           us-gaap:assets   \n",
       "13                                                           us-gaap:accountspayablecurrent   \n",
       "14                                                        us-gaap:accruedliabilitiescurrent   \n",
       "15                                                              us-gaap:longtermdebtcurrent   \n",
       "16                                                                     us-gaap:longtermdebt   \n",
       "17                                                           us-gaap:longtermdebtnoncurrent   \n",
       "18                                                       us-gaap:otherliabilitiesnoncurrent   \n",
       "19  us-gaap:pensionandotherpostretirementandpostemploymentbenefitplansliabilitiesnoncurrent   \n",
       "20                                                us-gaap:operatingleaseliabilitynoncurrent   \n",
       "21                                                                 us-gaap:commonstockvalue   \n",
       "22                                               us-gaap:retainedearningsaccumulateddeficit   \n",
       "23                                                                 us-gaap:minorityinterest   \n",
       "24                                  us-gaap:accumulatedothercomprehensiveincomelossnetoftax   \n",
       "25                                                 us-gaap:liabilitiesandstockholdersequity   \n",
       "\n",
       "      value   unit  decimals                   context                     \n",
       "0   545592000  usd     -3     i00aae6ee0447424d9c01fc5f8f3bd82d_I20210930  \n",
       "1      929000  usd     -3     i00aae6ee0447424d9c01fc5f8f3bd82d_I20210930  \n",
       "2   244470000  usd     -3     i00aae6ee0447424d9c01fc5f8f3bd82d_I20210930  \n",
       "3  1289617000  usd     -3     i00aae6ee0447424d9c01fc5f8f3bd82d_I20210930  \n",
       "4   445918000  usd     -3     i00aae6ee0447424d9c01fc5f8f3bd82d_I20210930  \n",
       "5    48598000  usd     -3     i00aae6ee0447424d9c01fc5f8f3bd82d_I20210930  \n",
       "6   146210000  usd     -3     i00aae6ee0447424d9c01fc5f8f3bd82d_I20210930  \n",
       "7  2575124000  usd     -3     i00aae6ee0447424d9c01fc5f8f3bd82d_I20210930  \n",
       "8  2901564000  usd     -3     i00aae6ee0447424d9c01fc5f8f3bd82d_I20210930  \n",
       "9     3508000  usd     -3     i00aae6ee0447424d9c01fc5f8f3bd82d_I20210930  \n",
       "10   25351000  usd     -3     i00aae6ee0447424d9c01fc5f8f3bd82d_I20210930  \n",
       "11  118691000  usd     -3     i00aae6ee0447424d9c01fc5f8f3bd82d_I20210930  \n",
       "12 5770448000  usd     -3     i00aae6ee0447424d9c01fc5f8f3bd82d_I20210930  \n",
       "13  815877000  usd     -3     i00aae6ee0447424d9c01fc5f8f3bd82d_I20210930  \n",
       "14  389068000  usd     -3     i00aae6ee0447424d9c01fc5f8f3bd82d_I20210930  \n",
       "15  140380000  usd     -3     i00aae6ee0447424d9c01fc5f8f3bd82d_I20210930  \n",
       "16 1032728000  usd     -3     i00aae6ee0447424d9c01fc5f8f3bd82d_I20210930  \n",
       "17  884236000  usd     -3     i00aae6ee0447424d9c01fc5f8f3bd82d_I20210930  \n",
       "18  164960000  usd     -3     i00aae6ee0447424d9c01fc5f8f3bd82d_I20210930  \n",
       "19  145633000  usd     -3     i00aae6ee0447424d9c01fc5f8f3bd82d_I20210930  \n",
       "20   76955000  usd     -3     i00aae6ee0447424d9c01fc5f8f3bd82d_I20210930  \n",
       "21     290000  usd     -3     i00aae6ee0447424d9c01fc5f8f3bd82d_I20210930  \n",
       "22  959641000  usd     -3     i00aae6ee0447424d9c01fc5f8f3bd82d_I20210930  \n",
       "23   29666000  usd     -3     i00aae6ee0447424d9c01fc5f8f3bd82d_I20210930  \n",
       "24   15936000  usd     -3     i00aae6ee0447424d9c01fc5f8f3bd82d_I20210930  \n",
       "25 5770448000  usd     -3     i00aae6ee0447424d9c01fc5f8f3bd82d_I20210930  "
      ]
     },
     "execution_count": 98,
     "metadata": {},
     "output_type": "execute_result"
    }
   ],
   "source": [
    "df_BS = pd.DataFrame(BS, columns=get_financial_element_columns())\n",
    "#df_BS = df_BS.style.set_properties(**{'text-align': 'left'})\n",
    "#df_BS[(df_BS['rep'].notna()) & (df_BS['rep'] != \"\")]\n",
    "df_BS"
   ]
  },
  {
   "cell_type": "code",
   "execution_count": 99,
   "id": "4d5f2e51",
   "metadata": {},
   "outputs": [
    {
     "data": {
      "text/plain": [
       "5770448000.0"
      ]
     },
     "execution_count": 99,
     "metadata": {},
     "output_type": "execute_result"
    }
   ],
   "source": [
    "credits = df_BS[df_BS['type'] == 'credit']['value'].sum()\n",
    "credits"
   ]
  },
  {
   "cell_type": "code",
   "execution_count": 100,
   "id": "323c27ad",
   "metadata": {},
   "outputs": [
    {
     "data": {
      "text/plain": [
       "4655370000.0"
      ]
     },
     "execution_count": 100,
     "metadata": {},
     "output_type": "execute_result"
    }
   ],
   "source": [
    "debits = df_BS[df_BS['type'] == 'debit']['value'].sum()\n",
    "debits"
   ]
  },
  {
   "cell_type": "code",
   "execution_count": 101,
   "id": "f364a6c0",
   "metadata": {},
   "outputs": [
    {
     "data": {
      "text/plain": [
       "1115078000.0"
      ]
     },
     "execution_count": 101,
     "metadata": {},
     "output_type": "execute_result"
    }
   ],
   "source": [
    "credits - debits"
   ]
  },
  {
   "cell_type": "markdown",
   "id": "31cb2962",
   "metadata": {},
   "source": [
    "### Cash Per Share"
   ]
  },
  {
   "cell_type": "code",
   "execution_count": 102,
   "id": "eafb4fca",
   "metadata": {},
   "outputs": [
    {
     "name": "stdout",
     "output_type": "stream",
     "text": [
      "2.23\n"
     ]
    }
   ],
   "source": [
    "cash = df_BS[df_BS['rep'] == FS_ELEMENT_REP_CASH]['value'].values.item()\n",
    "cps = cash / num_shares\n",
    "\n",
    "scale = 2\n",
    "print(f\"{cps:.{scale}f}\")"
   ]
  },
  {
   "cell_type": "markdown",
   "id": "e18bdbe1",
   "metadata": {},
   "source": [
    "### EPS VS CPS"
   ]
  },
  {
   "cell_type": "code",
   "execution_count": 103,
   "id": "aed66f07",
   "metadata": {},
   "outputs": [
    {
     "name": "stdout",
     "output_type": "stream",
     "text": [
      "Saving is 3.00 more than earning\n"
     ]
    }
   ],
   "source": [
    "if (cps / eps) > 1.0:\n",
    "    print(f\"Saving is {cps/eps:.2f} more than earning\")"
   ]
  },
  {
   "cell_type": "markdown",
   "id": "e808f3a2",
   "metadata": {},
   "source": [
    "# Save"
   ]
  },
  {
   "cell_type": "raw",
   "id": "be3732ac",
   "metadata": {},
   "source": [
    "import pathlib\n",
    "path_to_folder = f\"../data/{CIK}_{company_name}\"\n",
    "pathlib.Path(f\"{path_to_folder}\").mkdir(parents=True, exist_ok=True)"
   ]
  },
  {
   "cell_type": "raw",
   "id": "3776e904",
   "metadata": {},
   "source": [
    "df_PL.to_csv(f\"{path_to_folder}/{ACCESSION}_PL.gz\", index=False, compression='gzip')\n",
    "df_BS.to_csv(f\"{path_to_folder}/{ACCESSION}_BS.gz\", index=False, compression='gzip')"
   ]
  }
 ],
 "metadata": {
  "kernelspec": {
   "display_name": "Python 3 (ipykernel)",
   "language": "python",
   "name": "python3"
  },
  "language_info": {
   "codemirror_mode": {
    "name": "ipython",
    "version": 3
   },
   "file_extension": ".py",
   "mimetype": "text/x-python",
   "name": "python",
   "nbconvert_exporter": "python",
   "pygments_lexer": "ipython3",
   "version": "3.8.10"
  },
  "name": "sec_edgar_parse_xbrl.ipynb"
 },
 "nbformat": 4,
 "nbformat_minor": 5
}
