{
 "cells": [
  {
   "cell_type": "markdown",
   "id": "89209a88",
   "metadata": {},
   "source": [
    "---\n",
    "# Setup"
   ]
  },
  {
   "cell_type": "code",
   "execution_count": 1,
   "id": "1dd95359",
   "metadata": {},
   "outputs": [
    {
     "data": {
      "text/html": [
       "<style>\n",
       "table {float:left}\n",
       "</style>\n"
      ],
      "text/plain": [
       "<IPython.core.display.HTML object>"
      ]
     },
     "metadata": {},
     "output_type": "display_data"
    }
   ],
   "source": [
    "%%html\n",
    "<style>\n",
    "table {float:left}\n",
    "</style>"
   ]
  },
  {
   "cell_type": "markdown",
   "id": "33f885db",
   "metadata": {},
   "source": [
    "# Parsing SEC Filing XBRL Document\n",
    "\n",
    "\n",
    "## Objective\n",
    "\n",
    "Parse the filing XBRL file to create a DOM like structure that represent the filing data\n",
    "\n",
    "## References\n",
    "\n",
    "* [XBRL Specification - Extensible Business Reporting Language (XBRL) 2.1](https://www.xbrl.org/Specification/XBRL-2.1/REC-2003-12-31/XBRL-2.1-REC-2003-12-31+corrected-errata-2013-02-20.html)\n",
    "\n",
    "* [List of US GAAP Standards](https://xbrlsite.azurewebsites.net/2019/Prototype/references/us-gaap/)\n",
    "* [XBRL US - List of Elements](https://xbrl.us/data-rule/dqc_0015-le/)\n",
    "\n",
    "**Element Version**|**Element ID**|**Namespace**|**Element Label**|**Element Name**|**Balance Type**|**Definition**\n",
    ":-----:|:-----:|:-----:|:-----:|:-----:|:-----:|:-----:\n",
    "1|1367|us-gaap|Interest Expense|InterestExpense|debit|Amount of the cost of borrowed funds accounted for as interest expense.\n",
    "2|2692|us-gaap|Cash and Cash Equivalents, at Carrying Value|CashAndCashEquivalentsAtCarryingValue|debit|Amount of currency on hand as well as demand deposits with banks or financial institutions. Includes other kinds of accounts that have the general characteristics of demand deposits. Also includes short-term, highly liquid investments that are both readily convertible to known amounts of cash and so near their maturity that they present insignificant risk of changes in value because of changes in interest rates. Excludes cash and cash equivalents within disposal group and discontinued operation.\n",
    "\n",
    "## XBRL Element\n",
    "\n",
    "* [XBRL Glossary of Terms](https://www.sec.gov/page/osd_xbrlglossary)\n",
    "* [XBRL - What is us-gaap:OperatingSegmentsMember element anb where is it defined?](https://money.stackexchange.com/questions/148010/xbrl-what-is-us-gaapoperatingsegmentsmember-element-anb-where-is-it-defined)\n",
    "\n",
    "### Example\n",
    "For instance, Qorvo 2020 10K\n",
    "\n",
    "* [XBRL/rfmd-20210403_htm.xml](https://www.sec.gov/Archives/edgar/data/1604778/000160477821000032/rfmd-20210403_htm.xml)\n",
    "* [HTML/rfmd-20210403.htm)](https://www.sec.gov/Archives/edgar/data/1604778/000160477821000032/rfmd-20210403.htm):\n",
    "\n",
    "```\n",
    "<us-gaap:cashandcashequivalentsatcarryingvalue contextref=\"*\" decimals=\"-3\" id=\"...\" unitref=\"usd\">\n",
    "  1397880000\n",
    "</us-gaap:cashandcashequivalentsatcarryingvalue>,\n",
    "<us-gaap:cashandcashequivalentsatcarryingvalue contextref=\"***\" decimals=\"-3\" id=\"...\" unitref=\"usd\">\n",
    "  714939000\n",
    "</us-gaap:cashandcashequivalentsatcarryingvalue>,\n",
    "<us-gaap:cashandcashequivalentsatcarryingvalue contextref=\"***\" decimals=\"-3\" id=\"...\" unitref=\"usd\">\n",
    " 711035000\n",
    "</us-gaap:cashandcashequivalentsatcarryingvalue>\n",
    "```\n",
    "\n",
    "Corresponds to the Cash and Cash equivalents in the Cash Flow statement.\n",
    "\n",
    "<img src=\"../image/edgar_qorvo_2020_10K_CF.png\" align=\"left\" width=800 />"
   ]
  },
  {
   "cell_type": "code",
   "execution_count": 2,
   "id": "e2ad2d93",
   "metadata": {},
   "outputs": [],
   "source": [
    "from typing import (\n",
    "    List,\n",
    "    Dict\n",
    ")\n",
    "import operator\n",
    "import logging\n",
    "import time\n",
    "import datetime\n",
    "import dateutil\n",
    "import calendar\n",
    "import re\n",
    "import requests\n",
    "import unicodedata\n",
    "import bs4\n",
    "from bs4 import BeautifulSoup\n",
    "from IPython.core.display import (\n",
    "    display, \n",
    "    HTML\n",
    ")\n",
    "\n",
    "import numpy as np\n",
    "import pandas as pd\n",
    "pd.set_option('display.float_format', lambda x: ('%f' % x).rstrip('0').rstrip('.'))\n",
    "pd.set_option('display.colheader_justify', 'center')\n",
    "pd.set_option('display.max_columns', None)\n",
    "pd.set_option('display.max_colwidth', None)"
   ]
  },
  {
   "cell_type": "code",
   "execution_count": 3,
   "id": "48bcf193",
   "metadata": {},
   "outputs": [],
   "source": [
    "logging.basicConfig(level=logging.DEBUG)\n",
    "Logger = logging.getLogger(__name__)"
   ]
  },
  {
   "cell_type": "code",
   "execution_count": 4,
   "id": "cebbb665",
   "metadata": {},
   "outputs": [],
   "source": [
    "def restore_windows_1252_characters(restore_string):\n",
    "    \"\"\"\n",
    "        Replace C1 control characters in the Unicode string s by the\n",
    "        characters at the corresponding code points in Windows-1252,\n",
    "        where possible.\n",
    "    \"\"\"\n",
    "\n",
    "    def to_windows_1252(match):\n",
    "        try:\n",
    "            return bytes([ord(match.group(0))]).decode('windows-1252')\n",
    "        except UnicodeDecodeError:\n",
    "            # No character at the corresponding code point: remove it.\n",
    "            return ''\n",
    "        \n",
    "    return re.sub(r'[\\u0080-\\u0099]', to_windows_1252, restore_string)"
   ]
  },
  {
   "cell_type": "markdown",
   "id": "a55c991d",
   "metadata": {},
   "source": [
    "# FS Constant"
   ]
  },
  {
   "cell_type": "code",
   "execution_count": 5,
   "id": "c3a556fa",
   "metadata": {},
   "outputs": [
    {
     "name": "stderr",
     "output_type": "stream",
     "text": [
      "DEBUG:ray:[ray] Forcing OMP_NUM_THREADS=1 to avoid performance degradation with many workers (issue #6998). You can override this by explicitly setting OMP_NUM_THREADS.\n"
     ]
    }
   ],
   "source": [
    "%load_ext autoreload\n",
    "%autoreload 2\n",
    "from sec_edgar_constant import (\n",
    "    EDGAR_HTTP_HEADERS,\n",
    "    SEC_FORM_TYPE_10K,\n",
    "    SEC_FORM_TYPE_10Q,\n",
    "    FS_PL,\n",
    "    FS_BS,\n",
    "    FS_CF,\n",
    "    FS_ELEMENT_REP_SHARES_OUTSTANDING,\n",
    "    # PL\n",
    "    FS_ELEMENT_REP_REVENUE,\n",
    "    FS_ELEMENT_REP_OP_COST,\n",
    "    FS_ELEMENT_REP_OP_INCOME,\n",
    "    FS_ELEMENT_REP_GROSS_PROFIT,\n",
    "    FS_ELEMENT_REP_OPEX_RD,\n",
    "    FS_ELEMENT_REP_OPEX_SGA,\n",
    "    FS_ELEMENT_REP_OPEX,\n",
    "    FS_ELEMENT_REP_NET_INCOME,\n",
    "    FS_ELEMENT_REP_EPS,\n",
    "    # BS\n",
    "    FS_ELEMENT_REP_CASH,\n",
    "    FS_ELEMENT_REP_CURRENT_ASSETS,\n",
    "    FS_ELEMENT_REP_TOTAL_ASSETS,\n",
    "    FS_ELEMENT_REP_CURRENT_LIABILITIES,\n",
    "    FS_ELEMENT_REP_LIABILITIES,\n",
    "    FS_ELEMENT_REP_EQUITY,           # Stockholders' Equity or Total Equity\n",
    "    FS_ELEMENT_REP_EQUITY_AND_LIABILITIES,\n",
    ")\n",
    "from sec_edgar_common import (\n",
    "    is_date_string,\n",
    "    filename_basename,\n",
    "    filename_extension,\n",
    ")\n",
    "from xbrl_gaap_function import (\n",
    "    REGEXP_NUMERIC,\n",
    "    REGEXP_XBRL_TAG_CONTEXT,\n",
    "    REGEXP_XBRL_TAG_INSTANT,\n",
    "    REGEXP_XBRL_TAG_PERIOD,\n",
    "    REGEXP_XBRL_TAG_START_DATE,\n",
    "    REGEXP_XBRL_TAG_END_DATE,\n",
    "\n",
    "    get_company_name,\n",
    "    get_attributes_to_select_target_fs_elements,\n",
    "    get_financial_element_columns,\n",
    "    get_target_context_ids,\n",
    "    # sed -n 's/^def \\(get_pl_.*\\)(.*/\\1,/p'\n",
    "    get_pl_revenues,\n",
    "    get_pl_revenue_other,\n",
    "    get_pl_income_interest,\n",
    "    get_pl_income_other,\n",
    "    get_pl_cost_of_revenues,\n",
    "    get_pl_gross_profit,\n",
    "    get_pl_operating_expense_r_and_d,\n",
    "    get_pl_operating_expense_selling_administrative,\n",
    "    get_pl_operating_expense_other,\n",
    "    get_pl_operating_expense_total,\n",
    "    get_pl_operating_income,\n",
    "    get_pl_non_operating_expense_interest,\n",
    "    get_pl_non_operating_expense_other,\n",
    "    get_pl_income_tax,\n",
    "    get_pl_net_income,\n",
    "    get_pl_shares_outstanding,\n",
    "    get_pl_eps,\n",
    "    # sed -n 's/^def \\(get_bs_.*\\)(.*/\\1,/p'\n",
    "    get_bs_current_asset_cash_and_equivalents,\n",
    "    get_bs_current_asset_restricted_cash_and_equivalents,\n",
    "    get_bs_current_asset_short_term_investments,\n",
    "    get_bs_current_asset_account_receivables,\n",
    "    get_bs_current_asset_inventory,\n",
    "    get_bs_current_asset_other,\n",
    "    get_bs_current_assets,\n",
    "    get_bs_non_current_asset_property_and_equipment,\n",
    "    get_bs_non_current_asset_restricted_cash_and_equivalent,\n",
    "    get_bs_non_current_asset_deferred_income_tax,\n",
    "    get_bs_non_current_asset_goodwill,\n",
    "    get_bs_non_current_asset_other,\n",
    "    get_bs_total_assets,\n",
    "    get_bs_current_liability_account_payable,\n",
    "    get_bs_current_liability_tax,\n",
    "    get_bs_current_liability_longterm_debt,\n",
    "    get_bs_current_liabilities,\n",
    "    get_bs_non_current_liability_longterm_debt,\n",
    "    get_bs_non_current_liability_deferred_tax,\n",
    "    get_bs_non_current_liability_other,\n",
    "    get_bs_total_liabilities,\n",
    "    get_bs_stockholders_equity_paid_in,\n",
    "    get_bs_stockholders_equity_retained,\n",
    "    get_bs_stockholders_equity_other,\n",
    "    get_bs_stockholders_equity,\n",
    "    get_bs_total_liabilities_and_stockholders_equity,\n",
    ")\n",
    "from sec_edgar_list_xbrl_xml import (\n",
    "    EdgarList\n",
    ")\n",
    "xbrl_url = EdgarList.xbrl_url"
   ]
  },
  {
   "cell_type": "markdown",
   "id": "82295cb6",
   "metadata": {},
   "source": [
    "---\n",
    "# Load EDGAR Filing XBRL\n",
    "\n",
    "Download the ```_htm.xml``` file from EDGAR. SEC now requires user-agent header."
   ]
  },
  {
   "cell_type": "markdown",
   "id": "f584596e",
   "metadata": {},
   "source": [
    "## Filling (CIK/Accession)"
   ]
  },
  {
   "cell_type": "code",
   "execution_count": 6,
   "id": "6fb0d668",
   "metadata": {},
   "outputs": [],
   "source": [
    "# AMKOR 2020 10K\n",
    "CIK = '1047127'\n",
    "ACCESSION = '0001047127-20-000006'.replace('-', '')\n",
    "FORM_TYPE = SEC_FORM_TYPE_10K"
   ]
  },
  {
   "cell_type": "code",
   "execution_count": 7,
   "id": "96d70876",
   "metadata": {},
   "outputs": [],
   "source": [
    "# DIOD 2020 10K\n",
    "CIK = '29002'\n",
    "ACCESSION = '000156459021007008'\n",
    "FORM_TYPE = SEC_FORM_TYPE_10K"
   ]
  },
  {
   "cell_type": "code",
   "execution_count": 8,
   "id": "c86a4be8",
   "metadata": {},
   "outputs": [],
   "source": [
    "# OPTICAL CABLE CORPORATION 10-K for the fiscal year ended October 31, 2021\n",
    "CIK = '0001000230'\n",
    "ACCESSION = '000143774921028951'\n",
    "FORM_TYPE = SEC_FORM_TYPE_10K"
   ]
  },
  {
   "cell_type": "code",
   "execution_count": 9,
   "id": "e7d3da57",
   "metadata": {},
   "outputs": [],
   "source": [
    "# QORVO 2021 10K\n",
    "CIK = '1604778'\n",
    "ACCESSION = '000160477821000032'\n",
    "FORM_TYPE = SEC_FORM_TYPE_10K"
   ]
  },
  {
   "cell_type": "code",
   "execution_count": 10,
   "id": "90484633",
   "metadata": {},
   "outputs": [],
   "source": [
    "# AMKOR 2021 10Q\n",
    "CIK = '1047127'\n",
    "ACCESSION = '000104712721000043'\n",
    "FORM_TYPE = SEC_FORM_TYPE_10Q"
   ]
  },
  {
   "cell_type": "code",
   "execution_count": 11,
   "id": "bc5cd4f2",
   "metadata": {},
   "outputs": [],
   "source": [
    "# NICHOLAS FINANCIAL, INC.\n",
    "CIK = '1000045'\n",
    "ACCESSION = '000119312513259413'\n",
    "FORM_TYPE = SEC_FORM_TYPE_10K"
   ]
  },
  {
   "cell_type": "code",
   "execution_count": 12,
   "id": "fa04f2ec",
   "metadata": {},
   "outputs": [],
   "source": [
    "CIK = '1000697'\n",
    "ACCESSION = '000007202010000036'\n",
    "FORM_TYPE = SEC_FORM_TYPE_10Q"
   ]
  },
  {
   "cell_type": "code",
   "execution_count": 13,
   "id": "aa185e60",
   "metadata": {},
   "outputs": [],
   "source": [
    "CIK = '1000697'\n",
    "ACCESSION = '000095012310045994'\n",
    "FORM_TYPE = SEC_FORM_TYPE_10Q"
   ]
  },
  {
   "cell_type": "code",
   "execution_count": 14,
   "id": "f24b6a2d",
   "metadata": {},
   "outputs": [
    {
     "data": {
      "text/plain": [
       "'https://www.sec.gov/Archives/edgar/data/1000697/000095012310045994/index.xml'"
      ]
     },
     "execution_count": 14,
     "metadata": {},
     "output_type": "execute_result"
    }
   ],
   "source": [
    "INDEX_XML_URL = f\"https://www.sec.gov/Archives/edgar/data/{CIK}/{ACCESSION}/index.xml\"\n",
    "INDEX_XML_URL"
   ]
  },
  {
   "cell_type": "markdown",
   "id": "25e4deb9",
   "metadata": {},
   "source": [
    "## Filing Directory Listing\n",
    "\n",
    "Using EDGAR Directory Listing (index.html, index.json, or index.xml), identify the XBRL file (_htm.xml) path. "
   ]
  },
  {
   "cell_type": "raw",
   "id": "6c99babd",
   "metadata": {},
   "source": [
    "\"\"\"\n",
    "INDEX_XML_URL = f\"https://www.sec.gov/Archives/edgar/data/{CIK}/{ACCESSION}/index.xml\"\n",
    "INDEX_XML_URL\n",
    "\n",
    "response = requests.get(INDEX_XML_URL, headers=EDGAR_HTTP_HEADERS)\n",
    "if response.status_code == 200:\n",
    "    index = response.content.decode(\"utf-8\") \n",
    "else:\n",
    "    assert False, f\"{INDEX_XML_URL} failed with status {response.status_code}\"\n",
    "    \n",
    "path_to_xbrl = BeautifulSoup(index, 'html.parser').find('href', string=re.compile(\".*_htm.xml\"))\n",
    "del index\n",
    "assert path_to_xbrl, \"No XBRL file found.\"\n",
    "\n",
    "path_to_xbrl = path_to_xbrl.string.strip()\n",
    "\"\"\""
   ]
  },
  {
   "cell_type": "markdown",
   "id": "dc515f1d",
   "metadata": {},
   "source": [
    "## Download XBRL"
   ]
  },
  {
   "cell_type": "code",
   "execution_count": 15,
   "id": "9ea93c9f",
   "metadata": {},
   "outputs": [
    {
     "name": "stderr",
     "output_type": "stream",
     "text": [
      "INFO:root:xbrl_url(): getting filing directory index [https://www.sec.gov/Archives/edgar/data/1000697/000095012310045994/index.xml]...\n",
      "DEBUG:root:http_get_content(): GET url [https://www.sec.gov/Archives/edgar/data/1000697/000095012310045994/index.xml] headers [{'User-Agent': 'Company Name myname@company.com'}]\n",
      "DEBUG:urllib3.connectionpool:Starting new HTTPS connection (1): www.sec.gov:443\n",
      "DEBUG:urllib3.connectionpool:https://www.sec.gov:443 \"GET /Archives/edgar/data/1000697/000095012310045994/index.xml HTTP/1.1\" 200 727\n",
      "INFO:root:identifying XBRL URL for [https://www.sec.gov/Archives/edgar/data/1000697/000095012310045994/index.xml]...\n",
      "DEBUG:root:Filing directory path is [/Archives/edgar/data/1000697/000095012310045994/]\n",
      "WARNING:root:No XBRL XML pattern [/Archives/edgar/data/1000697/000095012310045994/.*_htm,.xml] identified.\n",
      "DEBUG:root:Candidate [defnref] is picked with the distance from [wat-20100403] is [12].\n",
      "DEBUG:root:Candidate [R1] is picked with the distance from [wat-20100403] is [11].\n",
      "DEBUG:root:Candidate [R10] is picked with the distance from [wat-20100403] is [10].\n",
      "DEBUG:root:Candidate [wat-20100403] is picked with the distance from [wat-20100403] is [0].\n",
      "DEBUG:root:Selected the candidate [wat-20100403] of distance [0]. \n",
      "URL to XBRL is [https://sec.gov/Archives/edgar/data/1000697/000095012310045994/wat-20100403.xml]\n",
      "INFO:root:XBRL XML [https://sec.gov/Archives/edgar/data/1000697/000095012310045994/wat-20100403.xml] identified\n",
      "INFO:root:XBRL URL identified [https://sec.gov/Archives/edgar/data/1000697/000095012310045994/wat-20100403.xml]\n",
      "DEBUG:urllib3.connectionpool:Starting new HTTPS connection (1): sec.gov:443\n",
      "DEBUG:urllib3.connectionpool:https://sec.gov:443 \"GET /Archives/edgar/data/1000697/000095012310045994/wat-20100403.xml HTTP/1.1\" 301 0\n",
      "DEBUG:urllib3.connectionpool:Starting new HTTPS connection (1): www.sec.gov:443\n",
      "DEBUG:urllib3.connectionpool:https://www.sec.gov:443 \"GET /Archives/edgar/data/1000697/000095012310045994/wat-20100403.xml HTTP/1.1\" 200 29416\n"
     ]
    }
   ],
   "source": [
    "XBRL_XML_URL = xbrl_url(INDEX_XML_URL)\n",
    "\n",
    "response = requests.get(XBRL_XML_URL, headers=EDGAR_HTTP_HEADERS)\n",
    "if response.status_code == 200:\n",
    "    content = response.content.decode(\"utf-8\") \n",
    "else:\n",
    "    assert False, f\"{XBRL_URL} failed with status {response.status_code}\"\n",
    "    \n",
    "del response"
   ]
  },
  {
   "cell_type": "code",
   "execution_count": 16,
   "id": "0bda04b2",
   "metadata": {},
   "outputs": [
    {
     "data": {
      "text/plain": [
       "'wat-20100403'"
      ]
     },
     "execution_count": 16,
     "metadata": {},
     "output_type": "execute_result"
    }
   ],
   "source": [
    "filename_basename(XBRL_XML_URL)"
   ]
  },
  {
   "cell_type": "code",
   "execution_count": 17,
   "id": "665c3462",
   "metadata": {},
   "outputs": [],
   "source": [
    "content = restore_windows_1252_characters(content)"
   ]
  },
  {
   "cell_type": "markdown",
   "id": "017b4ad7",
   "metadata": {},
   "source": [
    "# XBRL\n",
    "\n",
    "Use the BS4 HTML Parser to be able to:\n",
    "1. Handle ```<namespace:tag>``` as a single tag (with lower cases)\n",
    "2. Work without namespace definitions (xmlns=) \n",
    "\n",
    "BS4/XML parser simply drops the namespaces when the namespace definitions are not provided, hence searching tags with ```<namespace:tag>``` does not match. To avoid this issue, use HTML parser."
   ]
  },
  {
   "cell_type": "code",
   "execution_count": 18,
   "id": "23172972",
   "metadata": {},
   "outputs": [
    {
     "name": "stdout",
     "output_type": "stream",
     "text": [
      "None\n"
     ]
    }
   ],
   "source": [
    "# HTML parser lowers all the names\n",
    "soup = BeautifulSoup(content, 'html.parser')\n",
    "# HTML parser does not match case sensitivve name\n",
    "print(soup.find(\"dei:EntityRegistrantName\"))"
   ]
  },
  {
   "cell_type": "code",
   "execution_count": 19,
   "id": "5b4ff223",
   "metadata": {},
   "outputs": [],
   "source": [
    "# Verify [<xbrl xmlns=\"http://www.xbrl.org/2003/instance\">]\n",
    "#assert soup.find('xbrl', attrs={\"xmlns\": \"http://www.xbrl.org/2003/instance\"}), \\\n",
    "#    f\"Invalid XBRL {INDEX_XML_URL}\""
   ]
  },
  {
   "cell_type": "markdown",
   "id": "ef53a718",
   "metadata": {},
   "source": [
    "## Company Name"
   ]
  },
  {
   "cell_type": "code",
   "execution_count": 20,
   "id": "71485048",
   "metadata": {},
   "outputs": [],
   "source": [
    "def get_company_name(soup):\n",
    "    \"\"\"Get company (registrant) name from the XBRL\"\"\"\n",
    "    registrant_name = soup.find(\n",
    "        name=re.compile(\"dei:EntityRegistrantName\".lower(), re.I)\n",
    "    ).string.strip()\n",
    "    assert registrant_name, f\"No registrant name found\"\n",
    "\n",
    "    # Remove non-ascii characters to form a company name\n",
    "    registrant_name = ''.join(e for e in registrant_name if e.isalnum())\n",
    "    logging.debug(\"get_company_name(): company name is [%s]\" % registrant_name)\n",
    "    return registrant_name"
   ]
  },
  {
   "cell_type": "code",
   "execution_count": 21,
   "id": "5e1dac87",
   "metadata": {},
   "outputs": [
    {
     "name": "stderr",
     "output_type": "stream",
     "text": [
      "DEBUG:root:get_company_name(): company name is [WATERSCORPDE]\n"
     ]
    }
   ],
   "source": [
    "company_name = get_company_name(soup)"
   ]
  },
  {
   "cell_type": "markdown",
   "id": "342da6cb",
   "metadata": {},
   "source": [
    "## Repoting period\n",
    "\n",
    "Each 10-K and 10-Q XBRL has the reporting period for the filing. To exclude the other period, e.g. pervious year or quarter, use the ```context id``` for the reporting period. **Most** 10-K, 10-Q specify the annual period with the first ```<startDate> and <endDate>``` tags.\n",
    "\n",
    "For instances:\n",
    "\n",
    "### QRVO 10-K 2020\n",
    "\n",
    "```\n",
    "<context id=\"ifb6ce67cf6954ebf88471dd82daa9247_D20200329-20210403\">\n",
    "    <entity>\n",
    "    <identifier scheme=\"http://www.sec.gov/CIK\">0001604778</identifier>\n",
    "    </entity>\n",
    "    <period>\n",
    "        <startDate>2020-03-29</startDate>\n",
    "        <endDate>2021-04-03</endDate>\n",
    "    </period>\n",
    "</context>\n",
    "```\n",
    "\n",
    "### AMKR 10-K 2020\n",
    "\n",
    "```\n",
    "<context id=\"i5fac0a392353427b8266f185495754d3_D20200101-20201231\">\n",
    "    <entity>\n",
    "    <identifier scheme=\"http://www.sec.gov/CIK\">0001047127</identifier>\n",
    "    </entity>\n",
    "    <period>\n",
    "        <startDate>2020-01-01</startDate>\n",
    "        <endDate>2020-12-31</endDate>\n",
    "    </period>\n",
    "</context>\n",
    "```\n",
    "\n",
    "### AAPL 10-Q 4th QTR 2020\n",
    "\n",
    "```\n",
    "<context id=\"i6e431846933d461fb8c8c0bdf98c9758_D20200927-20201226\">\n",
    "    <entity>\n",
    "    <identifier scheme=\"http://www.sec.gov/CIK\">0000320193</identifier>\n",
    "    </entity>\n",
    "    <period>\n",
    "        <startDate>2020-09-27</startDate>\n",
    "        <endDate>2020-12-26</endDate>\n",
    "    </period>\n",
    "</context>\n",
    "```\n",
    "\n",
    "**However, there are companies that do not have this manner**. For instance [10-K for OPTICAL CABLE CORPORATION(CIK=0001000230)](https://www.sec.gov/Archives/edgar/data/1000230/000143774921028951/occ20211031_10k_htm.xml) has the same start and end dates at first.\n",
    "\n",
    "```\n",
    "<context id=\"d202110K\">\n",
    "    <entity>\n",
    "        <identifier scheme=\"http://www.sec.gov/CIK\">0001000230</identifier>\n",
    "    </entity>\n",
    "    <period>\n",
    "        <startDate>2021-10-31</startDate>   # <-----\n",
    "        <endDate>2021-10-31</endDate>\n",
    "    </period>\n",
    "</context>\n",
    "<context id=\"d_2020-11-01_2021-10-31\">\n",
    "    <entity>\n",
    "        <identifier scheme=\"http://www.sec.gov/CIK\">0001000230</identifier>\n",
    "    </entity>\n",
    "    <period>\n",
    "        <startDate>2020-11-01</startDate>   # <-----\n",
    "        <endDate>2021-10-31</endDate>\n",
    "    </period>\n",
    "</context>\n",
    "```\n",
    "\n",
    "The report uses the 2nd for 2021 F/S element value but does not use the first one.\n",
    "\n",
    "**B/S**\n",
    "```\n",
    "<us-gaap:Assets \n",
    "    contextRef=\"i_2021-10-31\"    # <-----\n",
    "    decimals=\"INF\" \n",
    "    id=\"c79893606\" \n",
    "    unitRef=\"USD\"\n",
    ">\n",
    "  37916530\n",
    "</us-gaap:Assets>\n",
    "```\n",
    "\n",
    "**P/L**\n",
    "```\n",
    "<us-gaap:RevenueFromContractWithCustomerIncludingAssessedTax \n",
    "  contextRef=\"d_2020-11-01_2021-10-31\"     # <-----\n",
    "  decimals=\"INF\" \n",
    "  id=\"c79893662\" \n",
    "  unitRef=\"USD\"\n",
    ">\n",
    "  59136294\n",
    "</us-gaap:RevenueFromContractWithCustomerIncludingAssessedTax>\n",
    "```\n",
    "\n",
    "<img src='../image/edgar_optical_cable_2021_10K.png' align=\"left\" width=500/>"
   ]
  },
  {
   "cell_type": "markdown",
   "id": "9982a4f2",
   "metadata": {},
   "source": [
    "### Get the period from the 1st\n",
    "\n",
    "For now, just get the period from the 1st **period** element."
   ]
  },
  {
   "cell_type": "code",
   "execution_count": 22,
   "id": "0888bf98",
   "metadata": {},
   "outputs": [],
   "source": [
    "def get_report_period_end_date(soup, date_from_xbrl_filename=None):\n",
    "    \"\"\"Identify the end date of the report period from the first \"context\" tag\n",
    "    in the XBRL that has <period><startDate> tag as its child tag. \n",
    "\n",
    "    <context id=\"ifb6ce67cf6954ebf88471dd82daa9247_D20200329-20210403\">\n",
    "        <entity>\n",
    "        <identifier scheme=\"http://www.sec.gov/CIK\">0001604778</identifier>\n",
    "        </entity>\n",
    "        <period>\n",
    "            <startDate>2020-03-29</startDate>\n",
    "            <endDate>2021-04-03</endDate>        # <-----\n",
    "        </period>\n",
    "    </context>\n",
    "\n",
    "    Args:\n",
    "        soup: Source BS4\n",
    "        date_from_xbrl_filename: Date extracted from XBRL XML filename \n",
    "    Returns: reporting period e.g. \"2021-09-30\"\n",
    "    \"\"\"\n",
    "    candidates = []\n",
    "    report_period_end_date = None\n",
    "    \n",
    "    # --------------------------------------------------------------------------------\n",
    "    # List all the endDate from the Contexts\n",
    "    # --------------------------------------------------------------------------------\n",
    "    regexp_end_date_pattern = re.compile(r\"(\\s*)([12][0-9]{3}-[0-9]{1,2}-[0-9]{1,2})(\\s*)\")\n",
    "    for context in soup.find_all(REGEXP_XBRL_TAG_CONTEXT):\n",
    "        # --------------------------------------------------------------------------------\n",
    "        # Find Context tag which has <period><enddate> child tag\n",
    "        # --------------------------------------------------------------------------------\n",
    "        period = context.find(REGEXP_XBRL_TAG_PERIOD)\n",
    "        if period:\n",
    "            end_date = period.find(REGEXP_XBRL_TAG_END_DATE)\n",
    "            if end_date:\n",
    "                match = re.match(regexp_end_date_pattern, end_date.string.strip())\n",
    "                if match and is_date_string(match.group(2)):\n",
    "                    candidates.append(match.group(2))\n",
    "\n",
    "    assert len(candidates) > 0, \"No period found\"\n",
    "    \n",
    "    # --------------------------------------------------------------------------------\n",
    "    # If the date from the XBRL XML name is in the candidate, use it as the end_datge\n",
    "    # Otherwise use the first candidate.\n",
    "    # --------------------------------------------------------------------------------\n",
    "    if date_from_xbrl_filename in candidates:\n",
    "        report_period_end_date = date_from_xbrl_filename\n",
    "    else:\n",
    "        report_period_end_date = candidates[0]\n",
    "\n",
    "    return report_period_end_date"
   ]
  },
  {
   "cell_type": "code",
   "execution_count": 23,
   "id": "2735530f",
   "metadata": {},
   "outputs": [
    {
     "name": "stdout",
     "output_type": "stream",
     "text": [
      "('wat-', '20100403', '')\n"
     ]
    },
    {
     "data": {
      "text/plain": [
       "'2010-04-03'"
      ]
     },
     "execution_count": 23,
     "metadata": {},
     "output_type": "execute_result"
    }
   ],
   "source": [
    "def get_date_from_xbrl_filename(filename):\n",
    "    \"\"\"\n",
    "    Infer the reporting period end date from the XBRL XML filename.\n",
    "    e.g if XBRL XML is rfmd-20210403_htm.xml, then 2021-04-03 is highly\n",
    "    like to be the report period end date.\n",
    "\n",
    "    In the XBRL XML file, there is a Context which identifies the end date\n",
    "    of the report period.\n",
    "\n",
    "    <context id=\"ifb6ce67cf6954ebf88471dd82daa9247_D20200329-20210403\">\n",
    "        <entity>\n",
    "        <identifier scheme=\"http://www.sec.gov/CIK\">0001604778</identifier>\n",
    "        </entity>\n",
    "        <period>\n",
    "            <startDate>2020-03-29</startDate>\n",
    "            <endDate>2021-04-03</endDate>         # <--- end of the period\n",
    "        </period>\n",
    "    </context>\n",
    "\n",
    "    This endDate value is highly likely to match the date from the filename.\n",
    "    \"\"\"\n",
    "    filename = filename_basename(filename)\n",
    "    if False:\n",
    "        pattern = re.compile(r\"([^0-9]*)[-]*([12][0-9]{3})[-]*([0-9]{2})[-]*([0-9]{2})(.*)\")\n",
    "        match = re.match(pattern, filename)\n",
    "        if match:\n",
    "            year = match.group(2)\n",
    "            month = match.group(3)\n",
    "            day = match.group(4)\n",
    "            date_from_xbrl_filename = \"-\".join([year, month, day])\n",
    "            return date_from_xbrl_filename\n",
    "        else:\n",
    "            return None\n",
    "    else:\n",
    "        pattern = re.compile(r\"(.*)([12][0-9]{7})(.*)\")\n",
    "        match = re.match(pattern, filename)\n",
    "        if match:\n",
    "            print(match.groups())\n",
    "            yyyymmdd = match.group(2)\n",
    "            year = yyyymmdd[:4]\n",
    "            month = yyyymmdd[4:6]\n",
    "            day = yyyymmdd[6:8]\n",
    "            return \"-\".join([year, month, day])\n",
    "        else:\n",
    "            return None\n",
    "\n",
    "date_from_xbrl_filename = get_date_from_xbrl_filename(filename_basename(XBRL_XML_URL))\n",
    "date_from_xbrl_filename"
   ]
  },
  {
   "cell_type": "code",
   "execution_count": 24,
   "id": "21d36239",
   "metadata": {},
   "outputs": [
    {
     "name": "stdout",
     "output_type": "stream",
     "text": [
      "('wat-', '20100403', '')\n",
      "2010-04-03\n",
      "('hsicform10q', '20200926', '_htm')\n",
      "2020-09-26\n"
     ]
    }
   ],
   "source": [
    "print(get_date_from_xbrl_filename(filename_basename(XBRL_XML_URL)))\n",
    "print(get_date_from_xbrl_filename(\"hsicform10q20200926_htm.xml\"))"
   ]
  },
  {
   "cell_type": "code",
   "execution_count": 25,
   "id": "ef4f78ba",
   "metadata": {},
   "outputs": [
    {
     "data": {
      "text/plain": [
       "'2010-04-03'"
      ]
     },
     "execution_count": 25,
     "metadata": {},
     "output_type": "execute_result"
    }
   ],
   "source": [
    "report_period_end_date = get_report_period_end_date(soup, date_from_xbrl_filename)\n",
    "report_period_end_date"
   ]
  },
  {
   "cell_type": "markdown",
   "id": "d73f5a4e",
   "metadata": {},
   "source": [
    "### List contexts whose endDate matrches report period end date"
   ]
  },
  {
   "cell_type": "code",
   "execution_count": 26,
   "id": "c8c4aeeb",
   "metadata": {},
   "outputs": [
    {
     "name": "stdout",
     "output_type": "stream",
     "text": [
      "no match TwelveMonthsEnded_31Dec20092 : 2009-12-31\n",
      "no match ThreeMonthsEnded_4Apr2009 : 2009-04-04\n",
      "match[contxt_id ThreeMonthsEnded_3Apr2010 : 2010-04-03]\n"
     ]
    }
   ],
   "source": [
    "# Experiment to test extract the context that has the matching end date\n",
    "regexp = re.compile(rf\"(\\s*)({report_period_end_date})(\\s*)\")\n",
    "\n",
    "for context in soup.find_all(REGEXP_XBRL_TAG_CONTEXT):\n",
    "    period = context.find(REGEXP_XBRL_TAG_PERIOD)\n",
    "    if period:\n",
    "        end_date = period.find(REGEXP_XBRL_TAG_END_DATE)\n",
    "        if end_date:\n",
    "            match = re.match(regexp, end_date.string.strip())\n",
    "            if match:\n",
    "                print(f\"match[contxt_id {context['id']} : {match.group(2)}]\")\n",
    "            else:\n",
    "                print(f\"no match {context['id']} : {end_date.string.strip()}\")\n"
   ]
  },
  {
   "cell_type": "code",
   "execution_count": 27,
   "id": "d67e4cb5",
   "metadata": {},
   "outputs": [],
   "source": [
    "### List contexts whose instant matrches report period end date"
   ]
  },
  {
   "cell_type": "code",
   "execution_count": 28,
   "id": "eeff9eb2",
   "metadata": {},
   "outputs": [
    {
     "name": "stdout",
     "output_type": "stream",
     "text": [
      "match[contxt_id ThreeMonthsEnded_3Apr20102 : 2010-04-03]\n",
      "no match TwelveMonthsEnded_31Dec2009 : 2009-12-31\n",
      "no match ThreeMonthsEnded_4Apr20092 : 2009-04-04\n",
      "no match TwelveMonthsEnded_31Dec2008 : 2008-12-31\n",
      "no match SixMonthsEnded_4Jul2009 : 2009-07-04\n",
      "no match DayEnded_30Apr2010 : 2010-04-30\n"
     ]
    }
   ],
   "source": [
    "# Experiment to test extract the context that has the matching end date\n",
    "regexp = re.compile(rf\"(\\s*)({report_period_end_date})(\\s*)\")\n",
    "\n",
    "for context in soup.find_all(REGEXP_XBRL_TAG_CONTEXT):\n",
    "    period = context.find(REGEXP_XBRL_TAG_PERIOD)\n",
    "    if period:\n",
    "        instant = period.find([REGEXP_XBRL_TAG_INSTANT])\n",
    "        if instant:\n",
    "            match = re.match(regexp, instant.string)\n",
    "            if match:\n",
    "                print(f\"match[contxt_id {context['id']} : {match.group(2)}]\")\n",
    "            else:\n",
    "                print(f\"no match {context['id']} : {instant.string.strip()}\")\n"
   ]
  },
  {
   "cell_type": "markdown",
   "id": "4681282d",
   "metadata": {},
   "source": [
    "### Regexp to find all the contexts that match with report_period_end_date\n",
    "\n",
    "10-K, 10-Q F/S uses multiple contexts to refer to the F/S element values for the **period**. Collect all the contexts for the **period**."
   ]
  },
  {
   "cell_type": "code",
   "execution_count": 29,
   "id": "557c2bfe",
   "metadata": {
    "scrolled": true
   },
   "outputs": [
    {
     "name": "stdout",
     "output_type": "stream",
     "text": [
      "Range: (2009-12-01, 2010-01-30)\n"
     ]
    }
   ],
   "source": [
    "# Example\n",
    "def get_start_date_range(end_date, form_type):\n",
    "    end_date = dateutil.parser.parse(end_date)\n",
    "    if form_type == SEC_FORM_TYPE_10K:\n",
    "        duration = datetime.timedelta(days=365) \n",
    "\n",
    "    if form_type == SEC_FORM_TYPE_10Q:\n",
    "        duration = datetime.timedelta(days=90) \n",
    "\n",
    "    _from = end_date - duration - datetime.timedelta(days=30)\n",
    "    _to  = end_date - duration + datetime.timedelta(days=30)\n",
    "    print(f\"Range: ({str(_from)[:10]}, {str(_to)[:10]})\")\n",
    "    \n",
    "get_start_date_range(\"2010-03-31\", SEC_FORM_TYPE_10Q)"
   ]
  },
  {
   "cell_type": "markdown",
   "id": "22df7b33",
   "metadata": {},
   "source": [
    "## Context IDs that refer to the current period"
   ]
  },
  {
   "cell_type": "code",
   "execution_count": 30,
   "id": "3e45c2d5",
   "metadata": {},
   "outputs": [
    {
     "data": {
      "text/plain": [
       "['ThreeMonthsEnded_3Apr2010', 'ThreeMonthsEnded_3Apr20102']"
      ]
     },
     "execution_count": 30,
     "metadata": {},
     "output_type": "execute_result"
    }
   ],
   "source": [
    "get_target_context_ids(soup=soup, report_period_end_date=report_period_end_date, form_type=FORM_TYPE)"
   ]
  },
  {
   "cell_type": "markdown",
   "id": "0a8b24ae",
   "metadata": {},
   "source": [
    "---\n",
    "# Constant"
   ]
  },
  {
   "cell_type": "code",
   "execution_count": 31,
   "id": "dab3debf",
   "metadata": {},
   "outputs": [],
   "source": [
    "from xbrl_gaap_constant import (\n",
    "    NAMESPACE_GAAP,\n",
    "    GAAP_CREDIT_ITEMS,\n",
    "    GAAP_DEBIT_ITEMS,\n",
    "    GAAP_CALC_ITEMS,\n",
    "    GAAP_METRIC_ITEMS,\n",
    "    GAAP_FACT_ITEMS,\n",
    ")\n",
    "from sec_edgar_constant import (\n",
    "    FS_ELEMENT_TYPE_DEBIT,\n",
    "    FS_ELEMENT_TYPE_CREDIT,\n",
    "    FS_ELEMENT_TYPE_CALC,\n",
    "    FS_ELEMENT_TYPE_METRIC,\n",
    "    FS_ELEMENT_TYPE_FACT,\n",
    ")"
   ]
  },
  {
   "cell_type": "code",
   "execution_count": 32,
   "id": "326602c0",
   "metadata": {},
   "outputs": [],
   "source": [
    "CONTEXT_REGEXP = re.compile(\"|\".join(\n",
    "    get_target_context_ids(soup=soup, report_period_end_date=report_period_end_date, form_type=FORM_TYPE))\n",
    ")"
   ]
  },
  {
   "cell_type": "code",
   "execution_count": 33,
   "id": "e88e4f29",
   "metadata": {},
   "outputs": [
    {
     "data": {
      "text/plain": [
       "re.compile(r'ThreeMonthsEnded_3Apr2010|ThreeMonthsEnded_3Apr20102', re.UNICODE)"
      ]
     },
     "execution_count": 33,
     "metadata": {},
     "output_type": "execute_result"
    }
   ],
   "source": [
    "CONTEXT_REGEXP"
   ]
  },
  {
   "cell_type": "markdown",
   "id": "0ff7cd8b",
   "metadata": {},
   "source": [
    "# Utilities"
   ]
  },
  {
   "cell_type": "code",
   "execution_count": 34,
   "id": "e9738300",
   "metadata": {},
   "outputs": [],
   "source": [
    "def assert_bf4_tag(element):\n",
    "    assert isinstance(element, bs4.element.Tag), \\\n",
    "    f\"Expected BS4 tag but {element} of type {type(element)}\""
   ]
  },
  {
   "cell_type": "code",
   "execution_count": 35,
   "id": "ce1dd4d6",
   "metadata": {},
   "outputs": [],
   "source": [
    "def display_elements(elements):\n",
    "    assert isinstance(elements, bs4.element.ResultSet) or isinstance(elements[0], bs4.element.Tag)\n",
    "    for element in elements: # decimals=\"-3\" means the displayed value is divied by 1000.\n",
    "        print(f\"{element.name:80} {element['unitref']:5} {element['decimals']:5} {element.text:15}\")"
   ]
  },
  {
   "cell_type": "code",
   "execution_count": 36,
   "id": "c5b3f246",
   "metadata": {},
   "outputs": [],
   "source": [
    "def get_element_hash(element):\n",
    "    \"\"\"Generate the financial element hash key to uniquely identify an financial element record\n",
    "    In a F/S, the same element, e.g. gaap:CashAndCashEquivalentsAtCarryingValue can be used at\n",
    "    multiple places, one in B/S and one in P/L.\n",
    "    \n",
    "    To be able to identify if two elements are the same, provides a way to be able to compare\n",
    "    two elements by generating a hash key from the attributes of an element.\n",
    "    \n",
    "    Args:\n",
    "        element: bs4.element.Tag for an financial element\n",
    "    Returns: hash key\n",
    "    \"\"\"\n",
    "    assert isinstance(element, bs4.element.Tag)\n",
    "    # key = f\"{element.name}{element['unitref']}{element['contextref']}{element.text}\"\n",
    "    # key = f\"{element.name}{element['unitref']}{element.text}\"\n",
    "    key = f\"{element.name}{element['unitref']}\"\n",
    "    return hash(key)"
   ]
  },
  {
   "cell_type": "code",
   "execution_count": 37,
   "id": "d4640ab6",
   "metadata": {},
   "outputs": [],
   "source": [
    "# XBRL attribute conditions to match when extracting FS elements\n",
    "ATTRIBUTES = {\n",
    "    \"contextref\": CONTEXT_REGEXP,\n",
    "    \"decimals\": True, \n",
    "    \"unitref\": True\n",
    "}\n",
    "\n",
    "\n",
    "def find_financial_elements(soup, element_names, attributes=ATTRIBUTES):\n",
    "    \"\"\"Find the financial statement elements from the XML/HTML source.\n",
    "    Args:\n",
    "        soup: BS4 source\n",
    "        element_names: String or regexp instance to select the financial elements.\n",
    "        attribute: tag attributes to select the financial elements\n",
    "    Returns:\n",
    "        List of BS4 tag objects that matched the element_names and attributes.\n",
    "    \"\"\"\n",
    "    assert isinstance(soup, BeautifulSoup)\n",
    "    assert isinstance(element_names, re.Pattern) or isinstance(element_names, str)\n",
    "\n",
    "    \n",
    "    names = element_names.lower() if isinstance(element_names, str) else element_names\n",
    "\n",
    "    elements = soup.find_all(\n",
    "        name=names,\n",
    "        string=REGEXP_NUMERIC,\n",
    "        attrs=attributes\n",
    "    )\n",
    "    \n",
    "    # Select unique elements\n",
    "    hashes = set([]) \n",
    "    results = []\n",
    "    if elements is not None and len(elements) > 0:\n",
    "        for element in elements:\n",
    "            hash_value = get_element_hash(element)\n",
    "            if hash_value not in hashes:\n",
    "                results.append(element) \n",
    "                hashes.add(hash_value)\n",
    "    return results"
   ]
  },
  {
   "cell_type": "code",
   "execution_count": 38,
   "id": "98361b59",
   "metadata": {},
   "outputs": [
    {
     "name": "stdout",
     "output_type": "stream",
     "text": [
      "us-gaap:amortizationofintangibleassets                                                              :6544000\n",
      "us-gaap:cashandcashequivalentsperiodincreasedecrease                                                :-44099000\n",
      "us-gaap:deferredincometaxexpensebenefit                                                             :-1950000\n",
      "us-gaap:depreciation                                                                                :8441000\n",
      "us-gaap:effectofexchangerateoncashandcashequivalents                                                :-12588000\n",
      "us-gaap:excesstaxbenefitfromsharebasedcompensationfinancingactivities                               :2182000\n",
      "us-gaap:increasedecreaseinaccountspayableandaccruedliabilities                                      :13720000\n",
      "us-gaap:increasedecreaseinaccountsreceivable                                                        :-6230000\n",
      "us-gaap:increasedecreaseininventories                                                               :-16134000\n",
      "us-gaap:increasedecreaseinotheroperatingassets                                                      :-4222000\n",
      "us-gaap:increasedecreaseinotheroperatingliabilities                                                 :-1168000\n",
      "us-gaap:increasedecreaseinprepaiddeferredexpenseandotherassets                                      :-4679000\n",
      "us-gaap:inventorywritedown                                                                          :2648000\n",
      "us-gaap:netcashprovidedbyusedinfinancingactivities                                                  :-18479000\n",
      "us-gaap:netcashprovidedbyusedininvestingactivities                                                  :-116187000\n",
      "us-gaap:netcashprovidedbyusedinoperatingactivities                                                  :103155000\n",
      "us-gaap:paymentsforrepurchaseofcommonstock                                                          :-105019000\n",
      "us-gaap:paymentsofdebtissuancecosts                                                                 :-1473000\n",
      "us-gaap:paymentstoacquirebusinessesnetofcashacquired                                                :0\n",
      "us-gaap:paymentstoacquireshortterminvestments                                                       :-216748000\n",
      "us-gaap:proceedsfromissuanceoflongtermdebt                                                          :213273000\n",
      "us-gaap:proceedsfromissuanceofsharesunderincentiveandsharebasedcompensationplansincludingstockoptions:8852000\n",
      "us-gaap:proceedsfromsaleofshortterminvestments                                                      :110726000\n",
      "us-gaap:provisionfordoubtfulaccounts                                                                :904000\n",
      "us-gaap:repaymentsoflongtermdebt                                                                    :-132663000\n",
      "us-gaap:sharebasedcompensation                                                                      :6031000\n",
      "us-gaap:accountspayablecurrent                                                                      :57823000\n",
      "us-gaap:accountsreceivablenetcurrent                                                                :313951000\n",
      "us-gaap:accruedincometaxescurrent                                                                   :18550000\n",
      "us-gaap:accruedincometaxesnoncurrent                                                                :72479000\n",
      "us-gaap:accumulatedothercomprehensiveincomelossnetoftax                                             :-7680000\n",
      "us-gaap:additionalpaidincapital                                                                     :825188000\n",
      "us-gaap:assets                                                                                      :1981242000\n",
      "us-gaap:assetscurrent                                                                               :1249217000\n",
      "us-gaap:cashandcashequivalentsatcarryingvalue                                                       :297012000\n",
      "us-gaap:commonstockparorstatedvaluepershare                                                         :0.01\n",
      "us-gaap:commonstocksharesauthorized                                                                 :400000000\n",
      "us-gaap:commonstocksharesissued                                                                     :149283000\n",
      "us-gaap:commonstocksharesoutstanding                                                                :92846000\n",
      "us-gaap:commonstockvalue                                                                            :1493000\n",
      "us-gaap:debtcurrent                                                                                 :12382000\n",
      "us-gaap:employeerelatedliabilitiescurrent                                                           :32783000\n",
      "us-gaap:goodwill                                                                                    :291734000\n",
      "us-gaap:intangibleassetsnetexcludinggoodwill                                                        :179557000\n",
      "us-gaap:inventorynet                                                                                :189221000\n",
      "us-gaap:liabilities                                                                                 :1168200000\n",
      "us-gaap:liabilitiesandstockholdersequity                                                            :1981242000\n",
      "us-gaap:liabilitiescurrent                                                                          :305204000\n",
      "us-gaap:liabilitiesnoncurrent                                                                       :862996000\n",
      "us-gaap:longtermdebtnoncurrent                                                                      :700000000\n",
      "us-gaap:otherassetscurrent                                                                          :53865000\n",
      "us-gaap:otherassetsnoncurrent                                                                       :51777000\n",
      "us-gaap:otherliabilitiescurrent                                                                     :55774000\n",
      "us-gaap:otherliabilitiesnoncurrent                                                                  :21074000\n",
      "us-gaap:pensionandotherpostretirementdefinedbenefitplansliabilitiesnoncurrent                       :69443000\n",
      "us-gaap:preferredstockparorstatedvaluepershare                                                      :0.01\n",
      "us-gaap:preferredstocksharesauthorized                                                              :5000000\n",
      "us-gaap:preferredstocksharesissued                                                                  :0\n",
      "us-gaap:preferredstockvalue                                                                         :0\n",
      "us-gaap:propertyplantandequipmentnet                                                                :208957000\n",
      "us-gaap:retainedearningsaccumulateddeficit                                                          :2312234000\n",
      "us-gaap:shortterminvestments                                                                        :395168000\n",
      "us-gaap:stockholdersequityincludingportionattributabletononcontrollinginterest                      :813042000\n",
      "us-gaap:treasurystockshares                                                                         :56437000\n",
      "us-gaap:treasurystockvalue                                                                          :-2318193000\n",
      "us-gaap:costofgoodsandservicessold                                                                  :145932000\n",
      "us-gaap:costofgoodssold                                                                             :97405000\n",
      "us-gaap:costofservices                                                                              :48527000\n",
      "us-gaap:earningspersharebasic                                                                       :0.81\n",
      "us-gaap:earningspersharediluted                                                                     :0.79\n",
      "us-gaap:grossprofit                                                                                 :221768000\n",
      "us-gaap:incomelossfromcontinuingoperationsbeforeincometaxesminorityinterestandincomelossfromequitymethodinvestments:90072000\n",
      "us-gaap:incometaxexpensebenefit                                                                     :14554000\n",
      "us-gaap:interestexpense                                                                             :-2614000\n",
      "us-gaap:investmentincomeinterest                                                                    :329000\n",
      "us-gaap:operatingincomeloss                                                                         :92357000\n",
      "us-gaap:profitloss                                                                                  :75518000\n",
      "us-gaap:researchanddevelopmentexpense                                                               :20076000\n",
      "us-gaap:salesrevenuegoodsnet                                                                        :253042000\n",
      "us-gaap:salesrevenuenet                                                                             :367700000\n",
      "us-gaap:salesrevenueservicesnet                                                                     :114658000\n",
      "us-gaap:sellinggeneralandadministrativeexpense                                                      :106693000\n",
      "us-gaap:weightedaveragenumberofdilutedsharesoutstanding                                             :95223000\n",
      "us-gaap:weightedaveragenumberofsharesoutstandingbasic                                               :93629000\n"
     ]
    }
   ],
   "source": [
    "for element in find_financial_elements(soup, re.compile(f\"^{NAMESPACE_GAAP}:.*\"), attributes=ATTRIBUTES):\n",
    "    print(f\"{element.name:100}:{element.text}\")"
   ]
  },
  {
   "cell_type": "code",
   "execution_count": 39,
   "id": "38838bae",
   "metadata": {},
   "outputs": [],
   "source": [
    "def get_financial_element_numeric_values(elements):\n",
    "    # assert isinstance(elements, bs4.element.ResultSet) or isinstance(elements[0], bs4.element.Tag)\n",
    "    assert_bf4_tag(elements[0])\n",
    "    \n",
    "    values = []\n",
    "    for element in elements:\n",
    "        assert re.match(REGEXP_NUMERIC, element.text.strip()), f\"Element must be numeric but {element.text}\"\n",
    "        values.append(float(element.text))\n",
    "        \n",
    "    return values"
   ]
  },
  {
   "cell_type": "code",
   "execution_count": 40,
   "id": "bd39bd7a",
   "metadata": {},
   "outputs": [],
   "source": [
    "def get_financial_element_columns():\n",
    "    \"\"\"Financial record columns\"\"\"\n",
    "    return [\n",
    "        \"fs\",           # Which financial statement e.g. bs for Balance Sheet\n",
    "        \"rep\",          # Representative marker e.g. \"income\" or \"cogs\" (cost of goods sold)\n",
    "        \"type\",         # \"debit\" or \"credit\"\n",
    "        \"name\",         # F/S item name, e.g. us-gaap:revenues\n",
    "        \"value\", \n",
    "        \"unit\",         # e.g. USD\n",
    "        \"decimals\",     # Scale\n",
    "        \"context\"       # XBRL context ID\n",
    "    ]\n",
    "\n",
    "def get_record_for_nil_elements(elements):\n",
    "    return []\n",
    "\n",
    "def get_records_for_financial_elements(elements):\n",
    "    \"\"\"Financial record having the columns of get_financial_element_columns\"\"\"\n",
    "    # assert isinstance(elements, bs4.element.ResultSet) or isinstance(elements[0], bs4.element.Tag)\n",
    "    assert_bf4_tag(elements[0])\n",
    "    \n",
    "    results = []\n",
    "    for element in elements:\n",
    "        # F/S\n",
    "        element_fs = \"\"\n",
    "        \n",
    "        # Rep\n",
    "        element_rep = \"\"\n",
    "        \n",
    "        # Type of the element\n",
    "        element_type = None\n",
    "        if element.name in GAAP_DEBIT_ITEMS: element_type = FS_ELEMENT_TYPE_DEBIT\n",
    "        if element.name in GAAP_CREDIT_ITEMS: element_type = FS_ELEMENT_TYPE_CREDIT\n",
    "        if element.name in GAAP_CALC_ITEMS: element_type = FS_ELEMENT_TYPE_CALC\n",
    "        if element.name in GAAP_METRIC_ITEMS: element_type = FS_ELEMENT_TYPE_METRIC\n",
    "        if element.name in GAAP_FACT_ITEMS: element_type = FS_ELEMENT_TYPE_FACT\n",
    "            \n",
    "        \n",
    "        # Name of the financial element\n",
    "        element_name = element.name\n",
    "        \n",
    "        # Unit of the financial element\n",
    "        element_unit = element['unitref']\n",
    "        \n",
    "        # Scale of the element\n",
    "        element_scale = int(element['decimals']) if element['decimals'].lower() != 'inf' else np.inf\n",
    "            \n",
    "        # Value of the element\n",
    "        element_value = float(element.text)\n",
    "\n",
    "        # Context ID of the element\n",
    "        element_context = element['contextref']\n",
    "\n",
    "        record = [\n",
    "            element_fs,\n",
    "            element_rep,\n",
    "            element_type,\n",
    "            element_name,\n",
    "            element_value, \n",
    "            element_unit, \n",
    "            element_scale, \n",
    "            element_context\n",
    "        ]\n",
    "        assert len(record) == len(get_financial_element_columns())\n",
    "        results.append(record)\n",
    "        \n",
    "    return results\n",
    "\n",
    "\n",
    "def represents(records: list, fs: str, rep: str):\n",
    "    assert isinstance(records, list) and len(fs) > 0 and len(rep) > 0\n",
    "    if len(records) > 0:\n",
    "        row = records[0]\n",
    "        row[0] = fs\n",
    "        row[1] = rep\n",
    "    \n",
    "    return records"
   ]
  },
  {
   "cell_type": "code",
   "execution_count": 41,
   "id": "e6fabee2",
   "metadata": {},
   "outputs": [],
   "source": [
    "def get_records_for_financial_element_names(soup, names: List[str]):\n",
    "    \"\"\"Get finacial records that matches the financial element names\n",
    "    \"\"\"\n",
    "    elements = find_financial_elements(soup=soup, element_names=names)\n",
    "    if len(elements) > 0:\n",
    "        display_elements(elements)\n",
    "        return get_records_for_financial_elements(elements)\n",
    "    else:\n",
    "        return get_record_for_nil_elements(elements)"
   ]
  },
  {
   "cell_type": "code",
   "execution_count": 42,
   "id": "190f39c0",
   "metadata": {},
   "outputs": [],
   "source": [
    "def get_values_for_financial_element_names(soup, names: List[str]):\n",
    "    elements = find_financial_elements(soup=soup, element_names=names)\n",
    "    if len(elements) > 0:\n",
    "        display_elements(elements)\n",
    "        return get_financial_element_numeric_values(elements)\n",
    "    else:\n",
    "        return []"
   ]
  },
  {
   "cell_type": "markdown",
   "id": "5c0233d8",
   "metadata": {},
   "source": [
    "---\n",
    "# Shares Outstanding"
   ]
  },
  {
   "cell_type": "code",
   "execution_count": 43,
   "id": "cc657c72",
   "metadata": {},
   "outputs": [],
   "source": [
    "def get_shares_outstanding(soup):\n",
    "    names = re.compile(\"|\".join([\n",
    "        rf\"{NAMESPACE_GAAP}:SharesOutstanding\",\n",
    "        rf\"{NAMESPACE_GAAP}:CommonStockSharesOutstanding\",\n",
    "        rf\"{NAMESPACE_GAAP}:CommonStockOtherSharesOutstanding\",\n",
    "    ]).lower())\n",
    "\n",
    "    return get_records_for_financial_element_names(soup=soup, names=names)"
   ]
  },
  {
   "cell_type": "code",
   "execution_count": 44,
   "id": "37d26480",
   "metadata": {},
   "outputs": [
    {
     "name": "stdout",
     "output_type": "stream",
     "text": [
      "us-gaap:commonstocksharesoutstanding                                             Shares -3    92846000       \n"
     ]
    },
    {
     "data": {
      "text/plain": [
       "[['',\n",
       "  '',\n",
       "  'fact',\n",
       "  'us-gaap:commonstocksharesoutstanding',\n",
       "  92846000.0,\n",
       "  'Shares',\n",
       "  -3,\n",
       "  'ThreeMonthsEnded_3Apr20102']]"
      ]
     },
     "execution_count": 44,
     "metadata": {},
     "output_type": "execute_result"
    }
   ],
   "source": [
    "shares_outstandings = get_shares_outstanding(soup)\n",
    "shares_outstandings"
   ]
  },
  {
   "cell_type": "code",
   "execution_count": 45,
   "id": "caba0959",
   "metadata": {},
   "outputs": [
    {
     "data": {
      "text/html": [
       "<div>\n",
       "<style scoped>\n",
       "    .dataframe tbody tr th:only-of-type {\n",
       "        vertical-align: middle;\n",
       "    }\n",
       "\n",
       "    .dataframe tbody tr th {\n",
       "        vertical-align: top;\n",
       "    }\n",
       "\n",
       "    .dataframe thead th {\n",
       "        text-align: right;\n",
       "    }\n",
       "</style>\n",
       "<table border=\"1\" class=\"dataframe\">\n",
       "  <thead>\n",
       "    <tr style=\"text-align: center;\">\n",
       "      <th></th>\n",
       "      <th>0</th>\n",
       "      <th>1</th>\n",
       "      <th>2</th>\n",
       "      <th>3</th>\n",
       "      <th>4</th>\n",
       "      <th>5</th>\n",
       "      <th>6</th>\n",
       "      <th>7</th>\n",
       "    </tr>\n",
       "  </thead>\n",
       "  <tbody>\n",
       "    <tr>\n",
       "      <th>0</th>\n",
       "      <td></td>\n",
       "      <td></td>\n",
       "      <td>fact</td>\n",
       "      <td>us-gaap:commonstocksharesoutstanding</td>\n",
       "      <td>92846000</td>\n",
       "      <td>Shares</td>\n",
       "      <td>-3</td>\n",
       "      <td>ThreeMonthsEnded_3Apr20102</td>\n",
       "    </tr>\n",
       "  </tbody>\n",
       "</table>\n",
       "</div>"
      ],
      "text/plain": [
       "  0 1   2                     3                       4       5     6  \\\n",
       "0      fact  us-gaap:commonstocksharesoutstanding 92846000  Shares -3   \n",
       "\n",
       "               7               \n",
       "0  ThreeMonthsEnded_3Apr20102  "
      ]
     },
     "execution_count": 45,
     "metadata": {},
     "output_type": "execute_result"
    }
   ],
   "source": [
    "df_ShareOutstanding = pd.DataFrame(shares_outstandings)\n",
    "df_ShareOutstanding"
   ]
  },
  {
   "cell_type": "markdown",
   "id": "e26002ef",
   "metadata": {},
   "source": [
    "---\n",
    "# Statements of Income (P/L)"
   ]
  },
  {
   "cell_type": "code",
   "execution_count": 46,
   "id": "e8e1ddf9",
   "metadata": {},
   "outputs": [],
   "source": [
    "PL = []"
   ]
  },
  {
   "cell_type": "markdown",
   "id": "efc28ac0",
   "metadata": {},
   "source": [
    "## Revenues"
   ]
  },
  {
   "cell_type": "code",
   "execution_count": 47,
   "id": "8b3536ab",
   "metadata": {},
   "outputs": [],
   "source": [
    "PL += get_pl_revenues(soup, attributes=ATTRIBUTES)\n",
    "PL += get_pl_revenue_other(soup, attributes=ATTRIBUTES)\n",
    "PL += get_pl_income_interest(soup, attributes=ATTRIBUTES)\n",
    "PL += get_pl_income_other(soup, attributes=ATTRIBUTES)"
   ]
  },
  {
   "cell_type": "code",
   "execution_count": 48,
   "id": "1cac8cff",
   "metadata": {},
   "outputs": [
    {
     "data": {
      "text/plain": [
       "[['pl',\n",
       "  'revenue',\n",
       "  'credit',\n",
       "  'us-gaap:salesrevenuenet',\n",
       "  367700000,\n",
       "  'USD',\n",
       "  -3,\n",
       "  'ThreeMonthsEnded_3Apr2010'],\n",
       " ['',\n",
       "  '',\n",
       "  'credit',\n",
       "  'us-gaap:salesrevenuegoodsnet',\n",
       "  253042000,\n",
       "  'USD',\n",
       "  -3,\n",
       "  'ThreeMonthsEnded_3Apr2010'],\n",
       " ['',\n",
       "  '',\n",
       "  'credit',\n",
       "  'us-gaap:salesrevenueservicesnet',\n",
       "  114658000,\n",
       "  'USD',\n",
       "  -3,\n",
       "  'ThreeMonthsEnded_3Apr2010']]"
      ]
     },
     "execution_count": 48,
     "metadata": {},
     "output_type": "execute_result"
    }
   ],
   "source": [
    "get_pl_revenues(soup, attributes=ATTRIBUTES)"
   ]
  },
  {
   "cell_type": "markdown",
   "id": "b0ab1b3c",
   "metadata": {},
   "source": [
    "## Cost of Revenues"
   ]
  },
  {
   "cell_type": "code",
   "execution_count": 49,
   "id": "4d976b40",
   "metadata": {},
   "outputs": [],
   "source": [
    "PL += get_pl_cost_of_revenues(soup, attributes=ATTRIBUTES)"
   ]
  },
  {
   "cell_type": "markdown",
   "id": "ce53e123",
   "metadata": {},
   "source": [
    "## ***___# Gross Profit___***"
   ]
  },
  {
   "cell_type": "code",
   "execution_count": 50,
   "id": "dd3629c0",
   "metadata": {},
   "outputs": [],
   "source": [
    "PL += get_pl_gross_profit(soup, attributes=ATTRIBUTES)"
   ]
  },
  {
   "cell_type": "markdown",
   "id": "b01793a9",
   "metadata": {},
   "source": [
    "## Operating Expenses"
   ]
  },
  {
   "cell_type": "markdown",
   "id": "c53bcb56",
   "metadata": {},
   "source": [
    "### Research and Development"
   ]
  },
  {
   "cell_type": "code",
   "execution_count": 51,
   "id": "c6f743ca",
   "metadata": {},
   "outputs": [],
   "source": [
    "PL += get_pl_operating_expense_r_and_d(soup, attributes=ATTRIBUTES)"
   ]
  },
  {
   "cell_type": "markdown",
   "id": "1eecae84",
   "metadata": {},
   "source": [
    "### Administrative Expense"
   ]
  },
  {
   "cell_type": "code",
   "execution_count": 52,
   "id": "1c946365",
   "metadata": {},
   "outputs": [],
   "source": [
    "PL += get_pl_operating_expense_selling_administrative(soup, attributes=ATTRIBUTES)"
   ]
  },
  {
   "cell_type": "markdown",
   "id": "8b6ebc6f",
   "metadata": {},
   "source": [
    "### Other operating expenses\n",
    "\n",
    "The total amount of other operating cost and expense items that are associated with the entity's normal revenue producing operation"
   ]
  },
  {
   "cell_type": "code",
   "execution_count": 53,
   "id": "efe30709",
   "metadata": {},
   "outputs": [],
   "source": [
    "PL += get_pl_operating_expense_other(soup, attributes=ATTRIBUTES)"
   ]
  },
  {
   "cell_type": "markdown",
   "id": "129ce993",
   "metadata": {},
   "source": [
    "## ***___# Total Operating Expenses___***"
   ]
  },
  {
   "cell_type": "code",
   "execution_count": 54,
   "id": "c8a6e74b",
   "metadata": {},
   "outputs": [],
   "source": [
    "PL += get_pl_operating_expense_total(soup, attributes=ATTRIBUTES)"
   ]
  },
  {
   "cell_type": "markdown",
   "id": "2592f2bf",
   "metadata": {},
   "source": [
    "## ***___# Operating Income___***\n",
    "\n",
    "```Operating Income = GrossProfit - Total Operating Expenses```"
   ]
  },
  {
   "cell_type": "code",
   "execution_count": 55,
   "id": "9a1b2d5e",
   "metadata": {},
   "outputs": [],
   "source": [
    "PL += get_pl_operating_income(soup, attributes=ATTRIBUTES)"
   ]
  },
  {
   "cell_type": "markdown",
   "id": "3d5374f9",
   "metadata": {},
   "source": [
    "## Non Operating Expenses"
   ]
  },
  {
   "cell_type": "markdown",
   "id": "f05a3d4c",
   "metadata": {},
   "source": [
    "### Interest Expense\n",
    "\n",
    "* [Investopedia - What Is an Interest Expense?](https://www.investopedia.com/terms/i/interestexpense.asp)\n",
    "\n",
    "> An interest expense is the cost incurred by an entity for borrowed funds. Interest expense is a non-operating expense shown on the income statement. It represents interest payable on any borrowings – bonds, loans, convertible debt or lines of credit. It is essentially calculated as the interest rate times the outstanding principal amount of the debt. Interest expense on the income statement represents ***interest accrued during the period*** covered by the financial statements, and **NOT the amount of interest paid over that period**. While interest expense is tax-deductible for companies, in an individual's case, it depends on his or her jurisdiction and also on the loan's purpose.  \n",
    ">\n",
    "> For most people, mortgage interest is the single-biggest category of interest expense over their lifetimes as interest can total tens of thousands of dollars over the life of a mortgage as illustrated by online calculators."
   ]
  },
  {
   "cell_type": "code",
   "execution_count": 56,
   "id": "1198f1d7",
   "metadata": {},
   "outputs": [],
   "source": [
    "PL += get_pl_non_operating_expense_interest(soup, attributes=ATTRIBUTES)"
   ]
  },
  {
   "cell_type": "markdown",
   "id": "eec656b1",
   "metadata": {},
   "source": [
    "### Non-operating Expenses"
   ]
  },
  {
   "cell_type": "code",
   "execution_count": 57,
   "id": "0142cfbd",
   "metadata": {},
   "outputs": [],
   "source": [
    "PL += get_pl_non_operating_expense_other(soup, attributes=ATTRIBUTES)"
   ]
  },
  {
   "cell_type": "markdown",
   "id": "ba7e6c8b",
   "metadata": {},
   "source": [
    "## Income Tax"
   ]
  },
  {
   "cell_type": "code",
   "execution_count": 58,
   "id": "7711f66c",
   "metadata": {},
   "outputs": [],
   "source": [
    "PL += get_pl_income_tax(soup, attributes=ATTRIBUTES)"
   ]
  },
  {
   "cell_type": "markdown",
   "id": "6c85dd7a",
   "metadata": {},
   "source": [
    "## ***___# Net Income___***\n",
    "\n",
    "$GrossProfit - (Operating Expenses + NonOperating Expense) - Tax$"
   ]
  },
  {
   "cell_type": "code",
   "execution_count": 59,
   "id": "42d2ba67",
   "metadata": {},
   "outputs": [],
   "source": [
    "PL += get_pl_net_income(soup, attributes=ATTRIBUTES)"
   ]
  },
  {
   "cell_type": "markdown",
   "id": "81ca2fc8",
   "metadata": {},
   "source": [
    "## ***___# Shares Outstandings___***"
   ]
  },
  {
   "cell_type": "code",
   "execution_count": 60,
   "id": "653941e5",
   "metadata": {},
   "outputs": [],
   "source": [
    "PL += get_pl_shares_outstanding(soup, attributes=ATTRIBUTES)"
   ]
  },
  {
   "cell_type": "markdown",
   "id": "19769059",
   "metadata": {},
   "source": [
    "## ***___# Net Income Per Share___***\n",
    "\n",
    "* [US GAAP - Is Net Income Per Share the same with EPS?](https://money.stackexchange.com/questions/148015/us-gaap-is-net-income-per-share-the-same-with-eps)"
   ]
  },
  {
   "cell_type": "code",
   "execution_count": 61,
   "id": "8682c53a",
   "metadata": {},
   "outputs": [],
   "source": [
    "def get_pl_eps(soup):\n",
    "    return get_records_for_financial_element_names(\n",
    "        soup=soup, names=f\"{NAMESPACE_GAAP}:EarningsPerShareBasic\".lower()\n",
    "    ) + \\\n",
    "    get_records_for_financial_element_names(\n",
    "        soup=soup, names=f\"{NAMESPACE_GAAP}:EarningsPerShareBasicAndDiluted\".lower()\n",
    "    )"
   ]
  },
  {
   "cell_type": "code",
   "execution_count": 62,
   "id": "244f2951",
   "metadata": {},
   "outputs": [
    {
     "name": "stdout",
     "output_type": "stream",
     "text": [
      "us-gaap:earningspersharebasic                                                    USDEPS 2     0.81           \n"
     ]
    }
   ],
   "source": [
    "PL += represents(get_pl_eps(soup), fs=FS_PL, rep=FS_ELEMENT_REP_EPS)"
   ]
  },
  {
   "cell_type": "markdown",
   "id": "2127021b",
   "metadata": {},
   "source": [
    "## Display P/L\n",
    "\n",
    "Is ```us-gaap:othernonoperatingincomeexpense``` credit or debit? As the value is **negative** and so is in the Income Statement, is shoudl be credit -> To be confirmed. "
   ]
  },
  {
   "cell_type": "code",
   "execution_count": 63,
   "id": "f50ffa38",
   "metadata": {},
   "outputs": [
    {
     "data": {
      "text/html": [
       "<div>\n",
       "<style scoped>\n",
       "    .dataframe tbody tr th:only-of-type {\n",
       "        vertical-align: middle;\n",
       "    }\n",
       "\n",
       "    .dataframe tbody tr th {\n",
       "        vertical-align: top;\n",
       "    }\n",
       "\n",
       "    .dataframe thead th {\n",
       "        text-align: right;\n",
       "    }\n",
       "</style>\n",
       "<table border=\"1\" class=\"dataframe\">\n",
       "  <thead>\n",
       "    <tr style=\"text-align: center;\">\n",
       "      <th></th>\n",
       "      <th>fs</th>\n",
       "      <th>rep</th>\n",
       "      <th>type</th>\n",
       "      <th>name</th>\n",
       "      <th>value</th>\n",
       "      <th>unit</th>\n",
       "      <th>decimals</th>\n",
       "      <th>context</th>\n",
       "    </tr>\n",
       "  </thead>\n",
       "  <tbody>\n",
       "    <tr>\n",
       "      <th>0</th>\n",
       "      <td>pl</td>\n",
       "      <td>revenue</td>\n",
       "      <td>credit</td>\n",
       "      <td>us-gaap:salesrevenuenet</td>\n",
       "      <td>367700000</td>\n",
       "      <td>USD</td>\n",
       "      <td>-3</td>\n",
       "      <td>ThreeMonthsEnded_3Apr2010</td>\n",
       "    </tr>\n",
       "    <tr>\n",
       "      <th>1</th>\n",
       "      <td></td>\n",
       "      <td></td>\n",
       "      <td>credit</td>\n",
       "      <td>us-gaap:salesrevenuegoodsnet</td>\n",
       "      <td>253042000</td>\n",
       "      <td>USD</td>\n",
       "      <td>-3</td>\n",
       "      <td>ThreeMonthsEnded_3Apr2010</td>\n",
       "    </tr>\n",
       "    <tr>\n",
       "      <th>2</th>\n",
       "      <td></td>\n",
       "      <td></td>\n",
       "      <td>credit</td>\n",
       "      <td>us-gaap:salesrevenueservicesnet</td>\n",
       "      <td>114658000</td>\n",
       "      <td>USD</td>\n",
       "      <td>-3</td>\n",
       "      <td>ThreeMonthsEnded_3Apr2010</td>\n",
       "    </tr>\n",
       "    <tr>\n",
       "      <th>3</th>\n",
       "      <td></td>\n",
       "      <td></td>\n",
       "      <td>credit</td>\n",
       "      <td>us-gaap:investmentincomeinterest</td>\n",
       "      <td>329000</td>\n",
       "      <td>USD</td>\n",
       "      <td>-3</td>\n",
       "      <td>ThreeMonthsEnded_3Apr2010</td>\n",
       "    </tr>\n",
       "    <tr>\n",
       "      <th>4</th>\n",
       "      <td>pl</td>\n",
       "      <td>operating_cost</td>\n",
       "      <td>debit</td>\n",
       "      <td>us-gaap:costofgoodsandservicessold</td>\n",
       "      <td>145932000</td>\n",
       "      <td>USD</td>\n",
       "      <td>-3</td>\n",
       "      <td>ThreeMonthsEnded_3Apr2010</td>\n",
       "    </tr>\n",
       "    <tr>\n",
       "      <th>5</th>\n",
       "      <td>pl</td>\n",
       "      <td>gross_profit</td>\n",
       "      <td>calc</td>\n",
       "      <td>us-gaap:grossprofit</td>\n",
       "      <td>221768000</td>\n",
       "      <td>USD</td>\n",
       "      <td>-3</td>\n",
       "      <td>ThreeMonthsEnded_3Apr2010</td>\n",
       "    </tr>\n",
       "    <tr>\n",
       "      <th>6</th>\n",
       "      <td>pl</td>\n",
       "      <td>operating_expense_rd</td>\n",
       "      <td>debit</td>\n",
       "      <td>us-gaap:researchanddevelopmentexpense</td>\n",
       "      <td>20076000</td>\n",
       "      <td>USD</td>\n",
       "      <td>-3</td>\n",
       "      <td>ThreeMonthsEnded_3Apr2010</td>\n",
       "    </tr>\n",
       "    <tr>\n",
       "      <th>7</th>\n",
       "      <td>pl</td>\n",
       "      <td>operating_expense_sga</td>\n",
       "      <td>debit</td>\n",
       "      <td>us-gaap:sellinggeneralandadministrativeexpense</td>\n",
       "      <td>106693000</td>\n",
       "      <td>USD</td>\n",
       "      <td>-3</td>\n",
       "      <td>ThreeMonthsEnded_3Apr2010</td>\n",
       "    </tr>\n",
       "    <tr>\n",
       "      <th>8</th>\n",
       "      <td>pl</td>\n",
       "      <td>operating_income</td>\n",
       "      <td>calc</td>\n",
       "      <td>us-gaap:operatingincomeloss</td>\n",
       "      <td>92357000</td>\n",
       "      <td>USD</td>\n",
       "      <td>-3</td>\n",
       "      <td>ThreeMonthsEnded_3Apr2010</td>\n",
       "    </tr>\n",
       "    <tr>\n",
       "      <th>9</th>\n",
       "      <td></td>\n",
       "      <td></td>\n",
       "      <td>debit</td>\n",
       "      <td>us-gaap:interestexpense</td>\n",
       "      <td>-2614000</td>\n",
       "      <td>USD</td>\n",
       "      <td>-3</td>\n",
       "      <td>ThreeMonthsEnded_3Apr2010</td>\n",
       "    </tr>\n",
       "    <tr>\n",
       "      <th>10</th>\n",
       "      <td></td>\n",
       "      <td></td>\n",
       "      <td>debit</td>\n",
       "      <td>us-gaap:incometaxexpensebenefit</td>\n",
       "      <td>14554000</td>\n",
       "      <td>USD</td>\n",
       "      <td>-3</td>\n",
       "      <td>ThreeMonthsEnded_3Apr2010</td>\n",
       "    </tr>\n",
       "    <tr>\n",
       "      <th>11</th>\n",
       "      <td>pl</td>\n",
       "      <td>net_income</td>\n",
       "      <td>calc</td>\n",
       "      <td>us-gaap:profitloss</td>\n",
       "      <td>75518000</td>\n",
       "      <td>USD</td>\n",
       "      <td>-3</td>\n",
       "      <td>ThreeMonthsEnded_3Apr2010</td>\n",
       "    </tr>\n",
       "    <tr>\n",
       "      <th>12</th>\n",
       "      <td>pl</td>\n",
       "      <td>shares_outstanding</td>\n",
       "      <td>fact</td>\n",
       "      <td>us-gaap:commonstocksharesoutstanding</td>\n",
       "      <td>92846000</td>\n",
       "      <td>Shares</td>\n",
       "      <td>-3</td>\n",
       "      <td>ThreeMonthsEnded_3Apr20102</td>\n",
       "    </tr>\n",
       "    <tr>\n",
       "      <th>13</th>\n",
       "      <td>pl</td>\n",
       "      <td>eps</td>\n",
       "      <td>metric</td>\n",
       "      <td>us-gaap:earningspersharebasic</td>\n",
       "      <td>0.81</td>\n",
       "      <td>USDEPS</td>\n",
       "      <td>2</td>\n",
       "      <td>ThreeMonthsEnded_3Apr2010</td>\n",
       "    </tr>\n",
       "  </tbody>\n",
       "</table>\n",
       "</div>"
      ],
      "text/plain": [
       "    fs          rep             type   \\\n",
       "0   pl                revenue  credit   \n",
       "1                              credit   \n",
       "2                              credit   \n",
       "3                              credit   \n",
       "4   pl         operating_cost   debit   \n",
       "5   pl           gross_profit    calc   \n",
       "6   pl   operating_expense_rd   debit   \n",
       "7   pl  operating_expense_sga   debit   \n",
       "8   pl       operating_income    calc   \n",
       "9                               debit   \n",
       "10                              debit   \n",
       "11  pl             net_income    calc   \n",
       "12  pl     shares_outstanding    fact   \n",
       "13  pl                    eps  metric   \n",
       "\n",
       "                         name                         value    unit   \\\n",
       "0                          us-gaap:salesrevenuenet 367700000     USD   \n",
       "1                     us-gaap:salesrevenuegoodsnet 253042000     USD   \n",
       "2                  us-gaap:salesrevenueservicesnet 114658000     USD   \n",
       "3                 us-gaap:investmentincomeinterest    329000     USD   \n",
       "4               us-gaap:costofgoodsandservicessold 145932000     USD   \n",
       "5                              us-gaap:grossprofit 221768000     USD   \n",
       "6            us-gaap:researchanddevelopmentexpense  20076000     USD   \n",
       "7   us-gaap:sellinggeneralandadministrativeexpense 106693000     USD   \n",
       "8                      us-gaap:operatingincomeloss  92357000     USD   \n",
       "9                          us-gaap:interestexpense  -2614000     USD   \n",
       "10                 us-gaap:incometaxexpensebenefit  14554000     USD   \n",
       "11                              us-gaap:profitloss  75518000     USD   \n",
       "12            us-gaap:commonstocksharesoutstanding  92846000  Shares   \n",
       "13                   us-gaap:earningspersharebasic      0.81  USDEPS   \n",
       "\n",
       "    decimals           context            \n",
       "0      -3      ThreeMonthsEnded_3Apr2010  \n",
       "1      -3      ThreeMonthsEnded_3Apr2010  \n",
       "2      -3      ThreeMonthsEnded_3Apr2010  \n",
       "3      -3      ThreeMonthsEnded_3Apr2010  \n",
       "4      -3      ThreeMonthsEnded_3Apr2010  \n",
       "5      -3      ThreeMonthsEnded_3Apr2010  \n",
       "6      -3      ThreeMonthsEnded_3Apr2010  \n",
       "7      -3      ThreeMonthsEnded_3Apr2010  \n",
       "8      -3      ThreeMonthsEnded_3Apr2010  \n",
       "9      -3      ThreeMonthsEnded_3Apr2010  \n",
       "10     -3      ThreeMonthsEnded_3Apr2010  \n",
       "11     -3      ThreeMonthsEnded_3Apr2010  \n",
       "12     -3     ThreeMonthsEnded_3Apr20102  \n",
       "13      2      ThreeMonthsEnded_3Apr2010  "
      ]
     },
     "execution_count": 63,
     "metadata": {},
     "output_type": "execute_result"
    }
   ],
   "source": [
    "df_PL = pd.DataFrame(PL, columns=get_financial_element_columns())\n",
    "df_PL"
   ]
  },
  {
   "cell_type": "code",
   "execution_count": 64,
   "id": "186efae1",
   "metadata": {},
   "outputs": [
    {
     "data": {
      "text/plain": [
       "735729000.0"
      ]
     },
     "execution_count": 64,
     "metadata": {},
     "output_type": "execute_result"
    }
   ],
   "source": [
    "credits = df_PL[df_PL['type'] == 'credit']['value'].sum()\n",
    "credits"
   ]
  },
  {
   "cell_type": "code",
   "execution_count": 65,
   "id": "ef85388d",
   "metadata": {},
   "outputs": [
    {
     "data": {
      "text/plain": [
       "284641000.0"
      ]
     },
     "execution_count": 65,
     "metadata": {},
     "output_type": "execute_result"
    }
   ],
   "source": [
    "debits = df_PL[df_PL['type'] == 'debit']['value'].sum()\n",
    "debits"
   ]
  },
  {
   "cell_type": "code",
   "execution_count": 66,
   "id": "011c5966",
   "metadata": {},
   "outputs": [
    {
     "data": {
      "text/plain": [
       "451088000.0"
      ]
     },
     "execution_count": 66,
     "metadata": {},
     "output_type": "execute_result"
    }
   ],
   "source": [
    "credits - debits  # Equal to the Net Income"
   ]
  },
  {
   "cell_type": "markdown",
   "id": "21557bda",
   "metadata": {},
   "source": [
    "### EPS"
   ]
  },
  {
   "cell_type": "code",
   "execution_count": 67,
   "id": "2bce7feb",
   "metadata": {},
   "outputs": [
    {
     "data": {
      "text/plain": [
       "92846000.0"
      ]
     },
     "execution_count": 67,
     "metadata": {},
     "output_type": "execute_result"
    }
   ],
   "source": [
    "shares = df_PL[df_PL['rep'] == FS_ELEMENT_REP_SHARES_OUTSTANDING]\n",
    "if len(shares) == 1:\n",
    "    num_shares = shares['value'].values.item()\n",
    "else:\n",
    "    assert False, f\"No Shares OutStanding row found {df_PL}\"\n",
    "\n",
    "num_shares"
   ]
  },
  {
   "cell_type": "code",
   "execution_count": 68,
   "id": "2dbd1dd7",
   "metadata": {},
   "outputs": [
    {
     "data": {
      "text/plain": [
       "75518000.0"
      ]
     },
     "execution_count": 68,
     "metadata": {},
     "output_type": "execute_result"
    }
   ],
   "source": [
    "shares = df_PL[df_PL['rep'] == FS_ELEMENT_REP_NET_INCOME]\n",
    "if len(shares) == 1:\n",
    "    net_income = shares['value'].item()\n",
    "else:\n",
    "    assert False, f\"No Net Income row found {df_PL}\"\n",
    "\n",
    "net_income"
   ]
  },
  {
   "cell_type": "code",
   "execution_count": 69,
   "id": "d840fb86",
   "metadata": {},
   "outputs": [
    {
     "name": "stdout",
     "output_type": "stream",
     "text": [
      "0.81\n"
     ]
    }
   ],
   "source": [
    "eps = net_income / num_shares\n",
    "scale = 2\n",
    "print(f\"{eps:.{scale}f}\")"
   ]
  },
  {
   "cell_type": "markdown",
   "id": "cda92206",
   "metadata": {},
   "source": [
    "---\n",
    "# Balance Sheet (B/S)"
   ]
  },
  {
   "cell_type": "code",
   "execution_count": 70,
   "id": "3ac1d0b8",
   "metadata": {},
   "outputs": [],
   "source": [
    "BS = []"
   ]
  },
  {
   "cell_type": "markdown",
   "id": "9fdf4d66",
   "metadata": {},
   "source": [
    "## Cash & Cash Equivalents\n",
    "\n",
    "Look for the cash and cash equivalents for the reporting perid in the Balance Sheet and Cash Flow statements of the  10-K."
   ]
  },
  {
   "cell_type": "code",
   "execution_count": 71,
   "id": "77b79406",
   "metadata": {},
   "outputs": [
    {
     "name": "stdout",
     "output_type": "stream",
     "text": [
      "us-gaap:cashandcashequivalentsatcarryingvalue                                    USD   -3    297012000      \n"
     ]
    }
   ],
   "source": [
    "def get_bs_current_asset_cash_and_equivalents(soup):\n",
    "    names = re.compile(\"|\".join([\n",
    "        rf\"^{NAMESPACE_GAAP}:CashAndCashEquivalentsAtCarryingValue$\",\n",
    "    ]).lower())\n",
    "    return represents(get_records_for_financial_element_names(soup=soup, names=names), fs=FS_BS, rep=FS_ELEMENT_REP_CASH)\n",
    "\n",
    "BS += get_bs_current_asset_cash_and_equivalents(soup)"
   ]
  },
  {
   "cell_type": "markdown",
   "id": "e28c80a7",
   "metadata": {},
   "source": [
    "## Restricted Cash"
   ]
  },
  {
   "cell_type": "code",
   "execution_count": 72,
   "id": "0033637f",
   "metadata": {},
   "outputs": [],
   "source": [
    "def get_bs_current_asset_restricted_cash_and_equivalents(soup):\n",
    "    names = re.compile(\"|\".join([\n",
    "        rf\"^{NAMESPACE_GAAP}:RestrictedCashEquivalentsCurrent$\",\n",
    "        rf\"^{NAMESPACE_GAAP}:RestrictedCashAndCashEquivalentsAtCarryingValue$\",\n",
    "    ]).lower())\n",
    "    return get_records_for_financial_element_names(soup=soup, names=names)\n",
    "\n",
    "BS += get_bs_current_asset_restricted_cash_and_equivalents(soup)"
   ]
  },
  {
   "cell_type": "markdown",
   "id": "768bf159",
   "metadata": {},
   "source": [
    "## Short Term Investments"
   ]
  },
  {
   "cell_type": "code",
   "execution_count": 73,
   "id": "cf3f9b93",
   "metadata": {},
   "outputs": [
    {
     "name": "stdout",
     "output_type": "stream",
     "text": [
      "us-gaap:shortterminvestments                                                     USD   -3    395168000      \n"
     ]
    }
   ],
   "source": [
    "def get_bs_current_asset_short_term_investments(soup):\n",
    "    names = re.compile(\"|\".join([\n",
    "        rf\"^{NAMESPACE_GAAP}:ShortTermInvestments$\",\n",
    "    ]).lower())\n",
    "    return get_records_for_financial_element_names(soup=soup, names=names)\n",
    "\n",
    "BS += get_bs_current_asset_short_term_investments(soup)"
   ]
  },
  {
   "cell_type": "markdown",
   "id": "81055bb2",
   "metadata": {},
   "source": [
    "## Account Receivable"
   ]
  },
  {
   "cell_type": "code",
   "execution_count": 74,
   "id": "6ef04cf2",
   "metadata": {},
   "outputs": [
    {
     "name": "stdout",
     "output_type": "stream",
     "text": [
      "us-gaap:accountsreceivablenetcurrent                                             USD   -3    313951000      \n"
     ]
    }
   ],
   "source": [
    "def get_bs_current_asset_account_receivables(soup):\n",
    "    names = re.compile(\"|\".join([\n",
    "        rf\"^{NAMESPACE_GAAP}:ReceivablesNetCurrent$\",\n",
    "        rf\"^{NAMESPACE_GAAP}:AccountsReceivableNetCurrent$\",\n",
    "        rf\"^{NAMESPACE_GAAP}:OtherReceivables$\",\n",
    "    ]).lower())\n",
    "    return get_records_for_financial_element_names(soup=soup, names=names)\n",
    "\n",
    "BS += get_bs_current_asset_account_receivables(soup)"
   ]
  },
  {
   "cell_type": "markdown",
   "id": "bd50545b",
   "metadata": {},
   "source": [
    "## ***___Inventory___***"
   ]
  },
  {
   "cell_type": "code",
   "execution_count": 75,
   "id": "3de69eb8",
   "metadata": {},
   "outputs": [
    {
     "name": "stdout",
     "output_type": "stream",
     "text": [
      "us-gaap:inventorynet                                                             USD   -3    189221000      \n"
     ]
    }
   ],
   "source": [
    "def get_bs_current_asset_inventory(soup):\n",
    "    names = re.compile(\"|\".join([\n",
    "        rf\"^{NAMESPACE_GAAP}:InventoryNet$\",\n",
    "    ]).lower())\n",
    "    return get_records_for_financial_element_names(soup=soup, names=names)\n",
    "\n",
    "BS += get_bs_current_asset_inventory(soup)"
   ]
  },
  {
   "cell_type": "markdown",
   "id": "6805470b",
   "metadata": {},
   "source": [
    "## Prepaid Expense / Other Assets Current\n",
    "\n",
    "* [Understanding Prepaid Expenses](https://www.investopedia.com/terms/p/prepaidexpense.asp)\n",
    "\n",
    "> Companies make prepayments for goods or services such as leased office equipment or insurance coverage that provide continual benefits over time. Goods or services of this nature cannot be expensed immediately because the expense would not line up with the benefit incurred over time from using the asset.  \n",
    ">\n",
    "> According to generally accepted accounting principles (GAAP), expenses should be recorded in the same accounting period as the benefit generated from the related asset.\n",
    "\n",
    "* [us-gaap: PrepaidExpenseAndOtherAssetsCurrent](https://www.calcbench.com/element/PrepaidExpenseAndOtherAssetsCurrent)\n",
    "\n",
    "> Amount of asset related to consideration paid in advance for costs that provide economic benefits in future periods, and amount of other assets that are expected to be realized or consumed within one year or the normal operating cycle, if longer.\n",
    "\n",
    "* [Other Current Assets (OCA)](https://www.investopedia.com/terms/o/othercurrentassets.asp)\n",
    "\n",
    "> Other current assets (OCA) is a category of things of value that a company owns, benefits from, or uses to generate income that can be converted into cash within one business cycle. They are referred to as “other” because they are uncommon or insignificant, unlike typical current asset items such as cash, securities, accounts receivable, inventory, and prepaid expenses."
   ]
  },
  {
   "cell_type": "code",
   "execution_count": 76,
   "id": "3ae6b77f",
   "metadata": {},
   "outputs": [
    {
     "name": "stdout",
     "output_type": "stream",
     "text": [
      "us-gaap:otherassetscurrent                                                       USD   -3    53865000       \n"
     ]
    }
   ],
   "source": [
    "def get_bs_current_asset_other(soup):\n",
    "    names = re.compile(\"|\".join([\n",
    "        rf\"^{NAMESPACE_GAAP}:PrepaidExpenseCurrent$\",\n",
    "        rf\"^{NAMESPACE_GAAP}:PrepaidExpenseAndOtherAssetsCurrent$\",\n",
    "        rf\"^{NAMESPACE_GAAP}:OperatingLeaseRightOfUseAsset$\",\n",
    "        rf\"^{NAMESPACE_GAAP}:OtherAssetsCurrent$\",\n",
    "    ]).lower())\n",
    "    return get_records_for_financial_element_names(soup=soup, names=names)\n",
    "\n",
    "BS += get_bs_current_asset_other(soup)"
   ]
  },
  {
   "cell_type": "markdown",
   "id": "c57ff4fd",
   "metadata": {},
   "source": [
    "## ***___# Current Assets___***"
   ]
  },
  {
   "cell_type": "code",
   "execution_count": 77,
   "id": "5bd8f856",
   "metadata": {},
   "outputs": [
    {
     "name": "stdout",
     "output_type": "stream",
     "text": [
      "us-gaap:assetscurrent                                                            USD   -3    1249217000     \n"
     ]
    }
   ],
   "source": [
    "def get_bs_current_assets(soup):\n",
    "    names = re.compile(\"|\".join([\n",
    "    rf\"^{NAMESPACE_GAAP}:AssetsCurrent$\",\n",
    "    ]).lower())\n",
    "    return represents(get_records_for_financial_element_names(soup=soup, names=names), fs=FS_BS, rep=FS_ELEMENT_REP_CURRENT_ASSETS)\n",
    "\n",
    "BS += get_bs_current_assets(soup)    "
   ]
  },
  {
   "cell_type": "markdown",
   "id": "63191882",
   "metadata": {},
   "source": [
    "## Property, Plant, Equipment"
   ]
  },
  {
   "cell_type": "code",
   "execution_count": 78,
   "id": "9b537385",
   "metadata": {},
   "outputs": [
    {
     "name": "stdout",
     "output_type": "stream",
     "text": [
      "us-gaap:propertyplantandequipmentnet                                             USD   -3    208957000      \n"
     ]
    }
   ],
   "source": [
    "def get_bs_non_current_asset_property_and_equipment(soup):\n",
    "    names = re.compile(\"|\".join([\n",
    "    rf\"^{NAMESPACE_GAAP}:PropertyPlantAndEquipmentNet$\",\n",
    "    ]).lower())\n",
    "    return get_records_for_financial_element_names(soup=soup, names=names)\n",
    "\n",
    "BS += get_bs_non_current_asset_property_and_equipment(soup)"
   ]
  },
  {
   "cell_type": "code",
   "execution_count": 79,
   "id": "c26d1968",
   "metadata": {},
   "outputs": [],
   "source": [
    "## Restricted Cash Non Current"
   ]
  },
  {
   "cell_type": "code",
   "execution_count": 80,
   "id": "4feca817",
   "metadata": {},
   "outputs": [],
   "source": [
    "def get_bs_non_current_asset_restricted_cash_and_equivalent(soup):\n",
    "    names = re.compile(\"|\".join([\n",
    "        rf\"^{NAMESPACE_GAAP}:RestrictedCashAndCashEquivalentsNoncurrent$\",\n",
    "    ]).lower())\n",
    "    return get_records_for_financial_element_names(soup=soup, names=names)\n",
    "\n",
    "BS += get_bs_non_current_asset_restricted_cash_and_equivalent(soup)"
   ]
  },
  {
   "cell_type": "markdown",
   "id": "aaadbca2",
   "metadata": {},
   "source": [
    "## Deferred Tax"
   ]
  },
  {
   "cell_type": "code",
   "execution_count": 81,
   "id": "884c0514",
   "metadata": {},
   "outputs": [],
   "source": [
    "def get_bs_non_current_asset_deferred_income_tax(soup):\n",
    "    names = re.compile(\"|\".join([\n",
    "        rf\"^{NAMESPACE_GAAP}:DeferredIncomeTaxAssetsNet$\",\n",
    "    ]).lower())\n",
    "    return get_records_for_financial_element_names(soup=soup, names=names)\n",
    "\n",
    "BS += get_bs_non_current_asset_deferred_income_tax(soup)"
   ]
  },
  {
   "cell_type": "markdown",
   "id": "d3e00bef",
   "metadata": {},
   "source": [
    "## ***___GoodWill___***"
   ]
  },
  {
   "cell_type": "code",
   "execution_count": 82,
   "id": "665ed06f",
   "metadata": {},
   "outputs": [
    {
     "name": "stdout",
     "output_type": "stream",
     "text": [
      "us-gaap:goodwill                                                                 USD   -3    291734000      \n"
     ]
    }
   ],
   "source": [
    "def get_bs_non_current_asset_goodwill(soup):\n",
    "    names = re.compile(\"|\".join([\n",
    "        rf\"^{NAMESPACE_GAAP}:GoodWill$\",\n",
    "    ]).lower())\n",
    "    return get_records_for_financial_element_names(soup=soup, names=names)\n",
    "\n",
    "BS += get_bs_non_current_asset_goodwill(soup)"
   ]
  },
  {
   "cell_type": "markdown",
   "id": "35ab752c",
   "metadata": {},
   "source": [
    "## Intangible and Other Assets"
   ]
  },
  {
   "cell_type": "code",
   "execution_count": 83,
   "id": "7f995b84",
   "metadata": {},
   "outputs": [
    {
     "name": "stdout",
     "output_type": "stream",
     "text": [
      "us-gaap:intangibleassetsnetexcludinggoodwill                                     USD   -3    179557000      \n",
      "us-gaap:otherassetsnoncurrent                                                    USD   -3    51777000       \n"
     ]
    }
   ],
   "source": [
    "def get_bs_non_current_asset_other(soup):\n",
    "    names = re.compile(\"|\".join([\n",
    "        rf\"^{NAMESPACE_GAAP}:IntangibleAssetsNetExcludingGoodwill$\",\n",
    "        rf\"^{NAMESPACE_GAAP}:OtherAssetsNoncurrent$\",\n",
    "    ]).lower())\n",
    "    return get_records_for_financial_element_names(soup=soup, names=names)\n",
    "\n",
    "BS += get_bs_non_current_asset_other(soup)"
   ]
  },
  {
   "cell_type": "markdown",
   "id": "8552d375",
   "metadata": {},
   "source": [
    "## ***___# Total Assets___***"
   ]
  },
  {
   "cell_type": "code",
   "execution_count": 84,
   "id": "68576556",
   "metadata": {},
   "outputs": [],
   "source": [
    "BS += get_bs_total_assets(soup, attributes=ATTRIBUTES)"
   ]
  },
  {
   "cell_type": "markdown",
   "id": "e61c6d90",
   "metadata": {},
   "source": [
    "## Account Payable\n",
    "\n",
    "* [Accounts Payable (AP)](https://www.investopedia.com/terms/a/accountspayable.asp)\n",
    "\n",
    "> company's obligation to pay off a short-term debt to its creditors or suppliers.\n",
    "\n",
    "\n",
    "\n",
    "* [Accrued Liability](https://www.investopedia.com/terms/a/accrued-liability.asp) (売掛金)\n",
    "\n",
    "> costs for goods and services already delivered to a company for which it must pay in the future. A company can accrue liabilities for any number of obligations and are recorded on the company's balance sheet. They are normally listed on the balance sheet as current liabilities and are adjusted at the end of an accounting period.\n",
    "\n",
    "\n",
    "* [us-gaap:AccruedLiabilitiesCurrent](http://xbrlsite.azurewebsites.net/2019/Prototype/references/us-gaap/Element-354.html)"
   ]
  },
  {
   "cell_type": "code",
   "execution_count": 85,
   "id": "2046baed",
   "metadata": {},
   "outputs": [],
   "source": [
    "BS += get_bs_current_liability_account_payable(soup, attributes=ATTRIBUTES)"
   ]
  },
  {
   "cell_type": "markdown",
   "id": "6c1fe183",
   "metadata": {},
   "source": [
    "## Tax"
   ]
  },
  {
   "cell_type": "code",
   "execution_count": 86,
   "id": "1dd6f3dc",
   "metadata": {},
   "outputs": [],
   "source": [
    "BS += get_bs_current_liability_tax(soup, attributes=ATTRIBUTES)"
   ]
  },
  {
   "cell_type": "markdown",
   "id": "27091965",
   "metadata": {},
   "source": [
    "## Debt Due"
   ]
  },
  {
   "cell_type": "code",
   "execution_count": 87,
   "id": "3b3780d7",
   "metadata": {},
   "outputs": [],
   "source": [
    "BS += get_bs_current_liability_longterm_debt(soup, attributes=ATTRIBUTES)"
   ]
  },
  {
   "cell_type": "markdown",
   "id": "4b256076",
   "metadata": {},
   "source": [
    "## ***___# Current Liabilities___***"
   ]
  },
  {
   "cell_type": "code",
   "execution_count": 88,
   "id": "5b002f6c",
   "metadata": {},
   "outputs": [
    {
     "data": {
      "text/plain": [
       "[['bs',\n",
       "  'current_liabilities',\n",
       "  'calc',\n",
       "  'us-gaap:liabilitiescurrent',\n",
       "  305204000,\n",
       "  'USD',\n",
       "  -3,\n",
       "  'ThreeMonthsEnded_3Apr20102']]"
      ]
     },
     "execution_count": 88,
     "metadata": {},
     "output_type": "execute_result"
    }
   ],
   "source": [
    "get_bs_current_liabilities(soup, attributes=ATTRIBUTES)"
   ]
  },
  {
   "cell_type": "markdown",
   "id": "01081144",
   "metadata": {},
   "source": [
    "## Long Term Debt"
   ]
  },
  {
   "cell_type": "code",
   "execution_count": 89,
   "id": "7ee669cf",
   "metadata": {},
   "outputs": [],
   "source": [
    "BS += get_bs_non_current_liability_longterm_debt(soup, attributes=ATTRIBUTES)"
   ]
  },
  {
   "cell_type": "markdown",
   "id": "790ec01d",
   "metadata": {},
   "source": [
    "## Tax Deferred"
   ]
  },
  {
   "cell_type": "code",
   "execution_count": 90,
   "id": "2da2df11",
   "metadata": {},
   "outputs": [],
   "source": [
    "BS += get_bs_non_current_liability_deferred_tax(soup, attributes=ATTRIBUTES)"
   ]
  },
  {
   "cell_type": "markdown",
   "id": "f76ed4bd",
   "metadata": {},
   "source": [
    "## Other Long Term Liabilities\n",
    "\n",
    "* [Postemployment Benefits Liability, Noncurrent/us-gaap:PostemploymentBenefitsLiabilityNoncurrent](http://xbrlsite.azurewebsites.net/2019/Prototype/references/us-gaap/Element-12380.html)\n",
    "\n",
    "> The obligations recognized for the various benefits provided to former or inactive employees, their beneficiaries, and covered dependents after employment but before retirement that is payable after one year (or beyond the operating cycle if longer)."
   ]
  },
  {
   "cell_type": "code",
   "execution_count": 91,
   "id": "21376115",
   "metadata": {},
   "outputs": [],
   "source": [
    "BS += get_bs_non_current_liability_other(soup, attributes=ATTRIBUTES)"
   ]
  },
  {
   "cell_type": "markdown",
   "id": "48d1658c",
   "metadata": {},
   "source": [
    "## ***___# Total Liabilities___***"
   ]
  },
  {
   "cell_type": "code",
   "execution_count": 92,
   "id": "36441d35",
   "metadata": {},
   "outputs": [
    {
     "data": {
      "text/plain": [
       "[['bs',\n",
       "  'total_liabilities',\n",
       "  'calc',\n",
       "  'us-gaap:liabilities',\n",
       "  1168200000,\n",
       "  'USD',\n",
       "  -3,\n",
       "  'ThreeMonthsEnded_3Apr20102']]"
      ]
     },
     "execution_count": 92,
     "metadata": {},
     "output_type": "execute_result"
    }
   ],
   "source": [
    "get_bs_total_liabilities(soup, attributes=ATTRIBUTES)"
   ]
  },
  {
   "cell_type": "markdown",
   "id": "f4e91304",
   "metadata": {},
   "source": [
    "## Paid-in Capital\n",
    "\n",
    "* [Paid-In Capital](https://www.investopedia.com/terms/p/paidincapital.aspPaid-In Capital)\n",
    "\n",
    "> Paid-in capital represents the funds raised by the business through selling its equity and not from ongoing business operations. Paid-in capital also refers to a line item on the company's balance sheet listed under shareholders' equity (also referred to as stockholders' equity), often shown alongside the line item for additional paid-in capital.\n",
    "\n",
    "* [Additional Paid-In Capital (APIC)](https://www.investopedia.com/terms/a/additionalpaidincapital.asp)\n",
    "\n",
    "> Often referred to as \"contributed capital in excess of par,” APIC occurs when an investor buys newly-issued shares directly from a company during its initial public offering (IPO) stage. APIC, which is itemized under the shareholder equity (SE) section of a balance sheet, is viewed as a profit opportunity for companies as it results in them receiving excess cash from stockholders."
   ]
  },
  {
   "cell_type": "code",
   "execution_count": 93,
   "id": "d6ba718f",
   "metadata": {},
   "outputs": [],
   "source": [
    "BS += get_bs_stockholders_equity_paid_in(soup, attributes=ATTRIBUTES)"
   ]
  },
  {
   "cell_type": "markdown",
   "id": "ec4f4d40",
   "metadata": {},
   "source": [
    "## Retained Earnings\n",
    "\n",
    "* [Retained Earnings](https://www.investopedia.com/terms/r/retainedearnings.asp)\n",
    "\n",
    ">  The word \"retained\" captures the fact that because those earnings were **NOT paid out to shareholders as dividends** they were instead retained by the company."
   ]
  },
  {
   "cell_type": "code",
   "execution_count": 94,
   "id": "c58dc030",
   "metadata": {},
   "outputs": [],
   "source": [
    "BS += get_bs_stockholders_equity_retained(soup, attributes=ATTRIBUTES)"
   ]
  },
  {
   "cell_type": "markdown",
   "id": "244b6619",
   "metadata": {},
   "source": [
    "## Accumulated other comprehensive income/loss"
   ]
  },
  {
   "cell_type": "code",
   "execution_count": 95,
   "id": "87a31968",
   "metadata": {},
   "outputs": [],
   "source": [
    "BS += get_bs_stockholders_equity_other(soup, attributes=ATTRIBUTES)"
   ]
  },
  {
   "cell_type": "markdown",
   "id": "e215caa4",
   "metadata": {},
   "source": [
    "## ***___# Stockholder's Equity___***\n",
    "\n",
    "* [Stockholders' Equity](https://www.investopedia.com/terms/s/stockholdersequity.asp)\n",
    "\n",
    "> Remaining amount of assets available to shareholders after all liabilities have been paid. (純資産)"
   ]
  },
  {
   "cell_type": "code",
   "execution_count": 96,
   "id": "47c2a465",
   "metadata": {},
   "outputs": [
    {
     "data": {
      "text/plain": [
       "[['bs',\n",
       "  'stockholders_equity',\n",
       "  'calc',\n",
       "  'us-gaap:stockholdersequityincludingportionattributabletononcontrollinginterest',\n",
       "  813042000,\n",
       "  'USD',\n",
       "  -3,\n",
       "  'ThreeMonthsEnded_3Apr20102']]"
      ]
     },
     "execution_count": 96,
     "metadata": {},
     "output_type": "execute_result"
    }
   ],
   "source": [
    "get_bs_stockholders_equity(soup, attributes=ATTRIBUTES)"
   ]
  },
  {
   "cell_type": "markdown",
   "id": "dc176cd2",
   "metadata": {},
   "source": [
    "## ***___# Total Liabilities + Stockholder's Equity___***"
   ]
  },
  {
   "cell_type": "code",
   "execution_count": 97,
   "id": "b1b94eee",
   "metadata": {},
   "outputs": [],
   "source": [
    "BS += get_bs_total_liabilities_and_stockholders_equity(soup, attributes=ATTRIBUTES)"
   ]
  },
  {
   "cell_type": "markdown",
   "id": "edccdd39",
   "metadata": {},
   "source": [
    "## Display B/S"
   ]
  },
  {
   "cell_type": "code",
   "execution_count": 98,
   "id": "5f12a608",
   "metadata": {
    "scrolled": true
   },
   "outputs": [
    {
     "data": {
      "text/html": [
       "<div>\n",
       "<style scoped>\n",
       "    .dataframe tbody tr th:only-of-type {\n",
       "        vertical-align: middle;\n",
       "    }\n",
       "\n",
       "    .dataframe tbody tr th {\n",
       "        vertical-align: top;\n",
       "    }\n",
       "\n",
       "    .dataframe thead th {\n",
       "        text-align: right;\n",
       "    }\n",
       "</style>\n",
       "<table border=\"1\" class=\"dataframe\">\n",
       "  <thead>\n",
       "    <tr style=\"text-align: center;\">\n",
       "      <th></th>\n",
       "      <th>fs</th>\n",
       "      <th>rep</th>\n",
       "      <th>type</th>\n",
       "      <th>name</th>\n",
       "      <th>value</th>\n",
       "      <th>unit</th>\n",
       "      <th>decimals</th>\n",
       "      <th>context</th>\n",
       "    </tr>\n",
       "  </thead>\n",
       "  <tbody>\n",
       "    <tr>\n",
       "      <th>0</th>\n",
       "      <td>bs</td>\n",
       "      <td>cash_and_equivalent</td>\n",
       "      <td>credit</td>\n",
       "      <td>us-gaap:cashandcashequivalentsatcarryingvalue</td>\n",
       "      <td>297012000</td>\n",
       "      <td>USD</td>\n",
       "      <td>-3</td>\n",
       "      <td>ThreeMonthsEnded_3Apr20102</td>\n",
       "    </tr>\n",
       "    <tr>\n",
       "      <th>1</th>\n",
       "      <td></td>\n",
       "      <td></td>\n",
       "      <td>credit</td>\n",
       "      <td>us-gaap:shortterminvestments</td>\n",
       "      <td>395168000</td>\n",
       "      <td>USD</td>\n",
       "      <td>-3</td>\n",
       "      <td>ThreeMonthsEnded_3Apr20102</td>\n",
       "    </tr>\n",
       "    <tr>\n",
       "      <th>2</th>\n",
       "      <td></td>\n",
       "      <td></td>\n",
       "      <td>credit</td>\n",
       "      <td>us-gaap:accountsreceivablenetcurrent</td>\n",
       "      <td>313951000</td>\n",
       "      <td>USD</td>\n",
       "      <td>-3</td>\n",
       "      <td>ThreeMonthsEnded_3Apr20102</td>\n",
       "    </tr>\n",
       "    <tr>\n",
       "      <th>3</th>\n",
       "      <td></td>\n",
       "      <td></td>\n",
       "      <td>credit</td>\n",
       "      <td>us-gaap:inventorynet</td>\n",
       "      <td>189221000</td>\n",
       "      <td>USD</td>\n",
       "      <td>-3</td>\n",
       "      <td>ThreeMonthsEnded_3Apr20102</td>\n",
       "    </tr>\n",
       "    <tr>\n",
       "      <th>4</th>\n",
       "      <td></td>\n",
       "      <td></td>\n",
       "      <td>credit</td>\n",
       "      <td>us-gaap:otherassetscurrent</td>\n",
       "      <td>53865000</td>\n",
       "      <td>USD</td>\n",
       "      <td>-3</td>\n",
       "      <td>ThreeMonthsEnded_3Apr20102</td>\n",
       "    </tr>\n",
       "    <tr>\n",
       "      <th>5</th>\n",
       "      <td>bs</td>\n",
       "      <td>current_assets</td>\n",
       "      <td>calc</td>\n",
       "      <td>us-gaap:assetscurrent</td>\n",
       "      <td>1249217000</td>\n",
       "      <td>USD</td>\n",
       "      <td>-3</td>\n",
       "      <td>ThreeMonthsEnded_3Apr20102</td>\n",
       "    </tr>\n",
       "    <tr>\n",
       "      <th>6</th>\n",
       "      <td></td>\n",
       "      <td></td>\n",
       "      <td>credit</td>\n",
       "      <td>us-gaap:propertyplantandequipmentnet</td>\n",
       "      <td>208957000</td>\n",
       "      <td>USD</td>\n",
       "      <td>-3</td>\n",
       "      <td>ThreeMonthsEnded_3Apr20102</td>\n",
       "    </tr>\n",
       "    <tr>\n",
       "      <th>7</th>\n",
       "      <td></td>\n",
       "      <td></td>\n",
       "      <td>credit</td>\n",
       "      <td>us-gaap:goodwill</td>\n",
       "      <td>291734000</td>\n",
       "      <td>USD</td>\n",
       "      <td>-3</td>\n",
       "      <td>ThreeMonthsEnded_3Apr20102</td>\n",
       "    </tr>\n",
       "    <tr>\n",
       "      <th>8</th>\n",
       "      <td></td>\n",
       "      <td></td>\n",
       "      <td>credit</td>\n",
       "      <td>us-gaap:intangibleassetsnetexcludinggoodwill</td>\n",
       "      <td>179557000</td>\n",
       "      <td>USD</td>\n",
       "      <td>-3</td>\n",
       "      <td>ThreeMonthsEnded_3Apr20102</td>\n",
       "    </tr>\n",
       "    <tr>\n",
       "      <th>9</th>\n",
       "      <td></td>\n",
       "      <td></td>\n",
       "      <td>credit</td>\n",
       "      <td>us-gaap:otherassetsnoncurrent</td>\n",
       "      <td>51777000</td>\n",
       "      <td>USD</td>\n",
       "      <td>-3</td>\n",
       "      <td>ThreeMonthsEnded_3Apr20102</td>\n",
       "    </tr>\n",
       "    <tr>\n",
       "      <th>10</th>\n",
       "      <td>bs</td>\n",
       "      <td>total_assets</td>\n",
       "      <td>calc</td>\n",
       "      <td>us-gaap:assets</td>\n",
       "      <td>1981242000</td>\n",
       "      <td>USD</td>\n",
       "      <td>-3</td>\n",
       "      <td>ThreeMonthsEnded_3Apr20102</td>\n",
       "    </tr>\n",
       "    <tr>\n",
       "      <th>11</th>\n",
       "      <td></td>\n",
       "      <td></td>\n",
       "      <td>debit</td>\n",
       "      <td>us-gaap:accountspayablecurrent</td>\n",
       "      <td>57823000</td>\n",
       "      <td>USD</td>\n",
       "      <td>-3</td>\n",
       "      <td>ThreeMonthsEnded_3Apr20102</td>\n",
       "    </tr>\n",
       "    <tr>\n",
       "      <th>12</th>\n",
       "      <td></td>\n",
       "      <td></td>\n",
       "      <td>debit</td>\n",
       "      <td>us-gaap:longtermdebtnoncurrent</td>\n",
       "      <td>700000000</td>\n",
       "      <td>USD</td>\n",
       "      <td>-3</td>\n",
       "      <td>ThreeMonthsEnded_3Apr20102</td>\n",
       "    </tr>\n",
       "    <tr>\n",
       "      <th>13</th>\n",
       "      <td></td>\n",
       "      <td></td>\n",
       "      <td>debit</td>\n",
       "      <td>us-gaap:otherliabilitiesnoncurrent</td>\n",
       "      <td>21074000</td>\n",
       "      <td>USD</td>\n",
       "      <td>-3</td>\n",
       "      <td>ThreeMonthsEnded_3Apr20102</td>\n",
       "    </tr>\n",
       "    <tr>\n",
       "      <th>14</th>\n",
       "      <td></td>\n",
       "      <td></td>\n",
       "      <td>debit</td>\n",
       "      <td>us-gaap:commonstockvalue</td>\n",
       "      <td>1493000</td>\n",
       "      <td>USD</td>\n",
       "      <td>-3</td>\n",
       "      <td>ThreeMonthsEnded_3Apr20102</td>\n",
       "    </tr>\n",
       "    <tr>\n",
       "      <th>15</th>\n",
       "      <td></td>\n",
       "      <td></td>\n",
       "      <td>debit</td>\n",
       "      <td>us-gaap:retainedearningsaccumulateddeficit</td>\n",
       "      <td>2312234000</td>\n",
       "      <td>USD</td>\n",
       "      <td>-3</td>\n",
       "      <td>ThreeMonthsEnded_3Apr20102</td>\n",
       "    </tr>\n",
       "    <tr>\n",
       "      <th>16</th>\n",
       "      <td></td>\n",
       "      <td></td>\n",
       "      <td>debit</td>\n",
       "      <td>us-gaap:accumulatedothercomprehensiveincomelossnetoftax</td>\n",
       "      <td>-7680000</td>\n",
       "      <td>USD</td>\n",
       "      <td>-3</td>\n",
       "      <td>ThreeMonthsEnded_3Apr20102</td>\n",
       "    </tr>\n",
       "    <tr>\n",
       "      <th>17</th>\n",
       "      <td>bs</td>\n",
       "      <td>total_equity_and_liabilities</td>\n",
       "      <td>calc</td>\n",
       "      <td>us-gaap:liabilitiesandstockholdersequity</td>\n",
       "      <td>1981242000</td>\n",
       "      <td>USD</td>\n",
       "      <td>-3</td>\n",
       "      <td>ThreeMonthsEnded_3Apr20102</td>\n",
       "    </tr>\n",
       "  </tbody>\n",
       "</table>\n",
       "</div>"
      ],
      "text/plain": [
       "    fs              rep                type   \\\n",
       "0   bs           cash_and_equivalent  credit   \n",
       "1                                     credit   \n",
       "2                                     credit   \n",
       "3                                     credit   \n",
       "4                                     credit   \n",
       "5   bs                current_assets    calc   \n",
       "6                                     credit   \n",
       "7                                     credit   \n",
       "8                                     credit   \n",
       "9                                     credit   \n",
       "10  bs                  total_assets    calc   \n",
       "11                                     debit   \n",
       "12                                     debit   \n",
       "13                                     debit   \n",
       "14                                     debit   \n",
       "15                                     debit   \n",
       "16                                     debit   \n",
       "17  bs  total_equity_and_liabilities    calc   \n",
       "\n",
       "                             name                              value   unit  \\\n",
       "0             us-gaap:cashandcashequivalentsatcarryingvalue  297012000  USD   \n",
       "1                              us-gaap:shortterminvestments  395168000  USD   \n",
       "2                      us-gaap:accountsreceivablenetcurrent  313951000  USD   \n",
       "3                                      us-gaap:inventorynet  189221000  USD   \n",
       "4                                us-gaap:otherassetscurrent   53865000  USD   \n",
       "5                                     us-gaap:assetscurrent 1249217000  USD   \n",
       "6                      us-gaap:propertyplantandequipmentnet  208957000  USD   \n",
       "7                                          us-gaap:goodwill  291734000  USD   \n",
       "8              us-gaap:intangibleassetsnetexcludinggoodwill  179557000  USD   \n",
       "9                             us-gaap:otherassetsnoncurrent   51777000  USD   \n",
       "10                                           us-gaap:assets 1981242000  USD   \n",
       "11                           us-gaap:accountspayablecurrent   57823000  USD   \n",
       "12                           us-gaap:longtermdebtnoncurrent  700000000  USD   \n",
       "13                       us-gaap:otherliabilitiesnoncurrent   21074000  USD   \n",
       "14                                 us-gaap:commonstockvalue    1493000  USD   \n",
       "15               us-gaap:retainedearningsaccumulateddeficit 2312234000  USD   \n",
       "16  us-gaap:accumulatedothercomprehensiveincomelossnetoftax   -7680000  USD   \n",
       "17                 us-gaap:liabilitiesandstockholdersequity 1981242000  USD   \n",
       "\n",
       "    decimals           context            \n",
       "0      -3     ThreeMonthsEnded_3Apr20102  \n",
       "1      -3     ThreeMonthsEnded_3Apr20102  \n",
       "2      -3     ThreeMonthsEnded_3Apr20102  \n",
       "3      -3     ThreeMonthsEnded_3Apr20102  \n",
       "4      -3     ThreeMonthsEnded_3Apr20102  \n",
       "5      -3     ThreeMonthsEnded_3Apr20102  \n",
       "6      -3     ThreeMonthsEnded_3Apr20102  \n",
       "7      -3     ThreeMonthsEnded_3Apr20102  \n",
       "8      -3     ThreeMonthsEnded_3Apr20102  \n",
       "9      -3     ThreeMonthsEnded_3Apr20102  \n",
       "10     -3     ThreeMonthsEnded_3Apr20102  \n",
       "11     -3     ThreeMonthsEnded_3Apr20102  \n",
       "12     -3     ThreeMonthsEnded_3Apr20102  \n",
       "13     -3     ThreeMonthsEnded_3Apr20102  \n",
       "14     -3     ThreeMonthsEnded_3Apr20102  \n",
       "15     -3     ThreeMonthsEnded_3Apr20102  \n",
       "16     -3     ThreeMonthsEnded_3Apr20102  \n",
       "17     -3     ThreeMonthsEnded_3Apr20102  "
      ]
     },
     "execution_count": 98,
     "metadata": {},
     "output_type": "execute_result"
    }
   ],
   "source": [
    "df_BS = pd.DataFrame(BS, columns=get_financial_element_columns())\n",
    "#df_BS = df_BS.style.set_properties(**{'text-align': 'left'})\n",
    "#df_BS[(df_BS['rep'].notna()) & (df_BS['rep'] != \"\")]\n",
    "df_BS"
   ]
  },
  {
   "cell_type": "code",
   "execution_count": 99,
   "id": "4d5f2e51",
   "metadata": {},
   "outputs": [
    {
     "data": {
      "text/plain": [
       "1981242000.0"
      ]
     },
     "execution_count": 99,
     "metadata": {},
     "output_type": "execute_result"
    }
   ],
   "source": [
    "credits = df_BS[df_BS['type'] == 'credit']['value'].sum()\n",
    "credits"
   ]
  },
  {
   "cell_type": "code",
   "execution_count": 100,
   "id": "323c27ad",
   "metadata": {},
   "outputs": [
    {
     "data": {
      "text/plain": [
       "3084944000.0"
      ]
     },
     "execution_count": 100,
     "metadata": {},
     "output_type": "execute_result"
    }
   ],
   "source": [
    "debits = df_BS[df_BS['type'] == 'debit']['value'].sum()\n",
    "debits"
   ]
  },
  {
   "cell_type": "code",
   "execution_count": 101,
   "id": "f364a6c0",
   "metadata": {},
   "outputs": [
    {
     "data": {
      "text/plain": [
       "-1103702000.0"
      ]
     },
     "execution_count": 101,
     "metadata": {},
     "output_type": "execute_result"
    }
   ],
   "source": [
    "credits - debits"
   ]
  },
  {
   "cell_type": "markdown",
   "id": "31cb2962",
   "metadata": {},
   "source": [
    "### Cash Per Share"
   ]
  },
  {
   "cell_type": "code",
   "execution_count": 102,
   "id": "eafb4fca",
   "metadata": {},
   "outputs": [
    {
     "name": "stdout",
     "output_type": "stream",
     "text": [
      "3.20\n"
     ]
    }
   ],
   "source": [
    "cash = df_BS[df_BS['rep'] == FS_ELEMENT_REP_CASH]['value'].values.item()\n",
    "cps = cash / num_shares\n",
    "\n",
    "scale = 2\n",
    "print(f\"{cps:.{scale}f}\")"
   ]
  },
  {
   "cell_type": "markdown",
   "id": "e18bdbe1",
   "metadata": {},
   "source": [
    "### EPS VS CPS"
   ]
  },
  {
   "cell_type": "code",
   "execution_count": 103,
   "id": "aed66f07",
   "metadata": {},
   "outputs": [
    {
     "name": "stdout",
     "output_type": "stream",
     "text": [
      "Saving is 3.93 more than earning\n"
     ]
    }
   ],
   "source": [
    "if (cps / eps) > 1.0:\n",
    "    print(f\"Saving is {cps/eps:.2f} more than earning\")"
   ]
  },
  {
   "cell_type": "markdown",
   "id": "e808f3a2",
   "metadata": {},
   "source": [
    "# Save"
   ]
  },
  {
   "cell_type": "raw",
   "id": "be3732ac",
   "metadata": {},
   "source": [
    "import pathlib\n",
    "path_to_folder = f\"../data/{CIK}_{company_name}\"\n",
    "pathlib.Path(f\"{path_to_folder}\").mkdir(parents=True, exist_ok=True)"
   ]
  },
  {
   "cell_type": "raw",
   "id": "3776e904",
   "metadata": {},
   "source": [
    "df_PL.to_csv(f\"{path_to_folder}/{ACCESSION}_PL.gz\", index=False, compression='gzip')\n",
    "df_BS.to_csv(f\"{path_to_folder}/{ACCESSION}_BS.gz\", index=False, compression='gzip')"
   ]
  }
 ],
 "metadata": {
  "kernelspec": {
   "display_name": "Python 3 (ipykernel)",
   "language": "python",
   "name": "python3"
  },
  "language_info": {
   "codemirror_mode": {
    "name": "ipython",
    "version": 3
   },
   "file_extension": ".py",
   "mimetype": "text/x-python",
   "name": "python",
   "nbconvert_exporter": "python",
   "pygments_lexer": "ipython3",
   "version": "3.8.10"
  },
  "name": "sec_edgar_parse_xbrl.ipynb"
 },
 "nbformat": 4,
 "nbformat_minor": 5
}
