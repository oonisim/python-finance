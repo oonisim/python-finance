{
 "cells": [
  {
   "cell_type": "markdown",
   "id": "89209a88",
   "metadata": {},
   "source": [
    "---\n",
    "# Setup"
   ]
  },
  {
   "cell_type": "code",
   "execution_count": 1,
   "id": "1dd95359",
   "metadata": {},
   "outputs": [
    {
     "data": {
      "text/html": [
       "<style>\n",
       "table {float:left}\n",
       "</style>\n"
      ],
      "text/plain": [
       "<IPython.core.display.HTML object>"
      ]
     },
     "metadata": {},
     "output_type": "display_data"
    }
   ],
   "source": [
    "%%html\n",
    "<style>\n",
    "table {float:left}\n",
    "</style>"
   ]
  },
  {
   "cell_type": "markdown",
   "id": "33f885db",
   "metadata": {},
   "source": [
    "# Parsing SEC Filing XBRL Document\n",
    "\n",
    "\n",
    "## Objective\n",
    "\n",
    "Parse the filing XBRL file to create a DOM like structure that represent the filing data\n",
    "\n",
    "## References\n",
    "\n",
    "* [XBRL Specification - Extensible Business Reporting Language (XBRL) 2.1](https://www.xbrl.org/Specification/XBRL-2.1/REC-2003-12-31/XBRL-2.1-REC-2003-12-31+corrected-errata-2013-02-20.html)\n",
    "\n",
    "* [List of US GAAP Standards](https://xbrlsite.azurewebsites.net/2019/Prototype/references/us-gaap/)\n",
    "* [XBRL US - List of Elements](https://xbrl.us/data-rule/dqc_0015-le/)\n",
    "\n",
    "**Element Version**|**Element ID**|**Namespace**|**Element Label**|**Element Name**|**Balance Type**|**Definition**\n",
    ":-----:|:-----:|:-----:|:-----:|:-----:|:-----:|:-----:\n",
    "1|1367|us-gaap|Interest Expense|InterestExpense|debit|Amount of the cost of borrowed funds accounted for as interest expense.\n",
    "2|2692|us-gaap|Cash and Cash Equivalents, at Carrying Value|CashAndCashEquivalentsAtCarryingValue|debit|Amount of currency on hand as well as demand deposits with banks or financial institutions. Includes other kinds of accounts that have the general characteristics of demand deposits. Also includes short-term, highly liquid investments that are both readily convertible to known amounts of cash and so near their maturity that they present insignificant risk of changes in value because of changes in interest rates. Excludes cash and cash equivalents within disposal group and discontinued operation.\n",
    "\n",
    "## XBRL Element\n",
    "\n",
    "* [XBRL Glossary of Terms](https://www.sec.gov/page/osd_xbrlglossary)\n",
    "* [XBRL - What is us-gaap:OperatingSegmentsMember element anb where is it defined?](https://money.stackexchange.com/questions/148010/xbrl-what-is-us-gaapoperatingsegmentsmember-element-anb-where-is-it-defined)\n",
    "\n",
    "### Example\n",
    "For instance, Qorvo 2020 10K\n",
    "\n",
    "* [XBRL/rfmd-20210403_htm.xml](https://www.sec.gov/Archives/edgar/data/1604778/000160477821000032/rfmd-20210403_htm.xml)\n",
    "* [HTML/rfmd-20210403.htm)](https://www.sec.gov/Archives/edgar/data/1604778/000160477821000032/rfmd-20210403.htm):\n",
    "\n",
    "```\n",
    "<us-gaap:cashandcashequivalentsatcarryingvalue contextref=\"*\" decimals=\"-3\" id=\"...\" unitref=\"usd\">\n",
    "  1397880000\n",
    "</us-gaap:cashandcashequivalentsatcarryingvalue>,\n",
    "<us-gaap:cashandcashequivalentsatcarryingvalue contextref=\"***\" decimals=\"-3\" id=\"...\" unitref=\"usd\">\n",
    "  714939000\n",
    "</us-gaap:cashandcashequivalentsatcarryingvalue>,\n",
    "<us-gaap:cashandcashequivalentsatcarryingvalue contextref=\"***\" decimals=\"-3\" id=\"...\" unitref=\"usd\">\n",
    " 711035000\n",
    "</us-gaap:cashandcashequivalentsatcarryingvalue>\n",
    "```\n",
    "\n",
    "Corresponds to the Cash and Cash equivalents in the Cash Flow statement.\n",
    "\n",
    "<img src=\"../image/edgar_qorvo_2020_10K_CF.png\" align=\"left\" width=800 />"
   ]
  },
  {
   "cell_type": "code",
   "execution_count": 2,
   "id": "e2ad2d93",
   "metadata": {},
   "outputs": [],
   "source": [
    "from typing import (\n",
    "    List,\n",
    "    Dict\n",
    ")\n",
    "import operator\n",
    "import logging\n",
    "import time\n",
    "import datetime\n",
    "import dateutil\n",
    "import calendar\n",
    "import re\n",
    "import requests\n",
    "import unicodedata\n",
    "import bs4\n",
    "from bs4 import BeautifulSoup\n",
    "from IPython.core.display import (\n",
    "    display, \n",
    "    HTML\n",
    ")\n",
    "\n",
    "import numpy as np\n",
    "import pandas as pd\n",
    "pd.set_option('display.float_format', lambda x: ('%f' % x).rstrip('0').rstrip('.'))\n",
    "pd.set_option('display.colheader_justify', 'center')\n",
    "pd.set_option('display.max_columns', None)\n",
    "pd.set_option('display.max_colwidth', None)"
   ]
  },
  {
   "cell_type": "code",
   "execution_count": 3,
   "id": "48bcf193",
   "metadata": {},
   "outputs": [],
   "source": [
    "logging.basicConfig(level=logging.DEBUG)\n",
    "Logger = logging.getLogger(__name__)"
   ]
  },
  {
   "cell_type": "code",
   "execution_count": 4,
   "id": "cebbb665",
   "metadata": {},
   "outputs": [],
   "source": [
    "def restore_windows_1252_characters(restore_string):\n",
    "    \"\"\"\n",
    "        Replace C1 control characters in the Unicode string s by the\n",
    "        characters at the corresponding code points in Windows-1252,\n",
    "        where possible.\n",
    "    \"\"\"\n",
    "\n",
    "    def to_windows_1252(match):\n",
    "        try:\n",
    "            return bytes([ord(match.group(0))]).decode('windows-1252')\n",
    "        except UnicodeDecodeError:\n",
    "            # No character at the corresponding code point: remove it.\n",
    "            return ''\n",
    "        \n",
    "    return re.sub(r'[\\u0080-\\u0099]', to_windows_1252, restore_string)"
   ]
  },
  {
   "cell_type": "markdown",
   "id": "a55c991d",
   "metadata": {},
   "source": [
    "# FS Constant"
   ]
  },
  {
   "cell_type": "code",
   "execution_count": 68,
   "id": "c3a556fa",
   "metadata": {},
   "outputs": [
    {
     "name": "stdout",
     "output_type": "stream",
     "text": [
      "The autoreload extension is already loaded. To reload it, use:\n",
      "  %reload_ext autoreload\n"
     ]
    }
   ],
   "source": [
    "%load_ext autoreload\n",
    "%autoreload 2\n",
    "from sec_edgar_constant import (\n",
    "    EDGAR_HTTP_HEADERS,\n",
    "    SEC_FORM_TYPE_10K,\n",
    "    SEC_FORM_TYPE_10Q,\n",
    "    FS_PL,\n",
    "    FS_BS,\n",
    "    FS_CF,\n",
    "    FS_ELEMENT_REP_SHARES_OUTSTANDING,\n",
    "    # PL\n",
    "    FS_ELEMENT_REP_REVENUE,\n",
    "    FS_ELEMENT_REP_OP_COST,\n",
    "    FS_ELEMENT_REP_OP_INCOME,\n",
    "    FS_ELEMENT_REP_GROSS_PROFIT,\n",
    "    FS_ELEMENT_REP_OPEX_RD,\n",
    "    FS_ELEMENT_REP_OPEX_SGA,\n",
    "    FS_ELEMENT_REP_OPEX,\n",
    "    FS_ELEMENT_REP_NET_INCOME,\n",
    "    FS_ELEMENT_REP_EPS,\n",
    "    # BS\n",
    "    FS_ELEMENT_REP_CASH,\n",
    "    FS_ELEMENT_REP_CURRENT_ASSETS,\n",
    "    FS_ELEMENT_REP_TOTAL_ASSETS,\n",
    "    FS_ELEMENT_REP_CURRENT_LIABILITIES,\n",
    "    FS_ELEMENT_REP_LIABILITIES,\n",
    "    FS_ELEMENT_REP_EQUITY,           # Stockholders' Equity or Total Equity\n",
    "    FS_ELEMENT_REP_EQUITY_AND_LIABILITIES,\n",
    ")\n",
    "from sec_edgar_common import (\n",
    "    has_date_format,\n",
    "    filename_basename,\n",
    "    filename_extension,\n",
    ")\n",
    "from xbrl_gaap_function import (\n",
    "    REGEXP_NUMERIC,\n",
    "    REGEXP_XBRL_TAG_CONTEXT,\n",
    "    REGEXP_XBRL_TAG_INSTANT,\n",
    "    REGEXP_XBRL_TAG_PERIOD,\n",
    "    REGEXP_XBRL_TAG_START_DATE,\n",
    "    REGEXP_XBRL_TAG_END_DATE,\n",
    "\n",
    "    get_company_name,\n",
    "    get_attributes_to_select_target_fs_elements,\n",
    "    get_financial_element_columns,\n",
    "    get_target_context_ids,\n",
    "    # sed -n 's/^def \\(get_pl_.*\\)(.*/\\1,/p'\n",
    "    get_pl_revenues,\n",
    "    get_pl_cost_of_revenues,\n",
    "    get_pl_gross_profit,\n",
    "    get_pl_operating_expense_r_and_d,\n",
    "    get_pl_operating_expense_selling_administrative,\n",
    "    get_pl_operating_expense_other,\n",
    "    get_pl_operating_expense_total,\n",
    "    get_pl_operating_income,\n",
    "    get_pl_non_operating_expense_interest,\n",
    "    get_pl_non_operating_expense_other,\n",
    "    get_pl_income_tax,\n",
    "    get_pl_net_income,\n",
    "    get_pl_shares_outstanding,\n",
    "    get_pl_eps,\n",
    "    # sed -n 's/^def \\(get_bs_.*\\)(.*/\\1,/p'\n",
    "    get_bs_current_asset_cash_and_equivalents,\n",
    "    get_bs_current_asset_restricted_cash_and_equivalents,\n",
    "    get_bs_current_asset_short_term_investments,\n",
    "    get_bs_current_asset_account_receivables,\n",
    "    get_bs_current_asset_inventory,\n",
    "    get_bs_current_asset_other,\n",
    "    get_bs_current_assets,\n",
    "    get_bs_non_current_asset_property_and_equipment,\n",
    "    get_bs_non_current_asset_restricted_cash_and_equivalent,\n",
    "    get_bs_non_current_asset_deferred_income_tax,\n",
    "    get_bs_non_current_asset_goodwill,\n",
    "    get_bs_non_current_asset_other,\n",
    "    get_bs_total_assets,\n",
    "    get_bs_current_liability_account_payable,\n",
    "    get_bs_current_liability_tax,\n",
    "    get_bs_current_liability_longterm_debt,\n",
    "    get_bs_current_liabilities,\n",
    "    get_bs_non_current_liability_longterm_debt,\n",
    "    get_bs_non_current_liability_deferred_tax,\n",
    "    get_bs_non_current_liability_other,\n",
    "    get_bs_total_liabilities,\n",
    "    get_bs_stockholders_equity_paid_in,\n",
    "    get_bs_stockholders_equity_retained,\n",
    "    get_bs_stockholders_equity_other,\n",
    "    get_bs_stockholders_equity,\n",
    "    get_bs_total_liabilities_and_stockholders_equity,\n",
    ")\n",
    "from sec_edgar_list_xbrl_xml import (\n",
    "    EdgarList\n",
    ")\n",
    "xbrl_url = EdgarList.xbrl_url"
   ]
  },
  {
   "cell_type": "markdown",
   "id": "82295cb6",
   "metadata": {},
   "source": [
    "---\n",
    "# Load EDGAR Filing XBRL\n",
    "\n",
    "Download the ```_htm.xml``` file from EDGAR. SEC now requires user-agent header."
   ]
  },
  {
   "cell_type": "markdown",
   "id": "f584596e",
   "metadata": {},
   "source": [
    "## Filling (CIK/Accession)"
   ]
  },
  {
   "cell_type": "code",
   "execution_count": 7,
   "id": "6fb0d668",
   "metadata": {},
   "outputs": [],
   "source": [
    "# AMKOR 2020 10K\n",
    "CIK = '1047127'\n",
    "ACCESSION = '0001047127-20-000006'.replace('-', '')\n",
    "FORM_TYPE = SEC_FORM_TYPE_10K"
   ]
  },
  {
   "cell_type": "code",
   "execution_count": 8,
   "id": "96d70876",
   "metadata": {},
   "outputs": [],
   "source": [
    "# DIOD 2020 10K\n",
    "CIK = '29002'\n",
    "ACCESSION = '000156459021007008'\n",
    "FORM_TYPE = SEC_FORM_TYPE_10K"
   ]
  },
  {
   "cell_type": "code",
   "execution_count": 9,
   "id": "c86a4be8",
   "metadata": {},
   "outputs": [],
   "source": [
    "# OPTICAL CABLE CORPORATION 10-K for the fiscal year ended October 31, 2021\n",
    "CIK = '0001000230'\n",
    "ACCESSION = '000143774921028951'\n",
    "FORM_TYPE = SEC_FORM_TYPE_10K"
   ]
  },
  {
   "cell_type": "code",
   "execution_count": 10,
   "id": "e7d3da57",
   "metadata": {},
   "outputs": [],
   "source": [
    "# QORVO 2021 10K\n",
    "CIK = '1604778'\n",
    "ACCESSION = '000160477821000032'\n",
    "FORM_TYPE = SEC_FORM_TYPE_10K"
   ]
  },
  {
   "cell_type": "code",
   "execution_count": 11,
   "id": "90484633",
   "metadata": {},
   "outputs": [],
   "source": [
    "# AMKOR 2021 10Q\n",
    "CIK = '1047127'\n",
    "ACCESSION = '000104712721000043'\n",
    "FORM_TYPE = SEC_FORM_TYPE_10Q"
   ]
  },
  {
   "cell_type": "code",
   "execution_count": 12,
   "id": "bc5cd4f2",
   "metadata": {},
   "outputs": [],
   "source": [
    "# NICHOLAS FINANCIAL, INC.\n",
    "CIK = '1000045'\n",
    "ACCESSION = '000119312513259413'\n",
    "FORM_TYPE = SEC_FORM_TYPE_10K"
   ]
  },
  {
   "cell_type": "code",
   "execution_count": 13,
   "id": "aa185e60",
   "metadata": {},
   "outputs": [],
   "source": [
    "# Waters Corporation\n",
    "CIK = '1000697'\n",
    "ACCESSION = '000095012310017583'\n",
    "FORM_TYPE = SEC_FORM_TYPE_10K"
   ]
  },
  {
   "cell_type": "code",
   "execution_count": 14,
   "id": "33b7f4ad",
   "metadata": {},
   "outputs": [],
   "source": [
    "CIK = '72020'\n",
    "ACCESSION = '000007202010000036'\n",
    "FORM_TYPE = SEC_FORM_TYPE_10Q"
   ]
  },
  {
   "cell_type": "code",
   "execution_count": 15,
   "id": "f24b6a2d",
   "metadata": {},
   "outputs": [
    {
     "data": {
      "text/plain": [
       "'https://www.sec.gov/Archives/edgar/data/72020/000007202010000036/index.xml'"
      ]
     },
     "execution_count": 15,
     "metadata": {},
     "output_type": "execute_result"
    }
   ],
   "source": [
    "INDEX_XML_URL = f\"https://www.sec.gov/Archives/edgar/data/{CIK}/{ACCESSION}/index.xml\"\n",
    "INDEX_XML_URL"
   ]
  },
  {
   "cell_type": "markdown",
   "id": "25e4deb9",
   "metadata": {},
   "source": [
    "## Filing Directory Listing\n",
    "\n",
    "Using EDGAR Directory Listing (index.html, index.json, or index.xml), identify the XBRL file (_htm.xml) path. "
   ]
  },
  {
   "cell_type": "raw",
   "id": "6c99babd",
   "metadata": {},
   "source": [
    "\"\"\"\n",
    "INDEX_XML_URL = f\"https://www.sec.gov/Archives/edgar/data/{CIK}/{ACCESSION}/index.xml\"\n",
    "INDEX_XML_URL\n",
    "\n",
    "response = requests.get(INDEX_XML_URL, headers=EDGAR_HTTP_HEADERS)\n",
    "if response.status_code == 200:\n",
    "    index = response.content.decode(\"utf-8\") \n",
    "else:\n",
    "    assert False, f\"{INDEX_XML_URL} failed with status {response.status_code}\"\n",
    "    \n",
    "path_to_xbrl = BeautifulSoup(index, 'html.parser').find('href', string=re.compile(\".*_htm.xml\"))\n",
    "del index\n",
    "assert path_to_xbrl, \"No XBRL file found.\"\n",
    "\n",
    "path_to_xbrl = path_to_xbrl.string.strip()\n",
    "\"\"\""
   ]
  },
  {
   "cell_type": "markdown",
   "id": "dc515f1d",
   "metadata": {},
   "source": [
    "## Download XBRL"
   ]
  },
  {
   "cell_type": "code",
   "execution_count": 16,
   "id": "9ea93c9f",
   "metadata": {},
   "outputs": [
    {
     "name": "stderr",
     "output_type": "stream",
     "text": [
      "INFO:root:xbrl_url(): getting filing directory index [https://www.sec.gov/Archives/edgar/data/72020/000007202010000036/index.xml]...\n",
      "DEBUG:root:http_get_content(): GET url [https://www.sec.gov/Archives/edgar/data/72020/000007202010000036/index.xml] headers [{'User-Agent': 'Company Name myname@company.com'}]\n",
      "DEBUG:urllib3.connectionpool:Starting new HTTPS connection (1): www.sec.gov:443\n",
      "DEBUG:urllib3.connectionpool:https://www.sec.gov:443 \"GET /Archives/edgar/data/72020/000007202010000036/index.xml HTTP/1.1\" 200 805\n",
      "INFO:root:identifying XBRL URL for [https://www.sec.gov/Archives/edgar/data/72020/000007202010000036/index.xml]...\n",
      "DEBUG:root:Filing directory path is [/Archives/edgar/data/72020/000007202010000036/]\n",
      "WARNING:root:No XBRL XML pattern [/Archives/edgar/data/72020/000007202010000036/.*_htm,.xml] identified.\n",
      "DEBUG:root:Candidate [defnref] is picked with the distance from [gas-20100630] is [12].\n",
      "DEBUG:root:Candidate [gas-20100630_cal] is picked with the distance from [gas-20100630] is [4].\n",
      "DEBUG:root:Candidate [gas-20100719] is picked with the distance from [gas-20100630] is [3].\n",
      "DEBUG:root:Selected the candidate [gas-20100719] of distance [3]. \n",
      "URL to XBRL is [https://sec.gov/Archives/edgar/data/72020/000007202010000036/gas-20100719.xml]\n",
      "INFO:root:XBRL XML [https://sec.gov/Archives/edgar/data/72020/000007202010000036/gas-20100719.xml] identified\n",
      "INFO:root:XBRL URL identified [https://sec.gov/Archives/edgar/data/72020/000007202010000036/gas-20100719.xml]\n",
      "DEBUG:urllib3.connectionpool:Starting new HTTPS connection (1): sec.gov:443\n",
      "DEBUG:urllib3.connectionpool:https://sec.gov:443 \"GET /Archives/edgar/data/72020/000007202010000036/gas-20100719.xml HTTP/1.1\" 301 0\n",
      "DEBUG:urllib3.connectionpool:Starting new HTTPS connection (1): www.sec.gov:443\n",
      "DEBUG:urllib3.connectionpool:https://www.sec.gov:443 \"GET /Archives/edgar/data/72020/000007202010000036/gas-20100719.xml HTTP/1.1\" 200 46278\n"
     ]
    }
   ],
   "source": [
    "XBRL_XML_URL = xbrl_url(INDEX_XML_URL)\n",
    "\n",
    "response = requests.get(XBRL_XML_URL, headers=EDGAR_HTTP_HEADERS)\n",
    "if response.status_code == 200:\n",
    "    content = response.content.decode(\"utf-8\") \n",
    "else:\n",
    "    assert False, f\"{XBRL_URL} failed with status {response.status_code}\"\n",
    "    \n",
    "del response"
   ]
  },
  {
   "cell_type": "code",
   "execution_count": 17,
   "id": "0bda04b2",
   "metadata": {},
   "outputs": [
    {
     "data": {
      "text/plain": [
       "'gas-20100719'"
      ]
     },
     "execution_count": 17,
     "metadata": {},
     "output_type": "execute_result"
    }
   ],
   "source": [
    "filename_basename(XBRL_XML_URL)"
   ]
  },
  {
   "cell_type": "code",
   "execution_count": 18,
   "id": "665c3462",
   "metadata": {},
   "outputs": [],
   "source": [
    "content = restore_windows_1252_characters(content)"
   ]
  },
  {
   "cell_type": "markdown",
   "id": "017b4ad7",
   "metadata": {},
   "source": [
    "# XBRL\n",
    "\n",
    "Use the BS4 HTML Parser to be able to:\n",
    "1. Handle ```<namespace:tag>``` as a single tag (with lower cases)\n",
    "2. Work without namespace definitions (xmlns=) \n",
    "\n",
    "BS4/XML parser simply drops the namespaces when the namespace definitions are not provided, hence searching tags with ```<namespace:tag>``` does not match. To avoid this issue, use HTML parser."
   ]
  },
  {
   "cell_type": "code",
   "execution_count": 19,
   "id": "23172972",
   "metadata": {},
   "outputs": [
    {
     "name": "stdout",
     "output_type": "stream",
     "text": [
      "None\n"
     ]
    }
   ],
   "source": [
    "# HTML parser lowers all the names\n",
    "soup = BeautifulSoup(content, 'html.parser')\n",
    "# HTML parser does not match case sensitivve name\n",
    "print(soup.find(\"dei:EntityRegistrantName\"))"
   ]
  },
  {
   "cell_type": "code",
   "execution_count": 20,
   "id": "5b4ff223",
   "metadata": {},
   "outputs": [],
   "source": [
    "# Verify [<xbrl xmlns=\"http://www.xbrl.org/2003/instance\">]\n",
    "#assert soup.find('xbrl', attrs={\"xmlns\": \"http://www.xbrl.org/2003/instance\"}), \\\n",
    "#    f\"Invalid XBRL {INDEX_XML_URL}\""
   ]
  },
  {
   "cell_type": "markdown",
   "id": "ef53a718",
   "metadata": {},
   "source": [
    "## Company Name"
   ]
  },
  {
   "cell_type": "code",
   "execution_count": 21,
   "id": "71485048",
   "metadata": {},
   "outputs": [],
   "source": [
    "def get_company_name(soup):\n",
    "    \"\"\"Get company (registrant) name from the XBRL\"\"\"\n",
    "    registrant_name = soup.find(\n",
    "        name=re.compile(\"dei:EntityRegistrantName\".lower(), re.I)\n",
    "    ).string.strip()\n",
    "    assert registrant_name, f\"No registrant name found\"\n",
    "\n",
    "    # Remove non-ascii characters to form a company name\n",
    "    registrant_name = ''.join(e for e in registrant_name if e.isalnum())\n",
    "    logging.debug(\"get_company_name(): company name is [%s]\" % registrant_name)\n",
    "    return registrant_name"
   ]
  },
  {
   "cell_type": "code",
   "execution_count": 22,
   "id": "5e1dac87",
   "metadata": {},
   "outputs": [
    {
     "name": "stderr",
     "output_type": "stream",
     "text": [
      "DEBUG:root:get_company_name(): company name is [NicorInc]\n"
     ]
    }
   ],
   "source": [
    "company_name = get_company_name(soup)"
   ]
  },
  {
   "cell_type": "markdown",
   "id": "342da6cb",
   "metadata": {},
   "source": [
    "## Repoting period\n",
    "\n",
    "Each 10-K and 10-Q XBRL has the reporting period for the filing. To exclude the other period, e.g. pervious year or quarter, use the ```context id``` for the reporting period. **Most** 10-K, 10-Q specify the annual period with the first ```<startDate> and <endDate>``` tags.\n",
    "\n",
    "For instances:\n",
    "\n",
    "### QRVO 10-K 2020\n",
    "\n",
    "```\n",
    "<context id=\"ifb6ce67cf6954ebf88471dd82daa9247_D20200329-20210403\">\n",
    "    <entity>\n",
    "    <identifier scheme=\"http://www.sec.gov/CIK\">0001604778</identifier>\n",
    "    </entity>\n",
    "    <period>\n",
    "        <startDate>2020-03-29</startDate>\n",
    "        <endDate>2021-04-03</endDate>\n",
    "    </period>\n",
    "</context>\n",
    "```\n",
    "\n",
    "### AMKR 10-K 2020\n",
    "\n",
    "```\n",
    "<context id=\"i5fac0a392353427b8266f185495754d3_D20200101-20201231\">\n",
    "    <entity>\n",
    "    <identifier scheme=\"http://www.sec.gov/CIK\">0001047127</identifier>\n",
    "    </entity>\n",
    "    <period>\n",
    "        <startDate>2020-01-01</startDate>\n",
    "        <endDate>2020-12-31</endDate>\n",
    "    </period>\n",
    "</context>\n",
    "```\n",
    "\n",
    "### AAPL 10-Q 4th QTR 2020\n",
    "\n",
    "```\n",
    "<context id=\"i6e431846933d461fb8c8c0bdf98c9758_D20200927-20201226\">\n",
    "    <entity>\n",
    "    <identifier scheme=\"http://www.sec.gov/CIK\">0000320193</identifier>\n",
    "    </entity>\n",
    "    <period>\n",
    "        <startDate>2020-09-27</startDate>\n",
    "        <endDate>2020-12-26</endDate>\n",
    "    </period>\n",
    "</context>\n",
    "```\n",
    "\n",
    "**However, there are companies that do not have this manner**. For instance [10-K for OPTICAL CABLE CORPORATION(CIK=0001000230)](https://www.sec.gov/Archives/edgar/data/1000230/000143774921028951/occ20211031_10k_htm.xml) has the same start and end dates at first.\n",
    "\n",
    "```\n",
    "<context id=\"d202110K\">\n",
    "    <entity>\n",
    "        <identifier scheme=\"http://www.sec.gov/CIK\">0001000230</identifier>\n",
    "    </entity>\n",
    "    <period>\n",
    "        <startDate>2021-10-31</startDate>   # <-----\n",
    "        <endDate>2021-10-31</endDate>\n",
    "    </period>\n",
    "</context>\n",
    "<context id=\"d_2020-11-01_2021-10-31\">\n",
    "    <entity>\n",
    "        <identifier scheme=\"http://www.sec.gov/CIK\">0001000230</identifier>\n",
    "    </entity>\n",
    "    <period>\n",
    "        <startDate>2020-11-01</startDate>   # <-----\n",
    "        <endDate>2021-10-31</endDate>\n",
    "    </period>\n",
    "</context>\n",
    "```\n",
    "\n",
    "The report uses the 2nd for 2021 F/S element value but does not use the first one.\n",
    "\n",
    "**B/S**\n",
    "```\n",
    "<us-gaap:Assets \n",
    "    contextRef=\"i_2021-10-31\"    # <-----\n",
    "    decimals=\"INF\" \n",
    "    id=\"c79893606\" \n",
    "    unitRef=\"USD\"\n",
    ">\n",
    "  37916530\n",
    "</us-gaap:Assets>\n",
    "```\n",
    "\n",
    "**P/L**\n",
    "```\n",
    "<us-gaap:RevenueFromContractWithCustomerIncludingAssessedTax \n",
    "  contextRef=\"d_2020-11-01_2021-10-31\"     # <-----\n",
    "  decimals=\"INF\" \n",
    "  id=\"c79893662\" \n",
    "  unitRef=\"USD\"\n",
    ">\n",
    "  59136294\n",
    "</us-gaap:RevenueFromContractWithCustomerIncludingAssessedTax>\n",
    "```\n",
    "\n",
    "<img src='../image/edgar_optical_cable_2021_10K.png' align=\"left\" width=500/>"
   ]
  },
  {
   "cell_type": "markdown",
   "id": "9982a4f2",
   "metadata": {},
   "source": [
    "### Get the period from the 1st\n",
    "\n",
    "For now, just get the period from the 1st **period** element."
   ]
  },
  {
   "cell_type": "code",
   "execution_count": 23,
   "id": "0888bf98",
   "metadata": {},
   "outputs": [],
   "source": [
    "def get_report_period_end_date(soup, date_from_xbrl_filename=None):\n",
    "    \"\"\"Identify the end date of the report period from the first \"context\" tag\n",
    "    in the XBRL that has <period><startDate> tag as its child tag. \n",
    "\n",
    "    <context id=\"ifb6ce67cf6954ebf88471dd82daa9247_D20200329-20210403\">\n",
    "        <entity>\n",
    "        <identifier scheme=\"http://www.sec.gov/CIK\">0001604778</identifier>\n",
    "        </entity>\n",
    "        <period>\n",
    "            <startDate>2020-03-29</startDate>\n",
    "            <endDate>2021-04-03</endDate>        # <-----\n",
    "        </period>\n",
    "    </context>\n",
    "\n",
    "    Args:\n",
    "        soup: Source BS4\n",
    "        date_from_xbrl_filename: Date extracted from XBRL XML filename \n",
    "    Returns: reporting period e.g. \"2021-09-30\"\n",
    "    \"\"\"\n",
    "    candidates = []\n",
    "    report_period_end_date = None\n",
    "    \n",
    "    # --------------------------------------------------------------------------------\n",
    "    # List all the endDate from the Contexts\n",
    "    # --------------------------------------------------------------------------------\n",
    "    regexp_end_date_pattern = re.compile(r\"(\\s*)([12][0-9]{3}-[0-9]{1,2}-[0-9]{1,2})(\\s*)\")\n",
    "    for context in soup.find_all(REGEXP_XBRL_TAG_CONTEXT):\n",
    "        # --------------------------------------------------------------------------------\n",
    "        # Find Context tag which has <period><enddate> child tag\n",
    "        # --------------------------------------------------------------------------------\n",
    "        period = context.find(REGEXP_XBRL_TAG_PERIOD)\n",
    "        if period:\n",
    "            end_date = period.find(REGEXP_XBRL_TAG_END_DATE)\n",
    "            if end_date:\n",
    "                match = re.match(regexp_end_date_pattern, end_date.string.strip())\n",
    "                if match and has_date_format(match.group(2)):\n",
    "                    candidates.append(match.group(2))\n",
    "\n",
    "    assert len(candidates) > 0, \"No period found\"\n",
    "    \n",
    "    # --------------------------------------------------------------------------------\n",
    "    # If the date from the XBRL XML name is in the candidate, use it as the end_datge\n",
    "    # Otherwise use the first candidate.\n",
    "    # --------------------------------------------------------------------------------\n",
    "    if date_from_xbrl_filename in candidates:\n",
    "        report_period_end_date = date_from_xbrl_filename\n",
    "    else:\n",
    "        report_period_end_date = candidates[0]\n",
    "\n",
    "    return report_period_end_date"
   ]
  },
  {
   "cell_type": "code",
   "execution_count": 24,
   "id": "2735530f",
   "metadata": {},
   "outputs": [
    {
     "name": "stdout",
     "output_type": "stream",
     "text": [
      "('gas-', '20100719', '')\n"
     ]
    },
    {
     "data": {
      "text/plain": [
       "'2010-07-19'"
      ]
     },
     "execution_count": 24,
     "metadata": {},
     "output_type": "execute_result"
    }
   ],
   "source": [
    "def get_date_from_xbrl_filename(filename):\n",
    "    \"\"\"\n",
    "    Infer the reporting period end date from the XBRL XML filename.\n",
    "    e.g if XBRL XML is rfmd-20210403_htm.xml, then 2021-04-03 is highly\n",
    "    like to be the report period end date.\n",
    "\n",
    "    In the XBRL XML file, there is a Context which identifies the end date\n",
    "    of the report period.\n",
    "\n",
    "    <context id=\"ifb6ce67cf6954ebf88471dd82daa9247_D20200329-20210403\">\n",
    "        <entity>\n",
    "        <identifier scheme=\"http://www.sec.gov/CIK\">0001604778</identifier>\n",
    "        </entity>\n",
    "        <period>\n",
    "            <startDate>2020-03-29</startDate>\n",
    "            <endDate>2021-04-03</endDate>         # <--- end of the period\n",
    "        </period>\n",
    "    </context>\n",
    "\n",
    "    This endDate value is highly likely to match the date from the filename.\n",
    "    \"\"\"\n",
    "    filename = filename_basename(filename)\n",
    "    if False:\n",
    "        pattern = re.compile(r\"([^0-9]*)[-]*([12][0-9]{3})[-]*([0-9]{2})[-]*([0-9]{2})(.*)\")\n",
    "        match = re.match(pattern, filename)\n",
    "        if match:\n",
    "            year = match.group(2)\n",
    "            month = match.group(3)\n",
    "            day = match.group(4)\n",
    "            date_from_xbrl_filename = \"-\".join([year, month, day])\n",
    "            return date_from_xbrl_filename\n",
    "        else:\n",
    "            return None\n",
    "    else:\n",
    "        pattern = re.compile(r\"(.*)([12][0-9]{7})(.*)\")\n",
    "        match = re.match(pattern, filename)\n",
    "        if match:\n",
    "            print(match.groups())\n",
    "            yyyymmdd = match.group(2)\n",
    "            year = yyyymmdd[:4]\n",
    "            month = yyyymmdd[4:6]\n",
    "            day = yyyymmdd[6:8]\n",
    "            return \"-\".join([year, month, day])\n",
    "        else:\n",
    "            return None\n",
    "\n",
    "date_from_xbrl_filename = get_date_from_xbrl_filename(filename_basename(XBRL_XML_URL))\n",
    "date_from_xbrl_filename"
   ]
  },
  {
   "cell_type": "code",
   "execution_count": 25,
   "id": "21d36239",
   "metadata": {},
   "outputs": [
    {
     "name": "stdout",
     "output_type": "stream",
     "text": [
      "('gas-', '20100719', '')\n",
      "2010-07-19\n",
      "('hsicform10q', '20200926', '_htm')\n",
      "2020-09-26\n"
     ]
    }
   ],
   "source": [
    "print(get_date_from_xbrl_filename(filename_basename(XBRL_XML_URL)))\n",
    "print(get_date_from_xbrl_filename(\"hsicform10q20200926_htm.xml\"))"
   ]
  },
  {
   "cell_type": "code",
   "execution_count": 26,
   "id": "ef4f78ba",
   "metadata": {},
   "outputs": [
    {
     "data": {
      "text/plain": [
       "'2009-12-31'"
      ]
     },
     "execution_count": 26,
     "metadata": {},
     "output_type": "execute_result"
    }
   ],
   "source": [
    "report_period_end_date = get_report_period_end_date(soup, date_from_xbrl_filename)\n",
    "report_period_end_date"
   ]
  },
  {
   "cell_type": "markdown",
   "id": "ae285390",
   "metadata": {},
   "source": [
    "### List contexts whose endDate matrches report period end date"
   ]
  },
  {
   "cell_type": "code",
   "execution_count": 27,
   "id": "57dca990",
   "metadata": {},
   "outputs": [
    {
     "name": "stdout",
     "output_type": "stream",
     "text": [
      "match[contxt_id c00004 : 2009-12-31]\n",
      "no match c00010 : 2009-06-30\n",
      "no match c00011 : 2010-06-30\n",
      "no match c00016 : 2010-06-30\n",
      "no match c00017 : 2009-06-30\n"
     ]
    }
   ],
   "source": [
    "# Experiment to test extract the context that has the matching end date\n",
    "regexp = re.compile(rf\"(\\s*)({report_period_end_date})(\\s*)\")\n",
    "\n",
    "for context in soup.find_all(REGEXP_XBRL_TAG_CONTEXT):\n",
    "    period = context.find(REGEXP_XBRL_TAG_PERIOD)\n",
    "    if period:\n",
    "        end_date = period.find(REGEXP_XBRL_TAG_END_DATE)\n",
    "        if end_date:\n",
    "            match = re.match(regexp, end_date.string.strip())\n",
    "            if match:\n",
    "                print(f\"match[contxt_id {context['id']} : {match.group(2)}]\")\n",
    "            else:\n",
    "                print(f\"no match {context['id']} : {end_date.string.strip()}\")\n"
   ]
  },
  {
   "cell_type": "code",
   "execution_count": 28,
   "id": "1f91390f",
   "metadata": {},
   "outputs": [],
   "source": [
    "### List contexts whose instant matrches report period end date"
   ]
  },
  {
   "cell_type": "code",
   "execution_count": 29,
   "id": "eeff9eb2",
   "metadata": {},
   "outputs": [
    {
     "name": "stdout",
     "output_type": "stream",
     "text": [
      "no match c00000 : 2009-06-30\n",
      "no match c00001 : 2009-06-30\n",
      "no match c00002 : 2009-06-30\n",
      "no match c00003 : 2009-06-30\n",
      "no match c00005 : 2008-12-31\n",
      "match[contxt_id c00006 : 2009-12-31]\n",
      "match[contxt_id c00007 : 2009-12-31]\n",
      "match[contxt_id c00008 : 2009-12-31]\n",
      "match[contxt_id c00009 : 2009-12-31]\n",
      "no match c00012 : 2010-06-30\n",
      "no match c00013 : 2010-06-30\n",
      "no match c00014 : 2010-06-30\n",
      "no match c00015 : 2010-06-30\n",
      "no match c00018 : 2010-07-27\n"
     ]
    }
   ],
   "source": [
    "# Experiment to test extract the context that has the matching end date\n",
    "regexp = re.compile(rf\"(\\s*)({report_period_end_date})(\\s*)\")\n",
    "\n",
    "for context in soup.find_all(REGEXP_XBRL_TAG_CONTEXT):\n",
    "    period = context.find(REGEXP_XBRL_TAG_PERIOD)\n",
    "    if period:\n",
    "        instant = period.find([REGEXP_XBRL_TAG_INSTANT])\n",
    "        if instant:\n",
    "            match = re.match(regexp, instant.string)\n",
    "            if match:\n",
    "                print(f\"match[contxt_id {context['id']} : {match.group(2)}]\")\n",
    "            else:\n",
    "                print(f\"no match {context['id']} : {instant.string.strip()}\")\n"
   ]
  },
  {
   "cell_type": "markdown",
   "id": "4681282d",
   "metadata": {},
   "source": [
    "### Regexp to find all the contexts that match with report_period_end_date\n",
    "\n",
    "10-K, 10-Q F/S uses multiple contexts to refer to the F/S element values for the **period**. Collect all the contexts for the **period**."
   ]
  },
  {
   "cell_type": "code",
   "execution_count": 30,
   "id": "557c2bfe",
   "metadata": {
    "scrolled": true
   },
   "outputs": [
    {
     "name": "stdout",
     "output_type": "stream",
     "text": [
      "Range: (2009-12-01, 2010-01-30)\n"
     ]
    }
   ],
   "source": [
    "# Example\n",
    "def get_start_date_range(end_date, form_type):\n",
    "    end_date = dateutil.parser.parse(end_date)\n",
    "    if form_type == SEC_FORM_TYPE_10K:\n",
    "        duration = datetime.timedelta(days=365) \n",
    "\n",
    "    if form_type == SEC_FORM_TYPE_10Q:\n",
    "        duration = datetime.timedelta(days=90) \n",
    "\n",
    "    _from = end_date - duration - datetime.timedelta(days=30)\n",
    "    _to  = end_date - duration + datetime.timedelta(days=30)\n",
    "    print(f\"Range: ({str(_from)[:10]}, {str(_to)[:10]})\")\n",
    "    \n",
    "get_start_date_range(\"2010-03-31\", SEC_FORM_TYPE_10Q)"
   ]
  },
  {
   "cell_type": "markdown",
   "id": "b57a289b",
   "metadata": {},
   "source": [
    "## Context IDs that refer to the current period"
   ]
  },
  {
   "cell_type": "code",
   "execution_count": 31,
   "id": "154e3bd7",
   "metadata": {},
   "outputs": [
    {
     "data": {
      "text/plain": [
       "['c00006', 'c00007', 'c00008', 'c00009']"
      ]
     },
     "execution_count": 31,
     "metadata": {},
     "output_type": "execute_result"
    }
   ],
   "source": [
    "get_target_context_ids(soup=soup, report_period_end_date=report_period_end_date, form_type=FORM_TYPE)"
   ]
  },
  {
   "cell_type": "markdown",
   "id": "0a8b24ae",
   "metadata": {},
   "source": [
    "---\n",
    "# Constant"
   ]
  },
  {
   "cell_type": "code",
   "execution_count": 32,
   "id": "dab3debf",
   "metadata": {},
   "outputs": [],
   "source": [
    "from xbrl_gaap_constant import (\n",
    "    NAMESPACE_GAAP,\n",
    "    GAAP_CREDIT_ITEMS,\n",
    "    GAAP_DEBIT_ITEMS,\n",
    "    GAAP_CALC_ITEMS,\n",
    "    GAAP_METRIC_ITEMS,\n",
    "    GAAP_FACT_ITEMS,\n",
    ")\n",
    "from sec_edgar_constant import (\n",
    "    FS_ELEMENT_TYPE_DEBIT,\n",
    "    FS_ELEMENT_TYPE_CREDIT,\n",
    "    FS_ELEMENT_TYPE_CALC,\n",
    "    FS_ELEMENT_TYPE_METRIC,\n",
    "    FS_ELEMENT_TYPE_FACT,\n",
    ")"
   ]
  },
  {
   "cell_type": "code",
   "execution_count": 33,
   "id": "326602c0",
   "metadata": {},
   "outputs": [],
   "source": [
    "CONTEXT_REGEXP = re.compile(\"|\".join(\n",
    "    get_target_context_ids(soup=soup, report_period_end_date=report_period_end_date, form_type=FORM_TYPE))\n",
    ")"
   ]
  },
  {
   "cell_type": "code",
   "execution_count": 34,
   "id": "e88e4f29",
   "metadata": {},
   "outputs": [
    {
     "data": {
      "text/plain": [
       "re.compile(r'c00006|c00007|c00008|c00009', re.UNICODE)"
      ]
     },
     "execution_count": 34,
     "metadata": {},
     "output_type": "execute_result"
    }
   ],
   "source": [
    "CONTEXT_REGEXP"
   ]
  },
  {
   "cell_type": "markdown",
   "id": "0ff7cd8b",
   "metadata": {},
   "source": [
    "# Utilities"
   ]
  },
  {
   "cell_type": "code",
   "execution_count": 35,
   "id": "e9738300",
   "metadata": {},
   "outputs": [],
   "source": [
    "def assert_bf4_tag(element):\n",
    "    assert isinstance(element, bs4.element.Tag), \\\n",
    "    f\"Expected BS4 tag but {element} of type {type(element)}\""
   ]
  },
  {
   "cell_type": "code",
   "execution_count": 36,
   "id": "ce1dd4d6",
   "metadata": {},
   "outputs": [],
   "source": [
    "def display_elements(elements):\n",
    "    assert isinstance(elements, bs4.element.ResultSet) or isinstance(elements[0], bs4.element.Tag)\n",
    "    for element in elements: # decimals=\"-3\" means the displayed value is divied by 1000.\n",
    "        print(f\"{element.name:80} {element['unitref']:5} {element['decimals']:5} {element.text:15}\")"
   ]
  },
  {
   "cell_type": "code",
   "execution_count": 37,
   "id": "c5b3f246",
   "metadata": {},
   "outputs": [],
   "source": [
    "def get_element_hash(element):\n",
    "    \"\"\"Generate the financial element hash key to uniquely identify an financial element record\n",
    "    In a F/S, the same element, e.g. gaap:CashAndCashEquivalentsAtCarryingValue can be used at\n",
    "    multiple places, one in B/S and one in P/L.\n",
    "    \n",
    "    To be able to identify if two elements are the same, provides a way to be able to compare\n",
    "    two elements by generating a hash key from the attributes of an element.\n",
    "    \n",
    "    Args:\n",
    "        element: bs4.element.Tag for an financial element\n",
    "    Returns: hash key\n",
    "    \"\"\"\n",
    "    assert isinstance(element, bs4.element.Tag)\n",
    "    # key = f\"{element.name}{element['unitref']}{element['contextref']}{element.text}\"\n",
    "    # key = f\"{element.name}{element['unitref']}{element.text}\"\n",
    "    key = f\"{element.name}{element['unitref']}\"\n",
    "    return hash(key)"
   ]
  },
  {
   "cell_type": "code",
   "execution_count": 38,
   "id": "d4640ab6",
   "metadata": {},
   "outputs": [],
   "source": [
    "# XBRL attribute conditions to match when extracting FS elements\n",
    "ATTRIBUTES = {\n",
    "    \"contextref\": CONTEXT_REGEXP,\n",
    "    \"decimals\": True, \n",
    "    \"unitref\": True\n",
    "}\n",
    "\n",
    "\n",
    "def find_financial_elements(soup, element_names, attributes=ATTRIBUTES):\n",
    "    \"\"\"Find the financial statement elements from the XML/HTML source.\n",
    "    Args:\n",
    "        soup: BS4 source\n",
    "        element_names: String or regexp instance to select the financial elements.\n",
    "        attribute: tag attributes to select the financial elements\n",
    "    Returns:\n",
    "        List of BS4 tag objects that matched the element_names and attributes.\n",
    "    \"\"\"\n",
    "    assert isinstance(soup, BeautifulSoup)\n",
    "    assert isinstance(element_names, re.Pattern) or isinstance(element_names, str)\n",
    "\n",
    "    \n",
    "    names = element_names.lower() if isinstance(element_names, str) else element_names\n",
    "\n",
    "    elements = soup.find_all(\n",
    "        name=names,\n",
    "        string=REGEXP_NUMERIC,\n",
    "        attrs=attributes\n",
    "    )\n",
    "    \n",
    "    # Select unique elements\n",
    "    hashes = set([]) \n",
    "    results = []\n",
    "    if elements is not None and len(elements) > 0:\n",
    "        for element in elements:\n",
    "            hash_value = get_element_hash(element)\n",
    "            if hash_value not in hashes:\n",
    "                results.append(element) \n",
    "                hashes.add(hash_value)\n",
    "    return results"
   ]
  },
  {
   "cell_type": "code",
   "execution_count": 39,
   "id": "98361b59",
   "metadata": {},
   "outputs": [
    {
     "name": "stdout",
     "output_type": "stream",
     "text": [
      "us-gaap:excessofreplacementorcurrentcostsoverstatedlifovalue                                        :0\n",
      "us-gaap:commercialpaper                                                                             :494000000\n",
      "us-gaap:propertyplantandequipmentnet                                                                :2939100000\n",
      "us-gaap:capitalizationlongtermdebtandequity                                                         :1536000000\n",
      "us-gaap:cashandcashequivalentsatcarryingvalue                                                       :55700000\n",
      "us-gaap:shortterminvestments                                                                        :78000000\n",
      "us-gaap:stockholdersequity                                                                          :1037700000\n",
      "us-gaap:allowancefordoubtfulaccountsreceivablecurrent                                               :33000000\n",
      "us-gaap:otherpostretirementdefinedbenefitplanliabilitiesnoncurrent                                  :199700000\n",
      "us-gaap:accountspayableandaccruedliabilitiescurrent                                                 :353900000\n",
      "us-gaap:longtermdebtnoncurrent                                                                      :498200000\n",
      "us-gaap:otherliabilitiesnoncurrent                                                                  :133600000\n",
      "us-gaap:assetretirementobligationsnoncurrent                                                        :191600000\n",
      "us-gaap:longtermdebtcurrent                                                                         :0\n",
      "us-gaap:assetscurrent                                                                               :1003300000\n",
      "us-gaap:accountsreceivablenetcurrent                                                                :492100000\n",
      "us-gaap:additionalpaidincapital                                                                     :54600000\n",
      "us-gaap:commonstockvalue                                                                            :113100000\n",
      "us-gaap:energyrelatedinventorygasstoredunderground                                                  :137200000\n",
      "us-gaap:otherliabilitiescurrent                                                                     :106200000\n",
      "us-gaap:hedgingliabilitiescurrent                                                                   :72300000\n",
      "us-gaap:otherassetsnoncurrent                                                                       :364500000\n",
      "us-gaap:margindepositassets                                                                         :46100000\n",
      "us-gaap:retainedearningsaccumulateddeficit                                                          :881000000\n",
      "us-gaap:redeemablepreferredstock                                                                    :100000\n",
      "us-gaap:longterminvestments                                                                         :128800000\n",
      "us-gaap:propertyplantandequipmentgross                                                              :4598200000\n",
      "us-gaap:assets                                                                                      :4435700000\n",
      "us-gaap:derivativeinstrumentsandhedges                                                              :30900000\n",
      "us-gaap:liabilitiesandstockholdersequity                                                            :4435700000\n",
      "us-gaap:accumulateddepreciationdepletionandamortizationpropertyplantandequipment                    :2021900000\n",
      "us-gaap:otherassetscurrent                                                                          :163300000\n",
      "us-gaap:accumulatedothercomprehensiveincomelossnetoftax                                             :-11000000\n",
      "us-gaap:deferredtaxliabilitiesnoncurrent                                                            :409900000\n",
      "us-gaap:liabilitiescurrent                                                                          :1168100000\n",
      "us-gaap:customeradvancesanddepositscurrent                                                          :141700000\n"
     ]
    }
   ],
   "source": [
    "for element in find_financial_elements(soup, re.compile(f\"^{NAMESPACE_GAAP}:.*\"), attributes=ATTRIBUTES):\n",
    "    print(f\"{element.name:100}:{element.text}\")"
   ]
  },
  {
   "cell_type": "code",
   "execution_count": 40,
   "id": "38838bae",
   "metadata": {},
   "outputs": [],
   "source": [
    "def get_financial_element_numeric_values(elements):\n",
    "    # assert isinstance(elements, bs4.element.ResultSet) or isinstance(elements[0], bs4.element.Tag)\n",
    "    assert_bf4_tag(elements[0])\n",
    "    \n",
    "    values = []\n",
    "    for element in elements:\n",
    "        assert re.match(REGEXP_NUMERIC, element.text.strip()), f\"Element must be numeric but {element.text}\"\n",
    "        values.append(float(element.text))\n",
    "        \n",
    "    return values"
   ]
  },
  {
   "cell_type": "code",
   "execution_count": 41,
   "id": "bd39bd7a",
   "metadata": {},
   "outputs": [],
   "source": [
    "def get_financial_element_columns():\n",
    "    \"\"\"Financial record columns\"\"\"\n",
    "    return [\n",
    "        \"fs\",           # Which financial statement e.g. bs for Balance Sheet\n",
    "        \"rep\",          # Representative marker e.g. \"income\" or \"cogs\" (cost of goods sold)\n",
    "        \"type\",         # \"debit\" or \"credit\"\n",
    "        \"name\",         # F/S item name, e.g. us-gaap:revenues\n",
    "        \"value\", \n",
    "        \"unit\",         # e.g. USD\n",
    "        \"decimals\",     # Scale\n",
    "        \"context\"       # XBRL context ID\n",
    "    ]\n",
    "\n",
    "def get_record_for_nil_elements(elements):\n",
    "    return []\n",
    "\n",
    "def get_records_for_financial_elements(elements):\n",
    "    \"\"\"Financial record having the columns of get_financial_element_columns\"\"\"\n",
    "    # assert isinstance(elements, bs4.element.ResultSet) or isinstance(elements[0], bs4.element.Tag)\n",
    "    assert_bf4_tag(elements[0])\n",
    "    \n",
    "    results = []\n",
    "    for element in elements:\n",
    "        # F/S\n",
    "        element_fs = \"\"\n",
    "        \n",
    "        # Rep\n",
    "        element_rep = \"\"\n",
    "        \n",
    "        # Type of the element\n",
    "        element_type = None\n",
    "        if element.name in GAAP_DEBIT_ITEMS: element_type = FS_ELEMENT_TYPE_DEBIT\n",
    "        if element.name in GAAP_CREDIT_ITEMS: element_type = FS_ELEMENT_TYPE_CREDIT\n",
    "        if element.name in GAAP_CALC_ITEMS: element_type = FS_ELEMENT_TYPE_CALC\n",
    "        if element.name in GAAP_METRIC_ITEMS: element_type = FS_ELEMENT_TYPE_METRIC\n",
    "        if element.name in GAAP_FACT_ITEMS: element_type = FS_ELEMENT_TYPE_FACT\n",
    "            \n",
    "        \n",
    "        # Name of the financial element\n",
    "        element_name = element.name\n",
    "        \n",
    "        # Unit of the financial element\n",
    "        element_unit = element['unitref']\n",
    "        \n",
    "        # Scale of the element\n",
    "        element_scale = int(element['decimals']) if element['decimals'].lower() != 'inf' else np.inf\n",
    "            \n",
    "        # Value of the element\n",
    "        element_value = float(element.text)\n",
    "\n",
    "        # Context ID of the element\n",
    "        element_context = element['contextref']\n",
    "\n",
    "        record = [\n",
    "            element_fs,\n",
    "            element_rep,\n",
    "            element_type,\n",
    "            element_name,\n",
    "            element_value, \n",
    "            element_unit, \n",
    "            element_scale, \n",
    "            element_context\n",
    "        ]\n",
    "        assert len(record) == len(get_financial_element_columns())\n",
    "        results.append(record)\n",
    "        \n",
    "    return results\n",
    "\n",
    "\n",
    "def represents(records: list, fs: str, rep: str):\n",
    "    assert isinstance(records, list) and len(fs) > 0 and len(rep) > 0\n",
    "    if len(records) > 0:\n",
    "        row = records[0]\n",
    "        row[0] = fs\n",
    "        row[1] = rep\n",
    "    \n",
    "    return records"
   ]
  },
  {
   "cell_type": "code",
   "execution_count": 42,
   "id": "e6fabee2",
   "metadata": {},
   "outputs": [],
   "source": [
    "def get_records_for_financial_element_names(soup, names: List[str]):\n",
    "    \"\"\"Get finacial records that matches the financial element names\n",
    "    \"\"\"\n",
    "    elements = find_financial_elements(soup=soup, element_names=names)\n",
    "    if len(elements) > 0:\n",
    "        display_elements(elements)\n",
    "        return get_records_for_financial_elements(elements)\n",
    "    else:\n",
    "        return get_record_for_nil_elements(elements)"
   ]
  },
  {
   "cell_type": "code",
   "execution_count": 43,
   "id": "190f39c0",
   "metadata": {},
   "outputs": [],
   "source": [
    "def get_values_for_financial_element_names(soup, names: List[str]):\n",
    "    elements = find_financial_elements(soup=soup, element_names=names)\n",
    "    if len(elements) > 0:\n",
    "        display_elements(elements)\n",
    "        return get_financial_element_numeric_values(elements)\n",
    "    else:\n",
    "        return []"
   ]
  },
  {
   "cell_type": "markdown",
   "id": "5c0233d8",
   "metadata": {},
   "source": [
    "---\n",
    "# Shares Outstanding"
   ]
  },
  {
   "cell_type": "code",
   "execution_count": 44,
   "id": "cc657c72",
   "metadata": {},
   "outputs": [],
   "source": [
    "def get_shares_outstanding(soup):\n",
    "    names = re.compile(\"|\".join([\n",
    "        rf\"{NAMESPACE_GAAP}:SharesOutstanding\",\n",
    "        rf\"{NAMESPACE_GAAP}:CommonStockSharesOutstanding\",\n",
    "        rf\"{NAMESPACE_GAAP}:CommonStockOtherSharesOutstanding\",\n",
    "    ]).lower())\n",
    "\n",
    "    return get_records_for_financial_element_names(soup=soup, names=names)"
   ]
  },
  {
   "cell_type": "code",
   "execution_count": 45,
   "id": "37d26480",
   "metadata": {},
   "outputs": [
    {
     "data": {
      "text/plain": [
       "[]"
      ]
     },
     "execution_count": 45,
     "metadata": {},
     "output_type": "execute_result"
    }
   ],
   "source": [
    "shares_outstandings = get_shares_outstanding(soup)\n",
    "shares_outstandings"
   ]
  },
  {
   "cell_type": "code",
   "execution_count": 46,
   "id": "caba0959",
   "metadata": {},
   "outputs": [
    {
     "data": {
      "text/html": [
       "<div>\n",
       "<style scoped>\n",
       "    .dataframe tbody tr th:only-of-type {\n",
       "        vertical-align: middle;\n",
       "    }\n",
       "\n",
       "    .dataframe tbody tr th {\n",
       "        vertical-align: top;\n",
       "    }\n",
       "\n",
       "    .dataframe thead th {\n",
       "        text-align: right;\n",
       "    }\n",
       "</style>\n",
       "<table border=\"1\" class=\"dataframe\">\n",
       "  <thead>\n",
       "    <tr style=\"text-align: center;\">\n",
       "      <th></th>\n",
       "    </tr>\n",
       "  </thead>\n",
       "  <tbody>\n",
       "  </tbody>\n",
       "</table>\n",
       "</div>"
      ],
      "text/plain": [
       "Empty DataFrame\n",
       "Columns: []\n",
       "Index: []"
      ]
     },
     "execution_count": 46,
     "metadata": {},
     "output_type": "execute_result"
    }
   ],
   "source": [
    "df_ShareOutstanding = pd.DataFrame(shares_outstandings)\n",
    "df_ShareOutstanding"
   ]
  },
  {
   "cell_type": "markdown",
   "id": "e26002ef",
   "metadata": {},
   "source": [
    "---\n",
    "# Statements of Income (P/L)"
   ]
  },
  {
   "cell_type": "code",
   "execution_count": 47,
   "id": "e8e1ddf9",
   "metadata": {},
   "outputs": [],
   "source": [
    "PL = []"
   ]
  },
  {
   "cell_type": "markdown",
   "id": "efc28ac0",
   "metadata": {},
   "source": [
    "## Revenues"
   ]
  },
  {
   "cell_type": "code",
   "execution_count": 48,
   "id": "8b3536ab",
   "metadata": {},
   "outputs": [],
   "source": [
    "PL += get_pl_revenues(soup, attributes=ATTRIBUTES)"
   ]
  },
  {
   "cell_type": "markdown",
   "id": "b0ab1b3c",
   "metadata": {},
   "source": [
    "## Cost of Revenues"
   ]
  },
  {
   "cell_type": "code",
   "execution_count": 49,
   "id": "4d976b40",
   "metadata": {},
   "outputs": [],
   "source": [
    "PL += get_pl_cost_of_revenues(soup, attributes=ATTRIBUTES)"
   ]
  },
  {
   "cell_type": "markdown",
   "id": "ce53e123",
   "metadata": {},
   "source": [
    "## ***___# Gross Profit___***"
   ]
  },
  {
   "cell_type": "code",
   "execution_count": 50,
   "id": "dd3629c0",
   "metadata": {},
   "outputs": [],
   "source": [
    "PL += get_pl_gross_profit(soup, attributes=ATTRIBUTES)"
   ]
  },
  {
   "cell_type": "markdown",
   "id": "b01793a9",
   "metadata": {},
   "source": [
    "## Operating Expenses"
   ]
  },
  {
   "cell_type": "markdown",
   "id": "c53bcb56",
   "metadata": {},
   "source": [
    "### Research and Development"
   ]
  },
  {
   "cell_type": "code",
   "execution_count": 51,
   "id": "c6f743ca",
   "metadata": {},
   "outputs": [],
   "source": [
    "PL += get_pl_operating_expense_r_and_d(soup, attributes=ATTRIBUTES)"
   ]
  },
  {
   "cell_type": "markdown",
   "id": "1eecae84",
   "metadata": {},
   "source": [
    "### Administrative Expense"
   ]
  },
  {
   "cell_type": "code",
   "execution_count": 52,
   "id": "1c946365",
   "metadata": {},
   "outputs": [],
   "source": [
    "PL += get_pl_operating_expense_selling_administrative(soup, attributes=ATTRIBUTES)"
   ]
  },
  {
   "cell_type": "markdown",
   "id": "8b6ebc6f",
   "metadata": {},
   "source": [
    "### Other operating expenses\n",
    "\n",
    "The total amount of other operating cost and expense items that are associated with the entity's normal revenue producing operation"
   ]
  },
  {
   "cell_type": "code",
   "execution_count": 53,
   "id": "efe30709",
   "metadata": {},
   "outputs": [],
   "source": [
    "PL += get_pl_operating_expense_other(soup, attributes=ATTRIBUTES)"
   ]
  },
  {
   "cell_type": "markdown",
   "id": "129ce993",
   "metadata": {},
   "source": [
    "## ***___# Total Operating Expenses___***"
   ]
  },
  {
   "cell_type": "code",
   "execution_count": 54,
   "id": "c8a6e74b",
   "metadata": {},
   "outputs": [],
   "source": [
    "PL += get_pl_operating_expense_total(soup, attributes=ATTRIBUTES)"
   ]
  },
  {
   "cell_type": "markdown",
   "id": "2592f2bf",
   "metadata": {},
   "source": [
    "## ***___# Operating Income___***\n",
    "\n",
    "```Operating Income = GrossProfit - Total Operating Expenses```"
   ]
  },
  {
   "cell_type": "code",
   "execution_count": 55,
   "id": "9a1b2d5e",
   "metadata": {},
   "outputs": [],
   "source": [
    "PL += get_pl_operating_income(soup, attributes=ATTRIBUTES)"
   ]
  },
  {
   "cell_type": "markdown",
   "id": "3d5374f9",
   "metadata": {},
   "source": [
    "## Non Operating Expenses"
   ]
  },
  {
   "cell_type": "markdown",
   "id": "f05a3d4c",
   "metadata": {},
   "source": [
    "### Interest Expense\n",
    "\n",
    "* [Investopedia - What Is an Interest Expense?](https://www.investopedia.com/terms/i/interestexpense.asp)\n",
    "\n",
    "> An interest expense is the cost incurred by an entity for borrowed funds. Interest expense is a non-operating expense shown on the income statement. It represents interest payable on any borrowings – bonds, loans, convertible debt or lines of credit. It is essentially calculated as the interest rate times the outstanding principal amount of the debt. Interest expense on the income statement represents ***interest accrued during the period*** covered by the financial statements, and **NOT the amount of interest paid over that period**. While interest expense is tax-deductible for companies, in an individual's case, it depends on his or her jurisdiction and also on the loan's purpose.  \n",
    ">\n",
    "> For most people, mortgage interest is the single-biggest category of interest expense over their lifetimes as interest can total tens of thousands of dollars over the life of a mortgage as illustrated by online calculators."
   ]
  },
  {
   "cell_type": "code",
   "execution_count": 56,
   "id": "1198f1d7",
   "metadata": {},
   "outputs": [],
   "source": [
    "PL += get_pl_non_operating_expense_interest(soup, attributes=ATTRIBUTES)"
   ]
  },
  {
   "cell_type": "markdown",
   "id": "eec656b1",
   "metadata": {},
   "source": [
    "### Non-operating Expenses"
   ]
  },
  {
   "cell_type": "code",
   "execution_count": 57,
   "id": "0142cfbd",
   "metadata": {},
   "outputs": [],
   "source": [
    "PL += get_pl_non_operating_expense_other(soup, attributes=ATTRIBUTES)"
   ]
  },
  {
   "cell_type": "markdown",
   "id": "ba7e6c8b",
   "metadata": {},
   "source": [
    "## Income Tax"
   ]
  },
  {
   "cell_type": "code",
   "execution_count": 58,
   "id": "7711f66c",
   "metadata": {},
   "outputs": [],
   "source": [
    "PL += get_pl_income_tax(soup, attributes=ATTRIBUTES)"
   ]
  },
  {
   "cell_type": "markdown",
   "id": "6c85dd7a",
   "metadata": {},
   "source": [
    "## ***___# Net Income___***\n",
    "\n",
    "$GrossProfit - (Operating Expenses + NonOperating Expense) - Tax$"
   ]
  },
  {
   "cell_type": "code",
   "execution_count": 59,
   "id": "42d2ba67",
   "metadata": {},
   "outputs": [],
   "source": [
    "PL += get_pl_net_income(soup, attributes=ATTRIBUTES)"
   ]
  },
  {
   "cell_type": "markdown",
   "id": "81ca2fc8",
   "metadata": {},
   "source": [
    "## ***___# Shares Outstandings___***"
   ]
  },
  {
   "cell_type": "code",
   "execution_count": 60,
   "id": "653941e5",
   "metadata": {},
   "outputs": [],
   "source": [
    "PL += get_pl_shares_outstanding(soup, attributes=ATTRIBUTES)"
   ]
  },
  {
   "cell_type": "markdown",
   "id": "19769059",
   "metadata": {},
   "source": [
    "## ***___# Net Income Per Share___***\n",
    "\n",
    "* [US GAAP - Is Net Income Per Share the same with EPS?](https://money.stackexchange.com/questions/148015/us-gaap-is-net-income-per-share-the-same-with-eps)"
   ]
  },
  {
   "cell_type": "code",
   "execution_count": 61,
   "id": "8682c53a",
   "metadata": {},
   "outputs": [],
   "source": [
    "def get_pl_eps(soup):\n",
    "    return get_records_for_financial_element_names(\n",
    "        soup=soup, names=f\"{NAMESPACE_GAAP}:EarningsPerShareBasic\".lower()\n",
    "    ) + \\\n",
    "    get_records_for_financial_element_names(\n",
    "        soup=soup, names=f\"{NAMESPACE_GAAP}:EarningsPerShareBasicAndDiluted\".lower()\n",
    "    )"
   ]
  },
  {
   "cell_type": "code",
   "execution_count": 62,
   "id": "244f2951",
   "metadata": {},
   "outputs": [],
   "source": [
    "PL += represents(get_pl_eps(soup), fs=FS_PL, rep=FS_ELEMENT_REP_EPS)"
   ]
  },
  {
   "cell_type": "markdown",
   "id": "2127021b",
   "metadata": {},
   "source": [
    "## Display P/L\n",
    "\n",
    "Is ```us-gaap:othernonoperatingincomeexpense``` credit or debit? As the value is **negative** and so is in the Income Statement, is shoudl be credit -> To be confirmed. "
   ]
  },
  {
   "cell_type": "code",
   "execution_count": 63,
   "id": "f50ffa38",
   "metadata": {},
   "outputs": [
    {
     "data": {
      "text/html": [
       "<div>\n",
       "<style scoped>\n",
       "    .dataframe tbody tr th:only-of-type {\n",
       "        vertical-align: middle;\n",
       "    }\n",
       "\n",
       "    .dataframe tbody tr th {\n",
       "        vertical-align: top;\n",
       "    }\n",
       "\n",
       "    .dataframe thead th {\n",
       "        text-align: right;\n",
       "    }\n",
       "</style>\n",
       "<table border=\"1\" class=\"dataframe\">\n",
       "  <thead>\n",
       "    <tr style=\"text-align: center;\">\n",
       "      <th></th>\n",
       "      <th>fs</th>\n",
       "      <th>rep</th>\n",
       "      <th>type</th>\n",
       "      <th>name</th>\n",
       "      <th>value</th>\n",
       "      <th>unit</th>\n",
       "      <th>decimals</th>\n",
       "      <th>context</th>\n",
       "    </tr>\n",
       "  </thead>\n",
       "  <tbody>\n",
       "  </tbody>\n",
       "</table>\n",
       "</div>"
      ],
      "text/plain": [
       "Empty DataFrame\n",
       "Columns: [fs, rep, type, name, value, unit, decimals, context]\n",
       "Index: []"
      ]
     },
     "execution_count": 63,
     "metadata": {},
     "output_type": "execute_result"
    }
   ],
   "source": [
    "df_PL = pd.DataFrame(PL, columns=get_financial_element_columns())\n",
    "df_PL"
   ]
  },
  {
   "cell_type": "code",
   "execution_count": 64,
   "id": "186efae1",
   "metadata": {},
   "outputs": [
    {
     "data": {
      "text/plain": [
       "0"
      ]
     },
     "execution_count": 64,
     "metadata": {},
     "output_type": "execute_result"
    }
   ],
   "source": [
    "credits = df_PL[df_PL['type'] == 'credit']['value'].sum()\n",
    "credits"
   ]
  },
  {
   "cell_type": "code",
   "execution_count": 65,
   "id": "ef85388d",
   "metadata": {},
   "outputs": [
    {
     "data": {
      "text/plain": [
       "0"
      ]
     },
     "execution_count": 65,
     "metadata": {},
     "output_type": "execute_result"
    }
   ],
   "source": [
    "debits = df_PL[df_PL['type'] == 'debit']['value'].sum()\n",
    "debits"
   ]
  },
  {
   "cell_type": "code",
   "execution_count": 66,
   "id": "011c5966",
   "metadata": {},
   "outputs": [
    {
     "data": {
      "text/plain": [
       "0"
      ]
     },
     "execution_count": 66,
     "metadata": {},
     "output_type": "execute_result"
    }
   ],
   "source": [
    "credits - debits  # Equal to the Net Income"
   ]
  },
  {
   "cell_type": "markdown",
   "id": "21557bda",
   "metadata": {},
   "source": [
    "### EPS"
   ]
  },
  {
   "cell_type": "code",
   "execution_count": 67,
   "id": "2bce7feb",
   "metadata": {},
   "outputs": [
    {
     "ename": "AssertionError",
     "evalue": "No Shares OutStanding row found Empty DataFrame\nColumns: [fs, rep, type, name, value, unit, decimals, context]\nIndex: []",
     "output_type": "error",
     "traceback": [
      "\u001b[0;31m---------------------------------------------------------------------------\u001b[0m",
      "\u001b[0;31mAssertionError\u001b[0m                            Traceback (most recent call last)",
      "\u001b[0;32m/tmp/ipykernel_109270/3064094867.py\u001b[0m in \u001b[0;36m<module>\u001b[0;34m\u001b[0m\n\u001b[1;32m      3\u001b[0m     \u001b[0mnum_shares\u001b[0m \u001b[0;34m=\u001b[0m \u001b[0mshares\u001b[0m\u001b[0;34m[\u001b[0m\u001b[0;34m'value'\u001b[0m\u001b[0;34m]\u001b[0m\u001b[0;34m.\u001b[0m\u001b[0mvalues\u001b[0m\u001b[0;34m.\u001b[0m\u001b[0mitem\u001b[0m\u001b[0;34m(\u001b[0m\u001b[0;34m)\u001b[0m\u001b[0;34m\u001b[0m\u001b[0;34m\u001b[0m\u001b[0m\n\u001b[1;32m      4\u001b[0m \u001b[0;32melse\u001b[0m\u001b[0;34m:\u001b[0m\u001b[0;34m\u001b[0m\u001b[0;34m\u001b[0m\u001b[0m\n\u001b[0;32m----> 5\u001b[0;31m     \u001b[0;32massert\u001b[0m \u001b[0;32mFalse\u001b[0m\u001b[0;34m,\u001b[0m \u001b[0;34mf\"No Shares OutStanding row found {df_PL}\"\u001b[0m\u001b[0;34m\u001b[0m\u001b[0;34m\u001b[0m\u001b[0m\n\u001b[0m\u001b[1;32m      6\u001b[0m \u001b[0;34m\u001b[0m\u001b[0m\n\u001b[1;32m      7\u001b[0m \u001b[0mnum_shares\u001b[0m\u001b[0;34m\u001b[0m\u001b[0;34m\u001b[0m\u001b[0m\n",
      "\u001b[0;31mAssertionError\u001b[0m: No Shares OutStanding row found Empty DataFrame\nColumns: [fs, rep, type, name, value, unit, decimals, context]\nIndex: []"
     ]
    }
   ],
   "source": [
    "shares = df_PL[df_PL['rep'] == FS_ELEMENT_REP_SHARES_OUTSTANDING]\n",
    "if len(shares) == 1:\n",
    "    num_shares = shares['value'].values.item()\n",
    "else:\n",
    "    assert False, f\"No Shares OutStanding row found {df_PL}\"\n",
    "\n",
    "num_shares"
   ]
  },
  {
   "cell_type": "code",
   "execution_count": null,
   "id": "2dbd1dd7",
   "metadata": {},
   "outputs": [],
   "source": [
    "shares = df_PL[df_PL['rep'] == FS_ELEMENT_REP_NET_INCOME]\n",
    "if len(shares) == 1:\n",
    "    net_income = shares['value'].item()\n",
    "else:\n",
    "    assert False, f\"No Net Income row found {df_PL}\"\n",
    "\n",
    "net_income"
   ]
  },
  {
   "cell_type": "code",
   "execution_count": null,
   "id": "d840fb86",
   "metadata": {},
   "outputs": [],
   "source": [
    "eps = net_income / num_shares\n",
    "scale = 2\n",
    "print(f\"{eps:.{scale}f}\")"
   ]
  },
  {
   "cell_type": "markdown",
   "id": "cda92206",
   "metadata": {},
   "source": [
    "---\n",
    "# Balance Sheet (B/S)"
   ]
  },
  {
   "cell_type": "code",
   "execution_count": null,
   "id": "3ac1d0b8",
   "metadata": {},
   "outputs": [],
   "source": [
    "BS = []"
   ]
  },
  {
   "cell_type": "markdown",
   "id": "9fdf4d66",
   "metadata": {},
   "source": [
    "## Cash & Cash Equivalents\n",
    "\n",
    "Look for the cash and cash equivalents for the reporting perid in the Balance Sheet and Cash Flow statements of the  10-K."
   ]
  },
  {
   "cell_type": "code",
   "execution_count": null,
   "id": "77b79406",
   "metadata": {},
   "outputs": [],
   "source": [
    "def get_bs_current_asset_cash_and_equivalents(soup):\n",
    "    names = re.compile(\"|\".join([\n",
    "        rf\"^{NAMESPACE_GAAP}:CashAndCashEquivalentsAtCarryingValue$\",\n",
    "    ]).lower())\n",
    "    return represents(get_records_for_financial_element_names(soup=soup, names=names), fs=FS_BS, rep=FS_ELEMENT_REP_CASH)\n",
    "\n",
    "BS += get_bs_current_asset_cash_and_equivalents(soup)"
   ]
  },
  {
   "cell_type": "markdown",
   "id": "e28c80a7",
   "metadata": {},
   "source": [
    "## Restricted Cash"
   ]
  },
  {
   "cell_type": "code",
   "execution_count": null,
   "id": "0033637f",
   "metadata": {},
   "outputs": [],
   "source": [
    "def get_bs_current_asset_restricted_cash_and_equivalents(soup):\n",
    "    names = re.compile(\"|\".join([\n",
    "        rf\"^{NAMESPACE_GAAP}:RestrictedCashEquivalentsCurrent$\",\n",
    "        rf\"^{NAMESPACE_GAAP}:RestrictedCashAndCashEquivalentsAtCarryingValue$\",\n",
    "    ]).lower())\n",
    "    return get_records_for_financial_element_names(soup=soup, names=names)\n",
    "\n",
    "BS += get_bs_current_asset_restricted_cash_and_equivalents(soup)"
   ]
  },
  {
   "cell_type": "markdown",
   "id": "768bf159",
   "metadata": {},
   "source": [
    "## Short Term Investments"
   ]
  },
  {
   "cell_type": "code",
   "execution_count": null,
   "id": "cf3f9b93",
   "metadata": {},
   "outputs": [],
   "source": [
    "def get_bs_current_asset_short_term_investments(soup):\n",
    "    names = re.compile(\"|\".join([\n",
    "        rf\"^{NAMESPACE_GAAP}:ShortTermInvestments$\",\n",
    "    ]).lower())\n",
    "    return get_records_for_financial_element_names(soup=soup, names=names)\n",
    "\n",
    "BS += get_bs_current_asset_short_term_investments(soup)"
   ]
  },
  {
   "cell_type": "markdown",
   "id": "81055bb2",
   "metadata": {},
   "source": [
    "## Account Receivable"
   ]
  },
  {
   "cell_type": "code",
   "execution_count": null,
   "id": "6ef04cf2",
   "metadata": {},
   "outputs": [],
   "source": [
    "def get_bs_current_asset_account_receivables(soup):\n",
    "    names = re.compile(\"|\".join([\n",
    "        rf\"^{NAMESPACE_GAAP}:ReceivablesNetCurrent$\",\n",
    "        rf\"^{NAMESPACE_GAAP}:AccountsReceivableNetCurrent$\",\n",
    "        rf\"^{NAMESPACE_GAAP}:OtherReceivables$\",\n",
    "    ]).lower())\n",
    "    return get_records_for_financial_element_names(soup=soup, names=names)\n",
    "\n",
    "BS += get_bs_current_asset_account_receivables(soup)"
   ]
  },
  {
   "cell_type": "markdown",
   "id": "bd50545b",
   "metadata": {},
   "source": [
    "## ***___Inventory___***"
   ]
  },
  {
   "cell_type": "code",
   "execution_count": null,
   "id": "3de69eb8",
   "metadata": {},
   "outputs": [],
   "source": [
    "def get_bs_current_asset_inventory(soup):\n",
    "    names = re.compile(\"|\".join([\n",
    "        rf\"^{NAMESPACE_GAAP}:InventoryNet$\",\n",
    "    ]).lower())\n",
    "    return get_records_for_financial_element_names(soup=soup, names=names)\n",
    "\n",
    "BS += get_bs_current_asset_inventory(soup)"
   ]
  },
  {
   "cell_type": "markdown",
   "id": "6805470b",
   "metadata": {},
   "source": [
    "## Prepaid Expense / Other Assets Current\n",
    "\n",
    "* [Understanding Prepaid Expenses](https://www.investopedia.com/terms/p/prepaidexpense.asp)\n",
    "\n",
    "> Companies make prepayments for goods or services such as leased office equipment or insurance coverage that provide continual benefits over time. Goods or services of this nature cannot be expensed immediately because the expense would not line up with the benefit incurred over time from using the asset.  \n",
    ">\n",
    "> According to generally accepted accounting principles (GAAP), expenses should be recorded in the same accounting period as the benefit generated from the related asset.\n",
    "\n",
    "* [us-gaap: PrepaidExpenseAndOtherAssetsCurrent](https://www.calcbench.com/element/PrepaidExpenseAndOtherAssetsCurrent)\n",
    "\n",
    "> Amount of asset related to consideration paid in advance for costs that provide economic benefits in future periods, and amount of other assets that are expected to be realized or consumed within one year or the normal operating cycle, if longer.\n",
    "\n",
    "* [Other Current Assets (OCA)](https://www.investopedia.com/terms/o/othercurrentassets.asp)\n",
    "\n",
    "> Other current assets (OCA) is a category of things of value that a company owns, benefits from, or uses to generate income that can be converted into cash within one business cycle. They are referred to as “other” because they are uncommon or insignificant, unlike typical current asset items such as cash, securities, accounts receivable, inventory, and prepaid expenses."
   ]
  },
  {
   "cell_type": "code",
   "execution_count": null,
   "id": "3ae6b77f",
   "metadata": {},
   "outputs": [],
   "source": [
    "def get_bs_current_asset_other(soup):\n",
    "    names = re.compile(\"|\".join([\n",
    "        rf\"^{NAMESPACE_GAAP}:PrepaidExpenseCurrent$\",\n",
    "        rf\"^{NAMESPACE_GAAP}:PrepaidExpenseAndOtherAssetsCurrent$\",\n",
    "        rf\"^{NAMESPACE_GAAP}:OperatingLeaseRightOfUseAsset$\",\n",
    "        rf\"^{NAMESPACE_GAAP}:OtherAssetsCurrent$\",\n",
    "    ]).lower())\n",
    "    return get_records_for_financial_element_names(soup=soup, names=names)\n",
    "\n",
    "BS += get_bs_current_asset_other(soup)"
   ]
  },
  {
   "cell_type": "markdown",
   "id": "c57ff4fd",
   "metadata": {},
   "source": [
    "## ***___# Current Assets___***"
   ]
  },
  {
   "cell_type": "code",
   "execution_count": null,
   "id": "5bd8f856",
   "metadata": {},
   "outputs": [],
   "source": [
    "def get_bs_current_assets(soup):\n",
    "    names = re.compile(\"|\".join([\n",
    "    rf\"^{NAMESPACE_GAAP}:AssetsCurrent$\",\n",
    "    ]).lower())\n",
    "    return represents(get_records_for_financial_element_names(soup=soup, names=names), fs=FS_BS, rep=FS_ELEMENT_REP_CURRENT_ASSETS)\n",
    "\n",
    "BS += get_bs_current_assets(soup)    "
   ]
  },
  {
   "cell_type": "markdown",
   "id": "63191882",
   "metadata": {},
   "source": [
    "## Property, Plant, Equipment"
   ]
  },
  {
   "cell_type": "code",
   "execution_count": null,
   "id": "9b537385",
   "metadata": {},
   "outputs": [],
   "source": [
    "def get_bs_non_current_asset_property_and_equipment(soup):\n",
    "    names = re.compile(\"|\".join([\n",
    "    rf\"^{NAMESPACE_GAAP}:PropertyPlantAndEquipmentNet$\",\n",
    "    ]).lower())\n",
    "    return get_records_for_financial_element_names(soup=soup, names=names)\n",
    "\n",
    "BS += get_bs_non_current_asset_property_and_equipment(soup)"
   ]
  },
  {
   "cell_type": "code",
   "execution_count": null,
   "id": "c26d1968",
   "metadata": {},
   "outputs": [],
   "source": [
    "## Restricted Cash Non Current"
   ]
  },
  {
   "cell_type": "code",
   "execution_count": null,
   "id": "4feca817",
   "metadata": {},
   "outputs": [],
   "source": [
    "def get_bs_non_current_asset_restricted_cash_and_equivalent(soup):\n",
    "    names = re.compile(\"|\".join([\n",
    "        rf\"^{NAMESPACE_GAAP}:RestrictedCashAndCashEquivalentsNoncurrent$\",\n",
    "    ]).lower())\n",
    "    return get_records_for_financial_element_names(soup=soup, names=names)\n",
    "\n",
    "BS += get_bs_non_current_asset_restricted_cash_and_equivalent(soup)"
   ]
  },
  {
   "cell_type": "markdown",
   "id": "aaadbca2",
   "metadata": {},
   "source": [
    "## Deferred Tax"
   ]
  },
  {
   "cell_type": "code",
   "execution_count": null,
   "id": "884c0514",
   "metadata": {},
   "outputs": [],
   "source": [
    "def get_bs_non_current_asset_deferred_income_tax(soup):\n",
    "    names = re.compile(\"|\".join([\n",
    "        rf\"^{NAMESPACE_GAAP}:DeferredIncomeTaxAssetsNet$\",\n",
    "    ]).lower())\n",
    "    return get_records_for_financial_element_names(soup=soup, names=names)\n",
    "\n",
    "BS += get_bs_non_current_asset_deferred_income_tax(soup)"
   ]
  },
  {
   "cell_type": "markdown",
   "id": "d3e00bef",
   "metadata": {},
   "source": [
    "## ***___GoodWill___***"
   ]
  },
  {
   "cell_type": "code",
   "execution_count": null,
   "id": "665ed06f",
   "metadata": {},
   "outputs": [],
   "source": [
    "def get_bs_non_current_asset_goodwill(soup):\n",
    "    names = re.compile(\"|\".join([\n",
    "        rf\"^{NAMESPACE_GAAP}:GoodWill$\",\n",
    "    ]).lower())\n",
    "    return get_records_for_financial_element_names(soup=soup, names=names)\n",
    "\n",
    "BS += get_bs_non_current_asset_goodwill(soup)"
   ]
  },
  {
   "cell_type": "markdown",
   "id": "35ab752c",
   "metadata": {},
   "source": [
    "## Intangible and Other Assets"
   ]
  },
  {
   "cell_type": "code",
   "execution_count": null,
   "id": "7f995b84",
   "metadata": {},
   "outputs": [],
   "source": [
    "def get_bs_non_current_asset_other(soup):\n",
    "    names = re.compile(\"|\".join([\n",
    "        rf\"^{NAMESPACE_GAAP}:IntangibleAssetsNetExcludingGoodwill$\",\n",
    "        rf\"^{NAMESPACE_GAAP}:OtherAssetsNoncurrent$\",\n",
    "    ]).lower())\n",
    "    return get_records_for_financial_element_names(soup=soup, names=names)\n",
    "\n",
    "BS += get_bs_non_current_asset_other(soup)"
   ]
  },
  {
   "cell_type": "markdown",
   "id": "8552d375",
   "metadata": {},
   "source": [
    "## ***___# Total Assets___***"
   ]
  },
  {
   "cell_type": "code",
   "execution_count": null,
   "id": "68576556",
   "metadata": {},
   "outputs": [],
   "source": [
    "BS += get_bs_total_assets(soup, attributes=ATTRIBUTES)"
   ]
  },
  {
   "cell_type": "markdown",
   "id": "e61c6d90",
   "metadata": {},
   "source": [
    "## Account Payable\n",
    "\n",
    "* [Accounts Payable (AP)](https://www.investopedia.com/terms/a/accountspayable.asp)\n",
    "\n",
    "> company's obligation to pay off a short-term debt to its creditors or suppliers.\n",
    "\n",
    "\n",
    "\n",
    "* [Accrued Liability](https://www.investopedia.com/terms/a/accrued-liability.asp) (売掛金)\n",
    "\n",
    "> costs for goods and services already delivered to a company for which it must pay in the future. A company can accrue liabilities for any number of obligations and are recorded on the company's balance sheet. They are normally listed on the balance sheet as current liabilities and are adjusted at the end of an accounting period.\n",
    "\n",
    "\n",
    "* [us-gaap:AccruedLiabilitiesCurrent](http://xbrlsite.azurewebsites.net/2019/Prototype/references/us-gaap/Element-354.html)"
   ]
  },
  {
   "cell_type": "code",
   "execution_count": null,
   "id": "2046baed",
   "metadata": {},
   "outputs": [],
   "source": [
    "BS += get_bs_current_liability_account_payable(soup, attributes=ATTRIBUTES)"
   ]
  },
  {
   "cell_type": "markdown",
   "id": "6c1fe183",
   "metadata": {},
   "source": [
    "## Tax"
   ]
  },
  {
   "cell_type": "code",
   "execution_count": null,
   "id": "1dd6f3dc",
   "metadata": {},
   "outputs": [],
   "source": [
    "BS += get_bs_current_liability_tax(soup, attributes=ATTRIBUTES)"
   ]
  },
  {
   "cell_type": "markdown",
   "id": "27091965",
   "metadata": {},
   "source": [
    "## Debt Due"
   ]
  },
  {
   "cell_type": "code",
   "execution_count": null,
   "id": "3b3780d7",
   "metadata": {},
   "outputs": [],
   "source": [
    "BS += get_bs_current_liability_longterm_debt(soup, attributes=ATTRIBUTES)"
   ]
  },
  {
   "cell_type": "markdown",
   "id": "4b256076",
   "metadata": {},
   "source": [
    "## ***___# Current Liabilities___***"
   ]
  },
  {
   "cell_type": "code",
   "execution_count": null,
   "id": "5b002f6c",
   "metadata": {},
   "outputs": [],
   "source": [
    "get_bs_current_liabilities(soup, attributes=ATTRIBUTES)"
   ]
  },
  {
   "cell_type": "markdown",
   "id": "01081144",
   "metadata": {},
   "source": [
    "## Long Term Debt"
   ]
  },
  {
   "cell_type": "code",
   "execution_count": null,
   "id": "7ee669cf",
   "metadata": {},
   "outputs": [],
   "source": [
    "BS += get_bs_non_current_liability_longterm_debt(soup, attributes=ATTRIBUTES)"
   ]
  },
  {
   "cell_type": "markdown",
   "id": "790ec01d",
   "metadata": {},
   "source": [
    "## Tax Deferred"
   ]
  },
  {
   "cell_type": "code",
   "execution_count": null,
   "id": "2da2df11",
   "metadata": {},
   "outputs": [],
   "source": [
    "BS += get_bs_non_current_liability_deferred_tax(soup, attributes=ATTRIBUTES)"
   ]
  },
  {
   "cell_type": "markdown",
   "id": "f76ed4bd",
   "metadata": {},
   "source": [
    "## Other Long Term Liabilities\n",
    "\n",
    "* [Postemployment Benefits Liability, Noncurrent/us-gaap:PostemploymentBenefitsLiabilityNoncurrent](http://xbrlsite.azurewebsites.net/2019/Prototype/references/us-gaap/Element-12380.html)\n",
    "\n",
    "> The obligations recognized for the various benefits provided to former or inactive employees, their beneficiaries, and covered dependents after employment but before retirement that is payable after one year (or beyond the operating cycle if longer)."
   ]
  },
  {
   "cell_type": "code",
   "execution_count": null,
   "id": "21376115",
   "metadata": {},
   "outputs": [],
   "source": [
    "BS += get_bs_non_current_liability_other(soup, attributes=ATTRIBUTES)"
   ]
  },
  {
   "cell_type": "markdown",
   "id": "48d1658c",
   "metadata": {},
   "source": [
    "## ***___# Total Liabilities___***"
   ]
  },
  {
   "cell_type": "code",
   "execution_count": null,
   "id": "36441d35",
   "metadata": {},
   "outputs": [],
   "source": [
    "get_bs_total_liabilities(soup, attributes=ATTRIBUTES)"
   ]
  },
  {
   "cell_type": "markdown",
   "id": "f4e91304",
   "metadata": {},
   "source": [
    "## Paid-in Capital\n",
    "\n",
    "* [Paid-In Capital](https://www.investopedia.com/terms/p/paidincapital.aspPaid-In Capital)\n",
    "\n",
    "> Paid-in capital represents the funds raised by the business through selling its equity and not from ongoing business operations. Paid-in capital also refers to a line item on the company's balance sheet listed under shareholders' equity (also referred to as stockholders' equity), often shown alongside the line item for additional paid-in capital.\n",
    "\n",
    "* [Additional Paid-In Capital (APIC)](https://www.investopedia.com/terms/a/additionalpaidincapital.asp)\n",
    "\n",
    "> Often referred to as \"contributed capital in excess of par,” APIC occurs when an investor buys newly-issued shares directly from a company during its initial public offering (IPO) stage. APIC, which is itemized under the shareholder equity (SE) section of a balance sheet, is viewed as a profit opportunity for companies as it results in them receiving excess cash from stockholders."
   ]
  },
  {
   "cell_type": "code",
   "execution_count": null,
   "id": "d6ba718f",
   "metadata": {},
   "outputs": [],
   "source": [
    "BS += get_bs_stockholders_equity_paid_in(soup, attributes=ATTRIBUTES)"
   ]
  },
  {
   "cell_type": "markdown",
   "id": "ec4f4d40",
   "metadata": {},
   "source": [
    "## Retained Earnings\n",
    "\n",
    "* [Retained Earnings](https://www.investopedia.com/terms/r/retainedearnings.asp)\n",
    "\n",
    ">  The word \"retained\" captures the fact that because those earnings were **NOT paid out to shareholders as dividends** they were instead retained by the company."
   ]
  },
  {
   "cell_type": "code",
   "execution_count": null,
   "id": "c58dc030",
   "metadata": {},
   "outputs": [],
   "source": [
    "BS += get_bs_stockholders_equity_retained(soup, attributes=ATTRIBUTES)"
   ]
  },
  {
   "cell_type": "markdown",
   "id": "244b6619",
   "metadata": {},
   "source": [
    "## Accumulated other comprehensive income/loss"
   ]
  },
  {
   "cell_type": "code",
   "execution_count": null,
   "id": "87a31968",
   "metadata": {},
   "outputs": [],
   "source": [
    "BS += get_bs_stockholders_equity_other(soup, attributes=ATTRIBUTES)"
   ]
  },
  {
   "cell_type": "markdown",
   "id": "e215caa4",
   "metadata": {},
   "source": [
    "## ***___# Stockholder's Equity___***\n",
    "\n",
    "* [Stockholders' Equity](https://www.investopedia.com/terms/s/stockholdersequity.asp)\n",
    "\n",
    "> Remaining amount of assets available to shareholders after all liabilities have been paid. (純資産)"
   ]
  },
  {
   "cell_type": "code",
   "execution_count": null,
   "id": "47c2a465",
   "metadata": {},
   "outputs": [],
   "source": [
    "get_bs_stockholders_equity(soup, attributes=ATTRIBUTES)"
   ]
  },
  {
   "cell_type": "markdown",
   "id": "dc176cd2",
   "metadata": {},
   "source": [
    "## ***___# Total Liabilities + Stockholder's Equity___***"
   ]
  },
  {
   "cell_type": "code",
   "execution_count": null,
   "id": "b1b94eee",
   "metadata": {},
   "outputs": [],
   "source": [
    "BS += get_bs_total_liabilities_and_stockholders_equity(soup, attributes=ATTRIBUTES)"
   ]
  },
  {
   "cell_type": "markdown",
   "id": "edccdd39",
   "metadata": {},
   "source": [
    "## Display B/S"
   ]
  },
  {
   "cell_type": "code",
   "execution_count": null,
   "id": "5f12a608",
   "metadata": {
    "scrolled": true
   },
   "outputs": [],
   "source": [
    "df_BS = pd.DataFrame(BS, columns=get_financial_element_columns())\n",
    "#df_BS = df_BS.style.set_properties(**{'text-align': 'left'})\n",
    "#df_BS[(df_BS['rep'].notna()) & (df_BS['rep'] != \"\")]\n",
    "df_BS"
   ]
  },
  {
   "cell_type": "code",
   "execution_count": null,
   "id": "4d5f2e51",
   "metadata": {},
   "outputs": [],
   "source": [
    "credits = df_BS[df_BS['type'] == 'credit']['value'].sum()\n",
    "credits"
   ]
  },
  {
   "cell_type": "code",
   "execution_count": null,
   "id": "323c27ad",
   "metadata": {},
   "outputs": [],
   "source": [
    "debits = df_BS[df_BS['type'] == 'debit']['value'].sum()\n",
    "debits"
   ]
  },
  {
   "cell_type": "code",
   "execution_count": null,
   "id": "f364a6c0",
   "metadata": {},
   "outputs": [],
   "source": [
    "credits - debits"
   ]
  },
  {
   "cell_type": "markdown",
   "id": "31cb2962",
   "metadata": {},
   "source": [
    "### Cash Per Share"
   ]
  },
  {
   "cell_type": "code",
   "execution_count": null,
   "id": "eafb4fca",
   "metadata": {},
   "outputs": [],
   "source": [
    "cash = df_BS[df_BS['rep'] == FS_ELEMENT_REP_CASH]['value'].values.item()\n",
    "cps = cash / num_shares\n",
    "\n",
    "scale = 2\n",
    "print(f\"{cps:.{scale}f}\")"
   ]
  },
  {
   "cell_type": "markdown",
   "id": "e18bdbe1",
   "metadata": {},
   "source": [
    "### EPS VS CPS"
   ]
  },
  {
   "cell_type": "code",
   "execution_count": null,
   "id": "aed66f07",
   "metadata": {},
   "outputs": [],
   "source": [
    "if (cps / eps) > 1.0:\n",
    "    print(f\"Saving is {cps/eps:.2f} more than earning\")"
   ]
  },
  {
   "cell_type": "markdown",
   "id": "e808f3a2",
   "metadata": {},
   "source": [
    "# Save"
   ]
  },
  {
   "cell_type": "raw",
   "id": "be3732ac",
   "metadata": {},
   "source": [
    "import pathlib\n",
    "path_to_folder = f\"../data/{CIK}_{company_name}\"\n",
    "pathlib.Path(f\"{path_to_folder}\").mkdir(parents=True, exist_ok=True)"
   ]
  },
  {
   "cell_type": "raw",
   "id": "3776e904",
   "metadata": {},
   "source": [
    "df_PL.to_csv(f\"{path_to_folder}/{ACCESSION}_PL.gz\", index=False, compression='gzip')\n",
    "df_BS.to_csv(f\"{path_to_folder}/{ACCESSION}_BS.gz\", index=False, compression='gzip')"
   ]
  }
 ],
 "metadata": {
  "kernelspec": {
   "display_name": "Python 3 (ipykernel)",
   "language": "python",
   "name": "python3"
  },
  "language_info": {
   "codemirror_mode": {
    "name": "ipython",
    "version": 3
   },
   "file_extension": ".py",
   "mimetype": "text/x-python",
   "name": "python",
   "nbconvert_exporter": "python",
   "pygments_lexer": "ipython3",
   "version": "3.8.10"
  },
  "name": "sec_edgar_parse_xbrl.ipynb"
 },
 "nbformat": 4,
 "nbformat_minor": 5
}
