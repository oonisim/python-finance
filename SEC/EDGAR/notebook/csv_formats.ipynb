{
 "cells": [
  {
   "cell_type": "code",
   "execution_count": 9,
   "id": "fe01390c",
   "metadata": {},
   "outputs": [],
   "source": [
    "import pandas as pd\n",
    "\n",
    "\n",
    "pd.set_option('display.float_format', lambda x: ('%f' % x).rstrip('0').rstrip('.'))\n",
    "pd.set_option('display.colheader_justify', 'center')\n",
    "pd.set_option('display.max_columns', None)\n",
    "pd.set_option('display.max_colwidth', None)"
   ]
  },
  {
   "cell_type": "code",
   "execution_count": 10,
   "id": "ef2b3bea",
   "metadata": {},
   "outputs": [
    {
     "data": {
      "text/html": [
       "<div>\n",
       "<style scoped>\n",
       "    .dataframe tbody tr th:only-of-type {\n",
       "        vertical-align: middle;\n",
       "    }\n",
       "\n",
       "    .dataframe tbody tr th {\n",
       "        vertical-align: top;\n",
       "    }\n",
       "\n",
       "    .dataframe thead th {\n",
       "        text-align: right;\n",
       "    }\n",
       "</style>\n",
       "<table border=\"1\" class=\"dataframe\">\n",
       "  <thead>\n",
       "    <tr style=\"text-align: center;\">\n",
       "      <th></th>\n",
       "      <th>CIK</th>\n",
       "      <th>Company Name</th>\n",
       "      <th>Form Type</th>\n",
       "      <th>Date Filed</th>\n",
       "      <th>Filename</th>\n",
       "    </tr>\n",
       "  </thead>\n",
       "  <tbody>\n",
       "    <tr>\n",
       "      <th>0</th>\n",
       "      <td>1000045</td>\n",
       "      <td>NICHOLAS FINANCIAL INC</td>\n",
       "      <td>10-Q</td>\n",
       "      <td>2022-02-09</td>\n",
       "      <td>edgar/data/1000045/0000950170-22-000940.txt</td>\n",
       "    </tr>\n",
       "    <tr>\n",
       "      <th>1</th>\n",
       "      <td>1000045</td>\n",
       "      <td>NICHOLAS FINANCIAL INC</td>\n",
       "      <td>8-K</td>\n",
       "      <td>2022-01-13</td>\n",
       "      <td>edgar/data/1000045/0000950170-22-000296.txt</td>\n",
       "    </tr>\n",
       "    <tr>\n",
       "      <th>2</th>\n",
       "      <td>1000045</td>\n",
       "      <td>NICHOLAS FINANCIAL INC</td>\n",
       "      <td>8-K</td>\n",
       "      <td>2022-01-31</td>\n",
       "      <td>edgar/data/1000045/0000950170-22-000568.txt</td>\n",
       "    </tr>\n",
       "    <tr>\n",
       "      <th>3</th>\n",
       "      <td>1000184</td>\n",
       "      <td>SAP SE</td>\n",
       "      <td>20-F</td>\n",
       "      <td>2022-03-03</td>\n",
       "      <td>edgar/data/1000184/0001104659-22-029675.txt</td>\n",
       "    </tr>\n",
       "    <tr>\n",
       "      <th>4</th>\n",
       "      <td>1000209</td>\n",
       "      <td>MEDALLION FINANCIAL CORP</td>\n",
       "      <td>10-K</td>\n",
       "      <td>2022-03-14</td>\n",
       "      <td>edgar/data/1000209/0000950170-22-003603.txt</td>\n",
       "    </tr>\n",
       "  </tbody>\n",
       "</table>\n",
       "</div>"
      ],
      "text/plain": [
       "     CIK          Company Name       Form Type  Date Filed  \\\n",
       "0  1000045    NICHOLAS FINANCIAL INC    10-Q    2022-02-09   \n",
       "1  1000045    NICHOLAS FINANCIAL INC     8-K    2022-01-13   \n",
       "2  1000045    NICHOLAS FINANCIAL INC     8-K    2022-01-31   \n",
       "3  1000184                    SAP SE    20-F    2022-03-03   \n",
       "4  1000209  MEDALLION FINANCIAL CORP    10-K    2022-03-14   \n",
       "\n",
       "                    Filename                    \n",
       "0  edgar/data/1000045/0000950170-22-000940.txt  \n",
       "1  edgar/data/1000045/0000950170-22-000296.txt  \n",
       "2  edgar/data/1000045/0000950170-22-000568.txt  \n",
       "3  edgar/data/1000184/0001104659-22-029675.txt  \n",
       "4  edgar/data/1000209/0000950170-22-003603.txt  "
      ]
     },
     "execution_count": 10,
     "metadata": {},
     "output_type": "execute_result"
    }
   ],
   "source": [
    "df = pd.read_csv(\"../data/csv/index/2022QTR1\", sep=\"|\")\n",
    "df.head()"
   ]
  },
  {
   "cell_type": "code",
   "execution_count": 11,
   "id": "ad59471e",
   "metadata": {},
   "outputs": [
    {
     "data": {
      "text/html": [
       "<div>\n",
       "<style scoped>\n",
       "    .dataframe tbody tr th:only-of-type {\n",
       "        vertical-align: middle;\n",
       "    }\n",
       "\n",
       "    .dataframe tbody tr th {\n",
       "        vertical-align: top;\n",
       "    }\n",
       "\n",
       "    .dataframe thead th {\n",
       "        text-align: right;\n",
       "    }\n",
       "</style>\n",
       "<table border=\"1\" class=\"dataframe\">\n",
       "  <thead>\n",
       "    <tr style=\"text-align: center;\">\n",
       "      <th></th>\n",
       "      <th>CIK</th>\n",
       "      <th>Company Name</th>\n",
       "      <th>Form Type</th>\n",
       "      <th>Date Filed</th>\n",
       "      <th>Filename</th>\n",
       "    </tr>\n",
       "  </thead>\n",
       "  <tbody>\n",
       "    <tr>\n",
       "      <th>0</th>\n",
       "      <td>1000045</td>\n",
       "      <td>NICHOLAS FINANCIAL INC</td>\n",
       "      <td>10-Q</td>\n",
       "      <td>2022-02-09</td>\n",
       "      <td>https://sec.gov/Archives/edgar/data/1000045/000095017022000940/nick-20211231_htm.xml</td>\n",
       "    </tr>\n",
       "    <tr>\n",
       "      <th>1</th>\n",
       "      <td>1000209</td>\n",
       "      <td>MEDALLION FINANCIAL CORP</td>\n",
       "      <td>10-K</td>\n",
       "      <td>2022-03-14</td>\n",
       "      <td>https://sec.gov/Archives/edgar/data/1000209/000095017022003603/mfin-20211231_htm.xml</td>\n",
       "    </tr>\n",
       "    <tr>\n",
       "      <th>2</th>\n",
       "      <td>1000228</td>\n",
       "      <td>HENRY SCHEIN INC</td>\n",
       "      <td>10-K</td>\n",
       "      <td>2022-02-15</td>\n",
       "      <td>https://sec.gov/Archives/edgar/data/1000228/000100022822000016/hsicform10k20211225_htm.xml</td>\n",
       "    </tr>\n",
       "  </tbody>\n",
       "</table>\n",
       "</div>"
      ],
      "text/plain": [
       "     CIK          Company Name       Form Type  Date Filed  \\\n",
       "0  1000045    NICHOLAS FINANCIAL INC    10-Q    2022-02-09   \n",
       "1  1000209  MEDALLION FINANCIAL CORP    10-K    2022-03-14   \n",
       "2  1000228          HENRY SCHEIN INC    10-K    2022-02-15   \n",
       "\n",
       "                                            Filename                                           \n",
       "0        https://sec.gov/Archives/edgar/data/1000045/000095017022000940/nick-20211231_htm.xml  \n",
       "1        https://sec.gov/Archives/edgar/data/1000209/000095017022003603/mfin-20211231_htm.xml  \n",
       "2  https://sec.gov/Archives/edgar/data/1000228/000100022822000016/hsicform10k20211225_htm.xml  "
      ]
     },
     "execution_count": 11,
     "metadata": {},
     "output_type": "execute_result"
    }
   ],
   "source": [
    "df_listing = pd.read_csv(\"../data/csv/listing/2022QTR1_LIST.gz\", sep=\"|\")\n",
    "df_listing.head()"
   ]
  },
  {
   "cell_type": "code",
   "execution_count": null,
   "id": "df628a9c",
   "metadata": {},
   "outputs": [],
   "source": []
  },
  {
   "cell_type": "code",
   "execution_count": null,
   "id": "a35ff428",
   "metadata": {},
   "outputs": [],
   "source": []
  }
 ],
 "metadata": {
  "kernelspec": {
   "display_name": "Python 3",
   "language": "python",
   "name": "python3"
  },
  "language_info": {
   "codemirror_mode": {
    "name": "ipython",
    "version": 3
   },
   "file_extension": ".py",
   "mimetype": "text/x-python",
   "name": "python",
   "nbconvert_exporter": "python",
   "pygments_lexer": "ipython3",
   "version": "3.7.9"
  }
 },
 "nbformat": 4,
 "nbformat_minor": 5
}
